{
 "cells": [
  {
   "cell_type": "markdown",
   "metadata": {},
   "source": [
    "#  Прогнозирование заказов такси"
   ]
  },
  {
   "cell_type": "markdown",
   "metadata": {},
   "source": [
    "Компания собрала исторические данные о заказах такси в аэропортах. Нужно спрогнозировать количество заказов такси на следующий час. "
   ]
  },
  {
   "cell_type": "markdown",
   "metadata": {},
   "source": [
    "## Подготовка"
   ]
  },
  {
   "cell_type": "code",
   "execution_count": 1,
   "metadata": {},
   "outputs": [],
   "source": [
    "import pandas as pd\n",
    "import numpy as np\n",
    "import matplotlib.pyplot as plt\n",
    "import matplotlib.lines as mlines\n",
    "import seaborn as sns\n",
    "from statsmodels.tsa.seasonal import seasonal_decompose\n",
    "from sklearn.model_selection import train_test_split\n",
    "from sklearn.linear_model import LinearRegression\n",
    "from sklearn.ensemble import RandomForestRegressor\n",
    "from sklearn.model_selection import cross_val_score\n",
    "from lightgbm import LGBMRegressor\n",
    "from sklearn.metrics import mean_squared_error\n",
    "import timeit\n",
    "from sklearn.preprocessing import StandardScaler\n",
    "from sklearn.model_selection import TimeSeriesSplit\n",
    "from sklearn.model_selection import GridSearchCV"
   ]
  },
  {
   "cell_type": "code",
   "execution_count": 2,
   "metadata": {},
   "outputs": [
    {
     "data": {
      "text/html": [
       "<div>\n",
       "<style scoped>\n",
       "    .dataframe tbody tr th:only-of-type {\n",
       "        vertical-align: middle;\n",
       "    }\n",
       "\n",
       "    .dataframe tbody tr th {\n",
       "        vertical-align: top;\n",
       "    }\n",
       "\n",
       "    .dataframe thead th {\n",
       "        text-align: right;\n",
       "    }\n",
       "</style>\n",
       "<table border=\"1\" class=\"dataframe\">\n",
       "  <thead>\n",
       "    <tr style=\"text-align: right;\">\n",
       "      <th></th>\n",
       "      <th>num_orders</th>\n",
       "    </tr>\n",
       "    <tr>\n",
       "      <th>datetime</th>\n",
       "      <th></th>\n",
       "    </tr>\n",
       "  </thead>\n",
       "  <tbody>\n",
       "    <tr>\n",
       "      <td>2018-03-01 00:00:00</td>\n",
       "      <td>9</td>\n",
       "    </tr>\n",
       "    <tr>\n",
       "      <td>2018-03-01 00:10:00</td>\n",
       "      <td>14</td>\n",
       "    </tr>\n",
       "    <tr>\n",
       "      <td>2018-03-01 00:20:00</td>\n",
       "      <td>28</td>\n",
       "    </tr>\n",
       "    <tr>\n",
       "      <td>2018-03-01 00:30:00</td>\n",
       "      <td>20</td>\n",
       "    </tr>\n",
       "    <tr>\n",
       "      <td>2018-03-01 00:40:00</td>\n",
       "      <td>32</td>\n",
       "    </tr>\n",
       "  </tbody>\n",
       "</table>\n",
       "</div>"
      ],
      "text/plain": [
       "                     num_orders\n",
       "datetime                       \n",
       "2018-03-01 00:00:00           9\n",
       "2018-03-01 00:10:00          14\n",
       "2018-03-01 00:20:00          28\n",
       "2018-03-01 00:30:00          20\n",
       "2018-03-01 00:40:00          32"
      ]
     },
     "execution_count": 2,
     "metadata": {},
     "output_type": "execute_result"
    }
   ],
   "source": [
    "df = pd.read_csv('/datasets/taxi.csv', index_col=[0], parse_dates=[0])\n",
    "df.head()"
   ]
  },
  {
   "cell_type": "code",
   "execution_count": 3,
   "metadata": {},
   "outputs": [
    {
     "data": {
      "text/html": [
       "<div>\n",
       "<style scoped>\n",
       "    .dataframe tbody tr th:only-of-type {\n",
       "        vertical-align: middle;\n",
       "    }\n",
       "\n",
       "    .dataframe tbody tr th {\n",
       "        vertical-align: top;\n",
       "    }\n",
       "\n",
       "    .dataframe thead th {\n",
       "        text-align: right;\n",
       "    }\n",
       "</style>\n",
       "<table border=\"1\" class=\"dataframe\">\n",
       "  <thead>\n",
       "    <tr style=\"text-align: right;\">\n",
       "      <th></th>\n",
       "      <th>num_orders</th>\n",
       "    </tr>\n",
       "    <tr>\n",
       "      <th>datetime</th>\n",
       "      <th></th>\n",
       "    </tr>\n",
       "  </thead>\n",
       "  <tbody>\n",
       "  </tbody>\n",
       "</table>\n",
       "</div>"
      ],
      "text/plain": [
       "Empty DataFrame\n",
       "Columns: [num_orders]\n",
       "Index: []"
      ]
     },
     "execution_count": 3,
     "metadata": {},
     "output_type": "execute_result"
    }
   ],
   "source": [
    "# Nan элементов нет - уже хорошо\n",
    "df[df.isnull().any(1)]"
   ]
  },
  {
   "cell_type": "code",
   "execution_count": 4,
   "metadata": {},
   "outputs": [
    {
     "data": {
      "text/html": [
       "<div>\n",
       "<style scoped>\n",
       "    .dataframe tbody tr th:only-of-type {\n",
       "        vertical-align: middle;\n",
       "    }\n",
       "\n",
       "    .dataframe tbody tr th {\n",
       "        vertical-align: top;\n",
       "    }\n",
       "\n",
       "    .dataframe thead th {\n",
       "        text-align: right;\n",
       "    }\n",
       "</style>\n",
       "<table border=\"1\" class=\"dataframe\">\n",
       "  <thead>\n",
       "    <tr style=\"text-align: right;\">\n",
       "      <th></th>\n",
       "      <th>num_orders</th>\n",
       "    </tr>\n",
       "    <tr>\n",
       "      <th>datetime</th>\n",
       "      <th></th>\n",
       "    </tr>\n",
       "  </thead>\n",
       "  <tbody>\n",
       "    <tr>\n",
       "      <td>2018-03-01 05:20:00</td>\n",
       "      <td>0</td>\n",
       "    </tr>\n",
       "    <tr>\n",
       "      <td>2018-03-01 05:40:00</td>\n",
       "      <td>0</td>\n",
       "    </tr>\n",
       "    <tr>\n",
       "      <td>2018-03-01 05:50:00</td>\n",
       "      <td>0</td>\n",
       "    </tr>\n",
       "    <tr>\n",
       "      <td>2018-03-01 06:00:00</td>\n",
       "      <td>0</td>\n",
       "    </tr>\n",
       "    <tr>\n",
       "      <td>2018-03-01 06:10:00</td>\n",
       "      <td>0</td>\n",
       "    </tr>\n",
       "    <tr>\n",
       "      <td>...</td>\n",
       "      <td>...</td>\n",
       "    </tr>\n",
       "    <tr>\n",
       "      <td>2018-08-24 05:50:00</td>\n",
       "      <td>0</td>\n",
       "    </tr>\n",
       "    <tr>\n",
       "      <td>2018-08-26 05:40:00</td>\n",
       "      <td>0</td>\n",
       "    </tr>\n",
       "    <tr>\n",
       "      <td>2018-08-29 07:00:00</td>\n",
       "      <td>0</td>\n",
       "    </tr>\n",
       "    <tr>\n",
       "      <td>2018-08-30 06:10:00</td>\n",
       "      <td>0</td>\n",
       "    </tr>\n",
       "    <tr>\n",
       "      <td>2018-08-30 06:20:00</td>\n",
       "      <td>0</td>\n",
       "    </tr>\n",
       "  </tbody>\n",
       "</table>\n",
       "<p>537 rows × 1 columns</p>\n",
       "</div>"
      ],
      "text/plain": [
       "                     num_orders\n",
       "datetime                       \n",
       "2018-03-01 05:20:00           0\n",
       "2018-03-01 05:40:00           0\n",
       "2018-03-01 05:50:00           0\n",
       "2018-03-01 06:00:00           0\n",
       "2018-03-01 06:10:00           0\n",
       "...                         ...\n",
       "2018-08-24 05:50:00           0\n",
       "2018-08-26 05:40:00           0\n",
       "2018-08-29 07:00:00           0\n",
       "2018-08-30 06:10:00           0\n",
       "2018-08-30 06:20:00           0\n",
       "\n",
       "[537 rows x 1 columns]"
      ]
     },
     "execution_count": 4,
     "metadata": {},
     "output_type": "execute_result"
    }
   ],
   "source": [
    "# Нулевых значений много, но это номально для такого времени\n",
    "df[df.num_orders == 0]"
   ]
  },
  {
   "cell_type": "code",
   "execution_count": 5,
   "metadata": {
    "scrolled": true
   },
   "outputs": [
    {
     "data": {
      "text/html": [
       "<div>\n",
       "<style scoped>\n",
       "    .dataframe tbody tr th:only-of-type {\n",
       "        vertical-align: middle;\n",
       "    }\n",
       "\n",
       "    .dataframe tbody tr th {\n",
       "        vertical-align: top;\n",
       "    }\n",
       "\n",
       "    .dataframe thead th {\n",
       "        text-align: right;\n",
       "    }\n",
       "</style>\n",
       "<table border=\"1\" class=\"dataframe\">\n",
       "  <thead>\n",
       "    <tr style=\"text-align: right;\">\n",
       "      <th></th>\n",
       "      <th>num_orders</th>\n",
       "    </tr>\n",
       "    <tr>\n",
       "      <th>datetime</th>\n",
       "      <th></th>\n",
       "    </tr>\n",
       "  </thead>\n",
       "  <tbody>\n",
       "    <tr>\n",
       "      <td>2018-04-06 06:00:00</td>\n",
       "      <td>0</td>\n",
       "    </tr>\n",
       "  </tbody>\n",
       "</table>\n",
       "</div>"
      ],
      "text/plain": [
       "                     num_orders\n",
       "datetime                       \n",
       "2018-04-06 06:00:00           0"
      ]
     },
     "execution_count": 5,
     "metadata": {},
     "output_type": "execute_result"
    }
   ],
   "source": [
    "# Нулевых стало гораздо меньше\n",
    "df.sort_index(inplace=True)\n",
    "df = df.resample('1H').sum() \n",
    "df[df.num_orders == 0]"
   ]
  },
  {
   "cell_type": "markdown",
   "metadata": {},
   "source": [
    "### Вывод"
   ]
  },
  {
   "cell_type": "markdown",
   "metadata": {},
   "source": [
    "Данные проверены. Сделано ресемплирование по 1 часу."
   ]
  },
  {
   "cell_type": "markdown",
   "metadata": {},
   "source": [
    "## Анализ"
   ]
  },
  {
   "cell_type": "code",
   "execution_count": 6,
   "metadata": {},
   "outputs": [
    {
     "data": {
      "text/plain": [
       "<matplotlib.axes._subplots.AxesSubplot at 0x7f2f1111ad10>"
      ]
     },
     "execution_count": 6,
     "metadata": {},
     "output_type": "execute_result"
    },
    {
     "data": {
      "image/png": "[encoded data removed]",
      "text/plain": [
       "<Figure size 1152x576 with 1 Axes>"
      ]
     },
     "metadata": {
      "needs_background": "light"
     },
     "output_type": "display_data"
    }
   ],
   "source": [
    "df['median'] = df['num_orders'].rolling(24).median()\n",
    "df['std'] = df['num_orders'].rolling(24).std()\n",
    "plt.figure(figsize=(16, 8))\n",
    "df.plot(ax=plt.gca())"
   ]
  },
  {
   "cell_type": "code",
   "execution_count": 7,
   "metadata": {
    "scrolled": false
   },
   "outputs": [
    {
     "data": {
      "image/png": "[encoded data removed]",
      "text/plain": [
       "<Figure size 1152x576 with 1 Axes>"
      ]
     },
     "metadata": {
      "needs_background": "light"
     },
     "output_type": "display_data"
    },
    {
     "data": {
      "image/png": "[encoded data removed]",
      "text/plain": [
       "<Figure size 1152x576 with 1 Axes>"
      ]
     },
     "metadata": {
      "needs_background": "light"
     },
     "output_type": "display_data"
    },
    {
     "data": {
      "image/png": "[encoded data removed]",
      "text/plain": [
       "<Figure size 1152x576 with 1 Axes>"
      ]
     },
     "metadata": {
      "needs_background": "light"
     },
     "output_type": "display_data"
    }
   ],
   "source": [
    "decomposed =  seasonal_decompose(df['num_orders'])\n",
    "\n",
    "plt.figure(figsize=(16, 8))\n",
    "decomposed.trend.plot(ax=plt.gca())\n",
    "plt.title('Trend')\n",
    "\n",
    "plt.figure(figsize=(16, 8))\n",
    "decomposed.seasonal['2018-05-01':'2018-05-03'].plot(ax=plt.gca()) \n",
    "plt.title('Seasonality')\n",
    "\n",
    "plt.figure(figsize=(16, 8))\n",
    "decomposed.resid.plot(ax=plt.gca()) \n",
    "plt.title('Residuals')\n",
    "plt.tight_layout()"
   ]
  },
  {
   "cell_type": "markdown",
   "metadata": {},
   "source": [
    "### Вывод"
   ]
  },
  {
   "cell_type": "markdown",
   "metadata": {},
   "source": [
    "Ряд явно не стационарен. Очень много шума, помимо тренда и сезонности. Достаточно много выборосов, особенно в конце, там где тестовая выборка, исходя из этого можно предположить, на тестовых данных модель будет показывать гораздо худшие результаты, чем на тренировочной. Вообще такие выбросы решаются ресэмплированием на большие промежутки времени, насколько знаю, но по условию нужно именно 1 час."
   ]
  },
  {
   "cell_type": "markdown",
   "metadata": {},
   "source": [
    "## Обучение"
   ]
  },
  {
   "cell_type": "code",
   "execution_count": 8,
   "metadata": {},
   "outputs": [],
   "source": [
    "\n",
    "def make_features(data, max_lag, max_rol):\n",
    "    data['year'] = data.index.year\n",
    "    data['month'] = data.index.month\n",
    "    data['day'] = data.index.day\n",
    "    data['dayofweek'] = data.index.dayofweek\n",
    "    data['hour'] = data.index.hour\n",
    "    \n",
    "    for lag in range(1, max_lag + 1):\n",
    "        data['lag_{}'.format(lag)] = data['num_orders'].shift(lag)\n",
    "        data['shift_{}'.format(lag)] = data['num_orders'].shift(1) - data['num_orders'].shift(lag+1)\n",
    "    \n",
    "    for rol in range(2, max_rol + 1):\n",
    "        data['rol_{}'.format(rol)] = data['num_orders'].shift().rolling(rol).mean()\n",
    "    \n",
    "make_features(df, 24, 10)\n",
    "df['trend'] = decomposed.trend.shift()\n",
    "df['seasonal'] = decomposed.seasonal.shift()\n",
    "df['resid'] = decomposed.resid.shift()"
   ]
  },
  {
   "cell_type": "code",
   "execution_count": 9,
   "metadata": {
    "scrolled": true
   },
   "outputs": [],
   "source": [
    "train, test = train_test_split(df, shuffle=False, test_size=0.10)"
   ]
  },
  {
   "cell_type": "code",
   "execution_count": 10,
   "metadata": {},
   "outputs": [],
   "source": [
    "train = train.dropna()\n",
    "x_train = train.drop('num_orders', axis = 1)\n",
    "y_train = train.num_orders\n",
    "\n",
    "test = test.dropna()\n",
    "x_test = test.drop('num_orders', axis = 1)\n",
    "y_test = test.num_orders\n",
    "\n",
    "def mashtab(x_train, x_test, numeric):\n",
    "    pd.options.mode.chained_assignment = None\n",
    "    scaler = StandardScaler()\n",
    "    scaler.fit(x_train[numeric]) \n",
    "    x_train[numeric] = scaler.transform(x_train[numeric])\n",
    "    x_test[numeric] = scaler.transform(x_test[numeric]) \n",
    "    return [x_train, x_test]    \n",
    "\n",
    "x_train, x_test = mashtab(x_train, x_test, x_train.dtypes[x_train.dtypes != 'object'].index.tolist())"
   ]
  },
  {
   "cell_type": "code",
   "execution_count": 11,
   "metadata": {},
   "outputs": [],
   "source": [
    "def gridsearch(result, name, model, params, x, y, cv = 5, scoring = \"neg_mean_squared_error\"):\n",
    "    if 'LinearRegression' in name:\n",
    "        model_obj = model()\n",
    "    else:\n",
    "        model_obj = model(random_state = 10)  \n",
    "    grid = GridSearchCV(model_obj, params, scoring = scoring, cv = cv)\n",
    "    grid.fit(x, y)\n",
    "    result = result.append({'score':np.abs(grid.best_score_)**0.5 ,'name':name,'model':grid.best_estimator_}, ignore_index=True)\n",
    "    return result    "
   ]
  },
  {
   "cell_type": "code",
   "execution_count": 12,
   "metadata": {},
   "outputs": [],
   "source": [
    "result = pd.DataFrame({'score':[],'name':[],'model':[]})"
   ]
  },
  {
   "cell_type": "code",
   "execution_count": 13,
   "metadata": {},
   "outputs": [
    {
     "name": "stdout",
     "output_type": "stream",
     "text": [
      "CPU times: user 707 ms, sys: 1.09 s, total: 1.8 s\n",
      "Wall time: 1.75 s\n"
     ]
    }
   ],
   "source": [
    "%%time\n",
    "tcv = TimeSeriesSplit(n_splits=5)\n",
    "param_grid = {'fit_intercept': [False]}\n",
    "result = gridsearch(result, 'LinearRegression fit_intercept = False', LinearRegression, param_grid, x_train, y_train, tcv)\n",
    "param_grid = {'fit_intercept': [True]}\n",
    "result = gridsearch(result, 'LinearRegression fit_intercept = True', LinearRegression, param_grid, x_train, y_train, tcv)"
   ]
  },
  {
   "cell_type": "code",
   "execution_count": 14,
   "metadata": {},
   "outputs": [
    {
     "name": "stdout",
     "output_type": "stream",
     "text": [
      "CPU times: user 6min, sys: 456 ms, total: 6min\n",
      "Wall time: 6min 1s\n"
     ]
    }
   ],
   "source": [
    "%%time\n",
    "param_grid = {\n",
    "     'max_depth': range(4,7) ,\n",
    "       'min_samples_leaf': range(4,7),\n",
    "#      'min_samples_split': range(4,7),\n",
    "     'n_estimators': [50, 100, 200] }\n",
    "result = gridsearch(result, 'RandomForestRegressor', RandomForestRegressor, param_grid, x_train, y_train, tcv)"
   ]
  },
  {
   "cell_type": "code",
   "execution_count": 15,
   "metadata": {},
   "outputs": [
    {
     "data": {
      "text/html": [
       "<div>\n",
       "<style scoped>\n",
       "    .dataframe tbody tr th:only-of-type {\n",
       "        vertical-align: middle;\n",
       "    }\n",
       "\n",
       "    .dataframe tbody tr th {\n",
       "        vertical-align: top;\n",
       "    }\n",
       "\n",
       "    .dataframe thead th {\n",
       "        text-align: right;\n",
       "    }\n",
       "</style>\n",
       "<table border=\"1\" class=\"dataframe\">\n",
       "  <thead>\n",
       "    <tr style=\"text-align: right;\">\n",
       "      <th></th>\n",
       "      <th>name</th>\n",
       "      <th>score</th>\n",
       "    </tr>\n",
       "  </thead>\n",
       "  <tbody>\n",
       "    <tr>\n",
       "      <td>2</td>\n",
       "      <td>RandomForestRegressor</td>\n",
       "      <td>2.503168e+01</td>\n",
       "    </tr>\n",
       "    <tr>\n",
       "      <td>0</td>\n",
       "      <td>LinearRegression fit_intercept = False</td>\n",
       "      <td>1.031302e+02</td>\n",
       "    </tr>\n",
       "    <tr>\n",
       "      <td>1</td>\n",
       "      <td>LinearRegression fit_intercept = True</td>\n",
       "      <td>1.497628e+11</td>\n",
       "    </tr>\n",
       "  </tbody>\n",
       "</table>\n",
       "</div>"
      ],
      "text/plain": [
       "                                     name         score\n",
       "2                   RandomForestRegressor  2.503168e+01\n",
       "0  LinearRegression fit_intercept = False  1.031302e+02\n",
       "1   LinearRegression fit_intercept = True  1.497628e+11"
      ]
     },
     "execution_count": 15,
     "metadata": {},
     "output_type": "execute_result"
    }
   ],
   "source": [
    "result.sort_values(by='score', ascending = True)[['name','score']]"
   ]
  },
  {
   "cell_type": "markdown",
   "metadata": {},
   "source": [
    "### Вывод"
   ]
  },
  {
   "cell_type": "markdown",
   "metadata": {},
   "source": [
    "Обучены 3 модели. У линейной регресси оочень большое значение метрики, что странно."
   ]
  },
  {
   "cell_type": "markdown",
   "metadata": {},
   "source": [
    "## Тестирование"
   ]
  },
  {
   "cell_type": "code",
   "execution_count": 16,
   "metadata": {},
   "outputs": [
    {
     "data": {
      "text/html": [
       "<div>\n",
       "<style scoped>\n",
       "    .dataframe tbody tr th:only-of-type {\n",
       "        vertical-align: middle;\n",
       "    }\n",
       "\n",
       "    .dataframe tbody tr th {\n",
       "        vertical-align: top;\n",
       "    }\n",
       "\n",
       "    .dataframe thead th {\n",
       "        text-align: right;\n",
       "    }\n",
       "</style>\n",
       "<table border=\"1\" class=\"dataframe\">\n",
       "  <thead>\n",
       "    <tr style=\"text-align: right;\">\n",
       "      <th></th>\n",
       "      <th>name</th>\n",
       "      <th>y_score</th>\n",
       "    </tr>\n",
       "  </thead>\n",
       "  <tbody>\n",
       "    <tr>\n",
       "      <td>1</td>\n",
       "      <td>LinearRegression fit_intercept = True</td>\n",
       "      <td>41.733799</td>\n",
       "    </tr>\n",
       "    <tr>\n",
       "      <td>2</td>\n",
       "      <td>RandomForestRegressor</td>\n",
       "      <td>42.071092</td>\n",
       "    </tr>\n",
       "    <tr>\n",
       "      <td>0</td>\n",
       "      <td>LinearRegression fit_intercept = False</td>\n",
       "      <td>77.737660</td>\n",
       "    </tr>\n",
       "  </tbody>\n",
       "</table>\n",
       "</div>"
      ],
      "text/plain": [
       "                                     name    y_score\n",
       "1   LinearRegression fit_intercept = True  41.733799\n",
       "2                   RandomForestRegressor  42.071092\n",
       "0  LinearRegression fit_intercept = False  77.737660"
      ]
     },
     "metadata": {},
     "output_type": "display_data"
    }
   ],
   "source": [
    "result['predict'] = result.apply(lambda x: x.model.predict(x_test).astype(int), axis=1)\n",
    "result['y_score'] = result.apply(lambda x:  mean_squared_error(x.predict, y_test)**0.5 , axis=1)\n",
    "result= result.sort_values(by = 'y_score', ascending = True)\n",
    "result = result.sort_values(by='y_score', ascending = True)\n",
    "display(result[['name', 'y_score']])"
   ]
  },
  {
   "cell_type": "code",
   "execution_count": 17,
   "metadata": {},
   "outputs": [
    {
     "data": {
      "image/png": "[encoded data removed]",
      "text/plain": [
       "<Figure size 1152x576 with 1 Axes>"
      ]
     },
     "metadata": {
      "needs_background": "light"
     },
     "output_type": "display_data"
    }
   ],
   "source": [
    "plt.figure(figsize=(16, 8))\n",
    "\n",
    "pd.Series(result.iloc[0,].predict, index = y_test.index).plot(ax=plt.gca(), color='blue')\n",
    "y_test.plot(ax=plt.gca(), color='green')\n",
    "\n",
    "blue_line = mlines.Line2D([], [], color='blue', markersize=15, label='Предсказание')\n",
    "green_line = mlines.Line2D([], [], color='green', markersize=15, label='Целевая')\n",
    "plt.legend(handles=[green_line,blue_line])\n",
    "plt.ylabel('Заказы')\n",
    "plt.xlabel('Час')\n",
    "plt.show()\n",
    "\n"
   ]
  },
  {
   "cell_type": "markdown",
   "metadata": {},
   "source": [
    "### Вывод"
   ]
  },
  {
   "cell_type": "markdown",
   "metadata": {},
   "source": [
    "Предположение подтверждено. Скорее всего из-за выбросов на тестовой выборке модели ведут себя гораздо хуже. Линейная регрессия показав худшую метрику на тренировочной выборке показывает лучшую на тесте. Я не знаю как это объяснить."
   ]
  }
 ],
 "metadata": {
  "ExecuteTimeLog": [
   {
    "duration": 772,
    "start_time": "2021-09-08T06:44:59.357Z"
   },
   {
    "duration": 52,
    "start_time": "2021-09-08T06:45:01.045Z"
   },
   {
    "duration": 122,
    "start_time": "2021-09-08T06:45:14.884Z"
   },
   {
    "duration": 50,
    "start_time": "2021-09-08T06:45:17.319Z"
   },
   {
    "duration": 531,
    "start_time": "2021-09-08T06:45:46.727Z"
   },
   {
    "duration": 541,
    "start_time": "2021-09-08T06:45:48.488Z"
   },
   {
    "duration": 383,
    "start_time": "2021-09-08T06:48:59.124Z"
   },
   {
    "duration": 307,
    "start_time": "2021-09-08T06:49:06.286Z"
   },
   {
    "duration": 566,
    "start_time": "2021-09-08T06:49:11.729Z"
   },
   {
    "duration": 625,
    "start_time": "2021-09-08T06:51:13.372Z"
   },
   {
    "duration": 624,
    "start_time": "2021-09-08T06:51:36.644Z"
   },
   {
    "duration": 621,
    "start_time": "2021-09-08T06:51:43.822Z"
   },
   {
    "duration": 661,
    "start_time": "2021-09-08T06:52:35.349Z"
   },
   {
    "duration": 4,
    "start_time": "2021-09-08T06:52:42.397Z"
   },
   {
    "duration": 47,
    "start_time": "2021-09-08T06:52:42.853Z"
   },
   {
    "duration": 490,
    "start_time": "2021-09-08T06:52:44.012Z"
   },
   {
    "duration": 419,
    "start_time": "2021-09-08T06:53:23.101Z"
   },
   {
    "duration": 364,
    "start_time": "2021-09-08T06:53:39.023Z"
   },
   {
    "duration": 10,
    "start_time": "2021-09-08T06:53:47.901Z"
   },
   {
    "duration": 17,
    "start_time": "2021-09-08T06:53:54.827Z"
   },
   {
    "duration": 487,
    "start_time": "2021-09-08T06:53:59.868Z"
   },
   {
    "duration": 1202,
    "start_time": "2021-09-08T06:54:32.767Z"
   },
   {
    "duration": 875,
    "start_time": "2021-09-08T06:55:03.005Z"
   },
   {
    "duration": 681,
    "start_time": "2021-09-08T06:55:56.308Z"
   },
   {
    "duration": 3,
    "start_time": "2021-09-08T06:56:05.693Z"
   },
   {
    "duration": 452,
    "start_time": "2021-09-08T06:56:07.868Z"
   },
   {
    "duration": 567,
    "start_time": "2021-09-08T06:56:16.884Z"
   },
   {
    "duration": 495,
    "start_time": "2021-09-08T06:57:26.077Z"
   },
   {
    "duration": 893,
    "start_time": "2021-09-08T06:57:54.603Z"
   },
   {
    "duration": 811,
    "start_time": "2021-09-08T06:58:00.668Z"
   },
   {
    "duration": 749,
    "start_time": "2021-09-08T06:58:07.550Z"
   },
   {
    "duration": 697,
    "start_time": "2021-09-08T06:58:31.749Z"
   },
   {
    "duration": 374,
    "start_time": "2021-09-08T06:59:41.523Z"
   },
   {
    "duration": 369,
    "start_time": "2021-09-08T07:01:43.427Z"
   },
   {
    "duration": 356,
    "start_time": "2021-09-08T07:02:08.375Z"
   },
   {
    "duration": 945,
    "start_time": "2021-09-08T07:02:23.876Z"
   },
   {
    "duration": 1171,
    "start_time": "2021-09-08T07:02:34.818Z"
   },
   {
    "duration": 2229,
    "start_time": "2021-09-08T07:03:10.253Z"
   },
   {
    "duration": 5,
    "start_time": "2021-09-08T07:33:44.126Z"
   },
   {
    "duration": 65,
    "start_time": "2021-09-08T07:33:44.557Z"
   },
   {
    "duration": 9,
    "start_time": "2021-09-08T07:33:45.626Z"
   },
   {
    "duration": 13,
    "start_time": "2021-09-08T07:34:13.651Z"
   },
   {
    "duration": 14,
    "start_time": "2021-09-08T07:34:45.522Z"
   },
   {
    "duration": 722,
    "start_time": "2021-09-08T07:35:03.020Z"
   },
   {
    "duration": 12,
    "start_time": "2021-09-08T07:35:06.019Z"
   },
   {
    "duration": 2207,
    "start_time": "2021-09-08T07:35:30.725Z"
   },
   {
    "duration": 12,
    "start_time": "2021-09-08T07:35:41.874Z"
   },
   {
    "duration": 728,
    "start_time": "2021-09-08T07:35:52.084Z"
   },
   {
    "duration": 20,
    "start_time": "2021-09-08T07:36:03.188Z"
   },
   {
    "duration": 213,
    "start_time": "2021-09-08T07:38:55.373Z"
   },
   {
    "duration": 1072,
    "start_time": "2021-09-08T07:39:01.828Z"
   },
   {
    "duration": 6,
    "start_time": "2021-09-08T07:39:04.683Z"
   },
   {
    "duration": 19,
    "start_time": "2021-09-08T07:39:07.518Z"
   },
   {
    "duration": 17,
    "start_time": "2021-09-08T07:39:10.843Z"
   },
   {
    "duration": 21,
    "start_time": "2021-09-08T07:41:09.210Z"
   },
   {
    "duration": 1223,
    "start_time": "2021-09-08T07:41:12.202Z"
   },
   {
    "duration": 40,
    "start_time": "2021-09-08T07:41:17.579Z"
   },
   {
    "duration": 387,
    "start_time": "2021-09-08T07:45:33.996Z"
   },
   {
    "duration": 27,
    "start_time": "2021-09-08T07:45:55.011Z"
   },
   {
    "duration": 9,
    "start_time": "2021-09-08T07:46:08.173Z"
   },
   {
    "duration": 10,
    "start_time": "2021-09-08T07:46:14.914Z"
   },
   {
    "duration": 12,
    "start_time": "2021-09-08T07:46:57.949Z"
   },
   {
    "duration": 10,
    "start_time": "2021-09-08T07:47:03.586Z"
   },
   {
    "duration": 10,
    "start_time": "2021-09-08T07:47:06.775Z"
   },
   {
    "duration": 10,
    "start_time": "2021-09-08T07:48:49.282Z"
   },
   {
    "duration": 31,
    "start_time": "2021-09-08T07:48:52.105Z"
   },
   {
    "duration": 359,
    "start_time": "2021-09-08T07:48:59.385Z"
   },
   {
    "duration": 35,
    "start_time": "2021-09-08T07:49:01.303Z"
   },
   {
    "duration": 15,
    "start_time": "2021-09-08T07:49:04.979Z"
   },
   {
    "duration": 11,
    "start_time": "2021-09-08T07:51:20.850Z"
   },
   {
    "duration": 46,
    "start_time": "2021-09-08T07:52:24.442Z"
   },
   {
    "duration": 20,
    "start_time": "2021-09-08T07:52:38.937Z"
   },
   {
    "duration": 7,
    "start_time": "2021-09-08T07:53:32.713Z"
   },
   {
    "duration": 11,
    "start_time": "2021-09-08T07:54:24.114Z"
   },
   {
    "duration": 5,
    "start_time": "2021-09-08T07:57:15.084Z"
   },
   {
    "duration": 1543,
    "start_time": "2021-09-08T07:58:51.944Z"
   },
   {
    "duration": 57,
    "start_time": "2021-09-08T07:58:53.490Z"
   },
   {
    "duration": 19,
    "start_time": "2021-09-08T07:58:53.551Z"
   },
   {
    "duration": 13,
    "start_time": "2021-09-08T07:58:53.575Z"
   },
   {
    "duration": 20,
    "start_time": "2021-09-08T07:58:53.590Z"
   },
   {
    "duration": 59,
    "start_time": "2021-09-08T07:58:53.612Z"
   },
   {
    "duration": 1157,
    "start_time": "2021-09-08T07:58:53.673Z"
   },
   {
    "duration": 2268,
    "start_time": "2021-09-08T07:58:54.833Z"
   },
   {
    "duration": 8,
    "start_time": "2021-09-08T07:58:57.104Z"
   },
   {
    "duration": 32,
    "start_time": "2021-09-08T07:58:57.114Z"
   },
   {
    "duration": 22,
    "start_time": "2021-09-08T07:58:57.149Z"
   },
   {
    "duration": 12,
    "start_time": "2021-09-08T07:58:57.174Z"
   },
   {
    "duration": 48256,
    "start_time": "2021-09-08T07:58:57.189Z"
   },
   {
    "duration": -206,
    "start_time": "2021-09-08T07:59:45.653Z"
   },
   {
    "duration": 5,
    "start_time": "2021-09-08T08:00:23.859Z"
   },
   {
    "duration": 913,
    "start_time": "2021-09-08T08:00:27.764Z"
   },
   {
    "duration": 1507,
    "start_time": "2021-09-08T08:01:47.647Z"
   },
   {
    "duration": 56,
    "start_time": "2021-09-08T08:01:49.157Z"
   },
   {
    "duration": 9,
    "start_time": "2021-09-08T08:01:49.216Z"
   },
   {
    "duration": 14,
    "start_time": "2021-09-08T08:01:49.228Z"
   },
   {
    "duration": 19,
    "start_time": "2021-09-08T08:01:49.263Z"
   },
   {
    "duration": 18,
    "start_time": "2021-09-08T08:01:49.284Z"
   },
   {
    "duration": 1163,
    "start_time": "2021-09-08T08:01:49.304Z"
   },
   {
    "duration": 2253,
    "start_time": "2021-09-08T08:01:50.470Z"
   },
   {
    "duration": 6,
    "start_time": "2021-09-08T08:01:52.726Z"
   },
   {
    "duration": 31,
    "start_time": "2021-09-08T08:01:52.734Z"
   },
   {
    "duration": 10,
    "start_time": "2021-09-08T08:01:52.768Z"
   },
   {
    "duration": 14,
    "start_time": "2021-09-08T08:01:52.780Z"
   },
   {
    "duration": 2834365,
    "start_time": "2021-09-08T08:01:52.796Z"
   },
   {
    "duration": -552,
    "start_time": "2021-09-08T08:49:07.715Z"
   },
   {
    "duration": -559,
    "start_time": "2021-09-08T08:49:07.724Z"
   },
   {
    "duration": -560,
    "start_time": "2021-09-08T08:49:07.727Z"
   },
   {
    "duration": 1495,
    "start_time": "2021-09-08T08:49:18.784Z"
   },
   {
    "duration": 57,
    "start_time": "2021-09-08T08:49:20.282Z"
   },
   {
    "duration": 17,
    "start_time": "2021-09-08T08:49:20.343Z"
   },
   {
    "duration": 13,
    "start_time": "2021-09-08T08:49:20.364Z"
   },
   {
    "duration": 26,
    "start_time": "2021-09-08T08:49:20.380Z"
   },
   {
    "duration": 53,
    "start_time": "2021-09-08T08:49:20.409Z"
   },
   {
    "duration": 1175,
    "start_time": "2021-09-08T08:49:20.464Z"
   },
   {
    "duration": 2259,
    "start_time": "2021-09-08T08:49:21.641Z"
   },
   {
    "duration": 6,
    "start_time": "2021-09-08T08:49:23.903Z"
   },
   {
    "duration": 28,
    "start_time": "2021-09-08T08:49:23.912Z"
   },
   {
    "duration": 22,
    "start_time": "2021-09-08T08:49:23.942Z"
   },
   {
    "duration": 10,
    "start_time": "2021-09-08T08:49:23.967Z"
   },
   {
    "duration": 2589093,
    "start_time": "2021-09-08T08:49:23.979Z"
   },
   {
    "duration": 203,
    "start_time": "2021-09-08T09:32:33.075Z"
   },
   {
    "duration": 740,
    "start_time": "2021-09-08T09:32:33.281Z"
   },
   {
    "duration": 15,
    "start_time": "2021-09-08T09:32:34.024Z"
   },
   {
    "duration": 2656,
    "start_time": "2021-09-08T09:32:34.041Z"
   },
   {
    "duration": 668,
    "start_time": "2021-09-08T09:46:15.881Z"
   },
   {
    "duration": 620,
    "start_time": "2021-09-08T09:46:51.936Z"
   },
   {
    "duration": 716,
    "start_time": "2021-09-08T09:47:21.649Z"
   },
   {
    "duration": 106,
    "start_time": "2021-09-08T09:47:37.982Z"
   },
   {
    "duration": 220,
    "start_time": "2021-09-08T09:47:59.774Z"
   },
   {
    "duration": 1536,
    "start_time": "2021-09-08T09:48:08.124Z"
   },
   {
    "duration": 1528,
    "start_time": "2021-09-08T09:48:29.234Z"
   },
   {
    "duration": 55,
    "start_time": "2021-09-08T09:48:30.765Z"
   },
   {
    "duration": 10,
    "start_time": "2021-09-08T09:48:30.822Z"
   },
   {
    "duration": 36,
    "start_time": "2021-09-08T09:48:30.835Z"
   },
   {
    "duration": 23,
    "start_time": "2021-09-08T09:48:30.873Z"
   },
   {
    "duration": 18,
    "start_time": "2021-09-08T09:48:30.899Z"
   },
   {
    "duration": 1209,
    "start_time": "2021-09-08T09:48:30.919Z"
   },
   {
    "duration": 2303,
    "start_time": "2021-09-08T09:48:32.131Z"
   },
   {
    "duration": 6,
    "start_time": "2021-09-08T09:48:34.436Z"
   },
   {
    "duration": 28,
    "start_time": "2021-09-08T09:48:34.445Z"
   },
   {
    "duration": 11,
    "start_time": "2021-09-08T09:48:34.476Z"
   },
   {
    "duration": 11,
    "start_time": "2021-09-08T09:48:34.489Z"
   },
   {
    "duration": 10,
    "start_time": "2021-09-08T09:48:34.502Z"
   },
   {
    "duration": 150,
    "start_time": "2021-09-08T09:48:34.514Z"
   },
   {
    "duration": 73312,
    "start_time": "2021-09-08T09:48:34.667Z"
   },
   {
    "duration": 94,
    "start_time": "2021-09-08T09:49:47.981Z"
   },
   {
    "duration": 48,
    "start_time": "2021-09-08T09:49:48.077Z"
   },
   {
    "duration": 1170,
    "start_time": "2021-09-08T23:07:51.006Z"
   },
   {
    "duration": 44,
    "start_time": "2021-09-08T23:07:52.178Z"
   },
   {
    "duration": 7,
    "start_time": "2021-09-08T23:07:52.224Z"
   },
   {
    "duration": 13,
    "start_time": "2021-09-08T23:07:52.233Z"
   },
   {
    "duration": 29,
    "start_time": "2021-09-08T23:07:52.248Z"
   },
   {
    "duration": 484,
    "start_time": "2021-09-08T23:07:52.279Z"
   },
   {
    "duration": 1463,
    "start_time": "2021-09-08T23:07:52.765Z"
   },
   {
    "duration": 14,
    "start_time": "2021-09-08T23:07:54.231Z"
   },
   {
    "duration": 5,
    "start_time": "2021-09-08T23:07:54.247Z"
   },
   {
    "duration": 25,
    "start_time": "2021-09-08T23:07:54.254Z"
   },
   {
    "duration": 7,
    "start_time": "2021-09-08T23:07:54.281Z"
   },
   {
    "duration": 6,
    "start_time": "2021-09-08T23:07:54.290Z"
   },
   {
    "duration": 4,
    "start_time": "2021-09-08T23:07:54.298Z"
   },
   {
    "duration": 673,
    "start_time": "2021-09-08T23:07:54.304Z"
   },
   {
    "duration": 97,
    "start_time": "2021-09-08T23:07:54.979Z"
   },
   {
    "duration": 8,
    "start_time": "2021-09-08T23:07:55.079Z"
   },
   {
    "duration": 19,
    "start_time": "2021-09-08T23:07:55.089Z"
   },
   {
    "duration": 1186,
    "start_time": "2021-09-08T23:09:58.988Z"
   },
   {
    "duration": 45,
    "start_time": "2021-09-08T23:10:00.177Z"
   },
   {
    "duration": 7,
    "start_time": "2021-09-08T23:10:00.224Z"
   },
   {
    "duration": 14,
    "start_time": "2021-09-08T23:10:00.233Z"
   },
   {
    "duration": 14,
    "start_time": "2021-09-08T23:10:00.249Z"
   },
   {
    "duration": 507,
    "start_time": "2021-09-08T23:10:00.265Z"
   },
   {
    "duration": 1638,
    "start_time": "2021-09-08T23:10:00.776Z"
   },
   {
    "duration": 567,
    "start_time": "2021-09-08T23:10:02.416Z"
   },
   {
    "duration": 1459,
    "start_time": "2021-09-08T23:10:01.526Z"
   },
   {
    "duration": 1456,
    "start_time": "2021-09-08T23:10:01.530Z"
   },
   {
    "duration": 1453,
    "start_time": "2021-09-08T23:10:01.534Z"
   },
   {
    "duration": 1453,
    "start_time": "2021-09-08T23:10:01.535Z"
   },
   {
    "duration": 1453,
    "start_time": "2021-09-08T23:10:01.536Z"
   },
   {
    "duration": 1452,
    "start_time": "2021-09-08T23:10:01.538Z"
   },
   {
    "duration": 1451,
    "start_time": "2021-09-08T23:10:01.540Z"
   },
   {
    "duration": 1445,
    "start_time": "2021-09-08T23:10:01.547Z"
   },
   {
    "duration": 1444,
    "start_time": "2021-09-08T23:10:01.549Z"
   },
   {
    "duration": 28,
    "start_time": "2021-09-08T23:10:12.412Z"
   },
   {
    "duration": 7,
    "start_time": "2021-09-08T23:10:13.850Z"
   },
   {
    "duration": 10,
    "start_time": "2021-09-08T23:10:14.354Z"
   },
   {
    "duration": 8,
    "start_time": "2021-09-08T23:10:15.033Z"
   },
   {
    "duration": 5,
    "start_time": "2021-09-08T23:10:16.874Z"
   },
   {
    "duration": 805,
    "start_time": "2021-09-08T23:10:17.777Z"
   },
   {
    "duration": 27,
    "start_time": "2021-09-08T23:10:20.257Z"
   },
   {
    "duration": 11,
    "start_time": "2021-09-08T23:10:29.641Z"
   },
   {
    "duration": 24,
    "start_time": "2021-09-08T23:12:37.685Z"
   },
   {
    "duration": 1194,
    "start_time": "2021-09-08T23:14:21.077Z"
   },
   {
    "duration": 45,
    "start_time": "2021-09-08T23:14:22.273Z"
   },
   {
    "duration": 6,
    "start_time": "2021-09-08T23:14:22.321Z"
   },
   {
    "duration": 16,
    "start_time": "2021-09-08T23:14:22.329Z"
   },
   {
    "duration": 16,
    "start_time": "2021-09-08T23:14:22.347Z"
   },
   {
    "duration": 493,
    "start_time": "2021-09-08T23:14:22.364Z"
   },
   {
    "duration": 1494,
    "start_time": "2021-09-08T23:14:22.859Z"
   },
   {
    "duration": 31,
    "start_time": "2021-09-08T23:14:24.356Z"
   },
   {
    "duration": 6,
    "start_time": "2021-09-08T23:14:24.389Z"
   },
   {
    "duration": 24,
    "start_time": "2021-09-08T23:14:24.396Z"
   },
   {
    "duration": 8,
    "start_time": "2021-09-08T23:14:24.421Z"
   },
   {
    "duration": 8,
    "start_time": "2021-09-08T23:14:24.430Z"
   },
   {
    "duration": 6,
    "start_time": "2021-09-08T23:14:24.439Z"
   },
   {
    "duration": 276,
    "start_time": "2021-09-08T23:14:24.446Z"
   },
   {
    "duration": 4,
    "start_time": "2021-09-08T23:14:24.723Z"
   },
   {
    "duration": 7,
    "start_time": "2021-09-08T23:14:24.728Z"
   },
   {
    "duration": 282,
    "start_time": "2021-09-08T23:14:24.737Z"
   },
   {
    "duration": 840,
    "start_time": "2021-09-08T23:14:42.037Z"
   },
   {
    "duration": 9,
    "start_time": "2021-09-08T23:14:45.087Z"
   },
   {
    "duration": 24,
    "start_time": "2021-09-08T23:14:46.816Z"
   },
   {
    "duration": 3,
    "start_time": "2021-09-08T23:15:17.257Z"
   },
   {
    "duration": 348,
    "start_time": "2021-09-08T23:17:51.181Z"
   },
   {
    "duration": 277,
    "start_time": "2021-09-08T23:17:55.439Z"
   },
   {
    "duration": 454,
    "start_time": "2021-09-08T23:17:57.655Z"
   },
   {
    "duration": 20,
    "start_time": "2021-09-08T23:18:07.753Z"
   },
   {
    "duration": 1151,
    "start_time": "2021-09-08T23:18:43.324Z"
   },
   {
    "duration": 44,
    "start_time": "2021-09-08T23:18:44.477Z"
   },
   {
    "duration": 6,
    "start_time": "2021-09-08T23:18:44.523Z"
   },
   {
    "duration": 10,
    "start_time": "2021-09-08T23:18:44.530Z"
   },
   {
    "duration": 14,
    "start_time": "2021-09-08T23:18:44.542Z"
   },
   {
    "duration": 599,
    "start_time": "2021-09-08T23:18:44.558Z"
   },
   {
    "duration": 1480,
    "start_time": "2021-09-08T23:18:45.159Z"
   },
   {
    "duration": 40,
    "start_time": "2021-09-08T23:18:46.642Z"
   },
   {
    "duration": 7,
    "start_time": "2021-09-08T23:18:46.684Z"
   },
   {
    "duration": 541,
    "start_time": "2021-09-08T23:18:46.692Z"
   },
   {
    "duration": 1445,
    "start_time": "2021-09-08T23:18:45.790Z"
   },
   {
    "duration": 1444,
    "start_time": "2021-09-08T23:18:45.792Z"
   },
   {
    "duration": 1443,
    "start_time": "2021-09-08T23:18:45.794Z"
   },
   {
    "duration": 1442,
    "start_time": "2021-09-08T23:18:45.796Z"
   },
   {
    "duration": 1440,
    "start_time": "2021-09-08T23:18:45.798Z"
   },
   {
    "duration": 1439,
    "start_time": "2021-09-08T23:18:45.800Z"
   },
   {
    "duration": 1439,
    "start_time": "2021-09-08T23:18:45.801Z"
   },
   {
    "duration": 24,
    "start_time": "2021-09-08T23:19:05.609Z"
   },
   {
    "duration": 8,
    "start_time": "2021-09-08T23:19:06.799Z"
   },
   {
    "duration": 4,
    "start_time": "2021-09-08T23:19:08.346Z"
   },
   {
    "duration": 356,
    "start_time": "2021-09-08T23:19:09.222Z"
   },
   {
    "duration": 9,
    "start_time": "2021-09-08T23:19:11.688Z"
   },
   {
    "duration": 59,
    "start_time": "2021-09-08T23:19:12.519Z"
   },
   {
    "duration": 19,
    "start_time": "2021-09-08T23:22:37.616Z"
   },
   {
    "duration": 40,
    "start_time": "2021-09-08T23:22:41.375Z"
   },
   {
    "duration": 21,
    "start_time": "2021-09-08T23:22:56.705Z"
   },
   {
    "duration": 88,
    "start_time": "2021-09-08T23:23:19.024Z"
   },
   {
    "duration": 29,
    "start_time": "2021-09-08T23:23:22.422Z"
   },
   {
    "duration": 22,
    "start_time": "2021-09-08T23:24:20.078Z"
   },
   {
    "duration": 1216,
    "start_time": "2021-09-08T23:24:39.557Z"
   },
   {
    "duration": 45,
    "start_time": "2021-09-08T23:24:40.775Z"
   },
   {
    "duration": 6,
    "start_time": "2021-09-08T23:24:40.823Z"
   },
   {
    "duration": 11,
    "start_time": "2021-09-08T23:24:40.830Z"
   },
   {
    "duration": 14,
    "start_time": "2021-09-08T23:24:40.843Z"
   },
   {
    "duration": 497,
    "start_time": "2021-09-08T23:24:40.859Z"
   },
   {
    "duration": 1646,
    "start_time": "2021-09-08T23:24:41.358Z"
   },
   {
    "duration": 28,
    "start_time": "2021-09-08T23:24:43.006Z"
   },
   {
    "duration": 6,
    "start_time": "2021-09-08T23:24:43.036Z"
   },
   {
    "duration": 43,
    "start_time": "2021-09-08T23:24:43.043Z"
   },
   {
    "duration": 8,
    "start_time": "2021-09-08T23:24:43.087Z"
   },
   {
    "duration": 9,
    "start_time": "2021-09-08T23:24:43.097Z"
   },
   {
    "duration": 9,
    "start_time": "2021-09-08T23:24:43.107Z"
   },
   {
    "duration": 561,
    "start_time": "2021-09-08T23:24:43.117Z"
   },
   {
    "duration": 5,
    "start_time": "2021-09-08T23:24:43.681Z"
   },
   {
    "duration": 13,
    "start_time": "2021-09-08T23:24:43.777Z"
   },
   {
    "duration": 87,
    "start_time": "2021-09-08T23:24:43.792Z"
   },
   {
    "duration": 1112,
    "start_time": "2021-09-08T23:25:28.233Z"
   },
   {
    "duration": 44,
    "start_time": "2021-09-08T23:25:29.346Z"
   },
   {
    "duration": 7,
    "start_time": "2021-09-08T23:25:29.392Z"
   },
   {
    "duration": 10,
    "start_time": "2021-09-08T23:25:29.401Z"
   },
   {
    "duration": 14,
    "start_time": "2021-09-08T23:25:29.412Z"
   },
   {
    "duration": 499,
    "start_time": "2021-09-08T23:25:29.428Z"
   },
   {
    "duration": 1518,
    "start_time": "2021-09-08T23:25:29.929Z"
   },
   {
    "duration": 34,
    "start_time": "2021-09-08T23:25:31.449Z"
   },
   {
    "duration": 6,
    "start_time": "2021-09-08T23:25:31.485Z"
   },
   {
    "duration": 24,
    "start_time": "2021-09-08T23:25:31.493Z"
   },
   {
    "duration": 7,
    "start_time": "2021-09-08T23:25:31.519Z"
   },
   {
    "duration": 17,
    "start_time": "2021-09-08T23:25:31.527Z"
   },
   {
    "duration": 16,
    "start_time": "2021-09-08T23:25:31.546Z"
   },
   {
    "duration": 414,
    "start_time": "2021-09-08T23:25:31.564Z"
   },
   {
    "duration": 4,
    "start_time": "2021-09-08T23:25:31.981Z"
   },
   {
    "duration": 11,
    "start_time": "2021-09-08T23:25:32.077Z"
   },
   {
    "duration": 24,
    "start_time": "2021-09-08T23:25:32.089Z"
   },
   {
    "duration": 1143,
    "start_time": "2021-09-08T23:25:53.352Z"
   },
   {
    "duration": 45,
    "start_time": "2021-09-08T23:25:54.496Z"
   },
   {
    "duration": 7,
    "start_time": "2021-09-08T23:25:54.543Z"
   },
   {
    "duration": 10,
    "start_time": "2021-09-08T23:25:54.552Z"
   },
   {
    "duration": 25,
    "start_time": "2021-09-08T23:25:54.564Z"
   },
   {
    "duration": 489,
    "start_time": "2021-09-08T23:25:54.591Z"
   },
   {
    "duration": 1440,
    "start_time": "2021-09-08T23:25:55.082Z"
   },
   {
    "duration": 28,
    "start_time": "2021-09-08T23:25:56.524Z"
   },
   {
    "duration": 22,
    "start_time": "2021-09-08T23:25:56.554Z"
   },
   {
    "duration": 22,
    "start_time": "2021-09-08T23:25:56.578Z"
   },
   {
    "duration": 7,
    "start_time": "2021-09-08T23:25:56.602Z"
   },
   {
    "duration": 7,
    "start_time": "2021-09-08T23:25:56.611Z"
   },
   {
    "duration": 6,
    "start_time": "2021-09-08T23:25:56.620Z"
   },
   {
    "duration": 551,
    "start_time": "2021-09-08T23:25:56.627Z"
   },
   {
    "duration": 95,
    "start_time": "2021-09-08T23:25:57.183Z"
   },
   {
    "duration": 11,
    "start_time": "2021-09-08T23:25:57.279Z"
   },
   {
    "duration": 188,
    "start_time": "2021-09-08T23:25:57.291Z"
   },
   {
    "duration": 1180,
    "start_time": "2021-09-08T23:27:22.390Z"
   },
   {
    "duration": 43,
    "start_time": "2021-09-08T23:27:23.572Z"
   },
   {
    "duration": 6,
    "start_time": "2021-09-08T23:27:23.617Z"
   },
   {
    "duration": 22,
    "start_time": "2021-09-08T23:27:23.625Z"
   },
   {
    "duration": 21,
    "start_time": "2021-09-08T23:27:23.649Z"
   },
   {
    "duration": 470,
    "start_time": "2021-09-08T23:27:23.672Z"
   },
   {
    "duration": 1577,
    "start_time": "2021-09-08T23:27:24.144Z"
   },
   {
    "duration": 28,
    "start_time": "2021-09-08T23:27:25.723Z"
   },
   {
    "duration": 23,
    "start_time": "2021-09-08T23:27:25.753Z"
   },
   {
    "duration": 24,
    "start_time": "2021-09-08T23:27:25.778Z"
   },
   {
    "duration": 8,
    "start_time": "2021-09-08T23:27:25.804Z"
   },
   {
    "duration": 22,
    "start_time": "2021-09-08T23:27:25.813Z"
   },
   {
    "duration": 14,
    "start_time": "2021-09-08T23:27:25.837Z"
   },
   {
    "duration": 631,
    "start_time": "2021-09-08T23:27:25.853Z"
   },
   {
    "duration": 281,
    "start_time": "2021-09-08T23:27:26.487Z"
   },
   {
    "duration": 9,
    "start_time": "2021-09-08T23:27:26.769Z"
   },
   {
    "duration": 99,
    "start_time": "2021-09-08T23:27:26.780Z"
   },
   {
    "duration": 1201,
    "start_time": "2021-09-08T23:27:38.463Z"
   },
   {
    "duration": 46,
    "start_time": "2021-09-08T23:27:39.666Z"
   },
   {
    "duration": 7,
    "start_time": "2021-09-08T23:27:39.714Z"
   },
   {
    "duration": 10,
    "start_time": "2021-09-08T23:27:39.723Z"
   },
   {
    "duration": 15,
    "start_time": "2021-09-08T23:27:39.734Z"
   },
   {
    "duration": 499,
    "start_time": "2021-09-08T23:27:39.751Z"
   },
   {
    "duration": 1486,
    "start_time": "2021-09-08T23:27:40.252Z"
   },
   {
    "duration": 36,
    "start_time": "2021-09-08T23:27:41.741Z"
   },
   {
    "duration": 6,
    "start_time": "2021-09-08T23:27:41.779Z"
   },
   {
    "duration": 25,
    "start_time": "2021-09-08T23:27:41.787Z"
   },
   {
    "duration": 7,
    "start_time": "2021-09-08T23:27:41.814Z"
   },
   {
    "duration": 6,
    "start_time": "2021-09-08T23:27:41.823Z"
   },
   {
    "duration": 5,
    "start_time": "2021-09-08T23:27:41.831Z"
   },
   {
    "duration": 840,
    "start_time": "2021-09-08T23:27:41.837Z"
   },
   {
    "duration": 126652,
    "start_time": "2021-09-08T23:27:42.679Z"
   },
   {
    "duration": 10,
    "start_time": "2021-09-08T23:29:49.333Z"
   },
   {
    "duration": 36,
    "start_time": "2021-09-08T23:29:49.345Z"
   },
   {
    "duration": 11,
    "start_time": "2021-09-08T23:29:54.214Z"
   },
   {
    "duration": 307,
    "start_time": "2021-09-08T23:30:17.262Z"
   },
   {
    "duration": 617,
    "start_time": "2021-09-08T23:30:34.886Z"
   },
   {
    "duration": 437,
    "start_time": "2021-09-08T23:31:07.911Z"
   },
   {
    "duration": 61,
    "start_time": "2021-09-08T23:31:12.518Z"
   },
   {
    "duration": 73,
    "start_time": "2021-09-08T23:31:17.006Z"
   },
   {
    "duration": 21,
    "start_time": "2021-09-08T23:31:36.094Z"
   },
   {
    "duration": 1199,
    "start_time": "2021-09-08T23:31:49.166Z"
   },
   {
    "duration": 44,
    "start_time": "2021-09-08T23:31:50.367Z"
   },
   {
    "duration": 6,
    "start_time": "2021-09-08T23:31:50.413Z"
   },
   {
    "duration": 9,
    "start_time": "2021-09-08T23:31:50.421Z"
   },
   {
    "duration": 13,
    "start_time": "2021-09-08T23:31:50.431Z"
   },
   {
    "duration": 490,
    "start_time": "2021-09-08T23:31:50.446Z"
   },
   {
    "duration": 1489,
    "start_time": "2021-09-08T23:31:50.937Z"
   },
   {
    "duration": 28,
    "start_time": "2021-09-08T23:31:52.429Z"
   },
   {
    "duration": 18,
    "start_time": "2021-09-08T23:31:52.459Z"
   },
   {
    "duration": 22,
    "start_time": "2021-09-08T23:31:52.479Z"
   },
   {
    "duration": 7,
    "start_time": "2021-09-08T23:31:52.503Z"
   },
   {
    "duration": 7,
    "start_time": "2021-09-08T23:31:52.512Z"
   },
   {
    "duration": 458,
    "start_time": "2021-09-08T23:31:52.521Z"
   },
   {
    "duration": 171846,
    "start_time": "2021-09-08T23:31:52.981Z"
   },
   {
    "duration": 68,
    "start_time": "2021-09-08T23:34:44.829Z"
   },
   {
    "duration": 181,
    "start_time": "2021-09-08T23:34:44.899Z"
   },
   {
    "duration": 1148,
    "start_time": "2021-09-08T23:36:25.995Z"
   },
   {
    "duration": 47,
    "start_time": "2021-09-08T23:36:27.145Z"
   },
   {
    "duration": 6,
    "start_time": "2021-09-08T23:36:27.194Z"
   },
   {
    "duration": 11,
    "start_time": "2021-09-08T23:36:27.203Z"
   },
   {
    "duration": 18,
    "start_time": "2021-09-08T23:36:27.216Z"
   },
   {
    "duration": 569,
    "start_time": "2021-09-08T23:36:27.236Z"
   },
   {
    "duration": 1608,
    "start_time": "2021-09-08T23:36:27.807Z"
   },
   {
    "duration": 28,
    "start_time": "2021-09-08T23:36:29.418Z"
   },
   {
    "duration": 6,
    "start_time": "2021-09-08T23:36:29.448Z"
   },
   {
    "duration": 49,
    "start_time": "2021-09-08T23:36:29.455Z"
   },
   {
    "duration": 7,
    "start_time": "2021-09-08T23:36:29.506Z"
   },
   {
    "duration": 7,
    "start_time": "2021-09-08T23:36:29.514Z"
   },
   {
    "duration": 855,
    "start_time": "2021-09-08T23:36:29.522Z"
   },
   {
    "duration": 2,
    "start_time": "2021-09-08T23:36:30.379Z"
   },
   {
    "duration": 13,
    "start_time": "2021-09-08T23:36:30.383Z"
   },
   {
    "duration": 15,
    "start_time": "2021-09-08T23:36:30.397Z"
   },
   {
    "duration": 1221,
    "start_time": "2021-09-08T23:36:58.156Z"
   },
   {
    "duration": 45,
    "start_time": "2021-09-08T23:36:59.379Z"
   },
   {
    "duration": 6,
    "start_time": "2021-09-08T23:36:59.426Z"
   },
   {
    "duration": 10,
    "start_time": "2021-09-08T23:36:59.434Z"
   },
   {
    "duration": 14,
    "start_time": "2021-09-08T23:36:59.445Z"
   },
   {
    "duration": 511,
    "start_time": "2021-09-08T23:36:59.461Z"
   },
   {
    "duration": 1524,
    "start_time": "2021-09-08T23:36:59.974Z"
   },
   {
    "duration": 28,
    "start_time": "2021-09-08T23:37:01.501Z"
   },
   {
    "duration": 6,
    "start_time": "2021-09-08T23:37:01.531Z"
   },
   {
    "duration": 54,
    "start_time": "2021-09-08T23:37:01.538Z"
   },
   {
    "duration": 9,
    "start_time": "2021-09-08T23:37:01.593Z"
   },
   {
    "duration": 12,
    "start_time": "2021-09-08T23:37:01.604Z"
   },
   {
    "duration": 368,
    "start_time": "2021-09-08T23:37:01.617Z"
   },
   {
    "duration": 3,
    "start_time": "2021-09-08T23:37:02.078Z"
   },
   {
    "duration": 100,
    "start_time": "2021-09-08T23:37:02.083Z"
   },
   {
    "duration": 28,
    "start_time": "2021-09-08T23:37:02.184Z"
   },
   {
    "duration": 1172,
    "start_time": "2021-09-08T23:37:26.207Z"
   },
   {
    "duration": 44,
    "start_time": "2021-09-08T23:37:27.381Z"
   },
   {
    "duration": 6,
    "start_time": "2021-09-08T23:37:27.427Z"
   },
   {
    "duration": 12,
    "start_time": "2021-09-08T23:37:27.435Z"
   },
   {
    "duration": 29,
    "start_time": "2021-09-08T23:37:27.448Z"
   },
   {
    "duration": 478,
    "start_time": "2021-09-08T23:37:27.479Z"
   },
   {
    "duration": 1496,
    "start_time": "2021-09-08T23:37:27.959Z"
   },
   {
    "duration": 41,
    "start_time": "2021-09-08T23:37:29.457Z"
   },
   {
    "duration": 6,
    "start_time": "2021-09-08T23:37:29.500Z"
   },
   {
    "duration": 19,
    "start_time": "2021-09-08T23:37:29.508Z"
   },
   {
    "duration": 7,
    "start_time": "2021-09-08T23:37:29.529Z"
   },
   {
    "duration": 6,
    "start_time": "2021-09-08T23:37:29.538Z"
   },
   {
    "duration": 540,
    "start_time": "2021-09-08T23:37:29.546Z"
   },
   {
    "duration": 3,
    "start_time": "2021-09-08T23:37:30.177Z"
   },
   {
    "duration": 95,
    "start_time": "2021-09-08T23:37:30.182Z"
   },
   {
    "duration": 99,
    "start_time": "2021-09-08T23:37:30.279Z"
   },
   {
    "duration": 1163,
    "start_time": "2021-09-08T23:38:03.707Z"
   },
   {
    "duration": 44,
    "start_time": "2021-09-08T23:38:04.872Z"
   },
   {
    "duration": 6,
    "start_time": "2021-09-08T23:38:04.918Z"
   },
   {
    "duration": 10,
    "start_time": "2021-09-08T23:38:04.926Z"
   },
   {
    "duration": 15,
    "start_time": "2021-09-08T23:38:04.938Z"
   },
   {
    "duration": 494,
    "start_time": "2021-09-08T23:38:04.955Z"
   },
   {
    "duration": 1469,
    "start_time": "2021-09-08T23:38:05.451Z"
   },
   {
    "duration": 29,
    "start_time": "2021-09-08T23:38:06.923Z"
   },
   {
    "duration": 23,
    "start_time": "2021-09-08T23:38:06.953Z"
   },
   {
    "duration": 15,
    "start_time": "2021-09-08T23:38:06.978Z"
   },
   {
    "duration": 8,
    "start_time": "2021-09-08T23:38:06.995Z"
   },
   {
    "duration": 15,
    "start_time": "2021-09-08T23:38:07.004Z"
   },
   {
    "duration": 856,
    "start_time": "2021-09-08T23:38:07.021Z"
   },
   {
    "duration": 94,
    "start_time": "2021-09-08T23:38:07.883Z"
   },
   {
    "duration": 14,
    "start_time": "2021-09-08T23:38:07.979Z"
   },
   {
    "duration": 84,
    "start_time": "2021-09-08T23:38:07.994Z"
   },
   {
    "duration": 7,
    "start_time": "2021-09-08T23:38:24.852Z"
   },
   {
    "duration": 4,
    "start_time": "2021-09-08T23:38:25.810Z"
   },
   {
    "duration": 459,
    "start_time": "2021-09-08T23:38:26.226Z"
   },
   {
    "duration": 7,
    "start_time": "2021-09-08T23:38:32.858Z"
   },
   {
    "duration": 805,
    "start_time": "2021-09-08T23:38:33.473Z"
   },
   {
    "duration": 8,
    "start_time": "2021-09-08T23:38:36.108Z"
   },
   {
    "duration": 7,
    "start_time": "2021-09-08T23:38:52.154Z"
   },
   {
    "duration": 4,
    "start_time": "2021-09-08T23:38:54.186Z"
   },
   {
    "duration": 964,
    "start_time": "2021-09-08T23:38:54.522Z"
   },
   {
    "duration": 8,
    "start_time": "2021-09-08T23:38:57.268Z"
   },
   {
    "duration": 78,
    "start_time": "2021-09-08T23:38:59.012Z"
   },
   {
    "duration": 1197,
    "start_time": "2021-09-08T23:41:44.072Z"
   },
   {
    "duration": 44,
    "start_time": "2021-09-08T23:41:45.271Z"
   },
   {
    "duration": 6,
    "start_time": "2021-09-08T23:41:45.317Z"
   },
   {
    "duration": 10,
    "start_time": "2021-09-08T23:41:45.325Z"
   },
   {
    "duration": 15,
    "start_time": "2021-09-08T23:41:45.336Z"
   },
   {
    "duration": 496,
    "start_time": "2021-09-08T23:41:45.352Z"
   },
   {
    "duration": 1503,
    "start_time": "2021-09-08T23:41:45.850Z"
   },
   {
    "duration": 36,
    "start_time": "2021-09-08T23:41:47.356Z"
   },
   {
    "duration": 7,
    "start_time": "2021-09-08T23:41:47.394Z"
   },
   {
    "duration": 19,
    "start_time": "2021-09-08T23:41:47.403Z"
   },
   {
    "duration": 8,
    "start_time": "2021-09-08T23:41:47.424Z"
   },
   {
    "duration": 7,
    "start_time": "2021-09-08T23:41:47.433Z"
   },
   {
    "duration": 1035,
    "start_time": "2021-09-08T23:41:47.442Z"
   },
   {
    "duration": 2,
    "start_time": "2021-09-08T23:41:48.479Z"
   },
   {
    "duration": 23,
    "start_time": "2021-09-08T23:41:48.482Z"
   },
   {
    "duration": 596,
    "start_time": "2021-09-08T23:41:48.507Z"
   },
   {
    "duration": 16,
    "start_time": "2021-09-08T23:42:21.721Z"
   },
   {
    "duration": 6,
    "start_time": "2021-09-08T23:42:26.065Z"
   },
   {
    "duration": 10,
    "start_time": "2021-09-08T23:42:32.200Z"
   },
   {
    "duration": 12,
    "start_time": "2021-09-08T23:42:37.105Z"
   },
   {
    "duration": 11,
    "start_time": "2021-09-08T23:42:47.561Z"
   },
   {
    "duration": 14,
    "start_time": "2021-09-08T23:42:49.536Z"
   },
   {
    "duration": 5,
    "start_time": "2021-09-08T23:42:53.377Z"
   },
   {
    "duration": 15,
    "start_time": "2021-09-08T23:42:53.746Z"
   },
   {
    "duration": 7,
    "start_time": "2021-09-08T23:42:55.328Z"
   },
   {
    "duration": 4,
    "start_time": "2021-09-08T23:42:56.303Z"
   },
   {
    "duration": 960,
    "start_time": "2021-09-08T23:42:56.719Z"
   },
   {
    "duration": 8,
    "start_time": "2021-09-08T23:42:59.368Z"
   },
   {
    "duration": 469,
    "start_time": "2021-09-08T23:43:00.059Z"
   },
   {
    "duration": 38,
    "start_time": "2021-09-08T23:43:16.951Z"
   },
   {
    "duration": 5,
    "start_time": "2021-09-08T23:43:20.318Z"
   },
   {
    "duration": 35,
    "start_time": "2021-09-08T23:43:20.963Z"
   },
   {
    "duration": 4,
    "start_time": "2021-09-08T23:43:25.491Z"
   },
   {
    "duration": 27,
    "start_time": "2021-09-08T23:43:39.096Z"
   },
   {
    "duration": 5,
    "start_time": "2021-09-08T23:44:25.592Z"
   },
   {
    "duration": 14,
    "start_time": "2021-09-08T23:44:25.960Z"
   },
   {
    "duration": 8,
    "start_time": "2021-09-08T23:44:27.601Z"
   },
   {
    "duration": 4,
    "start_time": "2021-09-08T23:44:29.002Z"
   },
   {
    "duration": 879,
    "start_time": "2021-09-08T23:44:29.304Z"
   },
   {
    "duration": 8,
    "start_time": "2021-09-08T23:44:31.633Z"
   },
   {
    "duration": 179,
    "start_time": "2021-09-08T23:44:33.098Z"
   },
   {
    "duration": 1189,
    "start_time": "2021-09-08T23:44:54.279Z"
   },
   {
    "duration": 48,
    "start_time": "2021-09-08T23:44:55.470Z"
   },
   {
    "duration": 7,
    "start_time": "2021-09-08T23:44:55.520Z"
   },
   {
    "duration": 49,
    "start_time": "2021-09-08T23:44:55.528Z"
   },
   {
    "duration": 13,
    "start_time": "2021-09-08T23:44:55.578Z"
   },
   {
    "duration": 487,
    "start_time": "2021-09-08T23:44:55.593Z"
   },
   {
    "duration": 1499,
    "start_time": "2021-09-08T23:44:56.082Z"
   },
   {
    "duration": 29,
    "start_time": "2021-09-08T23:44:57.583Z"
   },
   {
    "duration": 5,
    "start_time": "2021-09-08T23:44:57.614Z"
   },
   {
    "duration": 34,
    "start_time": "2021-09-08T23:44:57.621Z"
   },
   {
    "duration": 23,
    "start_time": "2021-09-08T23:44:57.657Z"
   },
   {
    "duration": 34,
    "start_time": "2021-09-08T23:44:57.682Z"
   },
   {
    "duration": 759,
    "start_time": "2021-09-08T23:44:57.718Z"
   },
   {
    "duration": 2,
    "start_time": "2021-09-08T23:44:58.478Z"
   },
   {
    "duration": 30,
    "start_time": "2021-09-08T23:44:58.482Z"
   },
   {
    "duration": 37,
    "start_time": "2021-09-08T23:44:58.514Z"
   },
   {
    "duration": 1202,
    "start_time": "2021-09-08T23:45:14.862Z"
   },
   {
    "duration": 45,
    "start_time": "2021-09-08T23:45:16.066Z"
   },
   {
    "duration": 6,
    "start_time": "2021-09-08T23:45:16.113Z"
   },
   {
    "duration": 10,
    "start_time": "2021-09-08T23:45:16.121Z"
   },
   {
    "duration": 14,
    "start_time": "2021-09-08T23:45:16.132Z"
   },
   {
    "duration": 499,
    "start_time": "2021-09-08T23:45:16.147Z"
   },
   {
    "duration": 1508,
    "start_time": "2021-09-08T23:45:16.647Z"
   },
   {
    "duration": 41,
    "start_time": "2021-09-08T23:45:18.158Z"
   },
   {
    "duration": 6,
    "start_time": "2021-09-08T23:45:18.201Z"
   },
   {
    "duration": 22,
    "start_time": "2021-09-08T23:45:18.208Z"
   },
   {
    "duration": 8,
    "start_time": "2021-09-08T23:45:18.231Z"
   },
   {
    "duration": 8,
    "start_time": "2021-09-08T23:45:18.240Z"
   },
   {
    "duration": 928,
    "start_time": "2021-09-08T23:45:18.250Z"
   },
   {
    "duration": 2,
    "start_time": "2021-09-08T23:45:19.180Z"
   },
   {
    "duration": 18,
    "start_time": "2021-09-08T23:45:19.184Z"
   },
   {
    "duration": 176,
    "start_time": "2021-09-08T23:45:19.203Z"
   },
   {
    "duration": 32,
    "start_time": "2021-09-08T23:46:00.101Z"
   },
   {
    "duration": 5,
    "start_time": "2021-09-08T23:46:01.680Z"
   },
   {
    "duration": 30,
    "start_time": "2021-09-08T23:46:02.246Z"
   },
   {
    "duration": 29,
    "start_time": "2021-09-08T23:46:03.527Z"
   },
   {
    "duration": 30,
    "start_time": "2021-09-08T23:46:04.246Z"
   },
   {
    "duration": 53,
    "start_time": "2021-09-08T23:46:41.609Z"
   },
   {
    "duration": 1219,
    "start_time": "2021-09-08T23:46:48.552Z"
   },
   {
    "duration": 43,
    "start_time": "2021-09-08T23:46:49.773Z"
   },
   {
    "duration": 6,
    "start_time": "2021-09-08T23:46:49.818Z"
   },
   {
    "duration": 10,
    "start_time": "2021-09-08T23:46:49.826Z"
   },
   {
    "duration": 14,
    "start_time": "2021-09-08T23:46:49.838Z"
   },
   {
    "duration": 502,
    "start_time": "2021-09-08T23:46:49.853Z"
   },
   {
    "duration": 1476,
    "start_time": "2021-09-08T23:46:50.357Z"
   },
   {
    "duration": 42,
    "start_time": "2021-09-08T23:46:51.835Z"
   },
   {
    "duration": 6,
    "start_time": "2021-09-08T23:46:51.879Z"
   },
   {
    "duration": 55,
    "start_time": "2021-09-08T23:46:51.886Z"
   },
   {
    "duration": 7,
    "start_time": "2021-09-08T23:46:51.942Z"
   },
   {
    "duration": 26,
    "start_time": "2021-09-08T23:46:51.951Z"
   },
   {
    "duration": 301,
    "start_time": "2021-09-08T23:46:51.979Z"
   },
   {
    "duration": 2,
    "start_time": "2021-09-08T23:46:52.282Z"
   },
   {
    "duration": 99,
    "start_time": "2021-09-08T23:46:52.286Z"
   },
   {
    "duration": 16,
    "start_time": "2021-09-08T23:46:52.387Z"
   },
   {
    "duration": 40563,
    "start_time": "2021-09-08T23:48:03.168Z"
   },
   {
    "duration": 1205,
    "start_time": "2021-09-08T23:48:47.161Z"
   },
   {
    "duration": 43,
    "start_time": "2021-09-08T23:48:48.368Z"
   },
   {
    "duration": 6,
    "start_time": "2021-09-08T23:48:48.413Z"
   },
   {
    "duration": 13,
    "start_time": "2021-09-08T23:48:48.421Z"
   },
   {
    "duration": 13,
    "start_time": "2021-09-08T23:48:48.436Z"
   },
   {
    "duration": 486,
    "start_time": "2021-09-08T23:48:48.451Z"
   },
   {
    "duration": 1529,
    "start_time": "2021-09-08T23:48:48.939Z"
   },
   {
    "duration": 36,
    "start_time": "2021-09-08T23:48:50.470Z"
   },
   {
    "duration": 8,
    "start_time": "2021-09-08T23:48:50.509Z"
   },
   {
    "duration": 78,
    "start_time": "2021-09-08T23:48:50.520Z"
   },
   {
    "duration": 7,
    "start_time": "2021-09-08T23:48:50.600Z"
   },
   {
    "duration": 16,
    "start_time": "2021-09-08T23:48:50.609Z"
   },
   {
    "duration": 554,
    "start_time": "2021-09-08T23:48:50.626Z"
   },
   {
    "duration": 11796,
    "start_time": "2021-09-08T23:48:51.183Z"
   },
   {
    "duration": 9,
    "start_time": "2021-09-08T23:49:02.980Z"
   },
   {
    "duration": 16,
    "start_time": "2021-09-08T23:49:02.991Z"
   },
   {
    "duration": 53,
    "start_time": "2021-09-08T23:49:03.467Z"
   },
   {
    "duration": 1152,
    "start_time": "2021-09-08T23:49:13.020Z"
   },
   {
    "duration": 45,
    "start_time": "2021-09-08T23:49:14.175Z"
   },
   {
    "duration": 6,
    "start_time": "2021-09-08T23:49:14.221Z"
   },
   {
    "duration": 11,
    "start_time": "2021-09-08T23:49:14.229Z"
   },
   {
    "duration": 18,
    "start_time": "2021-09-08T23:49:14.241Z"
   },
   {
    "duration": 496,
    "start_time": "2021-09-08T23:49:14.260Z"
   },
   {
    "duration": 1475,
    "start_time": "2021-09-08T23:49:14.758Z"
   },
   {
    "duration": 29,
    "start_time": "2021-09-08T23:49:16.236Z"
   },
   {
    "duration": 15,
    "start_time": "2021-09-08T23:49:16.267Z"
   },
   {
    "duration": 55,
    "start_time": "2021-09-08T23:49:16.283Z"
   },
   {
    "duration": 7,
    "start_time": "2021-09-08T23:49:16.340Z"
   },
   {
    "duration": 12,
    "start_time": "2021-09-08T23:49:16.348Z"
   },
   {
    "duration": 723,
    "start_time": "2021-09-08T23:49:16.361Z"
   },
   {
    "duration": 69615,
    "start_time": "2021-09-08T23:49:17.087Z"
   },
   {
    "duration": 46,
    "start_time": "2021-09-08T23:50:26.704Z"
   },
   {
    "duration": 40,
    "start_time": "2021-09-08T23:50:26.753Z"
   },
   {
    "duration": 4,
    "start_time": "2021-09-08T23:51:52.686Z"
   },
   {
    "duration": 52,
    "start_time": "2021-09-08T23:51:53.196Z"
   },
   {
    "duration": 6,
    "start_time": "2021-09-08T23:51:55.939Z"
   },
   {
    "duration": 1490,
    "start_time": "2021-09-08T23:52:01.074Z"
   },
   {
    "duration": 54,
    "start_time": "2021-09-08T23:52:02.566Z"
   },
   {
    "duration": 7,
    "start_time": "2021-09-08T23:52:02.622Z"
   },
   {
    "duration": 18,
    "start_time": "2021-09-08T23:52:02.631Z"
   },
   {
    "duration": 18,
    "start_time": "2021-09-08T23:52:02.651Z"
   },
   {
    "duration": 482,
    "start_time": "2021-09-08T23:52:02.670Z"
   },
   {
    "duration": 1484,
    "start_time": "2021-09-08T23:52:03.153Z"
   },
   {
    "duration": 42,
    "start_time": "2021-09-08T23:52:04.639Z"
   },
   {
    "duration": 6,
    "start_time": "2021-09-08T23:52:04.684Z"
   },
   {
    "duration": 55,
    "start_time": "2021-09-08T23:52:04.692Z"
   },
   {
    "duration": 7,
    "start_time": "2021-09-08T23:52:04.749Z"
   },
   {
    "duration": 20,
    "start_time": "2021-09-08T23:52:04.758Z"
   },
   {
    "duration": 506,
    "start_time": "2021-09-08T23:52:04.780Z"
   },
   {
    "duration": 15014,
    "start_time": "2021-09-08T23:52:05.377Z"
   },
   {
    "duration": 9,
    "start_time": "2021-09-08T23:52:20.393Z"
   },
   {
    "duration": 20,
    "start_time": "2021-09-08T23:52:20.403Z"
   },
   {
    "duration": 1285,
    "start_time": "2021-09-08T23:52:23.982Z"
   },
   {
    "duration": 44,
    "start_time": "2021-09-08T23:52:25.268Z"
   },
   {
    "duration": 6,
    "start_time": "2021-09-08T23:52:25.314Z"
   },
   {
    "duration": 10,
    "start_time": "2021-09-08T23:52:25.322Z"
   },
   {
    "duration": 14,
    "start_time": "2021-09-08T23:52:25.333Z"
   },
   {
    "duration": 600,
    "start_time": "2021-09-08T23:52:25.348Z"
   },
   {
    "duration": 1511,
    "start_time": "2021-09-08T23:52:25.949Z"
   },
   {
    "duration": 33,
    "start_time": "2021-09-08T23:52:27.462Z"
   },
   {
    "duration": 6,
    "start_time": "2021-09-08T23:52:27.497Z"
   },
   {
    "duration": 48,
    "start_time": "2021-09-08T23:52:27.504Z"
   },
   {
    "duration": 23,
    "start_time": "2021-09-08T23:52:27.554Z"
   },
   {
    "duration": 12,
    "start_time": "2021-09-08T23:52:27.579Z"
   },
   {
    "duration": 786,
    "start_time": "2021-09-08T23:52:27.592Z"
   },
   {
    "duration": 1008754,
    "start_time": "2021-09-08T23:52:28.379Z"
   },
   {
    "duration": 51,
    "start_time": "2021-09-09T00:09:17.135Z"
   },
   {
    "duration": 191,
    "start_time": "2021-09-09T00:09:17.187Z"
   },
   {
    "duration": 1182,
    "start_time": "2021-09-09T00:11:14.587Z"
   },
   {
    "duration": 44,
    "start_time": "2021-09-09T00:11:15.770Z"
   },
   {
    "duration": 6,
    "start_time": "2021-09-09T00:11:15.816Z"
   },
   {
    "duration": 12,
    "start_time": "2021-09-09T00:11:15.824Z"
   },
   {
    "duration": 14,
    "start_time": "2021-09-09T00:11:15.838Z"
   },
   {
    "duration": 488,
    "start_time": "2021-09-09T00:11:15.854Z"
   },
   {
    "duration": 1501,
    "start_time": "2021-09-09T00:11:16.344Z"
   },
   {
    "duration": 42,
    "start_time": "2021-09-09T00:11:17.848Z"
   },
   {
    "duration": 8,
    "start_time": "2021-09-09T00:11:17.892Z"
   },
   {
    "duration": 49,
    "start_time": "2021-09-09T00:11:17.901Z"
   },
   {
    "duration": 29,
    "start_time": "2021-09-09T00:11:17.952Z"
   },
   {
    "duration": 10,
    "start_time": "2021-09-09T00:11:17.983Z"
   },
   {
    "duration": 490,
    "start_time": "2021-09-09T00:11:17.995Z"
   },
   {
    "duration": 113749,
    "start_time": "2021-09-09T00:11:18.577Z"
   },
   {
    "duration": 56,
    "start_time": "2021-09-09T00:13:12.328Z"
   },
   {
    "duration": 302,
    "start_time": "2021-09-09T00:13:12.386Z"
   },
   {
    "duration": 1139,
    "start_time": "2021-09-09T00:14:55.131Z"
   },
   {
    "duration": 43,
    "start_time": "2021-09-09T00:14:56.272Z"
   },
   {
    "duration": 6,
    "start_time": "2021-09-09T00:14:56.317Z"
   },
   {
    "duration": 19,
    "start_time": "2021-09-09T00:14:56.324Z"
   },
   {
    "duration": 12,
    "start_time": "2021-09-09T00:14:56.345Z"
   },
   {
    "duration": 479,
    "start_time": "2021-09-09T00:14:56.359Z"
   },
   {
    "duration": 1490,
    "start_time": "2021-09-09T00:14:56.840Z"
   },
   {
    "duration": 44,
    "start_time": "2021-09-09T00:14:58.332Z"
   },
   {
    "duration": 8,
    "start_time": "2021-09-09T00:14:58.378Z"
   },
   {
    "duration": 64,
    "start_time": "2021-09-09T00:14:58.388Z"
   },
   {
    "duration": 22,
    "start_time": "2021-09-09T00:14:58.454Z"
   },
   {
    "duration": 5,
    "start_time": "2021-09-09T00:14:58.478Z"
   },
   {
    "duration": 1096,
    "start_time": "2021-09-09T00:14:58.485Z"
   },
   {
    "duration": 163828,
    "start_time": "2021-09-09T00:14:59.583Z"
   },
   {
    "duration": 43,
    "start_time": "2021-09-09T00:17:43.413Z"
   },
   {
    "duration": 227,
    "start_time": "2021-09-09T00:17:43.458Z"
   },
   {
    "duration": 1196,
    "start_time": "2021-09-09T00:18:17.764Z"
   },
   {
    "duration": 45,
    "start_time": "2021-09-09T00:18:18.962Z"
   },
   {
    "duration": 6,
    "start_time": "2021-09-09T00:18:19.010Z"
   },
   {
    "duration": 9,
    "start_time": "2021-09-09T00:18:19.018Z"
   },
   {
    "duration": 14,
    "start_time": "2021-09-09T00:18:19.029Z"
   },
   {
    "duration": 501,
    "start_time": "2021-09-09T00:18:19.045Z"
   },
   {
    "duration": 1605,
    "start_time": "2021-09-09T00:18:19.548Z"
   },
   {
    "duration": 50,
    "start_time": "2021-09-09T00:18:21.156Z"
   },
   {
    "duration": 8,
    "start_time": "2021-09-09T00:18:21.209Z"
   },
   {
    "duration": 86,
    "start_time": "2021-09-09T00:18:21.219Z"
   },
   {
    "duration": 7,
    "start_time": "2021-09-09T00:18:21.307Z"
   },
   {
    "duration": 9,
    "start_time": "2021-09-09T00:18:21.315Z"
   },
   {
    "duration": 1055,
    "start_time": "2021-09-09T00:18:21.326Z"
   },
   {
    "duration": 817285,
    "start_time": "2021-09-09T00:18:22.383Z"
   },
   {
    "duration": 8,
    "start_time": "2021-09-09T00:31:59.670Z"
   },
   {
    "duration": 99,
    "start_time": "2021-09-09T00:31:59.680Z"
   },
   {
    "duration": 1224,
    "start_time": "2021-09-09T00:33:03.146Z"
   },
   {
    "duration": 43,
    "start_time": "2021-09-09T00:33:04.372Z"
   },
   {
    "duration": 6,
    "start_time": "2021-09-09T00:33:04.417Z"
   },
   {
    "duration": 11,
    "start_time": "2021-09-09T00:33:04.425Z"
   },
   {
    "duration": 16,
    "start_time": "2021-09-09T00:33:04.438Z"
   },
   {
    "duration": 490,
    "start_time": "2021-09-09T00:33:04.455Z"
   },
   {
    "duration": 1480,
    "start_time": "2021-09-09T00:33:04.947Z"
   },
   {
    "duration": 63,
    "start_time": "2021-09-09T00:33:06.429Z"
   },
   {
    "duration": 8,
    "start_time": "2021-09-09T00:33:06.494Z"
   },
   {
    "duration": 95,
    "start_time": "2021-09-09T00:33:06.504Z"
   },
   {
    "duration": 7,
    "start_time": "2021-09-09T00:33:06.601Z"
   },
   {
    "duration": 20,
    "start_time": "2021-09-09T00:33:06.610Z"
   },
   {
    "duration": 853,
    "start_time": "2021-09-09T00:33:06.632Z"
   },
   {
    "duration": 91,
    "start_time": "2021-09-09T00:33:07.486Z"
   },
   {
    "duration": 29,
    "start_time": "2021-09-09T00:33:07.579Z"
   },
   {
    "duration": 76,
    "start_time": "2021-09-09T00:33:07.610Z"
   },
   {
    "duration": 1216,
    "start_time": "2021-09-09T00:33:40.955Z"
   },
   {
    "duration": 47,
    "start_time": "2021-09-09T00:33:42.173Z"
   },
   {
    "duration": 6,
    "start_time": "2021-09-09T00:33:42.222Z"
   },
   {
    "duration": 10,
    "start_time": "2021-09-09T00:33:42.230Z"
   },
   {
    "duration": 13,
    "start_time": "2021-09-09T00:33:42.241Z"
   },
   {
    "duration": 496,
    "start_time": "2021-09-09T00:33:42.256Z"
   },
   {
    "duration": 1467,
    "start_time": "2021-09-09T00:33:42.754Z"
   },
   {
    "duration": 70,
    "start_time": "2021-09-09T00:33:44.223Z"
   },
   {
    "duration": 9,
    "start_time": "2021-09-09T00:33:44.295Z"
   },
   {
    "duration": 97,
    "start_time": "2021-09-09T00:33:44.305Z"
   },
   {
    "duration": 7,
    "start_time": "2021-09-09T00:33:44.404Z"
   },
   {
    "duration": 8,
    "start_time": "2021-09-09T00:33:44.413Z"
   },
   {
    "duration": 1256,
    "start_time": "2021-09-09T00:33:44.422Z"
   },
   {
    "duration": 1944583,
    "start_time": "2021-09-09T00:33:45.680Z"
   },
   {
    "duration": 9,
    "start_time": "2021-09-09T01:06:10.265Z"
   },
   {
    "duration": 104,
    "start_time": "2021-09-09T01:06:10.275Z"
   },
   {
    "duration": 1172,
    "start_time": "2021-09-09T01:07:16.291Z"
   },
   {
    "duration": 42,
    "start_time": "2021-09-09T01:07:17.465Z"
   },
   {
    "duration": 6,
    "start_time": "2021-09-09T01:07:17.511Z"
   },
   {
    "duration": 12,
    "start_time": "2021-09-09T01:07:17.519Z"
   },
   {
    "duration": 13,
    "start_time": "2021-09-09T01:07:17.532Z"
   },
   {
    "duration": 501,
    "start_time": "2021-09-09T01:07:17.547Z"
   },
   {
    "duration": 1466,
    "start_time": "2021-09-09T01:07:18.051Z"
   },
   {
    "duration": 70,
    "start_time": "2021-09-09T01:07:19.519Z"
   },
   {
    "duration": 8,
    "start_time": "2021-09-09T01:07:19.591Z"
   },
   {
    "duration": 102,
    "start_time": "2021-09-09T01:07:19.601Z"
   },
   {
    "duration": 8,
    "start_time": "2021-09-09T01:07:19.705Z"
   },
   {
    "duration": 8,
    "start_time": "2021-09-09T01:07:19.714Z"
   },
   {
    "duration": 1155,
    "start_time": "2021-09-09T01:07:19.724Z"
   },
   {
    "duration": 2321675,
    "start_time": "2021-09-09T01:07:20.881Z"
   },
   {
    "duration": 55,
    "start_time": "2021-09-09T01:46:02.559Z"
   },
   {
    "duration": 172,
    "start_time": "2021-09-09T01:46:02.616Z"
   },
   {
    "duration": 222,
    "start_time": "2021-09-09T07:27:00.227Z"
   },
   {
    "duration": 1006,
    "start_time": "2021-09-09T07:27:06.147Z"
   },
   {
    "duration": 67,
    "start_time": "2021-09-09T07:27:07.156Z"
   },
   {
    "duration": 7,
    "start_time": "2021-09-09T07:27:08.955Z"
   },
   {
    "duration": 9,
    "start_time": "2021-09-09T07:27:09.619Z"
   },
   {
    "duration": 15,
    "start_time": "2021-09-09T07:27:11.243Z"
   },
   {
    "duration": 469,
    "start_time": "2021-09-09T07:27:13.011Z"
   },
   {
    "duration": 627,
    "start_time": "2021-09-09T07:27:14.419Z"
   },
   {
    "duration": 1457,
    "start_time": "2021-09-09T07:27:23.427Z"
   },
   {
    "duration": 1443,
    "start_time": "2021-09-09T07:27:32.547Z"
   },
   {
    "duration": 1454,
    "start_time": "2021-09-09T07:27:41.372Z"
   },
   {
    "duration": 1169,
    "start_time": "2021-09-09T07:27:56.979Z"
   },
   {
    "duration": 1234,
    "start_time": "2021-09-09T07:28:14.204Z"
   },
   {
    "duration": 1212,
    "start_time": "2021-09-09T07:28:21.748Z"
   },
   {
    "duration": 1194,
    "start_time": "2021-09-09T11:42:55.357Z"
   },
   {
    "duration": 41,
    "start_time": "2021-09-09T11:42:56.553Z"
   },
   {
    "duration": 6,
    "start_time": "2021-09-09T11:42:56.596Z"
   },
   {
    "duration": 9,
    "start_time": "2021-09-09T11:42:56.604Z"
   },
   {
    "duration": 14,
    "start_time": "2021-09-09T11:42:56.615Z"
   },
   {
    "duration": 487,
    "start_time": "2021-09-09T11:42:56.631Z"
   },
   {
    "duration": 1266,
    "start_time": "2021-09-09T11:42:57.120Z"
   },
   {
    "duration": 56,
    "start_time": "2021-09-09T11:42:58.389Z"
   },
   {
    "duration": 8,
    "start_time": "2021-09-09T11:42:58.447Z"
   },
   {
    "duration": 102,
    "start_time": "2021-09-09T11:42:58.457Z"
   },
   {
    "duration": 8,
    "start_time": "2021-09-09T11:42:58.561Z"
   },
   {
    "duration": 17,
    "start_time": "2021-09-09T11:42:58.571Z"
   },
   {
    "duration": 898,
    "start_time": "2021-09-09T11:42:58.590Z"
   },
   {
    "duration": 3,
    "start_time": "2021-09-09T11:42:59.490Z"
   },
   {
    "duration": 12,
    "start_time": "2021-09-09T11:42:59.585Z"
   },
   {
    "duration": 96,
    "start_time": "2021-09-09T11:42:59.599Z"
   },
   {
    "duration": 1058,
    "start_time": "2021-09-09T11:43:32.600Z"
   },
   {
    "duration": 42,
    "start_time": "2021-09-09T11:43:33.660Z"
   },
   {
    "duration": 5,
    "start_time": "2021-09-09T11:43:33.704Z"
   },
   {
    "duration": 10,
    "start_time": "2021-09-09T11:43:33.711Z"
   },
   {
    "duration": 14,
    "start_time": "2021-09-09T11:43:33.722Z"
   },
   {
    "duration": 494,
    "start_time": "2021-09-09T11:43:33.737Z"
   },
   {
    "duration": 1333,
    "start_time": "2021-09-09T11:43:34.232Z"
   },
   {
    "duration": 68,
    "start_time": "2021-09-09T11:43:35.569Z"
   },
   {
    "duration": 10,
    "start_time": "2021-09-09T11:43:35.639Z"
   },
   {
    "duration": 109,
    "start_time": "2021-09-09T11:43:35.651Z"
   },
   {
    "duration": 783,
    "start_time": "2021-09-09T11:43:35.763Z"
   },
   {
    "duration": 177,
    "start_time": "2021-09-09T11:43:36.371Z"
   },
   {
    "duration": 175,
    "start_time": "2021-09-09T11:43:36.374Z"
   },
   {
    "duration": 173,
    "start_time": "2021-09-09T11:43:36.377Z"
   },
   {
    "duration": 172,
    "start_time": "2021-09-09T11:43:36.379Z"
   },
   {
    "duration": 169,
    "start_time": "2021-09-09T11:43:36.383Z"
   },
   {
    "duration": 1099,
    "start_time": "2021-09-09T11:44:37.155Z"
   },
   {
    "duration": 42,
    "start_time": "2021-09-09T11:44:38.255Z"
   },
   {
    "duration": 5,
    "start_time": "2021-09-09T11:44:38.299Z"
   },
   {
    "duration": 15,
    "start_time": "2021-09-09T11:44:38.306Z"
   },
   {
    "duration": 13,
    "start_time": "2021-09-09T11:44:38.323Z"
   },
   {
    "duration": 491,
    "start_time": "2021-09-09T11:44:38.338Z"
   },
   {
    "duration": 1313,
    "start_time": "2021-09-09T11:44:38.830Z"
   },
   {
    "duration": 68,
    "start_time": "2021-09-09T11:44:40.146Z"
   },
   {
    "duration": 9,
    "start_time": "2021-09-09T11:44:40.216Z"
   },
   {
    "duration": 96,
    "start_time": "2021-09-09T11:44:40.226Z"
   },
   {
    "duration": 7,
    "start_time": "2021-09-09T11:44:40.324Z"
   },
   {
    "duration": 10,
    "start_time": "2021-09-09T11:44:40.333Z"
   },
   {
    "duration": 1143,
    "start_time": "2021-09-09T11:44:40.345Z"
   },
   {
    "duration": 3,
    "start_time": "2021-09-09T11:44:41.490Z"
   },
   {
    "duration": 91,
    "start_time": "2021-09-09T11:44:41.495Z"
   },
   {
    "duration": 99,
    "start_time": "2021-09-09T11:44:41.588Z"
   },
   {
    "duration": 88,
    "start_time": "2021-09-09T11:44:45.201Z"
   },
   {
    "duration": 4,
    "start_time": "2021-09-09T11:45:40.803Z"
   },
   {
    "duration": 3,
    "start_time": "2021-09-09T11:48:09.035Z"
   },
   {
    "duration": 6,
    "start_time": "2021-09-09T11:48:15.770Z"
   },
   {
    "duration": 256,
    "start_time": "2021-09-09T11:51:38.489Z"
   },
   {
    "duration": 730,
    "start_time": "2021-09-09T11:51:43.458Z"
   },
   {
    "duration": 878,
    "start_time": "2021-09-09T11:52:53.115Z"
   },
   {
    "duration": 1184,
    "start_time": "2021-09-09T11:53:11.203Z"
   },
   {
    "duration": 131,
    "start_time": "2021-09-09T11:54:07.054Z"
   },
   {
    "duration": 131188,
    "start_time": "2021-09-09T11:54:29.028Z"
   },
   {
    "duration": 11,
    "start_time": "2021-09-09T11:58:55.795Z"
   },
   {
    "duration": 54,
    "start_time": "2021-09-09T11:59:09.233Z"
   },
   {
    "duration": 1029,
    "start_time": "2021-09-09T11:59:29.439Z"
   },
   {
    "duration": 43,
    "start_time": "2021-09-09T11:59:30.470Z"
   },
   {
    "duration": 5,
    "start_time": "2021-09-09T11:59:30.515Z"
   },
   {
    "duration": 33,
    "start_time": "2021-09-09T11:59:30.522Z"
   },
   {
    "duration": 21,
    "start_time": "2021-09-09T11:59:30.557Z"
   },
   {
    "duration": 480,
    "start_time": "2021-09-09T11:59:30.580Z"
   },
   {
    "duration": 1300,
    "start_time": "2021-09-09T11:59:31.061Z"
   },
   {
    "duration": 66,
    "start_time": "2021-09-09T11:59:32.364Z"
   },
   {
    "duration": 8,
    "start_time": "2021-09-09T11:59:32.432Z"
   },
   {
    "duration": 96,
    "start_time": "2021-09-09T11:59:32.441Z"
   },
   {
    "duration": 4,
    "start_time": "2021-09-09T11:59:32.539Z"
   },
   {
    "duration": 17,
    "start_time": "2021-09-09T11:59:32.544Z"
   },
   {
    "duration": 1030,
    "start_time": "2021-09-09T11:59:32.563Z"
   },
   {
    "duration": 109851,
    "start_time": "2021-09-09T11:59:33.595Z"
   },
   {
    "duration": 5,
    "start_time": "2021-09-09T12:01:23.448Z"
   },
   {
    "duration": 196,
    "start_time": "2021-09-09T12:01:23.455Z"
   },
   {
    "duration": 1048,
    "start_time": "2021-09-09T12:01:28.513Z"
   },
   {
    "duration": 42,
    "start_time": "2021-09-09T12:01:29.563Z"
   },
   {
    "duration": 6,
    "start_time": "2021-09-09T12:01:29.607Z"
   },
   {
    "duration": 11,
    "start_time": "2021-09-09T12:01:29.615Z"
   },
   {
    "duration": 16,
    "start_time": "2021-09-09T12:01:29.628Z"
   },
   {
    "duration": 510,
    "start_time": "2021-09-09T12:01:29.645Z"
   },
   {
    "duration": 1323,
    "start_time": "2021-09-09T12:01:30.157Z"
   },
   {
    "duration": 59,
    "start_time": "2021-09-09T12:01:31.485Z"
   },
   {
    "duration": 11,
    "start_time": "2021-09-09T12:01:31.546Z"
   },
   {
    "duration": 108,
    "start_time": "2021-09-09T12:01:31.558Z"
   },
   {
    "duration": 19,
    "start_time": "2021-09-09T12:01:31.669Z"
   },
   {
    "duration": 12,
    "start_time": "2021-09-09T12:01:31.690Z"
   },
   {
    "duration": 233,
    "start_time": "2021-09-09T12:01:31.703Z"
   },
   {
    "duration": 336,
    "start_time": "2021-09-09T12:01:31.938Z"
   },
   {
    "duration": 8,
    "start_time": "2021-09-09T12:01:32.276Z"
   },
   {
    "duration": 305,
    "start_time": "2021-09-09T12:01:32.286Z"
   },
   {
    "duration": 403,
    "start_time": "2021-09-09T12:02:02.060Z"
   },
   {
    "duration": 1331,
    "start_time": "2021-09-09T12:02:05.356Z"
   },
   {
    "duration": 9,
    "start_time": "2021-09-09T12:02:09.098Z"
   },
   {
    "duration": 1341,
    "start_time": "2021-09-09T12:02:12.397Z"
   },
   {
    "duration": 4,
    "start_time": "2021-09-09T12:02:34.468Z"
   },
   {
    "duration": 130559,
    "start_time": "2021-09-09T12:02:35.459Z"
   },
   {
    "duration": 42,
    "start_time": "2021-09-09T12:04:50.204Z"
   },
   {
    "duration": 206,
    "start_time": "2021-09-09T12:05:19.382Z"
   },
   {
    "duration": 6,
    "start_time": "2021-09-09T12:08:55.179Z"
   },
   {
    "duration": 7,
    "start_time": "2021-09-09T12:09:20.075Z"
   },
   {
    "duration": 6,
    "start_time": "2021-09-09T12:09:24.043Z"
   },
   {
    "duration": 220,
    "start_time": "2021-09-09T12:09:27.371Z"
   },
   {
    "duration": 233,
    "start_time": "2021-09-09T12:09:38.604Z"
   },
   {
    "duration": 190,
    "start_time": "2021-09-09T12:10:58.504Z"
   },
   {
    "duration": 242,
    "start_time": "2021-09-09T12:11:05.643Z"
   },
   {
    "duration": 505,
    "start_time": "2021-09-09T12:11:57.752Z"
   },
   {
    "duration": 50,
    "start_time": "2021-09-09T12:14:26.398Z"
   },
   {
    "duration": 392,
    "start_time": "2021-09-09T12:15:47.078Z"
   },
   {
    "duration": 4,
    "start_time": "2021-09-09T12:16:38.016Z"
   },
   {
    "duration": 399,
    "start_time": "2021-09-09T12:16:40.113Z"
   },
   {
    "duration": 5,
    "start_time": "2021-09-09T12:16:50.480Z"
   },
   {
    "duration": 1084,
    "start_time": "2021-09-09T12:16:55.617Z"
   },
   {
    "duration": 41,
    "start_time": "2021-09-09T12:16:56.703Z"
   },
   {
    "duration": 6,
    "start_time": "2021-09-09T12:16:56.746Z"
   },
   {
    "duration": 10,
    "start_time": "2021-09-09T12:16:56.754Z"
   },
   {
    "duration": 27,
    "start_time": "2021-09-09T12:16:56.766Z"
   },
   {
    "duration": 486,
    "start_time": "2021-09-09T12:16:56.794Z"
   },
   {
    "duration": 1302,
    "start_time": "2021-09-09T12:16:57.285Z"
   },
   {
    "duration": 56,
    "start_time": "2021-09-09T12:16:58.590Z"
   },
   {
    "duration": 8,
    "start_time": "2021-09-09T12:16:58.648Z"
   },
   {
    "duration": 102,
    "start_time": "2021-09-09T12:16:58.658Z"
   },
   {
    "duration": 4,
    "start_time": "2021-09-09T12:16:58.762Z"
   },
   {
    "duration": 18,
    "start_time": "2021-09-09T12:16:58.767Z"
   },
   {
    "duration": 1008,
    "start_time": "2021-09-09T12:16:58.786Z"
   },
   {
    "duration": 366782,
    "start_time": "2021-09-09T12:16:59.886Z"
   },
   {
    "duration": 49,
    "start_time": "2021-09-09T12:23:06.670Z"
   },
   {
    "duration": 276,
    "start_time": "2021-09-09T12:23:06.721Z"
   },
   {
    "duration": 389,
    "start_time": "2021-09-09T12:23:06.999Z"
   },
   {
    "duration": 1088,
    "start_time": "2021-09-09T22:51:03.516Z"
   },
   {
    "duration": 41,
    "start_time": "2021-09-09T22:51:04.606Z"
   },
   {
    "duration": 5,
    "start_time": "2021-09-09T22:51:04.649Z"
   },
   {
    "duration": 10,
    "start_time": "2021-09-09T22:51:04.656Z"
   },
   {
    "duration": 26,
    "start_time": "2021-09-09T22:51:04.667Z"
   },
   {
    "duration": 485,
    "start_time": "2021-09-09T22:51:04.695Z"
   },
   {
    "duration": 1286,
    "start_time": "2021-09-09T22:51:05.184Z"
   },
   {
    "duration": 62,
    "start_time": "2021-09-09T22:51:06.473Z"
   },
   {
    "duration": 8,
    "start_time": "2021-09-09T22:51:06.537Z"
   },
   {
    "duration": 103,
    "start_time": "2021-09-09T22:51:06.547Z"
   },
   {
    "duration": 6,
    "start_time": "2021-09-09T22:51:06.652Z"
   },
   {
    "duration": 26,
    "start_time": "2021-09-09T22:51:06.659Z"
   },
   {
    "duration": 1103,
    "start_time": "2021-09-09T22:51:06.687Z"
   },
   {
    "duration": 363211,
    "start_time": "2021-09-09T22:51:07.792Z"
   },
   {
    "duration": 43,
    "start_time": "2021-09-09T22:57:11.004Z"
   },
   {
    "duration": 148,
    "start_time": "2021-09-09T22:57:11.048Z"
   },
   {
    "duration": 460,
    "start_time": "2021-09-09T22:57:11.199Z"
   },
   {
    "duration": 2260,
    "start_time": "2021-09-09T23:02:43.627Z"
   },
   {
    "duration": 114,
    "start_time": "2021-09-09T23:02:50.580Z"
   },
   {
    "duration": 48,
    "start_time": "2021-09-09T23:02:54.360Z"
   },
   {
    "duration": 9,
    "start_time": "2021-09-09T23:03:47.652Z"
   },
   {
    "duration": 9,
    "start_time": "2021-09-09T23:04:36.682Z"
   },
   {
    "duration": 9,
    "start_time": "2021-09-09T23:04:40.970Z"
   },
   {
    "duration": 10,
    "start_time": "2021-09-09T23:04:56.260Z"
   },
   {
    "duration": 8,
    "start_time": "2021-09-09T23:05:02.826Z"
   },
   {
    "duration": 7,
    "start_time": "2021-09-09T23:05:08.394Z"
   },
   {
    "duration": 10,
    "start_time": "2021-09-09T23:05:19.059Z"
   },
   {
    "duration": 1109,
    "start_time": "2021-09-09T23:05:53.478Z"
   },
   {
    "duration": 40,
    "start_time": "2021-09-09T23:05:54.589Z"
   },
   {
    "duration": 6,
    "start_time": "2021-09-09T23:05:54.631Z"
   },
   {
    "duration": 13,
    "start_time": "2021-09-09T23:05:54.638Z"
   },
   {
    "duration": 16,
    "start_time": "2021-09-09T23:05:54.653Z"
   },
   {
    "duration": 477,
    "start_time": "2021-09-09T23:05:54.670Z"
   },
   {
    "duration": 1286,
    "start_time": "2021-09-09T23:05:55.149Z"
   },
   {
    "duration": 70,
    "start_time": "2021-09-09T23:05:56.438Z"
   },
   {
    "duration": 8,
    "start_time": "2021-09-09T23:05:56.509Z"
   },
   {
    "duration": 92,
    "start_time": "2021-09-09T23:05:56.519Z"
   },
   {
    "duration": 3,
    "start_time": "2021-09-09T23:05:56.613Z"
   },
   {
    "duration": 8,
    "start_time": "2021-09-09T23:05:56.618Z"
   },
   {
    "duration": 1663,
    "start_time": "2021-09-09T23:05:56.628Z"
   },
   {
    "duration": 363207,
    "start_time": "2021-09-09T23:05:58.293Z"
   },
   {
    "duration": 289,
    "start_time": "2021-09-09T23:12:01.502Z"
   },
   {
    "duration": 774,
    "start_time": "2021-09-09T23:12:01.019Z"
   },
   {
    "duration": 773,
    "start_time": "2021-09-09T23:12:01.021Z"
   },
   {
    "duration": 9,
    "start_time": "2021-09-09T23:48:16.606Z"
   },
   {
    "duration": 133,
    "start_time": "2021-09-09T23:48:20.955Z"
   },
   {
    "duration": 387,
    "start_time": "2021-09-09T23:48:22.414Z"
   },
   {
    "duration": 4,
    "start_time": "2021-09-10T22:52:40.494Z"
   },
   {
    "duration": 4,
    "start_time": "2021-09-13T10:31:36.089Z"
   },
   {
    "duration": 1116,
    "start_time": "2021-09-13T10:31:43.938Z"
   },
   {
    "duration": 45,
    "start_time": "2021-09-13T10:31:45.056Z"
   },
   {
    "duration": 6,
    "start_time": "2021-09-13T10:31:45.104Z"
   },
   {
    "duration": 10,
    "start_time": "2021-09-13T10:31:45.112Z"
   },
   {
    "duration": 14,
    "start_time": "2021-09-13T10:31:45.124Z"
   },
   {
    "duration": 520,
    "start_time": "2021-09-13T10:31:45.139Z"
   },
   {
    "duration": 1291,
    "start_time": "2021-09-13T10:31:45.660Z"
   },
   {
    "duration": 69,
    "start_time": "2021-09-13T10:31:46.954Z"
   },
   {
    "duration": 8,
    "start_time": "2021-09-13T10:31:47.025Z"
   },
   {
    "duration": 90,
    "start_time": "2021-09-13T10:31:47.034Z"
   },
   {
    "duration": 4,
    "start_time": "2021-09-13T10:31:47.125Z"
   },
   {
    "duration": 6,
    "start_time": "2021-09-13T10:31:47.130Z"
   },
   {
    "duration": 1849,
    "start_time": "2021-09-13T10:31:47.137Z"
   },
   {
    "duration": 361533,
    "start_time": "2021-09-13T10:31:48.989Z"
   },
   {
    "duration": 8,
    "start_time": "2021-09-13T10:37:50.524Z"
   },
   {
    "duration": 252,
    "start_time": "2021-09-13T10:37:50.534Z"
   },
   {
    "duration": 390,
    "start_time": "2021-09-13T10:37:50.788Z"
   },
   {
    "duration": 31,
    "start_time": "2021-09-13T10:39:17.481Z"
   }
  ],
  "kernelspec": {
   "display_name": "Python 3",
   "language": "python",
   "name": "python3"
  },
  "language_info": {
   "codemirror_mode": {
    "name": "ipython",
    "version": 3
   },
   "file_extension": ".py",
   "mimetype": "text/x-python",
   "name": "python",
   "nbconvert_exporter": "python",
   "pygments_lexer": "ipython3",
   "version": "3.8.8"
  },
  "toc": {
   "base_numbering": 1,
   "nav_menu": {},
   "number_sections": true,
   "sideBar": true,
   "skip_h1_title": true,
   "title_cell": "Содержание",
   "title_sidebar": "Contents",
   "toc_cell": true,
   "toc_position": {},
   "toc_section_display": true,
   "toc_window_display": false
  }
 },
 "nbformat": 4,
 "nbformat_minor": 2
}
