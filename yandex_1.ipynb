{
 "cells": [
  {
   "cell_type": "markdown",
   "metadata": {},
   "source": [
    "<div style=\"border:solid green 2px; padding: 20px\">\n",
    "<font color=green><b>Комментарий ревьюера<b></font>\n",
    "\n",
    "<b>Привет!</b> Спасибо тебе за выполненный проект:)  \n",
    "Меня зовут Лена Сидорова и я буду проверять его.\n",
    "Предлагаю общаться на \"ты\", но если по какой-то причине тебе так некомфортно, можно и на \"вы\". \n",
    "\n",
    "\n",
    "По ходу тетрадки ты найдешь комментарии к проекту, они будут в отдельных ячейках Markdown с заголовком «Комментарий ревьюера».\n",
    "Постарайся учесть эти комментарии для дальнейших проектов.\n",
    "\n",
    "Пожалуйста, не перемещай, не изменяй и не удаляй мои комментарии. Всё это поможет выполнить повторную проверку твоего проекта оперативнее.\n",
    "\n",
    "---\n",
    "\n",
    "Комментарии будут выделены цветом:\n",
    "\n",
    "<div class=\"alert alert-block alert-danger\">\n",
    "    \n",
    "\n",
    " __Комментарий от ревьюера__\n",
    "\n",
    "Такой комментарий нужно исправить обязательно, он критически влияет на удачное выполнение проекта.\n",
    "</div>\n",
    "    \n",
    "---\n",
    "\n",
    "<div class=\"alert alert-block alert-warning\">\n",
    "    \n",
    "__Комментарий от ревьюера__\n",
    "\n",
    "\n",
    "Такой комментарий является рекомендацией или советом. Можешь использовать их на своё усмотрение.\n",
    "</div>\n",
    "\n",
    "---\n",
    "\n",
    "<div class=\"alert alert-block alert-success\">\n",
    "    \n",
    "\n",
    "__Комментарий от ревьюера__\n",
    "\n",
    "Такой комментарий  говорит о том, что ты замечательно справился с задачей :)\n",
    "</div>\n",
    "\n",
    "---\n",
    "\n",
    "\n",
    "Предлагаю работать в диалоге, если что-то меняешь по моим рекомендациям, пиши об этом. Выбери свой любимый цвет, чтобы твои комментарии были заметнее)   \n",
    "Также можешь использовать такую конструкцию, чтобы оформить свой ответ:  \n",
    "\n",
    "\n",
    "---\n",
    "\n",
    "<div class=\"alert alert-block alert-info\">\n",
    "    \n",
    "\n",
    "__Ответ__\n",
    "\n",
    "Здесь можно что-то написать\n",
    "</div>\n",
    "\n",
    "---"
   ]
  },
  {
   "cell_type": "markdown",
   "metadata": {},
   "source": [
    "# Исследование надёжности заёмщиков\n",
    "\n",
    "Заказчик — кредитный отдел банка. Нужно разобраться, влияет ли семейное положение и количество детей клиента на факт погашения кредита в срок. Входные данные от банка — статистика о платёжеспособности клиентов.\n",
    "\n",
    "Результаты исследования будут учтены при построении модели **кредитного скоринга** — специальной системы, которая оценивает способность потенциального заёмщика вернуть кредит банку."
   ]
  },
  {
   "cell_type": "markdown",
   "metadata": {},
   "source": [
    "## Шаг 1. Откройте файл с данными и изучите общую информацию"
   ]
  },
  {
   "cell_type": "code",
   "execution_count": 1,
   "metadata": {},
   "outputs": [
    {
     "name": "stdout",
     "output_type": "stream",
     "text": [
      "<class 'pandas.core.frame.DataFrame'>\n",
      "RangeIndex: 21525 entries, 0 to 21524\n",
      "Data columns (total 12 columns):\n",
      "children            21525 non-null int64\n",
      "days_employed       19351 non-null float64\n",
      "dob_years           21525 non-null int64\n",
      "education           21525 non-null object\n",
      "education_id        21525 non-null int64\n",
      "family_status       21525 non-null object\n",
      "family_status_id    21525 non-null int64\n",
      "gender              21525 non-null object\n",
      "income_type         21525 non-null object\n",
      "debt                21525 non-null int64\n",
      "total_income        19351 non-null float64\n",
      "purpose             21525 non-null object\n",
      "dtypes: float64(2), int64(5), object(5)\n",
      "memory usage: 2.0+ MB\n"
     ]
    },
    {
     "data": {
      "text/html": [
       "<div>\n",
       "<style scoped>\n",
       "    .dataframe tbody tr th:only-of-type {\n",
       "        vertical-align: middle;\n",
       "    }\n",
       "\n",
       "    .dataframe tbody tr th {\n",
       "        vertical-align: top;\n",
       "    }\n",
       "\n",
       "    .dataframe thead th {\n",
       "        text-align: right;\n",
       "    }\n",
       "</style>\n",
       "<table border=\"1\" class=\"dataframe\">\n",
       "  <thead>\n",
       "    <tr style=\"text-align: right;\">\n",
       "      <th></th>\n",
       "      <th>children</th>\n",
       "      <th>days_employed</th>\n",
       "      <th>dob_years</th>\n",
       "      <th>education</th>\n",
       "      <th>education_id</th>\n",
       "      <th>family_status</th>\n",
       "      <th>family_status_id</th>\n",
       "      <th>gender</th>\n",
       "      <th>income_type</th>\n",
       "      <th>debt</th>\n",
       "      <th>total_income</th>\n",
       "      <th>purpose</th>\n",
       "    </tr>\n",
       "  </thead>\n",
       "  <tbody>\n",
       "    <tr>\n",
       "      <td>0</td>\n",
       "      <td>1</td>\n",
       "      <td>-8437.673028</td>\n",
       "      <td>42</td>\n",
       "      <td>высшее</td>\n",
       "      <td>0</td>\n",
       "      <td>женат / замужем</td>\n",
       "      <td>0</td>\n",
       "      <td>F</td>\n",
       "      <td>сотрудник</td>\n",
       "      <td>0</td>\n",
       "      <td>253875.639453</td>\n",
       "      <td>покупка жилья</td>\n",
       "    </tr>\n",
       "    <tr>\n",
       "      <td>1</td>\n",
       "      <td>1</td>\n",
       "      <td>-4024.803754</td>\n",
       "      <td>36</td>\n",
       "      <td>среднее</td>\n",
       "      <td>1</td>\n",
       "      <td>женат / замужем</td>\n",
       "      <td>0</td>\n",
       "      <td>F</td>\n",
       "      <td>сотрудник</td>\n",
       "      <td>0</td>\n",
       "      <td>112080.014102</td>\n",
       "      <td>приобретение автомобиля</td>\n",
       "    </tr>\n",
       "    <tr>\n",
       "      <td>2</td>\n",
       "      <td>0</td>\n",
       "      <td>-5623.422610</td>\n",
       "      <td>33</td>\n",
       "      <td>Среднее</td>\n",
       "      <td>1</td>\n",
       "      <td>женат / замужем</td>\n",
       "      <td>0</td>\n",
       "      <td>M</td>\n",
       "      <td>сотрудник</td>\n",
       "      <td>0</td>\n",
       "      <td>145885.952297</td>\n",
       "      <td>покупка жилья</td>\n",
       "    </tr>\n",
       "    <tr>\n",
       "      <td>3</td>\n",
       "      <td>3</td>\n",
       "      <td>-4124.747207</td>\n",
       "      <td>32</td>\n",
       "      <td>среднее</td>\n",
       "      <td>1</td>\n",
       "      <td>женат / замужем</td>\n",
       "      <td>0</td>\n",
       "      <td>M</td>\n",
       "      <td>сотрудник</td>\n",
       "      <td>0</td>\n",
       "      <td>267628.550329</td>\n",
       "      <td>дополнительное образование</td>\n",
       "    </tr>\n",
       "    <tr>\n",
       "      <td>4</td>\n",
       "      <td>0</td>\n",
       "      <td>340266.072047</td>\n",
       "      <td>53</td>\n",
       "      <td>среднее</td>\n",
       "      <td>1</td>\n",
       "      <td>гражданский брак</td>\n",
       "      <td>1</td>\n",
       "      <td>F</td>\n",
       "      <td>пенсионер</td>\n",
       "      <td>0</td>\n",
       "      <td>158616.077870</td>\n",
       "      <td>сыграть свадьбу</td>\n",
       "    </tr>\n",
       "  </tbody>\n",
       "</table>\n",
       "</div>"
      ],
      "text/plain": [
       "   children  days_employed  dob_years education  education_id  \\\n",
       "0         1   -8437.673028         42    высшее             0   \n",
       "1         1   -4024.803754         36   среднее             1   \n",
       "2         0   -5623.422610         33   Среднее             1   \n",
       "3         3   -4124.747207         32   среднее             1   \n",
       "4         0  340266.072047         53   среднее             1   \n",
       "\n",
       "      family_status  family_status_id gender income_type  debt   total_income  \\\n",
       "0   женат / замужем                 0      F   сотрудник     0  253875.639453   \n",
       "1   женат / замужем                 0      F   сотрудник     0  112080.014102   \n",
       "2   женат / замужем                 0      M   сотрудник     0  145885.952297   \n",
       "3   женат / замужем                 0      M   сотрудник     0  267628.550329   \n",
       "4  гражданский брак                 1      F   пенсионер     0  158616.077870   \n",
       "\n",
       "                      purpose  \n",
       "0               покупка жилья  \n",
       "1     приобретение автомобиля  \n",
       "2               покупка жилья  \n",
       "3  дополнительное образование  \n",
       "4             сыграть свадьбу  "
      ]
     },
     "execution_count": 1,
     "metadata": {},
     "output_type": "execute_result"
    }
   ],
   "source": [
    "import pandas as pd\n",
    "\n",
    "df = pd.read_csv('/datasets/data.csv')\n",
    "df.info()  \n",
    "df.head()\n"
   ]
  },
  {
   "cell_type": "markdown",
   "metadata": {},
   "source": [
    "**Вывод**"
   ]
  },
  {
   "cell_type": "markdown",
   "metadata": {},
   "source": [
    "У некоторых не заполнен стаж и не заполнен доход, более того у одних и тех же. Возможно не захотели заполнять, возможно данные неизвестны, возможно проблема в другом.\n",
    "\n",
    "Стаж имеет тип float, что излишне, int достаточно. Для уровня дохода - аналогично. У стажа бОльшая часть данных - отрицательные числа. Возможно это проблема занесения данных. \n",
    "\n",
    "id образования проставлено нормально, то есть каждому id соответствуют одинаковые по смыслу строки образования. Семейный статус - аналогично.\n",
    "\n",
    "Отрицательное количество детей. "
   ]
  },
  {
   "cell_type": "markdown",
   "metadata": {},
   "source": [
    "<div class=\"alert alert-block alert-success\">\n",
    "    \n",
    "\n",
    "__Комментарий от ревьюера__\n",
    "\n",
    "Отлично, фронт работы намечен\n",
    "</div>"
   ]
  },
  {
   "cell_type": "markdown",
   "metadata": {},
   "source": [
    "<div class=\"alert alert-block alert-warning\">\n",
    "    \n",
    "\n",
    "__Комментарий от ревьюера__\n",
    "\n",
    "Также тут хорошо бы вывести первые 5-10 строк датасета для ознакомления и описание данных, что означает каждая колонка в датасете\n",
    "</div>"
   ]
  },
  {
   "cell_type": "markdown",
   "metadata": {},
   "source": [
    "<div class=\"alert alert-block alert-info\">\n",
    "    Исправил\n",
    "</div>"
   ]
  },
  {
   "cell_type": "markdown",
   "metadata": {},
   "source": [
    "<div class=\"alert alert-block alert-success\">\n",
    "    \n",
    "\n",
    "__Комментарий от ревьюера v2__\n",
    "\n",
    "👌\n",
    "</div>"
   ]
  },
  {
   "cell_type": "markdown",
   "metadata": {},
   "source": [
    "## Шаг 2. Предобработка данных"
   ]
  },
  {
   "cell_type": "markdown",
   "metadata": {},
   "source": [
    "### Обработка пропусков"
   ]
  },
  {
   "cell_type": "code",
   "execution_count": 2,
   "metadata": {
    "scrolled": false
   },
   "outputs": [
    {
     "name": "stdout",
     "output_type": "stream",
     "text": [
      "children               0\n",
      "days_employed       2174\n",
      "dob_years              0\n",
      "education              0\n",
      "education_id           0\n",
      "family_status          0\n",
      "family_status_id       0\n",
      "gender                 0\n",
      "income_type            0\n",
      "debt                   0\n",
      "total_income        2174\n",
      "purpose                0\n",
      "dtype: int64\n",
      "Неорректных записей пола 1\n",
      "children            0\n",
      "days_employed       0\n",
      "dob_years           0\n",
      "education           0\n",
      "education_id        0\n",
      "family_status       0\n",
      "family_status_id    0\n",
      "gender              0\n",
      "income_type         0\n",
      "debt                0\n",
      "total_income        0\n",
      "purpose             0\n",
      "dtype: int64\n"
     ]
    }
   ],
   "source": [
    "\n",
    "f = lambda x: max(x,-x)\n",
    "print(df.isna().sum())\n",
    "#Исправление отрицательных чисел\n",
    "df['children'] = df['children'].apply(f)\n",
    "df['days_employed'] = df['days_employed'].apply(f)\n",
    "\n",
    "#Часть стажа занесена неадекватно. Возможна ситуация, когда стаж больше количества лет клиента\n",
    "#Для определения такаих записей делю количество дней на 365, получается примерно лет стажа. \n",
    "#Заменю на 0 что бы данные значения не смазывали статистику. При обработке стажа \n",
    "#такие данные учитывать нельзя.\n",
    "df['days_employed'] = df.apply(lambda x: 0 if (x['days_employed']/365>x['dob_years']) else x['days_employed'], axis = 1)\n",
    "\n",
    "print('Неорректных записей пола ' + str(df[df['gender']=='XNA']['gender'].count()))\n",
    "df.loc[df['gender']=='XNA','gender'] = 'M'\n",
    "\n",
    "#Медианное значение для дохода и стажа буду заполнять в разрезе занятости и пола\n",
    "meredian_days = df[df['days_employed']>0].groupby(['income_type','gender'])['days_employed'].median().reset_index()\n",
    "meredian_income = df[df['total_income']>0].groupby(['income_type','gender'])['total_income'].median().reset_index()\n",
    " \n",
    "for i in meredian_days.iterrows():\n",
    "    mask = (df['income_type'] ==i[1]['income_type'])&(df['gender'] ==i[1]['gender']) &(df['days_employed'].isnull())\n",
    "    df.loc[mask,'days_employed'] = i[1]['days_employed']\n",
    "for i in meredian_income.iterrows():\n",
    "    mask = (df['income_type'] ==i[1]['income_type'])&(df['gender'] ==i[1]['gender']) &(df['total_income'].isnull())\n",
    "    df.loc[mask,'total_income'] = i[1]['total_income']\n",
    "    \n",
    "#Остатки попробую заполнить только в разрезе занятости    \n",
    "meredian_days = df[df['days_employed']>0].groupby('income_type')['days_employed'].median().reset_index()\n",
    "meredian_income = df[df['total_income']>0].groupby('income_type')['total_income'].median().reset_index()\n",
    "\n",
    "for i in meredian_days.iterrows():\n",
    "    mask = (df['income_type'] ==i[1]['income_type']) &(df['days_employed'].isnull())\n",
    "    df.loc[mask,'days_employed'] = i[1]['days_employed']\n",
    "for i in meredian_income.iterrows():\n",
    "    mask = (df['income_type'] ==i[1]['income_type']) &(df['total_income'].isnull())\n",
    "    df.loc[mask,'total_income'] = i[1]['total_income']\n",
    "    \n",
    "#Если не исправились, дорисую нули\n",
    "df['days_employed'] = df['days_employed'].fillna(0)\n",
    "df['total_income'] = df['total_income'].fillna(0)\n",
    "\n",
    "\n",
    "print(df.isna().sum())"
   ]
  },
  {
   "cell_type": "markdown",
   "metadata": {},
   "source": [
    "**Вывод**"
   ]
  },
  {
   "cell_type": "markdown",
   "metadata": {},
   "source": [
    "Для исправления стажа привожу кго к положительному числу. Есть записи где стаж больше возраста клиента, такие обнуляю, потому что такие записи у всех пенсионеров и у всех безработных. По таким данным нельзя вычислить корректную медианную в рамках занятости и заполнить, а также сильно размывает средние значения в целом. Если обнулю, то легко фильтровать такие записи и средний стаж в целом будет более корректный. Количество дней стажа делю на 365, получаю число лет стажа и сравниваю с возрастом.\n",
    "\n",
    "Указан непонятной пол XNA. Он всего один, можно заменить на М, на статистику не повлияет.\n",
    "\n",
    "Потом nan заполняю медианным значением в разрезе типа занятости и пола. Если остаются nan, то только по занятости. Остальные nan обнуляю."
   ]
  },
  {
   "cell_type": "markdown",
   "metadata": {},
   "source": [
    "<div class=\"alert alert-block alert-danger\">\n",
    "    \n",
    "\n",
    "__Комментарий от ревьюера__\n",
    "\n",
    "В проектах ячейки с кодом следует дополнять комментариями, что ты в них делаешь. Так твой проект будет понятен читателям, даже те кто не разбираются в коде. А зачастую такие бывают.   \n",
    "Прокомментрируй, пожалуйста, свои решения. Если с положительными числами все более менее понятно, то с заполнением пропусков медианной не очень.  Тут стоит ответить на следующие вопросы:  \n",
    "    \n",
    "    \n",
    "1. Почему ты решил заполнить именно медианной?\n",
    "2. Как ты считаешь, откуда появились такие пропуски?\n",
    "3. Что означает конструкция `df['days_employed']/365`, для чего ты делишь на 365? \n",
    "4. И наконец, последний момент, если все же заполняем медианной, то не совсем будет правильным не учитывать какой тип занятости у человека. Согласись, было бы странно пенсионеру ставить доход такой же как и предпринимателю. Поэтому давай заполним пропуски в соответствии с типом занятости. Возможно у тебя будут еще какие-то идеи. Можно также учесть возрастную группу. В общем, тут есть еще над чем подумать для наиболее достоверного заполнения пропусков.\n",
    "</div>"
   ]
  },
  {
   "cell_type": "markdown",
   "metadata": {},
   "source": [
    "<div class=\"alert alert-block alert-info\">  \n",
    "1. Nan записей достаточно много, если их просто обнулять, то их нужно потом не учитывать в итогах, что бы не поплыла  статистика. Мне проще медианными заполнить.    \n",
    "2. Данные не были заполнены. Неизвестно как они собирались. Возможно в анкетах люди не указывали.    \n",
    "3,4 - дозаполнил в выводе\n",
    "</div>"
   ]
  },
  {
   "cell_type": "markdown",
   "metadata": {},
   "source": [
    "<div class=\"alert alert-block alert-success\">\n",
    "    \n",
    "\n",
    "__Комментарий от ревьюера v2__\n",
    "\n",
    "Хорошая идея учесть еще и пол клиенты, по остальным пунктам стало тоже гораздо понятнее, согласна на счет медианны\n",
    "</div>"
   ]
  },
  {
   "cell_type": "markdown",
   "metadata": {},
   "source": [
    "### Замена типа данных"
   ]
  },
  {
   "cell_type": "code",
   "execution_count": 3,
   "metadata": {},
   "outputs": [],
   "source": [
    "df.loc[df['children']==20,'children'] = 2\n",
    "\n",
    "df['total_income']= df['total_income'].astype('int')\n",
    "df['days_employed']= df['days_employed'].astype('int')\n",
    "\n",
    "\n"
   ]
  },
  {
   "cell_type": "markdown",
   "metadata": {},
   "source": [
    "**Вывод**"
   ]
  },
  {
   "cell_type": "markdown",
   "metadata": {},
   "source": [
    "20 детей - подозрительно много, тем более в 76 записях. Скорее всего это 2 ребёнка, 0 могли случайно задеть при занесении на доп цифровой клавиатуре. Их нужно либо не учитывать, либо отнести на что-то. Отнесу к 2 детям, так как это вероятно правильно и не изменит глобально статистику.\n",
    "\n",
    "Преобразовал тип из float в int\n"
   ]
  },
  {
   "cell_type": "markdown",
   "metadata": {},
   "source": [
    "<div class=\"alert alert-block alert-success\">\n",
    "    \n",
    "\n",
    "__Комментарий от ревьюера__\n",
    "\n",
    "Да согласна. Только вот, где мы выяснили что пол XNA всего один? Также стоит добавить, что ты преобразовал типы данных\n",
    "</div>"
   ]
  },
  {
   "cell_type": "markdown",
   "metadata": {},
   "source": [
    "### Обработка дубликатов"
   ]
  },
  {
   "cell_type": "code",
   "execution_count": 4,
   "metadata": {},
   "outputs": [],
   "source": [
    "df = df.drop_duplicates().reset_index(drop=True)"
   ]
  },
  {
   "cell_type": "markdown",
   "metadata": {},
   "source": [
    "**Вывод**"
   ]
  },
  {
   "cell_type": "markdown",
   "metadata": {},
   "source": [
    "Дубликаты обнуляю только полные. Так как я не знаю за какой период эта таблица сделана и нет ID клиента. В таком случае, клиенты с одинаковым количеством детей, з/п, образованием, стажем, даже с похожими целями, могут быть людьми,  приходившие в разные время. Даже полные дубли могут быть так истолкованы, но вероятность этого минимальная, да и количество таких дублей небольшое, поэтому удаление особо не повлияет."
   ]
  },
  {
   "cell_type": "markdown",
   "metadata": {},
   "source": [
    "<div class=\"alert alert-block alert-success\">\n",
    "    \n",
    "\n",
    "__Комментарий от ревьюера__\n",
    "\n",
    "Хорошее решение, соглашусь\n",
    "    \n",
    "    \n",
    "</div>"
   ]
  },
  {
   "cell_type": "markdown",
   "metadata": {},
   "source": [
    "<div class=\"alert alert-block alert-danger\">\n",
    "    \n",
    "\n",
    "__Комментарий от ревьюера__\n",
    "\n",
    "А как ты считаешь, вообще какие возможные причины появления дубликатов ?\n",
    "    \n",
    "    \n",
    "</div>"
   ]
  },
  {
   "cell_type": "markdown",
   "metadata": {},
   "source": [
    "<div class=\"alert alert-block alert-info\">  \n",
    "Возможно кто-то ходил по нескольким филиалам, и разные филиалы слили одного и того же человека в общую базу. Возможно проблема в СУБД, кто-то неправильно пользуется левым соединением. Возможно поменялись какие-то критические данные у клиента, типа телефона, паспорта, его занесли второй раз. Возможно ошибка оператора.\n",
    "</div>"
   ]
  },
  {
   "cell_type": "markdown",
   "metadata": {},
   "source": [
    "<div class=\"alert alert-block alert-success\">\n",
    "    \n",
    "\n",
    "__Комментарий от ревьюера v2__\n",
    "\n",
    "Да, вполне возможные причины. \n",
    "</div>"
   ]
  },
  {
   "cell_type": "markdown",
   "metadata": {},
   "source": [
    "### Лемматизация"
   ]
  },
  {
   "cell_type": "code",
   "execution_count": 5,
   "metadata": {},
   "outputs": [
    {
     "name": "stdout",
     "output_type": "stream",
     "text": [
      "['покупка жилья' 'приобретение автомобиля' 'дополнительное образование'\n",
      " 'сыграть свадьбу' 'операции с жильем' 'образование'\n",
      " 'на проведение свадьбы' 'покупка жилья для семьи' 'покупка недвижимости'\n",
      " 'покупка коммерческой недвижимости' 'покупка жилой недвижимости'\n",
      " 'строительство собственной недвижимости' 'недвижимость'\n",
      " 'строительство недвижимости' 'на покупку подержанного автомобиля'\n",
      " 'на покупку своего автомобиля' 'операции с коммерческой недвижимостью'\n",
      " 'строительство жилой недвижимости' 'жилье'\n",
      " 'операции со своей недвижимостью' 'автомобили' 'заняться образованием'\n",
      " 'сделка с подержанным автомобилем' 'получение образования' 'автомобиль'\n",
      " 'свадьба' 'получение дополнительного образования' 'покупка своего жилья'\n",
      " 'операции с недвижимостью' 'получение высшего образования'\n",
      " 'свой автомобиль' 'сделка с автомобилем' 'профильное образование'\n",
      " 'высшее образование' 'покупка жилья для сдачи' 'на покупку автомобиля'\n",
      " 'ремонт жилью' 'заняться высшим образованием']\n",
      "['операции с недвижимостью' 'автомобиль' 'образование' 'свадьба'\n",
      " 'строительство' 'ремонт жилья']\n"
     ]
    }
   ],
   "source": [
    "from pymystem3 import Mystem\n",
    "m = Mystem()\n",
    "\n",
    "def func(x, mas):\n",
    "    return list(set(x).difference(set(mas)))\n",
    "\n",
    "#Настройки категоризации. Ключ справочника - категория, значение - массив.\n",
    "#Если в леммах найдено хотя бы одно значение, то ключ является категорией\n",
    "#Если элемент настройки массив, значит все слова должны быть в лемме.\n",
    "cat_purpose = {'ремонт жилья':[['ремонт','жилье']],'автомобиль':['автомобиль']}\n",
    "cat_purpose['свадьба'] = ['свадьба']\n",
    "cat_purpose['строительство'] = ['строительство']\n",
    "cat_purpose['образование'] = ['образование']\n",
    "cat_purpose['операции с недвижимостью'] = ['жилье','недвижимость']\n",
    "\n",
    "\n",
    "def purpose_list_group(row):\n",
    "    purpose_list = m.lemmatize(row['purpose'])   \n",
    "    for i in cat_purpose:\n",
    "        #хотя бы одно слово должно находится в целях\n",
    "        for pur in cat_purpose[i]:\n",
    "            if type(pur)==type([]):\n",
    "                #все слова в массива должны быть в целях\n",
    "                if set(pur) <= set(purpose_list):\n",
    "                    return i \n",
    "            else:\n",
    "                if pur in purpose_list:\n",
    "                    return i\n",
    "                \n",
    "df['purpose'] = df['purpose'].str.lower()\n",
    "df['purpose_list_group'] = df.apply(purpose_list_group, axis=1)\n",
    "print(df[\"purpose\"].unique())\n",
    "print(df[\"purpose_list_group\"].unique())"
   ]
  },
  {
   "cell_type": "markdown",
   "metadata": {},
   "source": [
    "**Вывод**"
   ]
  },
  {
   "cell_type": "markdown",
   "metadata": {},
   "source": [
    "Лемматизировал цели кредита. Выделил смысловые категории в целях. Распределил цели по категориям. \n",
    "\n",
    "По целям кредита - К примеру,есть лемма \"операция\". Из просто из подсчёта не ясно это медицинская операция или операция с чем-то. Понятно что в данном случае это операция с недвижимостью, но вообще и в принципе такое лучше рассматривать в контексте. Написал совсем простой механизм, думаю достаточно этого.\n"
   ]
  },
  {
   "cell_type": "markdown",
   "metadata": {},
   "source": [
    "<div class=\"alert alert-block alert-warning\">\n",
    "    \n",
    "\n",
    "__Комментарий от ревьюера__\n",
    "\n",
    "Отлично, но только лишь это ты сделал? Прокомментируй, пожалуйста, для чего ты применяешь Counter и lemmatize? Что в результате мы хотим получить?\n",
    "    \n",
    "    \n",
    "</div>"
   ]
  },
  {
   "cell_type": "markdown",
   "metadata": {},
   "source": [
    "<div class=\"alert alert-block alert-info\">  \n",
    "Подправил. Перенёс сюда категоризацию по леммам. Подсчёт был просто что бы показать информацию о самых частых словах. Смысловой нагрузки было минимально, убрал.\n",
    "</div>"
   ]
  },
  {
   "cell_type": "markdown",
   "metadata": {},
   "source": [
    "### Категоризация данных"
   ]
  },
  {
   "cell_type": "code",
   "execution_count": 6,
   "metadata": {},
   "outputs": [],
   "source": [
    "def children_group(row):\n",
    "    children = row['children']    \n",
    "    if children == 0:\n",
    "        return '0'\n",
    "    elif children == 1:\n",
    "        return '1'\n",
    "    elif children == 2:\n",
    "        return '2'\n",
    "    else:\n",
    "        return '>=3'\n",
    "    \n",
    "median = df[df['total_income']>0]['total_income'].median() \n",
    "min_measure = median*0.80\n",
    "max_measure = median*1.20\n",
    "def total_income_group(row):\n",
    "    total_income = row['total_income']\n",
    "    cel = int(total_income // max_measure)\n",
    "    if total_income > 1000000:\n",
    "        return 'миллионеры'\n",
    "    elif cel>0:\n",
    "        return 'очень '*(cel-1)+'выше среднего'\n",
    "    elif total_income < min_measure:\n",
    "        return 'ниже среднего'\n",
    "    else:\n",
    "        return 'средний'\n",
    "\n",
    "    \n",
    "df['children_group'] = df.apply(children_group, axis=1)\n",
    "df['total_income_group'] = df.apply(total_income_group, axis=1)\n"
   ]
  },
  {
   "cell_type": "markdown",
   "metadata": {},
   "source": [
    "**Вывод**"
   ]
  },
  {
   "cell_type": "markdown",
   "metadata": {},
   "source": [
    "Категоризовать нужно:\n",
    "по наличию детей - 0, 1, 2, 3 и более\n",
    "\n",
    "по доходу - медианное значение  +- 20% это средний доход. Очевидно есть ниже среднего, выше среднего\n"
   ]
  },
  {
   "cell_type": "markdown",
   "metadata": {},
   "source": [
    "<div class=\"alert alert-block alert-success\">\n",
    "    \n",
    "\n",
    "__Комментарий от ревьюера__\n",
    "\n",
    "Хорошее решения для категоризации по наличию детей и дохода\n",
    "    \n",
    "</div>"
   ]
  },
  {
   "cell_type": "markdown",
   "metadata": {},
   "source": [
    "<div class=\"alert alert-block alert-danger\">\n",
    "    \n",
    "\n",
    "__Комментарий от ревьюера__\n",
    "\n",
    "По поводу целей кредита у меня вопрос,  для чего же мы выше лемматризировали цели? Если в итоге лемматизацию не применили для категоризации.  Для начала прокомментируй, какие леммы мы выявили, и на какие группы ты решил категоризировать в итоге. Это явно не видно.  Далее на данном этапе хорошо бы научиться применять лемматизацию непосредственно для выделения категорий. Я бы хотела увидеть от тебя функцию, которая сразу ищет в леммах основные наши цели и присваивает значения в соответсвии с ними. Примерно это должно выглядеть так:  \n",
    "    \n",
    "\n",
    "\n",
    "`def purpose_list_group(row):\n",
    "    lem_purpose = m.lemmatize(row['purpose'])\n",
    "    try:\n",
    "        if 'автомобиль' in lem_purpose:\n",
    "            return 'автомобиль'\n",
    "        if ('жилье' in lem_purpose) or ('недвижимость' in lem_purpose ):\n",
    "            return 'операции с недвижимостью' `\n",
    "    \n",
    "    \n",
    " Пока эти две части у тебя отделены, ты отдельно ищешь леммы, отдельно в соответсвии со словарем присваиваешь категории. Это в принципе выполняет нашу цель, но делает это не совсем оптимально.\n",
    "    \n",
    "\n",
    "    \n",
    "</div>"
   ]
  },
  {
   "cell_type": "markdown",
   "metadata": {},
   "source": [
    "<div class=\"alert alert-block alert-info\">  \n",
    "Подправил. Категоризацию по целям перенёс выше.\n",
    "</div>"
   ]
  },
  {
   "cell_type": "markdown",
   "metadata": {},
   "source": [
    "<div class=\"alert alert-block alert-success\">\n",
    "    \n",
    "\n",
    "__Комментарий от ревьюера v2__\n",
    "\n",
    "Супер, код стал компактнее и на мой взгляд более оптимальным\n",
    "</div>"
   ]
  },
  {
   "cell_type": "markdown",
   "metadata": {},
   "source": [
    "## Шаг 3. Ответьте на вопросы"
   ]
  },
  {
   "cell_type": "markdown",
   "metadata": {},
   "source": [
    "- Есть ли зависимость между наличием детей и возвратом кредита в срок?"
   ]
  },
  {
   "cell_type": "code",
   "execution_count": 7,
   "metadata": {},
   "outputs": [
    {
     "name": "stdout",
     "output_type": "stream",
     "text": [
      "                 children       debt      koef\n",
      "children_group                                \n",
      "2                9.911043  11.602527  1.170667\n",
      "1               22.616553  25.560023  1.130147\n",
      ">=3              1.769829   1.780586  1.006078\n",
      "0               65.702576  61.056864  0.929292\n"
     ]
    }
   ],
   "source": [
    "\n",
    "table = pd.pivot_table(df, index=['children_group'], values=['children','debt'],\n",
    "           aggfunc={'children':'count','debt': 'sum'})\n",
    "table['children'] = table['children']/len(df)*100\n",
    "table['debt'] = table['debt']/df['debt'].sum()*100\n",
    "table['koef'] = table['debt']/table['children']\n",
    "print(table.sort_values(\"koef\", ascending=False))"
   ]
  },
  {
   "cell_type": "markdown",
   "metadata": {},
   "source": [
    "**Вывод**"
   ]
  },
  {
   "cell_type": "markdown",
   "metadata": {},
   "source": [
    "Да. Люди без детей гораздо чаще возвращают долг. Люди с детьми - чаще не возвращают. \n",
    "\n",
    "Здесь и ниже в сводной таблице данные описаны в следющем формате.\n",
    "\n",
    "Категория | Доля категории среди всех клиентов | Доля клиентов данной категории с долгом среди всех клиентов с долгом | Коэфициент долга\n",
    "\n",
    "Коэфициент долга = Доля клиентов данной категории с долгом среди всех клиентов с долгом / Доля категории среди всех клиентов\n",
    "\n",
    "Данный коэф показывает сколько % должников данной группы приходится на 1% клиентов из данной группы\n",
    "\n"
   ]
  },
  {
   "cell_type": "markdown",
   "metadata": {},
   "source": [
    "<div class=\"alert alert-block alert-success\">\n",
    "    \n",
    "\n",
    "__Комментарий от ревьюера__\n",
    "\n",
    "Здорово, что применил для ответа на вопрос сводную таблицу, она отлично здесь подходит.  \n",
    "\n",
    "    \n",
    "</div>"
   ]
  },
  {
   "cell_type": "markdown",
   "metadata": {},
   "source": [
    "<div class=\"alert alert-block alert-warning\">\n",
    "    \n",
    "\n",
    "__Комментарий от ревьюера__\n",
    "\n",
    "Прокомментируй, пожалуйста, как мы приходим к такому выводы,  какие вычисленные столбцы нам в этом помогают и как мы их вычисляем.  \n",
    "    \n",
    "Например, нигде не написано, что означает колонка `debt`, что ты вычисляешь в колонке  `children` и `koef`?   \n",
    "    \n",
    "Не думай, что я придираюсь, но тут важно понять, что твои вычисления очевидны только для тебя, но для твоей аудитории(те, кто будет читать этот проект), некоторые моменты могут быть непонятны и их нужно комментировать, чтобы твой ход мыслей был виден всем.  К примеру, для меня было бы логичным посмотреть на долю возврата среди общего количества в каждой группе, а ты вычисляешь две других доли и делишь их между собой. Давай обсудим этот момент\n",
    "\n",
    "    \n",
    "</div>"
   ]
  },
  {
   "cell_type": "markdown",
   "metadata": {},
   "source": [
    "<div class=\"alert alert-block alert-info\">  \n",
    "Какие столбцы - описал в выводе. В таком формате я вижу и сколько % от всех занимает данная группа и какой % от общих долгов у клиентов данной группы. Таким образом я могу фильтровать группы по важности, при необходимости. К примеру клиенты без детей 65.702576 ; 61.056864 ; 0.929292, то есть у 65.7% всех клиентов нет детей, у них 61.05% всех должников. Делю одно на другое, получаю, что на 1% клиентов в данной группе приходится 0.93% должников. Мне кажется, это адекватный показатель, достаточно удобный и даёт право делать выводы. Можно и как описала, результаты буду одинаковы. \n",
    "</div>"
   ]
  },
  {
   "cell_type": "markdown",
   "metadata": {},
   "source": [
    "<div class=\"alert alert-block alert-success\">\n",
    "    \n",
    "\n",
    "__Комментарий от ревьюера v2__\n",
    "\n",
    "Да, это действительно интересный подход. Очень важно прописывать такие комментарии с логикой вычисления, теперь вычисления стали наиболее прозрачными\n",
    "</div>"
   ]
  },
  {
   "cell_type": "markdown",
   "metadata": {},
   "source": [
    "- Есть ли зависимость между семейным положением и возвратом кредита в срок?"
   ]
  },
  {
   "cell_type": "code",
   "execution_count": 8,
   "metadata": {},
   "outputs": [
    {
     "name": "stdout",
     "output_type": "stream",
     "text": [
      "                       debt  family_status      koef\n",
      "family_status_id                                    \n",
      "4                 15.738082      13.087420  1.202535\n",
      "1                 22.286043      19.388943  1.149420\n",
      "0                 53.475014      57.491500  0.930138\n",
      "3                  4.882252       5.565647  0.877212\n",
      "2                  3.618610       4.466490  0.810169\n"
     ]
    },
    {
     "data": {
      "text/html": [
       "<div>\n",
       "<style scoped>\n",
       "    .dataframe tbody tr th:only-of-type {\n",
       "        vertical-align: middle;\n",
       "    }\n",
       "\n",
       "    .dataframe tbody tr th {\n",
       "        vertical-align: top;\n",
       "    }\n",
       "\n",
       "    .dataframe thead th {\n",
       "        text-align: right;\n",
       "    }\n",
       "</style>\n",
       "<table border=\"1\" class=\"dataframe\">\n",
       "  <thead>\n",
       "    <tr style=\"text-align: right;\">\n",
       "      <th></th>\n",
       "      <th></th>\n",
       "    </tr>\n",
       "    <tr>\n",
       "      <th>family_status_id</th>\n",
       "      <th>family_status</th>\n",
       "    </tr>\n",
       "  </thead>\n",
       "  <tbody>\n",
       "    <tr>\n",
       "      <td>0</td>\n",
       "      <td>женат / замужем</td>\n",
       "    </tr>\n",
       "    <tr>\n",
       "      <td>1</td>\n",
       "      <td>гражданский брак</td>\n",
       "    </tr>\n",
       "    <tr>\n",
       "      <td>2</td>\n",
       "      <td>вдовец / вдова</td>\n",
       "    </tr>\n",
       "    <tr>\n",
       "      <td>3</td>\n",
       "      <td>в разводе</td>\n",
       "    </tr>\n",
       "    <tr>\n",
       "      <td>4</td>\n",
       "      <td>Не женат / не замужем</td>\n",
       "    </tr>\n",
       "  </tbody>\n",
       "</table>\n",
       "</div>"
      ],
      "text/plain": [
       "Empty DataFrame\n",
       "Columns: []\n",
       "Index: [(0, женат / замужем), (1, гражданский брак), (2, вдовец / вдова), (3, в разводе), (4, Не женат / не замужем)]"
      ]
     },
     "execution_count": 8,
     "metadata": {},
     "output_type": "execute_result"
    }
   ],
   "source": [
    "table = pd.pivot_table(df, index=['family_status_id'], values=['family_status','debt'],\n",
    "           aggfunc={'family_status':'count','debt': 'sum'})\n",
    "table['family_status'] = table['family_status']/len(df)*100\n",
    "table['debt'] = table['debt']/df['debt'].sum()*100\n",
    "table['koef'] = table['debt']/table['family_status']\n",
    "print(table.sort_values(\"koef\", ascending=False))\n",
    "\n",
    "df[['family_status','family_status_id']].groupby(['family_status_id','family_status']).count()"
   ]
  },
  {
   "cell_type": "markdown",
   "metadata": {},
   "source": [
    "**Вывод**"
   ]
  },
  {
   "cell_type": "markdown",
   "metadata": {},
   "source": [
    "Да. Не женат/не замужем чаще не возвращают, те кто уже был в браке чаще возвращают"
   ]
  },
  {
   "cell_type": "markdown",
   "metadata": {},
   "source": [
    "- Есть ли зависимость между уровнем дохода и возвратом кредита в срок?"
   ]
  },
  {
   "cell_type": "code",
   "execution_count": 9,
   "metadata": {},
   "outputs": [
    {
     "name": "stdout",
     "output_type": "stream",
     "text": [
      "                                            debt  total_income      koef\n",
      "total_income_group                                                      \n",
      "очень очень выше среднего               0.344630      0.596153  1.729837\n",
      "очень очень очень выше среднего         0.114877      0.144381  1.256835\n",
      "очень выше среднего                     2.871913      3.362675  1.170884\n",
      "выше среднего                          27.627800     29.211495  1.057322\n",
      "миллионеры                              0.114877      0.116436  1.013576\n",
      "ниже среднего                          29.465824     29.532858  1.002275\n",
      "средний                                39.402642     36.998742  0.938991\n",
      "очень очень очень очень выше среднего   0.057438      0.037260  0.648689\n",
      "                          debt  total_income      koef\n",
      "total_income_group                                    \n",
      "очень выше среднего   2.871913      3.362675  1.170884\n",
      "выше среднего        27.627800     29.211495  1.057322\n",
      "ниже среднего        29.465824     29.532858  1.002275\n",
      "средний              39.402642     36.998742  0.938991\n"
     ]
    },
    {
     "data": {
      "text/plain": [
       "средний                                  7944\n",
       "ниже среднего                            6341\n",
       "выше среднего                            6272\n",
       "очень выше среднего                       722\n",
       "очень очень выше среднего                 128\n",
       "очень очень очень выше среднего            31\n",
       "миллионеры                                 25\n",
       "очень очень очень очень выше среднего       8\n",
       "Name: total_income_group, dtype: int64"
      ]
     },
     "execution_count": 9,
     "metadata": {},
     "output_type": "execute_result"
    }
   ],
   "source": [
    "table = pd.pivot_table(df, index=['total_income_group'], values=['total_income','debt'],\n",
    "           aggfunc={'total_income':'count','debt': 'sum'})\n",
    "table['total_income'] = table['total_income']/len(df)*100\n",
    "table['debt'] = table['debt']/df['debt'].sum()*100\n",
    "table['koef'] = table['total_income']/table['debt']\n",
    "print(table.sort_values(\"koef\", ascending=False))\n",
    "#уберу записи <1% ,отнесу к статистической погрешности\n",
    "print(table[table['debt']>1].sort_values(\"koef\", ascending=False))\n",
    "\n",
    "df['total_income_group'].value_counts()"
   ]
  },
  {
   "cell_type": "markdown",
   "metadata": {},
   "source": [
    "**Вывод**"
   ]
  },
  {
   "cell_type": "markdown",
   "metadata": {},
   "source": [
    "Более менее достоверная выборка для дохода менее чем медианный доход * 1.2 * 3. Можно сделать вывод, что при больших заработках чаще не возвращают. Средний заработок возвращает чаще, но это может быть связано, что заполняли пропуски медианным доходом."
   ]
  },
  {
   "cell_type": "markdown",
   "metadata": {},
   "source": [
    "<div class=\"alert alert-block alert-warning\">\n",
    "    \n",
    "\n",
    "__Комментарий от ревьюера__\n",
    "\n",
    "Интересные группы у тебя получились )) Тебе не кажется, что в целом их можно объединить в одну?  \n",
    "    \n",
    "    \n",
    "`очень очень очень очень очень выше среднего   \n",
    "очень очень очень выше среднего   \n",
    "очень очень выше среднего   \n",
    "очень выше среднего   `\n",
    "\n",
    "    \n",
    "</div>"
   ]
  },
  {
   "cell_type": "markdown",
   "metadata": {},
   "source": [
    "<div class=\"alert alert-block alert-info\">  \n",
    "Не кажется. Доход может расти очень много и очень резко. Получается объединёная группа группа \"выше среднего\" может содержать как и 2 раза выше среднего так и в 10 раз выше среднего. Логично предположить, что у людей с явно разным доходом поведение может отличаться. Поэтому надо нарезать доход на группы. Использовать какое то абсолютное значение, типа шаг 10 000 - не хочется, поэтому использую нарезку на интервалы относительно медианного дохода. Ключевое, я изначально не знаю сколько в какую группу попадёт. Будет ли достаточная выборка у данного интервала. После вычисления, я могу определить группы с недостаточным количеством участников и могу такие группы выкинуть, но объединить, в общем случае, нет, так как группы могут разительно отличаться по смыслу, наполености и прочему. В данном конкретном случае, может и возможно руками объединить, но смысла я в этом не вижу, так как это менее 1% данные, притом вообще из разных уровней дохода и только смазывает всё.\n",
    "</div>"
   ]
  },
  {
   "cell_type": "markdown",
   "metadata": {},
   "source": [
    "<div class=\"alert alert-block alert-success\">\n",
    "    \n",
    "\n",
    "__Комментарий от ревьюера v2__\n",
    "\n",
    "Ок, поняла тебя. Но названия все же тяжелы для восприятия. Возможно, тут подошло бы что-то типа \"доход в 3 раза выше среднего\".\n",
    "</div>"
   ]
  },
  {
   "cell_type": "markdown",
   "metadata": {},
   "source": [
    "- Как разные цели кредита влияют на его возврат в срок?"
   ]
  },
  {
   "cell_type": "code",
   "execution_count": 10,
   "metadata": {},
   "outputs": [
    {
     "data": {
      "text/html": [
       "<div>\n",
       "<style scoped>\n",
       "    .dataframe tbody tr th:only-of-type {\n",
       "        vertical-align: middle;\n",
       "    }\n",
       "\n",
       "    .dataframe tbody tr th {\n",
       "        vertical-align: top;\n",
       "    }\n",
       "\n",
       "    .dataframe thead th {\n",
       "        text-align: right;\n",
       "    }\n",
       "</style>\n",
       "<table border=\"1\" class=\"dataframe\">\n",
       "  <thead>\n",
       "    <tr style=\"text-align: right;\">\n",
       "      <th></th>\n",
       "      <th>debt</th>\n",
       "      <th>purpose</th>\n",
       "      <th>koef</th>\n",
       "    </tr>\n",
       "    <tr>\n",
       "      <th>purpose_list_group</th>\n",
       "      <th></th>\n",
       "      <th></th>\n",
       "      <th></th>\n",
       "    </tr>\n",
       "  </thead>\n",
       "  <tbody>\n",
       "    <tr>\n",
       "      <td>ремонт жилья</td>\n",
       "      <td>2.010339</td>\n",
       "      <td>2.827069</td>\n",
       "      <td>1.406265</td>\n",
       "    </tr>\n",
       "    <tr>\n",
       "      <td>операции с недвижимостью</td>\n",
       "      <td>34.635267</td>\n",
       "      <td>38.787201</td>\n",
       "      <td>1.119876</td>\n",
       "    </tr>\n",
       "    <tr>\n",
       "      <td>строительство</td>\n",
       "      <td>8.271109</td>\n",
       "      <td>8.751339</td>\n",
       "      <td>1.058061</td>\n",
       "    </tr>\n",
       "    <tr>\n",
       "      <td>свадьба</td>\n",
       "      <td>10.683515</td>\n",
       "      <td>10.875134</td>\n",
       "      <td>1.017936</td>\n",
       "    </tr>\n",
       "    <tr>\n",
       "      <td>образование</td>\n",
       "      <td>21.252154</td>\n",
       "      <td>18.694984</td>\n",
       "      <td>0.879675</td>\n",
       "    </tr>\n",
       "    <tr>\n",
       "      <td>автомобиль</td>\n",
       "      <td>23.147616</td>\n",
       "      <td>20.064273</td>\n",
       "      <td>0.866796</td>\n",
       "    </tr>\n",
       "  </tbody>\n",
       "</table>\n",
       "</div>"
      ],
      "text/plain": [
       "                               debt    purpose      koef\n",
       "purpose_list_group                                      \n",
       "ремонт жилья               2.010339   2.827069  1.406265\n",
       "операции с недвижимостью  34.635267  38.787201  1.119876\n",
       "строительство              8.271109   8.751339  1.058061\n",
       "свадьба                   10.683515  10.875134  1.017936\n",
       "образование               21.252154  18.694984  0.879675\n",
       "автомобиль                23.147616  20.064273  0.866796"
      ]
     },
     "execution_count": 10,
     "metadata": {},
     "output_type": "execute_result"
    }
   ],
   "source": [
    "table = pd.pivot_table(df, index=['purpose_list_group'], values=['purpose','debt'],\n",
    "           aggfunc={'purpose':'count','debt': 'sum'})\n",
    "table['purpose'] = table['purpose']/len(df)*100\n",
    "table['debt'] = table['debt']/df['debt'].sum()*100\n",
    "table['koef'] = table['purpose']/table['debt']\n",
    "table.sort_values(\"koef\", ascending=False)\n"
   ]
  },
  {
   "cell_type": "markdown",
   "metadata": {},
   "source": [
    "**Вывод**"
   ]
  },
  {
   "cell_type": "markdown",
   "metadata": {},
   "source": [
    "Те кто берут кредит на ремонт жилья гораздо чаще не возвращают. Те кто берут на автомобиль и образование, возвращают чаще."
   ]
  },
  {
   "cell_type": "markdown",
   "metadata": {},
   "source": [
    "<div class=\"alert alert-block alert-danger\">\n",
    "    \n",
    "\n",
    "__Комментарий от ревьюера__\n",
    "\n",
    "    \n",
    "А что указано в табличке? Вывод для этого и существует, чтобы описать результаты и выдвинуть свои гипотезы/размышления/предположения/рекомендации\n",
    "\n",
    "    \n",
    "</div>"
   ]
  },
  {
   "cell_type": "markdown",
   "metadata": {},
   "source": [
    "<div class=\"alert alert-block alert-danger\">\n",
    "    \n",
    "\n",
    "__Комментарий от ревьюера__\n",
    "\n",
    "Общий комментарий по этому пункту :   \n",
    "    \n",
    "    Здорово, что применил сводные таблицы, но сам порядок вычисления коэффициента остался не очень понятным. Поясни, его пожалуйста, чтобы я смогла понять, почему ты его решил вычислить таким образом. От этого будут и зависеть и ответы на вопросы\n",
    "    \n",
    "</div>"
   ]
  },
  {
   "cell_type": "markdown",
   "metadata": {},
   "source": [
    "<div class=\"alert alert-block alert-info\">  \n",
    "Подправил.\n",
    "</div>"
   ]
  },
  {
   "cell_type": "markdown",
   "metadata": {},
   "source": [
    "<div class=\"alert alert-block alert-success\">\n",
    "    \n",
    "\n",
    "__Комментарий от ревьюера v2__\n",
    "\n",
    "👌\n",
    "</div>"
   ]
  },
  {
   "cell_type": "markdown",
   "metadata": {},
   "source": [
    "## Шаг 4. Общий вывод"
   ]
  },
  {
   "cell_type": "markdown",
   "metadata": {},
   "source": [
    "Исходные данные были не совсем корректны.\n",
    "\n",
    "Количество лет стажа у безработных и пенсионеров превышало возраст клиентов. Исходя из этого адекватный анализ по стажу для данных групп не предоставляется возможным. Пустные значения стажа совпадает с пустым значением дохода, что говорит о возможной ошибке формирования таблицы, либо о неполных начальных данных. Очень много отрицательного стажа. \n",
    "\n",
    "Пустые данные были заполнены медиаными значениями в разрезе типа занятости и пола. \n",
    "\n",
    "Произведена категоризация по целям кредита. Были выбраны наиболее близкие и достаточно общие по смыслу категории.\n",
    "\n",
    "Во всех представленных случаях зависимость есть. В случаях с доходом - достаточно слабая до определённого уровня дохода, потом возрастает. Возможно обеспеченные люди хуже возвращают кредит, но на текущих данных проверить гипотезу невозможно. \n"
   ]
  },
  {
   "cell_type": "markdown",
   "metadata": {},
   "source": [
    "<div class=\"alert alert-block alert-danger\">\n",
    "    \n",
    "\n",
    "__Комментарий от ревьюера__\n",
    "\n",
    "Это твой первый серьезный проект, и я понимаю, что некоторые моменты вызывают вопросы. Но общий вывод по проекту это очень важная его часть. Ты проделал большую работу : выявил пропуски и дубликаты, предобработал данные, категоризировал их, удалил дубликаты и выявил различные закономерности в ходе ответов на вопросы. Опиши тезисно, что ты сделал в проекте. Возможно, стоит дать рекомендации коллегом по выгрузке данных, предположить откуда у нас появились пропуски. Ведь тема проекта : предобработка данных, а в выводе об этом не сказано ни слова.\n",
    "    \n",
    "</div>"
   ]
  },
  {
   "cell_type": "markdown",
   "metadata": {},
   "source": [
    "<div class=\"alert alert-block alert-info\">\n",
    "    Исправил\n",
    "</div>"
   ]
  },
  {
   "cell_type": "markdown",
   "metadata": {},
   "source": [
    "<div class=\"alert alert-block alert-success\">\n",
    "    \n",
    "\n",
    "__Комментарий от ревьюера v2__\n",
    "\n",
    "Здорово, общий вывод стал намного лучше :)\n",
    "</div>"
   ]
  },
  {
   "cell_type": "markdown",
   "metadata": {},
   "source": [
    "## Чек-лист готовности проекта\n",
    "\n",
    "Поставьте 'x' в выполненных пунктах. Далее нажмите Shift+Enter."
   ]
  },
  {
   "cell_type": "markdown",
   "metadata": {},
   "source": [
    "- [x]  открыт файл;\n",
    "- [x]  файл изучен;\n",
    "- [x]  определены пропущенные значения;\n",
    "- [x]  заполнены пропущенные значения;\n",
    "- [x]  есть пояснение, какие пропущенные значения обнаружены;\n",
    "- [x]  описаны возможные причины появления пропусков в данных;\n",
    "- [x]  объяснено, по какому принципу заполнены пропуски;\n",
    "- [x]  заменен вещественный тип данных на целочисленный;\n",
    "- [x]  есть пояснение, какой метод используется для изменения типа данных и почему;\n",
    "- [x]  удалены дубликаты;\n",
    "- [x]  есть пояснение, какой метод используется для поиска и удаления дубликатов;\n",
    "- [x]  описаны возможные причины появления дубликатов в данных;\n",
    "- [x]  выделены леммы в значениях столбца с целями получения кредита;\n",
    "- [x]  описан процесс лемматизации;\n",
    "- [x]  данные категоризированы;\n",
    "- [x]  есть объяснение принципа категоризации данных;\n",
    "- [x]  есть ответ на вопрос: \"Есть ли зависимость между наличием детей и возвратом кредита в срок?\";\n",
    "- [x]  есть ответ на вопрос: \"Есть ли зависимость между семейным положением и возвратом кредита в срок?\";\n",
    "- [x]  есть ответ на вопрос: \"Есть ли зависимость между уровнем дохода и возвратом кредита в срок?\";\n",
    "- [x]  есть ответ на вопрос: \"Как разные цели кредита влияют на его возврат в срок?\";\n",
    "- [x]  в каждом этапе есть выводы;\n",
    "- [x]  есть общий вывод."
   ]
  },
  {
   "cell_type": "markdown",
   "metadata": {},
   "source": [
    "<div style=\"border:solid green 2px; padding: 20px\">\n",
    "<font color=green><b>Общий комментарий ревьюера<b></font>\n",
    "\n",
    "Алексей, ты проделал огромную работу, молодец. В целом ты неплохо справился. Ты умеешь предобрабатывать данных, лемматизировать их, строить сводные таблицы. Но проект нуждается в доработке:  \n",
    "    \n",
    " ~~1) В начале проекта стоит добавить описание данных и вывести первые 5-10 строк датасета; ~~  \n",
    " ~~2) По ходу работу, твои шаги стоит комментировать и пояснять свои решения; ~~  \n",
    " ~~3) При заполнение пропусков, нужно учесть их тип занятости (возможно, у тебя появятся еще какие-то идеи), а не просто заполнять их медианной; ~~  \n",
    " ~~4) Стоит назвать возможные причины возникновения дубликатов; ~~  \n",
    " ~~5) При лемматизации целей кредита, нужно применить ее для выявления новый категорий с помощью функции. Если здесь у тебя возникнут трудности, постараемся разобраться с ними вместе. Цель  - научиться применять лемматизацию непосредственно для выделения категорий; ~~    \n",
    " ~~6) При ответах на вопросы - поясни, пожалуйста, что за коэффициенты ты вычислял и почему именно так; ~~    \n",
    " ~~7) Из таблиц не всегда очевидно понятен вывод, вывод для того и существует, чтобы описать полученные результаты; ~~    \n",
    " ~~8) Общий вывод проекта - это почти центральная его часть, многие заказчики первым делом посмотрят на него.И лишь потом примут решения изучать ли подробно твой проект или достаточно все описано в выводе.  Поэтому стоит его дополнить. ~~     \n",
    "    \n",
    "    \n",
    " Жду твой доработанный проект :)\n",
    "    \n",
    "    \n",
    "<font color=green><b>Общий комментарий ревьюера v2<b></font>  \n",
    "    \n",
    "Проект очень качественно доработан, по всем пунктам сделаны значимые дополнения, поздравляю! Проект принят :)  \n",
    "Желаю тебе успехов! 🥳\n"
   ]
  }
 ],
 "metadata": {
  "kernelspec": {
   "display_name": "Python 3",
   "language": "python",
   "name": "python3"
  },
  "language_info": {
   "codemirror_mode": {
    "name": "ipython",
    "version": 3
   },
   "file_extension": ".py",
   "mimetype": "text/x-python",
   "name": "python",
   "nbconvert_exporter": "python",
   "pygments_lexer": "ipython3",
   "version": "3.7.8"
  },
  "toc": {
   "base_numbering": 1,
   "nav_menu": {},
   "number_sections": true,
   "sideBar": true,
   "skip_h1_title": true,
   "title_cell": "Table of Contents",
   "title_sidebar": "Contents",
   "toc_cell": false,
   "toc_position": {},
   "toc_section_display": true,
   "toc_window_display": false
  }
 },
 "nbformat": 4,
 "nbformat_minor": 2
}
