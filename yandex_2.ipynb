{
 "cells": [
  {
   "cell_type": "markdown",
   "metadata": {},
   "source": [
    "<div class=\"alert alert-info\">\n",
    "<h2> Комментарий от ревьюера<a class=\"tocSkip\"></a></h2>\n",
    "Привет. Меня зовут Алина Гусева, я буду делать ревью к твоей работе по исследовательскому анализу данных. В дальнейшем предлагаю общаться на \"ты\".\n",
    "    \n",
    "Видно, что ты старался, делая проект. Все ключевые этапы проекта выполнены, в целом тебе удалось со всем справиться. Особенно хочется отметить, что соблюдена структура проекта, а код написан аккуратно.\n",
    "    \n",
    "Для того, чтобы и тебе и мне удобнее было ориентироваться в комментариях, я буду помечать их разными цветами:\n",
    "- красный цвет означает комментарии, которые требуют доработки. Как только ты их исправишь - проект будет принят;\n",
    "- желтый цвет - то, что в следующий раз можно будет сделать по-другому. На твое усмотрение можешь доделать маленькие правки сейчас или учесть замечание для выполнения следующих проектов;\n",
    "- зеленый цвет - очень элегантные и удачные решение, которые желательно использовать в дальнейшей работе.\n",
    "- синий цвет - информация\n",
    "    \n",
    "Предлагаю работать над проектом в диалоге: если ты что-то изменяешь или вносишь какие-то коррективы - выделяй это каким-нибудь цветом и пиши об этом мне. Так мне гораздо легче будет отследить сделанные изменения.\n",
    "    \n",
    "Также попрошу тебя не изменять и не удалять мои комментарии, чтобы проверка твоего самостоятельного проекта прошла оперативнее.\n",
    "    \n",
    " \n",
    "</div>"
   ]
  },
  {
   "cell_type": "markdown",
   "metadata": {
    "toc": true
   },
   "source": [
    "<h1>Содержание<span class=\"tocSkip\"></span></h1>\n",
    "<div class=\"toc\"><ul class=\"toc-item\"><li><span><a href=\"#Изучение-данных-из-файла\" data-toc-modified-id=\"Изучение-данных-из-файла-1\"><span class=\"toc-item-num\">1&nbsp;&nbsp;</span>Изучение данных из файла</a></span><ul class=\"toc-item\"><li><span><a href=\"#Вывод\" data-toc-modified-id=\"Вывод-1.1\"><span class=\"toc-item-num\">1.1&nbsp;&nbsp;</span>Вывод</a></span></li></ul></li><li><span><a href=\"#Предобработка-данных\" data-toc-modified-id=\"Предобработка-данных-2\"><span class=\"toc-item-num\">2&nbsp;&nbsp;</span>Предобработка данных</a></span><ul class=\"toc-item\"><li><span><a href=\"#Вывод\" data-toc-modified-id=\"Вывод-2.1\"><span class=\"toc-item-num\">2.1&nbsp;&nbsp;</span>Вывод</a></span></li></ul></li><li><span><a href=\"#Расчёты-и-добавление-результатов-в-таблицу\" data-toc-modified-id=\"Расчёты-и-добавление-результатов-в-таблицу-3\"><span class=\"toc-item-num\">3&nbsp;&nbsp;</span>Расчёты и добавление результатов в таблицу</a></span></li><li><span><a href=\"#Исследовательский-анализ-данных\" data-toc-modified-id=\"Исследовательский-анализ-данных-4\"><span class=\"toc-item-num\">4&nbsp;&nbsp;</span>Исследовательский анализ данных</a></span><ul class=\"toc-item\"><li><span><a href=\"#Иследования-площади,-цены-и-прочего\" data-toc-modified-id=\"Иследования-площади,-цены-и-прочего-4.1\"><span class=\"toc-item-num\">4.1&nbsp;&nbsp;</span>Иследования площади, цены и прочего</a></span></li><li><span><a href=\"#Иследования-длительности-продажи\" data-toc-modified-id=\"Иследования-длительности-продажи-4.2\"><span class=\"toc-item-num\">4.2&nbsp;&nbsp;</span>Иследования длительности продажи</a></span></li><li><span><a href=\"#Удаление-выбивающихся-значений\" data-toc-modified-id=\"Удаление-выбивающихся-значений-4.3\"><span class=\"toc-item-num\">4.3&nbsp;&nbsp;</span>Удаление выбивающихся значений</a></span></li><li><span><a href=\"#Влияния-на-цену\" data-toc-modified-id=\"Влияния-на-цену-4.4\"><span class=\"toc-item-num\">4.4&nbsp;&nbsp;</span>Влияния на цену</a></span></li><li><span><a href=\"#Средняя-цена\" data-toc-modified-id=\"Средняя-цена-4.5\"><span class=\"toc-item-num\">4.5&nbsp;&nbsp;</span>Средняя цена</a></span></li><li><span><a href=\"#Зона-центра\" data-toc-modified-id=\"Зона-центра-4.6\"><span class=\"toc-item-num\">4.6&nbsp;&nbsp;</span>Зона центра</a></span></li><li><span><a href=\"#Стоимости-в-центре\" data-toc-modified-id=\"Стоимости-в-центре-4.7\"><span class=\"toc-item-num\">4.7&nbsp;&nbsp;</span>Стоимости в центре</a></span></li></ul></li><li><span><a href=\"#Общий-вывод\" data-toc-modified-id=\"Общий-вывод-5\"><span class=\"toc-item-num\">5&nbsp;&nbsp;</span>Общий вывод</a></span></li><li><span><a href=\"#Чек-лист-готовности-проекта\" data-toc-modified-id=\"Чек-лист-готовности-проекта-6\"><span class=\"toc-item-num\">6&nbsp;&nbsp;</span>Чек-лист готовности проекта</a></span></li></ul></div>"
   ]
  },
  {
   "cell_type": "markdown",
   "metadata": {},
   "source": [
    "# Исследование объявлений о продаже квартир\n",
    "\n",
    "В вашем распоряжении данные сервиса Яндекс.Недвижимость — архив объявлений о продаже квартир в Санкт-Петербурге и соседних населённых пунктах за несколько лет. Нужно научиться определять рыночную стоимость объектов недвижимости. Ваша задача — установить параметры. Это позволит построить автоматизированную систему: она отследит аномалии и мошенническую деятельность. \n",
    "\n",
    "По каждой квартире на продажу доступны два вида данных. Первые вписаны пользователем, вторые получены автоматически на основе картографических данных. Например, расстояние до центра, аэропорта, ближайшего парка и водоёма. "
   ]
  },
  {
   "cell_type": "markdown",
   "metadata": {},
   "source": [
    "## Изучение данных из файла"
   ]
  },
  {
   "cell_type": "code",
   "execution_count": 1,
   "metadata": {},
   "outputs": [
    {
     "name": "stdout",
     "output_type": "stream",
     "text": [
      "<class 'pandas.core.frame.DataFrame'>\n",
      "RangeIndex: 23699 entries, 0 to 23698\n",
      "Data columns (total 22 columns):\n",
      "total_images            23699 non-null int64\n",
      "last_price              23699 non-null float64\n",
      "total_area              23699 non-null float64\n",
      "first_day_exposition    23699 non-null object\n",
      "rooms                   23699 non-null int64\n",
      "ceiling_height          14504 non-null float64\n",
      "floors_total            23613 non-null float64\n",
      "living_area             21796 non-null float64\n",
      "floor                   23699 non-null int64\n",
      "is_apartment            2775 non-null object\n",
      "studio                  23699 non-null bool\n",
      "open_plan               23699 non-null bool\n",
      "kitchen_area            21421 non-null float64\n",
      "balcony                 12180 non-null float64\n",
      "locality_name           23650 non-null object\n",
      "airports_nearest        18157 non-null float64\n",
      "cityCenters_nearest     18180 non-null float64\n",
      "parks_around3000        18181 non-null float64\n",
      "parks_nearest           8079 non-null float64\n",
      "ponds_around3000        18181 non-null float64\n",
      "ponds_nearest           9110 non-null float64\n",
      "days_exposition         20518 non-null float64\n",
      "dtypes: bool(2), float64(14), int64(3), object(3)\n",
      "memory usage: 3.7+ MB\n",
      "total_images                0\n",
      "last_price                  0\n",
      "total_area                  0\n",
      "first_day_exposition        0\n",
      "rooms                       0\n",
      "ceiling_height           9195\n",
      "floors_total               86\n",
      "living_area              1903\n",
      "floor                       0\n",
      "is_apartment            20924\n",
      "studio                      0\n",
      "open_plan                   0\n",
      "kitchen_area             2278\n",
      "balcony                 11519\n",
      "locality_name              49\n",
      "airports_nearest         5542\n",
      "cityCenters_nearest      5519\n",
      "parks_around3000         5518\n",
      "parks_nearest           15620\n",
      "ponds_around3000         5518\n",
      "ponds_nearest           14589\n",
      "days_exposition          3181\n",
      "dtype: int64\n"
     ]
    },
    {
     "data": {
      "text/html": [
       "<div>\n",
       "<style scoped>\n",
       "    .dataframe tbody tr th:only-of-type {\n",
       "        vertical-align: middle;\n",
       "    }\n",
       "\n",
       "    .dataframe tbody tr th {\n",
       "        vertical-align: top;\n",
       "    }\n",
       "\n",
       "    .dataframe thead th {\n",
       "        text-align: right;\n",
       "    }\n",
       "</style>\n",
       "<table border=\"1\" class=\"dataframe\">\n",
       "  <thead>\n",
       "    <tr style=\"text-align: right;\">\n",
       "      <th></th>\n",
       "      <th>total_images</th>\n",
       "      <th>last_price</th>\n",
       "      <th>total_area</th>\n",
       "      <th>first_day_exposition</th>\n",
       "      <th>rooms</th>\n",
       "      <th>ceiling_height</th>\n",
       "      <th>floors_total</th>\n",
       "      <th>living_area</th>\n",
       "      <th>floor</th>\n",
       "      <th>is_apartment</th>\n",
       "      <th>...</th>\n",
       "      <th>kitchen_area</th>\n",
       "      <th>balcony</th>\n",
       "      <th>locality_name</th>\n",
       "      <th>airports_nearest</th>\n",
       "      <th>cityCenters_nearest</th>\n",
       "      <th>parks_around3000</th>\n",
       "      <th>parks_nearest</th>\n",
       "      <th>ponds_around3000</th>\n",
       "      <th>ponds_nearest</th>\n",
       "      <th>days_exposition</th>\n",
       "    </tr>\n",
       "  </thead>\n",
       "  <tbody>\n",
       "    <tr>\n",
       "      <td>0</td>\n",
       "      <td>20</td>\n",
       "      <td>13000000.0</td>\n",
       "      <td>108.0</td>\n",
       "      <td>2019-03-07T00:00:00</td>\n",
       "      <td>3</td>\n",
       "      <td>2.70</td>\n",
       "      <td>16.0</td>\n",
       "      <td>51.0</td>\n",
       "      <td>8</td>\n",
       "      <td>NaN</td>\n",
       "      <td>...</td>\n",
       "      <td>25.0</td>\n",
       "      <td>NaN</td>\n",
       "      <td>Санкт-Петербург</td>\n",
       "      <td>18863.0</td>\n",
       "      <td>16028.0</td>\n",
       "      <td>1.0</td>\n",
       "      <td>482.0</td>\n",
       "      <td>2.0</td>\n",
       "      <td>755.0</td>\n",
       "      <td>NaN</td>\n",
       "    </tr>\n",
       "    <tr>\n",
       "      <td>1</td>\n",
       "      <td>7</td>\n",
       "      <td>3350000.0</td>\n",
       "      <td>40.4</td>\n",
       "      <td>2018-12-04T00:00:00</td>\n",
       "      <td>1</td>\n",
       "      <td>NaN</td>\n",
       "      <td>11.0</td>\n",
       "      <td>18.6</td>\n",
       "      <td>1</td>\n",
       "      <td>NaN</td>\n",
       "      <td>...</td>\n",
       "      <td>11.0</td>\n",
       "      <td>2.0</td>\n",
       "      <td>посёлок Шушары</td>\n",
       "      <td>12817.0</td>\n",
       "      <td>18603.0</td>\n",
       "      <td>0.0</td>\n",
       "      <td>NaN</td>\n",
       "      <td>0.0</td>\n",
       "      <td>NaN</td>\n",
       "      <td>81.0</td>\n",
       "    </tr>\n",
       "    <tr>\n",
       "      <td>2</td>\n",
       "      <td>10</td>\n",
       "      <td>5196000.0</td>\n",
       "      <td>56.0</td>\n",
       "      <td>2015-08-20T00:00:00</td>\n",
       "      <td>2</td>\n",
       "      <td>NaN</td>\n",
       "      <td>5.0</td>\n",
       "      <td>34.3</td>\n",
       "      <td>4</td>\n",
       "      <td>NaN</td>\n",
       "      <td>...</td>\n",
       "      <td>8.3</td>\n",
       "      <td>0.0</td>\n",
       "      <td>Санкт-Петербург</td>\n",
       "      <td>21741.0</td>\n",
       "      <td>13933.0</td>\n",
       "      <td>1.0</td>\n",
       "      <td>90.0</td>\n",
       "      <td>2.0</td>\n",
       "      <td>574.0</td>\n",
       "      <td>558.0</td>\n",
       "    </tr>\n",
       "    <tr>\n",
       "      <td>3</td>\n",
       "      <td>0</td>\n",
       "      <td>64900000.0</td>\n",
       "      <td>159.0</td>\n",
       "      <td>2015-07-24T00:00:00</td>\n",
       "      <td>3</td>\n",
       "      <td>NaN</td>\n",
       "      <td>14.0</td>\n",
       "      <td>NaN</td>\n",
       "      <td>9</td>\n",
       "      <td>NaN</td>\n",
       "      <td>...</td>\n",
       "      <td>NaN</td>\n",
       "      <td>0.0</td>\n",
       "      <td>Санкт-Петербург</td>\n",
       "      <td>28098.0</td>\n",
       "      <td>6800.0</td>\n",
       "      <td>2.0</td>\n",
       "      <td>84.0</td>\n",
       "      <td>3.0</td>\n",
       "      <td>234.0</td>\n",
       "      <td>424.0</td>\n",
       "    </tr>\n",
       "    <tr>\n",
       "      <td>4</td>\n",
       "      <td>2</td>\n",
       "      <td>10000000.0</td>\n",
       "      <td>100.0</td>\n",
       "      <td>2018-06-19T00:00:00</td>\n",
       "      <td>2</td>\n",
       "      <td>3.03</td>\n",
       "      <td>14.0</td>\n",
       "      <td>32.0</td>\n",
       "      <td>13</td>\n",
       "      <td>NaN</td>\n",
       "      <td>...</td>\n",
       "      <td>41.0</td>\n",
       "      <td>NaN</td>\n",
       "      <td>Санкт-Петербург</td>\n",
       "      <td>31856.0</td>\n",
       "      <td>8098.0</td>\n",
       "      <td>2.0</td>\n",
       "      <td>112.0</td>\n",
       "      <td>1.0</td>\n",
       "      <td>48.0</td>\n",
       "      <td>121.0</td>\n",
       "    </tr>\n",
       "  </tbody>\n",
       "</table>\n",
       "<p>5 rows × 22 columns</p>\n",
       "</div>"
      ],
      "text/plain": [
       "   total_images  last_price  total_area first_day_exposition  rooms  \\\n",
       "0            20  13000000.0       108.0  2019-03-07T00:00:00      3   \n",
       "1             7   3350000.0        40.4  2018-12-04T00:00:00      1   \n",
       "2            10   5196000.0        56.0  2015-08-20T00:00:00      2   \n",
       "3             0  64900000.0       159.0  2015-07-24T00:00:00      3   \n",
       "4             2  10000000.0       100.0  2018-06-19T00:00:00      2   \n",
       "\n",
       "   ceiling_height  floors_total  living_area  floor is_apartment  ...  \\\n",
       "0            2.70          16.0         51.0      8          NaN  ...   \n",
       "1             NaN          11.0         18.6      1          NaN  ...   \n",
       "2             NaN           5.0         34.3      4          NaN  ...   \n",
       "3             NaN          14.0          NaN      9          NaN  ...   \n",
       "4            3.03          14.0         32.0     13          NaN  ...   \n",
       "\n",
       "   kitchen_area  balcony    locality_name  airports_nearest  \\\n",
       "0          25.0      NaN  Санкт-Петербург           18863.0   \n",
       "1          11.0      2.0   посёлок Шушары           12817.0   \n",
       "2           8.3      0.0  Санкт-Петербург           21741.0   \n",
       "3           NaN      0.0  Санкт-Петербург           28098.0   \n",
       "4          41.0      NaN  Санкт-Петербург           31856.0   \n",
       "\n",
       "  cityCenters_nearest  parks_around3000  parks_nearest  ponds_around3000  \\\n",
       "0             16028.0               1.0          482.0               2.0   \n",
       "1             18603.0               0.0            NaN               0.0   \n",
       "2             13933.0               1.0           90.0               2.0   \n",
       "3              6800.0               2.0           84.0               3.0   \n",
       "4              8098.0               2.0          112.0               1.0   \n",
       "\n",
       "   ponds_nearest  days_exposition  \n",
       "0          755.0              NaN  \n",
       "1            NaN             81.0  \n",
       "2          574.0            558.0  \n",
       "3          234.0            424.0  \n",
       "4           48.0            121.0  \n",
       "\n",
       "[5 rows x 22 columns]"
      ]
     },
     "execution_count": 1,
     "metadata": {},
     "output_type": "execute_result"
    }
   ],
   "source": [
    "\n",
    "import pandas as pd\n",
    "import matplotlib.pyplot as plt\n",
    "\n",
    "df = pd.read_csv('/datasets/real_estate_data.csv',sep = '\\t')\n",
    "df.info()  \n",
    "print(df.isna().sum())\n",
    "df.head()  \n"
   ]
  },
  {
   "cell_type": "markdown",
   "metadata": {},
   "source": [
    "### Вывод"
   ]
  },
  {
   "cell_type": "markdown",
   "metadata": {},
   "source": [
    "Замена типов\n",
    "\n",
    "is_apartment - поменять на bool \n",
    "\n",
    "balcony - поменять на int.\n",
    "\n",
    "floors_total - поменять на int.\n",
    "\n",
    "airports_nearest - поменять на int.\n",
    "\n",
    "cityCenters_nearest - поменять на int.\n",
    "\n",
    "parks_around3000 - поменять на int.\n",
    "\n",
    "parks_nearest - поменять на int.\n",
    "\n",
    "ponds_around3000 - поменять на int.\n",
    "\n",
    "ponds_nearest - поменять на int.\n",
    "\n",
    "days_exposition - поменять на int.\n",
    "\n",
    "Поменять так как int вполне отображает смысл данных значений, а места занимает меньше.\n",
    "\n",
    "Обработка адекватности\n",
    "\n",
    "Во всех числовых колонках, кроме высоты потолков, значения сами по себе адекватные. То есть нет космических значений, нет этажей, которые превышаюи общую этажность, нет квартир где площадь кухни превышает общую площадь. Максимальное расстояние до цетра - 60 км, до водоёмов - 80 км. Что реально. С высотой потолка дело хуже.\n",
    "\n",
    "Есть деревени, где предложений немного, что в разрезе города сильно убивает статистику. Те поселения, где объявлений меньше 30 объёдиню в Другое в новом поле 'group_locality_name'. 30 - потому что это в статистке считается более-менее хорошей выборкой.\n",
    "\n",
    "Также в названии некоторых поселений помимо названий указано тип поселения, деревня, село и прочее. Из за этого возникают дубли, нужно везде убрать этот тип и выделить чисто название.\n",
    "\n",
    "Обработка не заполненных\n",
    "\n",
    "is_apartment - False  \n",
    "\n",
    "floors_total - 0, потому что это будет флагом, что не надо учитывать в статистике, количество таких записей небольшое. \n",
    "balcony - 0 \n",
    "\n",
    "cityCenters_nearest - 0\n",
    "\n",
    "parks_around3000 - 0\n",
    "\n",
    "parks_nearest - 0\n",
    "\n",
    "ponds_around3000 - 0\n",
    "\n",
    "ponds_nearest - 0\n",
    "\n",
    "days_exposition - 0, видимо ещё сдаётся. \n",
    "\n",
    "airports_nearest - 0\n",
    "\n",
    "ceiling_height - заполнить медианным значениям по group_locality_name, количеству этажей, так как обычно идёт застройка типовым жильём, то количество этажей более менее указывает на характеристики. К примеру, 2 этажа - скорее всего это сталинка, где потолки 3-3.5 м; если 5, то хрущёвка, где 2.5 м; если 9-12, то серия 1605, где 2.6; если 14, то 80я серия, где 2.7 и т.д. Для этого сгруппирую по количеству этажей.\n",
    "\n",
    "locality_name - удаляю такие записи\n",
    "living_area - медианой в резрезе group_locality_name и количеству комнат\n",
    "kitchen_area - медианой в резрезе group_locality_name и количеству комнат\n",
    "\n",
    "Не заполнено, скорее всего, потому что не указали эти данные. Возможно, данные собирались парсингом с разных источников и там этих данных просто не было, или были, но указаны в свободной форме и парсер не распознал. Возможно раньше даже такого функционала не было, а потом появилось, а в старых объявлениях значения не заполнены.\n",
    "\n"
   ]
  },
  {
   "cell_type": "markdown",
   "metadata": {},
   "source": [
    "<div class=\"alert alert-success\">\n",
    "<h2> Комментарий от ревьюера<a class=\"tocSkip\"></a></h2>\n",
    "Молодец, хороший тон использовать метод info() для получения общей информации из таблицы. Для более детального исследования можно воспользоваться методом describe().\n",
    "    \n",
    " \n",
    "</div>"
   ]
  },
  {
   "cell_type": "markdown",
   "metadata": {},
   "source": [
    "## Предобработка данных"
   ]
  },
  {
   "cell_type": "code",
   "execution_count": 2,
   "metadata": {},
   "outputs": [
    {
     "name": "stdout",
     "output_type": "stream",
     "text": [
      "total_images            0\n",
      "last_price              0\n",
      "total_area              0\n",
      "first_day_exposition    0\n",
      "rooms                   0\n",
      "ceiling_height          0\n",
      "floors_total            0\n",
      "living_area             0\n",
      "floor                   0\n",
      "is_apartment            0\n",
      "studio                  0\n",
      "open_plan               0\n",
      "kitchen_area            0\n",
      "balcony                 0\n",
      "locality_name           0\n",
      "airports_nearest        0\n",
      "cityCenters_nearest     0\n",
      "parks_around3000        0\n",
      "parks_nearest           0\n",
      "ponds_around3000        0\n",
      "ponds_nearest           0\n",
      "days_exposition         0\n",
      "_locality_name          0\n",
      "group_locality_name     0\n",
      "floors_total_group      0\n",
      "dtype: int64\n",
      "<class 'pandas.core.frame.DataFrame'>\n",
      "RangeIndex: 23650 entries, 0 to 23649\n",
      "Data columns (total 25 columns):\n",
      "total_images            23650 non-null int64\n",
      "last_price              23650 non-null float64\n",
      "total_area              23650 non-null float64\n",
      "first_day_exposition    23650 non-null object\n",
      "rooms                   23650 non-null int64\n",
      "ceiling_height          23650 non-null float64\n",
      "floors_total            23650 non-null int64\n",
      "living_area             23650 non-null float64\n",
      "floor                   23650 non-null int64\n",
      "is_apartment            23650 non-null bool\n",
      "studio                  23650 non-null bool\n",
      "open_plan               23650 non-null bool\n",
      "kitchen_area            23650 non-null float64\n",
      "balcony                 23650 non-null int64\n",
      "locality_name           23650 non-null object\n",
      "airports_nearest        23650 non-null int64\n",
      "cityCenters_nearest     23650 non-null int64\n",
      "parks_around3000        23650 non-null int64\n",
      "parks_nearest           23650 non-null int64\n",
      "ponds_around3000        23650 non-null int64\n",
      "ponds_nearest           23650 non-null int64\n",
      "days_exposition         23650 non-null int64\n",
      "_locality_name          23650 non-null object\n",
      "group_locality_name     23650 non-null object\n",
      "floors_total_group      23650 non-null int64\n",
      "dtypes: bool(3), float64(5), int64(13), object(4)\n",
      "memory usage: 4.0+ MB\n"
     ]
    }
   ],
   "source": [
    "# Удаляю пустые населённые пункты\n",
    "df.dropna(subset=['locality_name'], inplace=True)\n",
    "df.reset_index(drop=True, inplace=True)\n",
    "\n",
    " \n",
    "# Убираю тип населённого пункта, для удаления дубликатов\n",
    "def trim_local(x):\n",
    "    # встречаю первую большую букву - это название поселения, остальное удаляю\n",
    "    for i in range(len(x)):\n",
    "        if 1040<=ord(x[i])<=1071:\n",
    "            return(x[i:])\n",
    "    return x\n",
    "\n",
    "df['_locality_name'] = df.apply(lambda x: trim_local(x['locality_name']),axis=1) \n",
    "\n",
    "# Заполняю Nan, которые логично обнулить \n",
    "df['is_apartment'].map({'True': True, 'False': False})\n",
    "(df.fillna({'is_apartment':False,'floors_total':0\n",
    "            ,'balcony':0,'floors_total':0,'cityCenters_nearest':0\n",
    "            ,'parks_nearest':0,'ponds_around3000':0,'ponds_nearest':0\n",
    "            ,'parks_around3000':0,'airports_nearest':0\n",
    "            ,'days_exposition':0}, inplace = True)\n",
    ")\n",
    "\n",
    "\n",
    "# Категория по населнным пунктам в разрезе количества объявлений\n",
    "q = df.groupby(by= '_locality_name')['first_day_exposition'].count()\n",
    "df['group_locality_name'] = df['_locality_name'].where(~df['_locality_name'].isin(q.loc[q<30].index),'Другие')\n",
    "\n",
    "#Категория по этажности\n",
    "def group_h(x):\n",
    "    if x==0:\n",
    "        return 0\n",
    "    elif x<=3:\n",
    "        return 1\n",
    "    elif x<=6:\n",
    "        return 2\n",
    "    elif x<=12:\n",
    "        return 3\n",
    "    elif x<=18:\n",
    "        return 4\n",
    "    else:\n",
    "        return 5\n",
    "    \n",
    "# удаляю полные дубликаты   \n",
    "df.drop_duplicates(inplace=True)\n",
    "df.reset_index(drop=True, inplace=True)\n",
    "\n",
    "df['floors_total_group'] = df.apply(lambda x: group_h(x['floors_total']),axis=1) \n",
    "# Заполняю медианой по группировкам\n",
    "df['ceiling_height'] = df['ceiling_height'].fillna(df[df['floors_total_group']>0].groupby(['group_locality_name','floors_total_group'])['ceiling_height'].transform('median'))\n",
    "# Если не получилось, то просто средняя по городу\n",
    "df['ceiling_height'] = df['ceiling_height'].fillna(df.groupby(['group_locality_name'])['ceiling_height'].transform('median'))\n",
    "# Если не получилось, то обнуляю\n",
    "df['ceiling_height'] = df['ceiling_height'].fillna(0)\n",
    "\n",
    "#то же самое для площадей\n",
    "df['living_area'] = df['living_area'].fillna(df[df['rooms']>0].groupby(['group_locality_name','rooms'])['living_area'].transform('median'))\n",
    "df['kitchen_area'] = df['kitchen_area'].fillna(df[df['rooms']>0].groupby(['group_locality_name','rooms'])['kitchen_area'].transform('median'))\n",
    "\n",
    "df['living_area'] = df['living_area'].fillna(df.groupby(['group_locality_name'])['living_area'].transform('median'))\n",
    "df['kitchen_area'] = df['kitchen_area'].fillna(df.groupby(['kitchen_area'])['kitchen_area'].transform('median'))\n",
    "\n",
    "df['living_area'] = df['living_area'].fillna(0)\n",
    "df['kitchen_area'] = df['kitchen_area'].fillna(0)\n",
    "\n",
    "print(df.isna().sum())\n",
    "\n",
    "#меняю тип\n",
    "mas = ['balcony',\n",
    "'floors_total',\n",
    "'airports_nearest',\n",
    "'cityCenters_nearest',\n",
    "'parks_around3000',\n",
    "'parks_nearest',\n",
    "'ponds_around3000',\n",
    "'ponds_nearest',\n",
    "'days_exposition']\n",
    "for i in mas:\n",
    "    df[i] = df[i].astype(int)\n",
    "\n",
    "df.info() "
   ]
  },
  {
   "cell_type": "markdown",
   "metadata": {},
   "source": [
    "<div class=\"alert alert-success\">\n",
    "<h2> Комментарий от ревьюера<a class=\"tocSkip\"></a></h2>\n",
    "1. Населенный пункт. Да, пустые строки можно удлаить, поскольку их мало, на результат никак не повлияет.\n",
    "Довольно необычный способ работы с текстом, который имеет место быть, круто:)\n",
    "    \n",
    "2. Если не указано количество балконов, то скорее всего их в квартире нет. Аналогичная ситуация с апартаментами. Замена на 0 вполне логичная.\n",
    "    \n",
    "3. В датафрейме есть столбцы, которые заполняются автоматически, исходя из геолокации. Пропуски в них также можно заменить 0.\n",
    "    \n",
    "4. Высота потолков. Тут тоже все верно, можно было обойтись просто группировкой по высоте дома или местоположению, результат сильно не изменился бы.\n",
    " \n",
    "    \n",
    "5. Площадь. Все так, можно децствовать таким же способом как и выше. а можно делать через коэффициент, то есть найти, например, какаю долю от обей площади занимает кухня в каждом типе квартир( тип квартир = количество комнат)\n",
    "    \n",
    "    \n",
    "6. Тип данных. Отлично, теперь все столбцы имеют корректный тип данных.\n",
    "</div>"
   ]
  },
  {
   "cell_type": "markdown",
   "metadata": {},
   "source": [
    "### Вывод"
   ]
  },
  {
   "cell_type": "markdown",
   "metadata": {},
   "source": [
    "Удалены пустые населённые пункты, удалены дубли. Пустые значения заполнены.\n",
    "\n"
   ]
  },
  {
   "cell_type": "markdown",
   "metadata": {},
   "source": [
    "## Расчёты и добавление результатов в таблицу"
   ]
  },
  {
   "cell_type": "code",
   "execution_count": 3,
   "metadata": {},
   "outputs": [],
   "source": [
    "df['price_m2'] = df.apply(lambda x: x['last_price']/x['total_area'] if (x['last_price']>0 and x['total_area']>0) else 0.,axis=1)\n",
    "import datetime as dt\n",
    "df['first_day_exposition_date'] = df.apply(lambda x: dt.datetime.strptime(x['first_day_exposition'], '%Y-%m-%dT%H:%M:%S').date(),axis=1)\n",
    "df['weekday'] = df.apply(lambda x: x['first_day_exposition_date'].weekday(),axis=1)\n",
    "df['year'] = df.apply(lambda x: x['first_day_exposition_date'].year,axis=1)\n",
    "df['month'] = df.apply(lambda x: x['first_day_exposition_date'].month,axis=1)\n",
    "df['floor_group'] = df.apply(lambda x: 3 if x['floor'] == x['floors_total'] else 1 if x['floor'] == 1 else 2 ,axis=1)\n",
    "df['living_area_to_total'] = df.apply(lambda x: x['living_area']/x['total_area'] if (x['living_area']>0 and x['total_area']>0) else 0.,axis=1)\n",
    "df['kitchen_area_to_total'] = df.apply(lambda x: x['kitchen_area']/x['total_area'] if (x['kitchen_area']>0 and x['total_area']>0) else 0.,axis=1)\n"
   ]
  },
  {
   "cell_type": "markdown",
   "metadata": {},
   "source": [
    "\n",
    "<div class=\"alert alert-success\">\n",
    "<h2> Комментарий от ревьюера<a class=\"tocSkip\"></a></h2>\n",
    "Все верно, молодец. Для разнообразия и более структурированного кода можно было использовать станжартные методы модуля datetime, например, вот так:\n",
    "    pd.to_datetime(df['first_day_exposition']).dt.weekday\n",
    "\n",
    "</div>\n"
   ]
  },
  {
   "cell_type": "markdown",
   "metadata": {},
   "source": [
    "## Исследовательский анализ данных"
   ]
  },
  {
   "cell_type": "markdown",
   "metadata": {},
   "source": [
    "### Иследования площади, цены и прочего"
   ]
  },
  {
   "cell_type": "code",
   "execution_count": 4,
   "metadata": {
    "scrolled": true
   },
   "outputs": [
    {
     "name": "stdout",
     "output_type": "stream",
     "text": [
      "Показатель total_area\n"
     ]
    },
    {
     "data": {
      "image/png": "[encoded data removed]",
      "text/plain": [
       "<Figure size 432x288 with 1 Axes>"
      ]
     },
     "metadata": {
      "needs_background": "light"
     },
     "output_type": "display_data"
    },
    {
     "name": "stdout",
     "output_type": "stream",
     "text": [
      "Показатель last_price\n"
     ]
    },
    {
     "data": {
      "image/png": "[encoded data removed]",
      "text/plain": [
       "<Figure size 432x288 with 1 Axes>"
      ]
     },
     "metadata": {
      "needs_background": "light"
     },
     "output_type": "display_data"
    },
    {
     "name": "stdout",
     "output_type": "stream",
     "text": [
      "Показатель ceiling_height\n"
     ]
    },
    {
     "data": {
      "image/png": "[encoded data removed]",
      "text/plain": [
       "<Figure size 432x288 with 1 Axes>"
      ]
     },
     "metadata": {
      "needs_background": "light"
     },
     "output_type": "display_data"
    },
    {
     "name": "stdout",
     "output_type": "stream",
     "text": [
      "Показатель rooms\n"
     ]
    },
    {
     "data": {
      "image/png": "[encoded data removed]",
      "text/plain": [
       "<Figure size 432x288 with 1 Axes>"
      ]
     },
     "metadata": {
      "needs_background": "light"
     },
     "output_type": "display_data"
    }
   ],
   "source": [
    "import matplotlib.pyplot as plt\n",
    "mas = ['total_area','last_price','ceiling_height','rooms']\n",
    "for i in mas:\n",
    "    print(\"Показатель \"+i)\n",
    "    df[df[i]>0][i].hist(bins = 100)\n",
    "    plt.show()\n"
   ]
  },
  {
   "cell_type": "markdown",
   "metadata": {},
   "source": [
    "**Вывод**"
   ]
  },
  {
   "cell_type": "markdown",
   "metadata": {},
   "source": [
    "По гистограммам видно, что явно есть ошибка в значениях высоты потолков, так как 100 метровые потолки - явно перебор. Также видно, что чаще всего выставляют квартиры площадью до 200 м2, в переделах 10 млн рублей, до 5 комнат. Но это прям среднее по больнице. Ясно что в городах средняя стоимость может быть намного выше.\n"
   ]
  },
  {
   "cell_type": "markdown",
   "metadata": {},
   "source": [
    "\n",
    "\n",
    "<div class=\"alert alert-success\">\n",
    "<h2> Комментарий от ревьюера<a class=\"tocSkip\"></a></h2>\n",
    "Здорово, что ты автоматизировал процесс. Не хватает только подписи осей, тогда бы графики были более наглядными\n",
    "\n",
    "</div>\n"
   ]
  },
  {
   "cell_type": "markdown",
   "metadata": {},
   "source": [
    "### Иследования длительности продажи"
   ]
  },
  {
   "cell_type": "code",
   "execution_count": 5,
   "metadata": {
    "scrolled": false
   },
   "outputs": [
    {
     "name": "stdout",
     "output_type": "stream",
     "text": [
      "Пок### Иследования площади, цены и прочегоазатель rooms\n"
     ]
    },
    {
     "data": {
      "image/png": "[encoded data removed]",
      "text/plain": [
       "<Figure size 432x288 with 1 Axes>"
      ]
     },
     "metadata": {
      "needs_background": "light"
     },
     "output_type": "display_data"
    },
    {
     "data": {
      "image/png": "[encoded data removed]",
      "text/plain": [
       "<Figure size 720x720 with 1 Axes>"
      ]
     },
     "metadata": {
      "needs_background": "light"
     },
     "output_type": "display_data"
    },
    {
     "data": {
      "image/png": "[encoded data removed]",
      "text/plain": [
       "<Figure size 432x288 with 1 Axes>"
      ]
     },
     "metadata": {
      "needs_background": "light"
     },
     "output_type": "display_data"
    },
    {
     "data": {
      "image/png": "[encoded data removed]",
      "text/plain": [
       "<Figure size 432x288 with 1 Axes>"
      ]
     },
     "metadata": {
      "needs_background": "light"
     },
     "output_type": "display_data"
    }
   ],
   "source": [
    "mas = ['days_exposition']\n",
    "q = df[(df['days_exposition']>0)]['days_exposition']\n",
    "print(\"Пок### Иследования площади, цены и прочегоазатель \"+i)\n",
    "q.hist(bins = 100)\n",
    "plt.show()\n",
    "df[(df['days_exposition']>0)].boxplot(column=['days_exposition'], figsize = (10,10))\n",
    "plt.show()\n",
    "df[(df['days_exposition']>230) & (df['days_exposition']<500)].boxplot(column=['days_exposition'])\n",
    "plt.show()\n",
    "df[(df['days_exposition']>0) & (df['days_exposition']<45)].boxplot(column=['days_exposition'])\n",
    "plt.show()"
   ]
  },
  {
   "cell_type": "markdown",
   "metadata": {},
   "source": [
    "**Вывод**"
   ]
  },
  {
   "cell_type": "markdown",
   "metadata": {},
   "source": [
    "Для вычисления понятия \"очень долго\" использую медиану и квартили. Из графика видно, что 75% всех квартир продаётся на 231 день. После ~500 дней данные больше похоже на выбросы, их можно вообше не учитывать. \n",
    "Если построить квартили для 25% самых долгих продаж, то видно что до 400 дня это нормально, после 400 дней можно считать продажу \"очень долгой\"\n",
    "Если взять первые быстрые 25% продаж, и по ним также построить квартили, то видно, что в среднем быстража родажа - 20 дней. Если меньше 10, то можно считать, что это \"очень быстрая\" продажа"
   ]
  },
  {
   "cell_type": "markdown",
   "metadata": {},
   "source": [
    "\n",
    "<div class=\"alert alert-success\">\n",
    "<h2> Комментарий от ревьюера<a class=\"tocSkip\"></a></h2>\n",
    "Да, в срднем продажа квартиры занимает 2-3 месяца. Если же покупка совершилась рашньше, то такую продажу можно ситать быстрой.\n",
    "</div>\n"
   ]
  },
  {
   "cell_type": "markdown",
   "metadata": {},
   "source": [
    "###  Удаление выбивающихся значений"
   ]
  },
  {
   "cell_type": "code",
   "execution_count": 6,
   "metadata": {
    "scrolled": false
   },
   "outputs": [
    {
     "name": "stdout",
     "output_type": "stream",
     "text": [
      "Колонка total_images\n",
      "    Удалено записей выше порога : 38\n",
      "    Удалено записей ниже порога : 0\n",
      "Колонка total_area\n",
      "    Удалено записей выше порога : 1086\n",
      "    Удалено записей ниже порога : 0\n",
      "Колонка rooms\n",
      "    Удалено записей выше порога : 145\n",
      "    Удалено записей ниже порога : 6\n",
      "Колонка ceiling_height\n",
      "    Удалено записей выше порога : 1339\n",
      "    Удалено записей ниже порога : 283\n",
      "Колонка floors_total\n",
      "    Удалено записей выше порога : 462\n",
      "    Удалено записей ниже порога : 257\n",
      "Колонка living_area\n",
      "    Удалено записей выше порога : 724\n",
      "    Удалено записей ниже порога : 0\n",
      "Колонка floor\n",
      "    Удалено записей выше порога : 1180\n",
      "    Удалено записей ниже порога : 0\n",
      "Колонка kitchen_area\n",
      "    Удалено записей выше порога : 1603\n",
      "    Удалено записей ниже порога : 66\n",
      "Колонка balcony\n",
      "    Удалено записей выше порога : 498\n",
      "    Удалено записей ниже порога : 5\n",
      "Колонка airports_nearest\n",
      "    Удалено записей выше порога : 54\n",
      "    Удалено записей ниже порога : 15\n",
      "Колонка cityCenters_nearest\n",
      "    Удалено записей выше порога : 159\n",
      "    Удалено записей ниже порога : 19\n",
      "Колонка parks_around3000\n",
      "    Удалено записей выше порога : 78\n",
      "    Удалено записей ниже порога : 3\n",
      "Колонка parks_nearest\n",
      "    Удалено записей выше порога : 315\n",
      "    Удалено записей ниже порога : 1\n",
      "Колонка ponds_around3000\n",
      "    Удалено записей выше порога : 4\n",
      "    Удалено записей ниже порога : 0\n",
      "Колонка ponds_nearest\n",
      "    Удалено записей выше порога : 18\n",
      "    Удалено записей ниже порога : 5\n",
      "Колонка days_exposition\n",
      "    Удалено записей выше порога : 1686\n",
      "    Удалено записей ниже порога : 0\n",
      "Колонка floors_total_group\n",
      "    Удалено записей выше порога : 308\n",
      "    Удалено записей ниже порога : 317\n",
      "Колонка weekday\n",
      "    Удалено записей выше порога : 7\n",
      "    Удалено записей ниже порога : 0\n",
      "Колонка year\n",
      "    Удалено записей выше порога : 61\n",
      "    Удалено записей ниже порога : 1347\n",
      "Колонка month\n",
      "    Удалено записей выше порога : 0\n",
      "    Удалено записей ниже порога : 0\n",
      "Колонка living_area_to_total\n",
      "    Удалено записей выше порога : 164\n",
      "    Удалено записей ниже порога : 187\n",
      "Колонка kitchen_area_to_total\n",
      "    Удалено записей выше порога : 500\n",
      "    Удалено записей ниже порога : 2\n"
     ]
    }
   ],
   "source": [
    "# нужно удалить все выбросы в разрезе насёлённых пунктов для всех числовых полей\n",
    "for i in df.columns :\n",
    "    udal_up = 0\n",
    "    udal_down = 0\n",
    "    if df[i].dtypes == int or df[i].dtypes == float:\n",
    "        if i == 'floor_group' or i =='last_price' or i =='price_m2': \n",
    "            # на группе этажей явно выбросов нет \n",
    "            continue\n",
    "        print('Колонка '+ i)\n",
    "        for gor in df['group_locality_name'].unique():\n",
    "            # Получаю квартили    \n",
    "            q = df.loc[(df['group_locality_name'] == gor) & (df[i]>0)][i].describe()\n",
    "            q1 = q['25%']\n",
    "            q3 = q['75%']\n",
    "            mq = q3 - q1\n",
    "            filter_up = (df['group_locality_name'] == gor) & (df[i] > (q3 + mq*1.5))\n",
    "            filter_down = (0 < df[i]) & (df[i] < (q1 - mq*1.5)) & (df['group_locality_name'] == gor) \n",
    "            udal_up += df[filter_up][i].count()\n",
    "            udal_down += df[filter_down][i].count()\n",
    "            #обнуляю\n",
    "            df.loc[filter_up, i] = 0\n",
    "            df.loc[filter_down, i] = 0\n",
    "        print('    Удалено записей выше порога :', udal_up)\n",
    "        print('    Удалено записей ниже порога :', udal_down)"
   ]
  },
  {
   "cell_type": "markdown",
   "metadata": {},
   "source": [
    "**Вывод**"
   ]
  },
  {
   "cell_type": "markdown",
   "metadata": {},
   "source": [
    "межквартальный интервал обозначу за qr, первую квартиль - q1, третью квратиль - q3, медиану - m\n",
    "Выбросы и редкие значения считаю те которые не попали в интервал  m - 1.5 * q1 : m + 1.5 * q3  \n",
    "\n",
    "Наибольшие выбивающиеся значения по году публикации, по прошедшим дням, то есть много объявлений висят условно годами. Есть достаточное количество больших квартир. Стоимость квартиру и цену квадратного метра нельзя так просто отсекать, потому что явно в центре города квартиры будут дороже, чем по окраинам, но предалагают меньше, поэтому большая часть дорогого жилья отсечётся. А так как потом смотреть стоимость в центре, то это сильно повлияет на корректность результат."
   ]
  },
  {
   "cell_type": "markdown",
   "metadata": {},
   "source": [
    "\n",
    "\n",
    "<div class=\"alert alert-success\">\n",
    "<h2> Комментарий от ревьюера<a class=\"tocSkip\"></a></h2>\n",
    "Отличное решеине, использование квартилей говорит, что ты дружишь со статистикой:)\n"
   ]
  },
  {
   "cell_type": "markdown",
   "metadata": {},
   "source": [
    "###  Влияния на цену"
   ]
  },
  {
   "cell_type": "code",
   "execution_count": 7,
   "metadata": {
    "scrolled": false
   },
   "outputs": [
    {
     "name": "stdout",
     "output_type": "stream",
     "text": [
      "{'total_area': 0.7048809755549045, 'living_area': 0.48194259064060074, 'kitchen_area': 0.41196942209762283, 'rooms': 0.37021355138280465, 'ceiling_height': 0.24683771028078458, 'cityCenters_nearest': -0.20686910490890967, 'ponds_around3000': 0.1460688411838227, 'kitchen_area_to_total': -0.14346473755206396, 'parks_around3000': 0.135078598000629, 'total_images': 0.10346313118709055, 'ponds_nearest': -0.08481947537629013, 'days_exposition': 0.061056928287665305, 'floor_group': 0.05748814046189408, 'parks_nearest': -0.03513806408360163, 'balcony': 0.024973420381835847, 'airports_nearest': -0.024398985823148565, 'floor': 0.017332722351797652, 'living_area_to_total': -0.01434125118919409, 'year': -0.011939551021005168, 'floors_total': -0.009865665274485238, 'floors_total_group': 0.005565211106924485, 'month': 0.002741029419924221, 'weekday': 0.0014108943212611483}\n",
      "\n",
      "{'total_area': [45, 0], 'living_area': [44, 0], 'rooms': [41, 0], 'kitchen_area': [24, 0], 'kitchen_area_to_total': [0, 23], 'living_area_to_total': [6, 0], 'balcony': [5, 0], 'ceiling_height': [4, 0], 'floors_total_group': [1, 1], 'floors_total': [1, 0], 'airports_nearest': [1, 0], 'cityCenters_nearest': [1, 0], 'ponds_around3000': [0, 1], 'ponds_nearest': [1, 0], 'total_images': [0, 0], 'first_day_exposition': [0, 0], 'floor': [0, 0], 'is_apartment': [0, 0], 'studio': [0, 0], 'open_plan': [0, 0], 'locality_name': [0, 0], 'parks_around3000': [0, 0], 'parks_nearest': [0, 0], 'days_exposition': [0, 0], '_locality_name': [0, 0], 'group_locality_name': [0, 0], 'first_day_exposition_date': [0, 0], 'weekday': [0, 0], 'year': [0, 0], 'month': [0, 0], 'floor_group': [0, 0]}\n",
      "\n",
      "Общая статистика. Самые влияющие факторы:\n",
      "total_area\n",
      "living_area\n",
      "kitchen_area\n",
      "\n",
      "Статистика по поселениям. Самые влияющие факторы:\n",
      "total_area\n",
      "living_area\n",
      "rooms\n",
      "kitchen_area\n",
      "kitchen_area_to_total\n",
      "living_area_to_total\n",
      "balcony\n"
     ]
    }
   ],
   "source": [
    "all = {}\n",
    "for i in df.columns :\n",
    "    if i == 'last_price' or i == 'price_m2':\n",
    "        continue\n",
    "    if df[i].dtypes == int or df[i].dtypes == float :\n",
    "        all[i]= df[df['last_price']>0]['last_price'].corr(df[df[i]>0][i])\n",
    "# влияние факторов в среднем\n",
    "all = dict(sorted(all.items(), key = lambda x: max(x[1],-x[1]), reverse = True))\n",
    "print(all)\n",
    "# Удаление выбивающихся значений на цену в разрезе городов.\n",
    "# считаю что значительно влияет, если модуль корреляции больше 0.4\n",
    "local = {}\n",
    "for gor in df['group_locality_name'].unique():\n",
    "    for i in df.columns :\n",
    "        if i == 'last_price' or i == 'price_m2':\n",
    "            continue\n",
    "        if local.get(i) is None:\n",
    "            # Первая + влияние, вторая - влияние\n",
    "            local[i] = [0,0]\n",
    "        if df[i].dtypes == int or df[i].dtypes == float:\n",
    "            cor = df[(df['group_locality_name'] == gor) &(df['last_price']>0)]['last_price'].corr(df[ (df['group_locality_name'] == gor) & (df[i]>0)][i])\n",
    "            if max(cor,-cor)>0.4:\n",
    "                if cor<0:\n",
    "                    local[i][1] += 1     \n",
    "                else:\n",
    "                    local[i][0] += 1     \n",
    "print()\n",
    "local = dict(sorted(local.items(), key = lambda x: x[1][0]+x[1][1], reverse = True))        \n",
    "print(local)\n",
    "print()\n",
    "print('Общая статистика. Самые влияющие факторы:')\n",
    "for i in all :                   \n",
    "    if all[i]<0.4:\n",
    "        break\n",
    "    else:\n",
    "        print(i)\n",
    "print()\n",
    "print('Статистика по поселениям. Самые влияющие факторы:')\n",
    "for i in local :                   \n",
    "    if local[i][0] + local[i][1] < 5:\n",
    "        break\n",
    "    else:\n",
    "        print(i)"
   ]
  },
  {
   "cell_type": "code",
   "execution_count": 8,
   "metadata": {
    "scrolled": false
   },
   "outputs": [
    {
     "data": {
      "image/png": "[encoded data removed]",
      "text/plain": [
       "<Figure size 432x288 with 1 Axes>"
      ]
     },
     "metadata": {
      "needs_background": "light"
     },
     "output_type": "display_data"
    },
    {
     "data": {
      "image/png": "[encoded data removed]",
      "text/plain": [
       "<Figure size 432x288 with 1 Axes>"
      ]
     },
     "metadata": {
      "needs_background": "light"
     },
     "output_type": "display_data"
    },
    {
     "data": {
      "image/png": "[encoded data removed]",
      "text/plain": [
       "<Figure size 432x288 with 1 Axes>"
      ]
     },
     "metadata": {
      "needs_background": "light"
     },
     "output_type": "display_data"
    },
    {
     "data": {
      "image/png": "[encoded data removed]",
      "text/plain": [
       "<Figure size 432x288 with 1 Axes>"
      ]
     },
     "metadata": {
      "needs_background": "light"
     },
     "output_type": "display_data"
    },
    {
     "data": {
      "image/png": "[encoded data removed]",
      "text/plain": [
       "<Figure size 432x288 with 1 Axes>"
      ]
     },
     "metadata": {
      "needs_background": "light"
     },
     "output_type": "display_data"
    }
   ],
   "source": [
    "\n",
    "mas = ['cityCenters_nearest','weekday','month','year','floor_group']\n",
    "for i in mas:\n",
    "    df.loc[(df[i]>0) & (df['last_price']>0),['last_price',i]].plot(x='last_price', y=i, kind='scatter', alpha=0.2) \n",
    "    plt.show()\n",
    "\n"
   ]
  },
  {
   "cell_type": "markdown",
   "metadata": {},
   "source": [
    "**Вывод**"
   ]
  },
  {
   "cell_type": "markdown",
   "metadata": {},
   "source": [
    "Логично предположить, что в разных городах на стоимость влияют разные вещи. Поэтому сначала я посмотрю корреляцию для цены на все числовые поля на всех данных. После для каждого сгруппированного поселения отдельно. Если в данном поселении данное поле значительно влияло на цену, то это запоминается. Чем в большем количестве поселений поле влияло на цену, тем сильнее оно влияет в действительности.\n",
    "\n",
    "В итоге, гипотеза подтверждена. Влияния на цену в общем и в разрезе отличается. Явно видно, что общая площадь, жилая, метраж кухни - реально основные ключевые факторы, они одинаковы везде. Но также цена часто зависит от количества комнат, балконов. Удивительно то, что чем больше кухня, тем меньше квартиры стоят.\n",
    "\n",
    "Данная корреляция даёт результат если зависимость между двумя параметрами линейная. Удалённость от центра, этажность, даты размещения существенно не коррелируют со стоимостью. Это означает что либо зависимость нелинейна, либо они не влияют.\n",
    "\n",
    "В данном случае по графикам видно, что удалённость - нелинейная функция. При приближении к центру стоимость резко возрастает. От дня недели ничего не зависит, от месяца тоже. За 2015 и 2014 информации вообще мало, год тоже не влияет. Этажность - не особо. Единственное, что на первом этаже дорогих квартир меньше."
   ]
  },
  {
   "cell_type": "markdown",
   "metadata": {},
   "source": [
    "\n",
    "\n",
    "<div class=\"alert alert-success\">\n",
    "<h2> Комментарий от ревьюера<a class=\"tocSkip\"></a></h2>\n",
    "Красивое решение, молодец!\n",
    "    \n",
    "Конечно же, главным фактором, влияющим на цену явяется площадь квартиры. А вот количество комнат играет явно е рашающую роль в образованиии цены.\n",
    "\n",
    "</div>\n"
   ]
  },
  {
   "cell_type": "markdown",
   "metadata": {},
   "source": [
    "### Средняя цена "
   ]
  },
  {
   "cell_type": "code",
   "execution_count": 9,
   "metadata": {
    "scrolled": false
   },
   "outputs": [
    {
     "name": "stdout",
     "output_type": "stream",
     "text": [
      "_locality_name\n",
      "Санкт-Петербург    15721\n",
      "Мурино               590\n",
      "Кудрово              472\n",
      "Шушары               440\n",
      "Всеволожск           398\n",
      "Пушкин               369\n",
      "Колпино              338\n",
      "Парголово            327\n",
      "Гатчина              307\n",
      "Выборг               237\n",
      "Name: first_day_exposition, dtype: int64\n"
     ]
    },
    {
     "data": {
      "text/plain": [
       "_locality_name\n",
       "Санкт-Петербург    114849.008794\n",
       "Пушкин             103125.819291\n",
       "Кудрово             95324.930544\n",
       "Парголово           90175.913458\n",
       "Мурино              86087.512050\n",
       "Шушары              78677.364217\n",
       "Колпино             75424.579098\n",
       "Гатчина             68746.146763\n",
       "Всеволожск          68654.473986\n",
       "Выборг              58141.909153\n",
       "Name: price_m2, dtype: float64"
      ]
     },
     "execution_count": 9,
     "metadata": {},
     "output_type": "execute_result"
    }
   ],
   "source": [
    "q = df.groupby(by= '_locality_name')['first_day_exposition'].count().sort_values(ascending = False).head(10)\n",
    "print(q)### Вывод по средней цене \n",
    "\n",
    "df[(df['price_m2'] > 0)  & (df['_locality_name'].isin(q.index))].groupby(by= '_locality_name')['price_m2'].mean().sort_values(ascending = False)"
   ]
  },
  {
   "cell_type": "markdown",
   "metadata": {},
   "source": [
    "**Вывод**"
   ]
  },
  {
   "cell_type": "markdown",
   "metadata": {},
   "source": [
    "В Питере большие цены, неудивительно. Чем дальше от Питера тем дешевле. Можно предположить что на цену влияет не близость к центру, а близость к мегаполису как таковому."
   ]
  },
  {
   "cell_type": "markdown",
   "metadata": {},
   "source": [
    "<div class=\"alert alert-success\">\n",
    "<h2> Комментарий от ревьюера<a class=\"tocSkip\"></a></h2>\n",
    "Да, Выборг замыкает эту 10-ку)\n",
    "</div>\n"
   ]
  },
  {
   "cell_type": "markdown",
   "metadata": {},
   "source": [
    "### Зона центра"
   ]
  },
  {
   "cell_type": "code",
   "execution_count": 10,
   "metadata": {
    "scrolled": false
   },
   "outputs": [
    {
     "data": {
      "image/png": "[encoded data removed]",
      "text/plain": [
       "<Figure size 432x288 with 1 Axes>"
      ]
     },
     "metadata": {
      "needs_background": "light"
     },
     "output_type": "display_data"
    }
   ],
   "source": [
    "df['radius'] = 0\n",
    "mask = (df['cityCenters_nearest'] > 0)  & (df['_locality_name'] == 'Санкт-Петербург')\n",
    "# расстояние в км округляю по арифметическим правилам\n",
    "df.loc[mask,'radius'] = df.apply(lambda x: int(x['cityCenters_nearest']/1000 +0.5),axis=1) \n",
    "df[mask].groupby('radius')['price_m2'].mean().sort_index().plot()\n",
    "plt.show()"
   ]
  },
  {
   "cell_type": "markdown",
   "metadata": {},
   "source": [
    "**Вывод**"
   ]
  },
  {
   "cell_type": "markdown",
   "metadata": {},
   "source": [
    "В центре кв м жилья самая большая, но очень быстро уменьшается вплоть до 3 км, потом повышается. В районе 7 км снова виден спад. Скорее всего это и есть радиус центра."
   ]
  },
  {
   "cell_type": "markdown",
   "metadata": {},
   "source": [
    "\n",
    "\n",
    "<div class=\"alert alert-success\">\n",
    "<h2> Комментарий от ревьюера<a class=\"tocSkip\"></a></h2>\n",
    "По графику видно, что центр заканчивается в районе 7 км. Только я не совсем поняла, зачем ты прибавил 0,5. Если ты хотел округлить в большую сторону, то можно воспользоватсья методом ceil()\n",
    "</div>\n"
   ]
  },
  {
   "cell_type": "markdown",
   "metadata": {},
   "source": [
    "### Стоимости в центре"
   ]
  },
  {
   "cell_type": "code",
   "execution_count": 11,
   "metadata": {
    "scrolled": false
   },
   "outputs": [
    {
     "name": "stdout",
     "output_type": "stream",
     "text": [
      "{'radius': -0.309966816967673, 'kitchen_area': 0.2443157860752609, 'ponds_around3000': 0.22278657007729785, 'ceiling_height': 0.20282884075285285, 'living_area_to_total': -0.17068899050628264, 'parks_around3000': 0.16096329774230841, 'total_images': 0.1209777642741055, 'total_area': 0.11613477138364271, 'ponds_nearest': -0.11319150782984314, 'kitchen_area_to_total': 0.07744318406858386, 'floor_group': 0.06897862987176731, 'year': 0.058479144412098547, 'living_area': 0.05523773955871323, 'days_exposition': 0.05199479941365798, 'parks_nearest': -0.05080266101009468, 'floor': 0.05041855180256075, 'balcony': 0.0394988252606398, 'rooms': 0.027256177111244947, 'floors_total_group': 0.02489591184768196, 'airports_nearest': -0.015909575245324385, 'floors_total': 0.011676497043664141, 'month': -0.01093474768141903, 'weekday': 0.004081127397073355}\n",
      "{'total_images': 0.1654220464706812, 'parks_around3000': 0.16448058279470412, 'living_area_to_total': -0.15900389168845183, 'ponds_around3000': 0.14562072835708692, 'floors_total_group': 0.14467919447239802, 'floor': 0.14046955799480448, 'balcony': 0.10661647251778887, 'floors_total': 0.10002001973190948, 'ponds_nearest': -0.09655141945334259, 'kitchen_area': 0.09078466638654692, 'airports_nearest': 0.08310972047884743, 'days_exposition': 0.05175232521601693, 'floor_group': 0.050033861434790244, 'kitchen_area_to_total': 0.03499858827852543, 'parks_nearest': -0.03445103105832792, 'ceiling_height': -0.03274844263885946, 'weekday': 0.029238138760849946, 'month': -0.020078089779058807, 'year': 0.01802325524177691, 'total_area': 0.01742653458882561, 'living_area': -0.00232346911193041, 'rooms': -0.0015588716793691853, 'radius': 0.00036170988593491873}\n",
      "\n",
      "Общее по городу. Самые влияющие факторы:\n",
      "radius\n",
      "kitchen_area\n",
      "ponds_around3000\n",
      "ceiling_height\n",
      "living_area_to_total\n",
      "\n",
      "Статистика по центру. Самые влияющие факторы:\n",
      "total_images\n",
      "parks_around3000\n",
      "living_area_to_total\n",
      "ponds_around3000\n",
      "floors_total_group\n"
     ]
    },
    {
     "data": {
      "text/plain": [
       "[None, None, None, None, None]"
      ]
     },
     "execution_count": 11,
     "metadata": {},
     "output_type": "execute_result"
    }
   ],
   "source": [
    "# влияние факторов в среднем по городу\n",
    "all = {}\n",
    "mask = (df['last_price']>0)  & (df['_locality_name'] == 'Санкт-Петербург')\n",
    "for i in df.columns :\n",
    "    if i == 'last_price' or i == 'price_m2' or i == 'cityCenters_nearest':\n",
    "        continue\n",
    "    if df[i].dtypes == int or df[i].dtypes == float :\n",
    "        all[i]= df[mask]['price_m2'].corr(df[(df[i]>0) & (df['_locality_name'] == 'Санкт-Петербург')][i])\n",
    "\n",
    "all = dict(sorted(all.items(), key = lambda x: max(x[1],-x[1]), reverse = True))\n",
    "print(all)\n",
    "\n",
    "# влияние факторов в центре\n",
    "local = {}\n",
    "mask = (df['last_price']>0)  & (df['radius'] <= 7)  & (df['_locality_name'] == 'Санкт-Петербург')\n",
    "for i in df.columns :\n",
    "    if i == 'last_price' or i == 'price_m2' or i == 'cityCenters_nearest':\n",
    "        continue\n",
    "    if df[i].dtypes == int or df[i].dtypes == float :\n",
    "        local[i]= df[ mask]['price_m2'].corr(df[ (df['radius'] <= 7) & (df[i]>0) & (df['_locality_name'] == 'Санкт-Петербург')][i])\n",
    "\n",
    "local = dict(sorted(local.items(), key = lambda x: max(x[1],-x[1]), reverse = True))\n",
    "print(local)\n",
    "  \n",
    "      \n",
    "print()\n",
    "print('Общее по городу. Самые влияющие факторы:')\n",
    "[print(i) for i in list(all.keys())[:5]]\n",
    "\n",
    "\n",
    "print()\n",
    "print('Статистика по центру. Самые влияющие факторы:')\n",
    "[print(i) for i in list(local.keys())[:5]]\n"
   ]
  },
  {
   "cell_type": "markdown",
   "metadata": {},
   "source": [
    "**Вывод**"
   ]
  },
  {
   "cell_type": "markdown",
   "metadata": {},
   "source": [
    "Фактор стоимости кв м разнится у центра и всего города. В городе явно видно что чем дальше от центра, тем дешевле. В центре на стоимость ничего сильно не влияет. Там просто всегда стабильно высокая цена."
   ]
  },
  {
   "cell_type": "markdown",
   "metadata": {},
   "source": [
    "<div class=\"alert alert-success\">\n",
    "<h2> Комментарий от ревьюера<a class=\"tocSkip\"></a></h2>\n",
    "Да, цены на квартиры в центре выше, чем в спальных районах, что логично)\n",
    "    \n",
    "Здесь еще можно поисследовать и найти другие отличия. Например, как сильно отличается площадь квартир в центре, или высота потолков?\n",
    "    \n",
    "\n",
    "</div>\n"
   ]
  },
  {
   "cell_type": "markdown",
   "metadata": {},
   "source": [
    "## Общий вывод"
   ]
  },
  {
   "cell_type": "markdown",
   "metadata": {},
   "source": [
    "В общем и целом, цена зависит от площади квартиры, количества комнат. В некоторых городах стоимость может повышаться ближе к центру, но это нелинейная зависимость. Стоит отметить, что факторы цены и факторы стоимость кв м возможно разные, хотя казалось бы одно высчитывается от другого. Можно предположить, что стоимость по городу часто одинаковая, но метраж квартиры чем ближе к центру, тем меньше, поэтому цена кв м растёт при приближении к центру, а стоимость квартиры нет.\n",
    "\n",
    "Возможно стоимость повышается при приближении к мегаполису, что логично, но требует отдельного исследования. \n",
    "\n",
    "Выяснилось, что дорогие квартиры редко бывают на первом этаже. Особо серьёзных проблем в начальных данных не обнаружено.\n",
    "\n",
    "Для более качественных исследований формирования цены нужно было изначально нарезать город на районы. Эта даст наиболее полные данные.\n"
   ]
  },
  {
   "cell_type": "markdown",
   "metadata": {},
   "source": [
    "<div class=\"alert alert-success\">\n",
    "<h2> Комментарий от ревьюера<a class=\"tocSkip\"></a></h2>\n",
    "\n",
    "Поздравляю с успешным проектом!\n",
    "\n",
    "- Ты хорошо делаешь выводы и анализируешь результаты.\n",
    "    \n",
    "- Код написан аккуратно\n",
    "\n",
    "- Соблюдена структура проекта, было приятно проверять:)\n",
    "    \n",
    "- В целом работа сделана качественно, но есть куда расти, например, глубже исследовать отдельные показатели\n",
    "\n",
    " \n",
    "\n",
    "\n",
    "Желаю дальнейших успехов!\n",
    "\n",
    "\n",
    "</div>"
   ]
  },
  {
   "cell_type": "markdown",
   "metadata": {},
   "source": [
    "## Чек-лист готовности проекта\n",
    "\n",
    "Поставьте 'x' в выполненных пунктах. Далее нажмите Shift+Enter."
   ]
  },
  {
   "cell_type": "markdown",
   "metadata": {},
   "source": [
    "- [x]  открыт файл\n",
    "- [x]  файлы изучены (выведены первые строки, метод info())\n",
    "- [x]  определены пропущенные значения\n",
    "- [x]  заполнены пропущенные значения\n",
    "- [x]  есть пояснение, какие пропущенные значения обнаружены\n",
    "- [x]  изменены типы данных\n",
    "- [x]  есть пояснение, в каких столбцах изменены типы и почему\n",
    "- [x]  посчитано и добавлено в таблицу: цена квадратного метра\n",
    "- [x]  посчитано и добавлено в таблицу: день недели, месяц и год публикации объявления\n",
    "- [x]  посчитано и добавлено в таблицу: этаж квартиры; варианты — первый, последний, другой\n",
    "- [x]  посчитано и добавлено в таблицу: соотношение жилой и общей площади, а также отношение площади кухни к общей\n",
    "- [x]  изучены следующие параметры: площадь, цена, число комнат, высота потолков\n",
    "- [x]  построены гистограммы для каждого параметра\n",
    "- [x]  выполнено задание: \"Изучите время продажи квартиры. Постройте гистограмму. Посчитайте среднее и медиану. Опишите, сколько обычно занимает продажа. Когда можно считать, что продажи прошли очень быстро, а когда необычно долго?\"\n",
    "- [x]  выполнено задание: \"Уберите редкие и выбивающиеся значения. Опишите, какие особенности обнаружили.\"\n",
    "- [x]  выполнено задание: \"Какие факторы больше всего влияют на стоимость квартиры? Изучите, зависит ли цена от квадратного метра, числа комнат, этажа (первого или последнего), удалённости от центра. Также изучите зависимость от даты размещения: дня недели, месяца и года. \"Выберите 10 населённых пунктов с наибольшим числом объявлений. Посчитайте среднюю цену квадратного метра в этих населённых пунктах. Выделите населённые пункты с самой высокой и низкой стоимостью жилья. Эти данные можно найти по имени в столбце '*locality_name'*. \"\n",
    "- [x]  выполнено задание: \"Изучите предложения квартир: для каждой квартиры есть информация о расстоянии до центра. Выделите квартиры в Санкт-Петербурге (*'locality_name'*). Ваша задача — выяснить, какая область входит в центр. Создайте столбец с расстоянием до центра в километрах: округлите до целых значений. После этого посчитайте среднюю цену для каждого километра. Постройте график: он должен показывать, как цена зависит от удалённости от центра. Определите границу, где график сильно меняется — это и будет центральная зона. \"\n",
    "- [x]  выполнено задание: \"Выделите сегмент квартир в центре. Проанализируйте эту территорию и изучите следующие параметры: площадь, цена, число комнат, высота потолков. Также выделите факторы, которые влияют на стоимость квартиры (число комнат, этаж, удалённость от центра, дата размещения объявления). Сделайте выводы. Отличаются ли они от общих выводов по всему городу?\"\n",
    "- [x]  в каждом этапе есть выводы\n",
    "- [x]  есть общий вывод"
   ]
  },
  {
   "cell_type": "code",
   "execution_count": null,
   "metadata": {},
   "outputs": [],
   "source": []
  }
 ],
 "metadata": {
  "kernelspec": {
   "display_name": "Python 3",
   "language": "python",
   "name": "python3"
  },
  "language_info": {
   "codemirror_mode": {
    "name": "ipython",
    "version": 3
   },
   "file_extension": ".py",
   "mimetype": "text/x-python",
   "name": "python",
   "nbconvert_exporter": "python",
   "pygments_lexer": "ipython3",
   "version": "3.7.8"
  },
  "toc": {
   "base_numbering": 1,
   "nav_menu": {},
   "number_sections": true,
   "sideBar": true,
   "skip_h1_title": true,
   "title_cell": "Содержание",
   "title_sidebar": "Contents",
   "toc_cell": true,
   "toc_position": {
    "height": "calc(100% - 180px)",
    "left": "10px",
    "top": "150px",
    "width": "358.391px"
   },
   "toc_section_display": true,
   "toc_window_display": true
  }
 },
 "nbformat": 4,
 "nbformat_minor": 2
}
