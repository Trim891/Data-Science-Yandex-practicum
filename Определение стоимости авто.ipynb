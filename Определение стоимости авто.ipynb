{
 "cells": [
  {
   "cell_type": "markdown",
   "metadata": {},
   "source": [
    "# Определение стоимости автомобилей"
   ]
  },
  {
   "cell_type": "markdown",
   "metadata": {},
   "source": [
    "Сервис по продаже автомобилей с пробегом разрабатывает приложение. Вам нужно построить модель для определения стоимости авто. "
   ]
  },
  {
   "cell_type": "markdown",
   "metadata": {},
   "source": [
    "## Подготовка данных"
   ]
  },
  {
   "cell_type": "code",
   "execution_count": 1,
   "metadata": {},
   "outputs": [],
   "source": [
    "import pandas as pd\n",
    "import numpy as np\n",
    "import matplotlib.pyplot as plt\n",
    "import seaborn as sns\n",
    "from sklearn.preprocessing import StandardScaler\n",
    "from sklearn.linear_model import LinearRegression\n",
    "from sklearn.ensemble import RandomForestRegressor\n",
    "from sklearn.model_selection import cross_val_score\n",
    "from sklearn.model_selection import train_test_split\n",
    "from sklearn.preprocessing import OneHotEncoder\n",
    "from lightgbm import LGBMRegressor\n",
    "from sklearn.metrics import mean_squared_error\n",
    "from sklearn.dummy import DummyRegressor\n",
    "from sklearn.cluster import DBSCAN\n",
    "import timeit"
   ]
  },
  {
   "cell_type": "code",
   "execution_count": 2,
   "metadata": {},
   "outputs": [],
   "source": [
    " df = pd.read_csv('/datasets/autos.csv')"
   ]
  },
  {
   "cell_type": "code",
   "execution_count": 3,
   "metadata": {
    "scrolled": true
   },
   "outputs": [
    {
     "name": "stdout",
     "output_type": "stream",
     "text": [
      "<class 'pandas.core.frame.DataFrame'>\n",
      "RangeIndex: 354369 entries, 0 to 354368\n",
      "Data columns (total 16 columns):\n",
      "datecrawled          354369 non-null object\n",
      "price                354369 non-null int64\n",
      "vehicletype          316879 non-null object\n",
      "registrationyear     354369 non-null int64\n",
      "gearbox              334536 non-null object\n",
      "power                354369 non-null int64\n",
      "model                334664 non-null object\n",
      "kilometer            354369 non-null int64\n",
      "registrationmonth    354369 non-null int64\n",
      "fueltype             321474 non-null object\n",
      "brand                354369 non-null object\n",
      "notrepaired          283215 non-null object\n",
      "datecreated          354369 non-null object\n",
      "numberofpictures     354369 non-null int64\n",
      "postalcode           354369 non-null int64\n",
      "lastseen             354369 non-null object\n",
      "dtypes: int64(7), object(9)\n",
      "memory usage: 43.3+ MB\n"
     ]
    },
    {
     "data": {
      "text/html": [
       "<div>\n",
       "<style scoped>\n",
       "    .dataframe tbody tr th:only-of-type {\n",
       "        vertical-align: middle;\n",
       "    }\n",
       "\n",
       "    .dataframe tbody tr th {\n",
       "        vertical-align: top;\n",
       "    }\n",
       "\n",
       "    .dataframe thead th {\n",
       "        text-align: right;\n",
       "    }\n",
       "</style>\n",
       "<table border=\"1\" class=\"dataframe\">\n",
       "  <thead>\n",
       "    <tr style=\"text-align: right;\">\n",
       "      <th></th>\n",
       "      <th>datecrawled</th>\n",
       "      <th>price</th>\n",
       "      <th>vehicletype</th>\n",
       "      <th>registrationyear</th>\n",
       "      <th>gearbox</th>\n",
       "      <th>power</th>\n",
       "      <th>model</th>\n",
       "      <th>kilometer</th>\n",
       "      <th>registrationmonth</th>\n",
       "      <th>fueltype</th>\n",
       "      <th>brand</th>\n",
       "      <th>notrepaired</th>\n",
       "      <th>datecreated</th>\n",
       "      <th>numberofpictures</th>\n",
       "      <th>postalcode</th>\n",
       "      <th>lastseen</th>\n",
       "    </tr>\n",
       "  </thead>\n",
       "  <tbody>\n",
       "    <tr>\n",
       "      <td>0</td>\n",
       "      <td>2016-03-24 11:52:17</td>\n",
       "      <td>480</td>\n",
       "      <td>NaN</td>\n",
       "      <td>1993</td>\n",
       "      <td>manual</td>\n",
       "      <td>0</td>\n",
       "      <td>golf</td>\n",
       "      <td>150000</td>\n",
       "      <td>0</td>\n",
       "      <td>petrol</td>\n",
       "      <td>volkswagen</td>\n",
       "      <td>NaN</td>\n",
       "      <td>2016-03-24 00:00:00</td>\n",
       "      <td>0</td>\n",
       "      <td>70435</td>\n",
       "      <td>2016-04-07 03:16:57</td>\n",
       "    </tr>\n",
       "    <tr>\n",
       "      <td>1</td>\n",
       "      <td>2016-03-24 10:58:45</td>\n",
       "      <td>18300</td>\n",
       "      <td>coupe</td>\n",
       "      <td>2011</td>\n",
       "      <td>manual</td>\n",
       "      <td>190</td>\n",
       "      <td>NaN</td>\n",
       "      <td>125000</td>\n",
       "      <td>5</td>\n",
       "      <td>gasoline</td>\n",
       "      <td>audi</td>\n",
       "      <td>yes</td>\n",
       "      <td>2016-03-24 00:00:00</td>\n",
       "      <td>0</td>\n",
       "      <td>66954</td>\n",
       "      <td>2016-04-07 01:46:50</td>\n",
       "    </tr>\n",
       "    <tr>\n",
       "      <td>2</td>\n",
       "      <td>2016-03-14 12:52:21</td>\n",
       "      <td>9800</td>\n",
       "      <td>suv</td>\n",
       "      <td>2004</td>\n",
       "      <td>auto</td>\n",
       "      <td>163</td>\n",
       "      <td>grand</td>\n",
       "      <td>125000</td>\n",
       "      <td>8</td>\n",
       "      <td>gasoline</td>\n",
       "      <td>jeep</td>\n",
       "      <td>NaN</td>\n",
       "      <td>2016-03-14 00:00:00</td>\n",
       "      <td>0</td>\n",
       "      <td>90480</td>\n",
       "      <td>2016-04-05 12:47:46</td>\n",
       "    </tr>\n",
       "    <tr>\n",
       "      <td>3</td>\n",
       "      <td>2016-03-17 16:54:04</td>\n",
       "      <td>1500</td>\n",
       "      <td>small</td>\n",
       "      <td>2001</td>\n",
       "      <td>manual</td>\n",
       "      <td>75</td>\n",
       "      <td>golf</td>\n",
       "      <td>150000</td>\n",
       "      <td>6</td>\n",
       "      <td>petrol</td>\n",
       "      <td>volkswagen</td>\n",
       "      <td>no</td>\n",
       "      <td>2016-03-17 00:00:00</td>\n",
       "      <td>0</td>\n",
       "      <td>91074</td>\n",
       "      <td>2016-03-17 17:40:17</td>\n",
       "    </tr>\n",
       "    <tr>\n",
       "      <td>4</td>\n",
       "      <td>2016-03-31 17:25:20</td>\n",
       "      <td>3600</td>\n",
       "      <td>small</td>\n",
       "      <td>2008</td>\n",
       "      <td>manual</td>\n",
       "      <td>69</td>\n",
       "      <td>fabia</td>\n",
       "      <td>90000</td>\n",
       "      <td>7</td>\n",
       "      <td>gasoline</td>\n",
       "      <td>skoda</td>\n",
       "      <td>no</td>\n",
       "      <td>2016-03-31 00:00:00</td>\n",
       "      <td>0</td>\n",
       "      <td>60437</td>\n",
       "      <td>2016-04-06 10:17:21</td>\n",
       "    </tr>\n",
       "  </tbody>\n",
       "</table>\n",
       "</div>"
      ],
      "text/plain": [
       "           datecrawled  price vehicletype  registrationyear gearbox  power  \\\n",
       "0  2016-03-24 11:52:17    480         NaN              1993  manual      0   \n",
       "1  2016-03-24 10:58:45  18300       coupe              2011  manual    190   \n",
       "2  2016-03-14 12:52:21   9800         suv              2004    auto    163   \n",
       "3  2016-03-17 16:54:04   1500       small              2001  manual     75   \n",
       "4  2016-03-31 17:25:20   3600       small              2008  manual     69   \n",
       "\n",
       "   model  kilometer  registrationmonth  fueltype       brand notrepaired  \\\n",
       "0   golf     150000                  0    petrol  volkswagen         NaN   \n",
       "1    NaN     125000                  5  gasoline        audi         yes   \n",
       "2  grand     125000                  8  gasoline        jeep         NaN   \n",
       "3   golf     150000                  6    petrol  volkswagen          no   \n",
       "4  fabia      90000                  7  gasoline       skoda          no   \n",
       "\n",
       "           datecreated  numberofpictures  postalcode             lastseen  \n",
       "0  2016-03-24 00:00:00                 0       70435  2016-04-07 03:16:57  \n",
       "1  2016-03-24 00:00:00                 0       66954  2016-04-07 01:46:50  \n",
       "2  2016-03-14 00:00:00                 0       90480  2016-04-05 12:47:46  \n",
       "3  2016-03-17 00:00:00                 0       91074  2016-03-17 17:40:17  \n",
       "4  2016-03-31 00:00:00                 0       60437  2016-04-06 10:17:21  "
      ]
     },
     "execution_count": 3,
     "metadata": {},
     "output_type": "execute_result"
    }
   ],
   "source": [
    "df.columns = [str.lower(x) for x in list(df.columns)]\n",
    "df.info()\n",
    "df.head()"
   ]
  },
  {
   "cell_type": "code",
   "execution_count": 4,
   "metadata": {},
   "outputs": [],
   "source": [
    "def fill_nan(df, group, fitch, f = 'freq'):\n",
    "    '''Заполняет nan значения по выбранной функции и в разрезе групп'''\n",
    "    if f == 'freq':\n",
    "        # подставляет максимальную по частоте\n",
    "        func = lambda s: s.value_counts().idxmax() if len(s.value_counts())>0 else float('Nan')\n",
    "        df[fitch] = df[fitch].where(~df[fitch].isnull(), df.groupby(group)[fitch].transform(func))\n",
    "    elif  f == 'mean':   \n",
    "        # подставляет среднее значение, по не нулевым. Возможно стоит вывести в параметр отбор по 0\n",
    "        func = lambda s: s.mean()\n",
    "        df[fitch] = df[fitch].where(~df[fitch].isnull(), df[df[fitch] != 0].groupby(group)[fitch].transform(func))\n",
    "\n",
    "    \n",
    "def prov_registr(df, col):\n",
    "    '''Сравнивает если значение колонок одинаковы, но в разных регистрах'''\n",
    "    for i in col:\n",
    "        tmp = df[~df[i].isnull()]\n",
    "        if tmp[i].apply(lambda x: str.upper(x)).nunique() == tmp[i].nunique():\n",
    "            print('Колонка '+i +', значения корректны по регистру') \n",
    "            \n",
    "def fill_zero(df, group, col):\n",
    "    '''Заполняет нулевые числовые колонки средним значением'''\n",
    "    print(\"Нулевых записей \" + col + \" до обработки \"+ str(len(df[df[col] == 0])))\n",
    "    df.loc[df[col] == 0,col] = float('nan') \n",
    "    fill_nan(df,group , col, 'mean')\n",
    "    df[col].fillna(0)\n",
    "    df[col] = df[col].astype(int)\n",
    "    print(\"Нулевых записей \" + col + \" после обработки \"+ str(len(df[df[col] == 0])))\n",
    "\n",
    "def delete_v(df, col, iscl, group, delete = True):\n",
    "    '''Автоматически удаляет выбросы по числовым колонкам'''\n",
    "    cop = df.copy()\n",
    "    describe = cop.describe()\n",
    "    if len(col) ==0:\n",
    "        #по всем\n",
    "        int_col = cop.columns.values\n",
    "    else:\n",
    "        int_col = col\n",
    "    for i in int_col:\n",
    "        if cop[i].dtypes == 'object':\n",
    "            continue\n",
    "        if i in iscl:\n",
    "            continue\n",
    "        if len(group) != 0:\n",
    "            # квартили с группировкой получаю по другому\n",
    "            cop['q1'] = df.groupby(group)[i].transform(lambda s: s.describe()['25%'])\n",
    "            cop['q3'] = df.groupby(group)[i].transform(lambda s: s.describe()['75%'])\n",
    "            filter_up =  (cop[i] > (cop['q3'] + (cop['q3'] - cop['q1'])*1.5))\n",
    "            filter_down = (0 < cop[i]) & (cop[i] < (cop['q1'] - (cop['q3'] - cop['q1'])*1.5))\n",
    "        else:   \n",
    "            q =  describe[i]\n",
    "            q1 = q['25%']\n",
    "            q3 = q['75%']\n",
    "            mq = q3 - q1\n",
    "            filter_up =  (cop[i] > (q3 + mq*1.5))\n",
    "            filter_down = (0 < cop[i]) & (cop[i] < (q1 - mq*1.5))\n",
    "        if delete:\n",
    "            cop.loc[filter_up, i] = float('Nan')\n",
    "            cop.loc[filter_down, i] = float('Nan')\n",
    "            print('Колонка ' + i + ', изменено '+str(cop[i].isnull().sum())+ ' строк')\n",
    "        else:\n",
    "            print('Колонка ' + i + ', должно быть изменено '+ str(cop.loc[filter_up, i].shape[0] + cop.loc[filter_down, i].shape[0])+ ' строк')\n",
    "        if len(group) != 0:\n",
    "            cop = cop.drop(['q1', 'q3'] , axis = 1)\n",
    "        \n",
    "    if delete:\n",
    "        print('Всего удалено ' + str(cop.isnull().any(axis=1).sum())+ ' строк')\n",
    "        cop.dropna(axis=0,inplace=True)\n",
    "        return cop\n",
    "\n",
    "def mashtab(x_train, x_test, numeric):\n",
    "    pd.options.mode.chained_assignment = None\n",
    "    scaler = StandardScaler()\n",
    "    scaler.fit(x_train[numeric]) \n",
    "    x_train[numeric] = scaler.transform(x_train[numeric])\n",
    "    x_test[numeric] = scaler.transform(x_test[numeric]) \n",
    "    return [x_train, x_test]    \n",
    "\n",
    "\n",
    "def gridsearch(result, name, type, model, params, new_par, x, y, i = 0 ,scoring = \"neg_mean_squared_error\"):\n",
    "    '''перебирает все параметры и ищу лучшую модель. не всегда можно штатными механизмами воспользоваться.'''\n",
    "    if i < len(params):\n",
    "        best = {}\n",
    "        for j in params[list(params.keys())[i]]:\n",
    "            new_par[list(params.keys())[i]] = j\n",
    "            gr = gridsearch(result, name, type, model, params, new_par, x, y, i+1)\n",
    "            if best.get('score') == None:\n",
    "                best = gr.copy()\n",
    "            else:\n",
    "                if best['score'] < np.abs(gr['score']):\n",
    "                    best['score'] = np.abs(gr['score'])\n",
    "                    best['model'] = gr['model']\n",
    "                    best['time_fit'] = gr['time_fit']\n",
    "        if i == 0:\n",
    "            result = result.append({'type': type, 'score':np.abs(best['score']) ,'name':name,'model':best['model'],'time_fit':best['time_fit'] }, ignore_index=True)\n",
    "            return result\n",
    "        return best\n",
    "    else:     \n",
    "        if 'LinearRegression' in name:\n",
    "            model_obj = model(**new_par)\n",
    "        else:\n",
    "            model_obj = model(random_state = 10,**new_par)  \n",
    "        start_time = timeit.default_timer()\n",
    "        model_obj.fit(x, y)\n",
    "        time_fit = timeit.default_timer() - start_time\n",
    "        return {'score':np.array(cross_val_score(model_obj, x, y, cv=5, scoring = scoring)).mean(),'model':model_obj, 'time_fit': time_fit}\n",
    "    "
   ]
  },
  {
   "cell_type": "code",
   "execution_count": 5,
   "metadata": {},
   "outputs": [
    {
     "name": "stdout",
     "output_type": "stream",
     "text": [
      "Колонка vehicletype, значения корректны по регистру\n",
      "Колонка gearbox, значения корректны по регистру\n",
      "Колонка model, значения корректны по регистру\n",
      "Колонка fueltype, значения корректны по регистру\n",
      "Колонка brand, значения корректны по регистру\n",
      "Колонка notrepaired, значения корректны по регистру\n"
     ]
    }
   ],
   "source": [
    "\n",
    "prov_registr(df, ['vehicletype','gearbox','model','fueltype','brand','notrepaired'])"
   ]
  },
  {
   "cell_type": "code",
   "execution_count": 6,
   "metadata": {},
   "outputs": [],
   "source": [
    "# если модель авто не заполнена, то явно некорректно будет восстанавливать значения по бренду, поэтому удаляю\n",
    "df.dropna(axis=0,inplace=True,subset =['model'])"
   ]
  },
  {
   "cell_type": "code",
   "execution_count": 7,
   "metadata": {},
   "outputs": [
    {
     "data": {
      "image/png": "[encoded data removed]",
      "text/plain": [
       "<Figure size 432x288 with 1 Axes>"
      ]
     },
     "metadata": {
      "needs_background": "light"
     },
     "output_type": "display_data"
    }
   ],
   "source": [
    "sns.distplot(df['registrationyear'])\n",
    "plt.title(\"Год регистрации\")\n",
    "plt.show()\n",
    "df['date'] = pd.to_datetime(df['lastseen'])\n",
    "df['year'] =  df['date'].dt.year\n",
    "df['month'] =  df['date'].dt.month\n",
    "# дата регистрации может быть неадекватной, это видно из графика.\n",
    "# данный параметр очень важен, так как от возраста авто очевидно влияет цена\n",
    "# Если дата регистрации больше даты последней активности пользователя, значит она явно некорретктная, можно удалить запись\n",
    "mask = (df['registrationyear']>df['year']) | ((df['registrationyear']==df['year']) & (df['registrationmonth']>df['month']))\n",
    "df.drop(df.iloc[np.where(mask)[0]].index, axis = 0, inplace = True)\n",
    "# если дата регистрации меньше на 20 лет чем средняя дата по бренду и по модели, то либо это что то уникальное\n",
    "# либо некорректное. В любом случае можно удалять. 20 лет, потому что на текущий момент средняя время выпуска модели - 7 лет\n",
    "# Беру с большим запасом. Даже если машина уникальна и долго производилась, должна попасть с большой вероятностью.\n",
    "df['mean_year'] =  df.groupby(['brand','model'])[\"registrationyear\"].transform('mean')\n",
    "df.drop(df.iloc[np.where(df['mean_year'] - 20 >df['registrationyear'])[0]].index, axis = 0, inplace = True)"
   ]
  },
  {
   "cell_type": "code",
   "execution_count": 8,
   "metadata": {},
   "outputs": [
    {
     "data": {
      "image/png": "[encoded data removed]",
      "text/plain": [
       "<Figure size 432x288 with 1 Axes>"
      ]
     },
     "metadata": {
      "needs_background": "light"
     },
     "output_type": "display_data"
    }
   ],
   "source": [
    "sns.distplot(df['registrationyear'])\n",
    "plt.title(\"Год регистрации\")\n",
    "plt.show()"
   ]
  },
  {
   "cell_type": "code",
   "execution_count": 9,
   "metadata": {},
   "outputs": [
    {
     "data": {
      "image/png": "[encoded data removed]",
      "text/plain": [
       "<Figure size 432x288 with 1 Axes>"
      ]
     },
     "metadata": {
      "needs_background": "light"
     },
     "output_type": "display_data"
    }
   ],
   "source": [
    "sns.distplot(df['registrationmonth'])\n",
    "plt.title(\"Месяц регистрации\")\n",
    "plt.show()\n",
    "#Есть нулевое значение, но это не так важно. Можно оставить."
   ]
  },
  {
   "cell_type": "code",
   "execution_count": 10,
   "metadata": {
    "scrolled": true
   },
   "outputs": [],
   "source": [
    "   \n",
    "fill_nan(df,['brand','model'] , 'notrepaired')\n",
    "fill_nan(df,['brand','model'] , 'vehicletype')\n",
    "fill_nan(df,['brand','model'] , 'gearbox')\n",
    "fill_nan(df,['brand','model'] , 'fueltype')\n",
    "\n",
    "# если что-то не подставилось, то удалить \n",
    "df.dropna(inplace = True)\n",
    "\n",
    "#дату выгрузки лучше перенести в год, так как в разрезе годов цена на одни и те же авто могут ооочень сильно отлличаться\n",
    "df['date'] = pd.to_datetime(df['datecrawled'])\n",
    "df['yearcrawled'] =  df['date'].dt.year\n",
    "\n",
    "# удаляю явно ненужные колокни \n",
    "df = df.drop(['mean_year', 'month', 'year', 'date', 'lastseen', 'datecrawled', 'datecreated', 'registrationmonth'] , axis = 1)"
   ]
  },
  {
   "cell_type": "code",
   "execution_count": 11,
   "metadata": {},
   "outputs": [
    {
     "name": "stdout",
     "output_type": "stream",
     "text": [
      "Нулевых записей power до обработки 29307\n",
      "Нулевых записей power после обработки 0\n",
      "Нулевых записей kilometer до обработки 0\n",
      "Нулевых записей kilometer после обработки 0\n"
     ]
    }
   ],
   "source": [
    "#Проверка 0 значения, где они должны быть\n",
    "fill_zero(df,['brand','model'] ,'power')\n",
    "fill_zero(df,['brand','model', 'registrationyear'] ,'kilometer')"
   ]
  },
  {
   "cell_type": "code",
   "execution_count": 12,
   "metadata": {},
   "outputs": [
    {
     "name": "stdout",
     "output_type": "stream",
     "text": [
      "Колонка price, должно быть изменено 10566 строк\n",
      "Колонка kilometer, должно быть изменено 29221 строк\n",
      "Колонка power, должно быть изменено 22590 строк\n"
     ]
    }
   ],
   "source": [
    "# На данном этапе проверяю какие есть выбросы в рамках группировок\n",
    "# По их количеству будет понятно, удалять записи или нет \n",
    "delete_v(df, ['price','kilometer', 'power'],[],['brand','model', 'registrationyear'], False)"
   ]
  },
  {
   "cell_type": "code",
   "execution_count": 13,
   "metadata": {
    "scrolled": true
   },
   "outputs": [
    {
     "name": "stdout",
     "output_type": "stream",
     "text": [
      "Колонка price, изменено 10566 строк\n",
      "Колонка kilometer, изменено 29221 строк\n",
      "Колонка power, изменено 22590 строк\n",
      "Всего удалено 54604 строк\n"
     ]
    }
   ],
   "source": [
    "# километраж явно больше выбивается. Либо скручивали, либо какие-то ошибки.\n",
    "# создам таблицу без выбросов. Проверю модели на исходной и этой. \n",
    "df_v = delete_v(df, ['price','kilometer', 'power'],[],['brand','model', 'registrationyear'])"
   ]
  },
  {
   "cell_type": "code",
   "execution_count": 14,
   "metadata": {},
   "outputs": [
    {
     "name": "stdout",
     "output_type": "stream",
     "text": [
      "Таблица с выбросами\n",
      "<class 'pandas.core.frame.DataFrame'>\n",
      "Int64Index: 316052 entries, 0 to 354368\n",
      "Data columns (total 13 columns):\n",
      "price               316052 non-null int64\n",
      "vehicletype         316052 non-null object\n",
      "registrationyear    316052 non-null int64\n",
      "gearbox             316052 non-null object\n",
      "power               316052 non-null int64\n",
      "model               316052 non-null object\n",
      "kilometer           316052 non-null int64\n",
      "fueltype            316052 non-null object\n",
      "brand               316052 non-null object\n",
      "notrepaired         316052 non-null object\n",
      "numberofpictures    316052 non-null int64\n",
      "postalcode          316052 non-null int64\n",
      "yearcrawled         316052 non-null int64\n",
      "dtypes: int64(7), object(6)\n",
      "memory usage: 33.8+ MB\n",
      "\n",
      "Таблица без выбросов\n",
      "<class 'pandas.core.frame.DataFrame'>\n",
      "Int64Index: 261448 entries, 0 to 354368\n",
      "Data columns (total 13 columns):\n",
      "price               261448 non-null float64\n",
      "vehicletype         261448 non-null object\n",
      "registrationyear    261448 non-null int64\n",
      "gearbox             261448 non-null object\n",
      "power               261448 non-null float64\n",
      "model               261448 non-null object\n",
      "kilometer           261448 non-null float64\n",
      "fueltype            261448 non-null object\n",
      "brand               261448 non-null object\n",
      "notrepaired         261448 non-null object\n",
      "numberofpictures    261448 non-null int64\n",
      "postalcode          261448 non-null int64\n",
      "yearcrawled         261448 non-null int64\n",
      "dtypes: float64(3), int64(4), object(6)\n",
      "memory usage: 27.9+ MB\n"
     ]
    }
   ],
   "source": [
    "print(\"Таблица с выбросами\")\n",
    "df.info()\n",
    "print()\n",
    "print(\"Таблица без выбросов\")\n",
    "df_v.info()"
   ]
  },
  {
   "cell_type": "markdown",
   "metadata": {},
   "source": [
    "### Вывод"
   ]
  },
  {
   "cell_type": "markdown",
   "metadata": {},
   "source": [
    "Была исследована таблица с данными. Данные по колонкам в одинаковом регистре. Удалены незаполненые модели, так как у бренда их может быть много. \n",
    "\n",
    "С числовыми данными дела гораздо хуже. Год регистрации бывает больше года последней активности пользователя, что явно некорректно. Также слишком ранние даты. Их немного, поэтому удалил, так как явно год сильно влияет на стоимость авто. \n",
    "\n",
    "Сделал таблицу без выбросов. Модели буду проверять на исходной и новой."
   ]
  },
  {
   "cell_type": "markdown",
   "metadata": {},
   "source": [
    "## Обучение моделей"
   ]
  },
  {
   "cell_type": "code",
   "execution_count": 15,
   "metadata": {},
   "outputs": [],
   "source": [
    "result = pd.DataFrame({'score':[],'name':[],'type':[],'model':[],'time_fit':[]})"
   ]
  },
  {
   "cell_type": "code",
   "execution_count": 16,
   "metadata": {},
   "outputs": [],
   "source": [
    "df_d = pd.get_dummies(df, df.dtypes[df.dtypes == 'object'].index.tolist() , drop_first=True)\n",
    "df_v_d = pd.get_dummies(df_v, df_v.dtypes[df_v.dtypes == 'object'].index.tolist(), drop_first=True )\n"
   ]
  },
  {
   "cell_type": "code",
   "execution_count": 17,
   "metadata": {},
   "outputs": [],
   "source": [
    "x = df_d.drop(['price'], axis=1)\n",
    "y = df_d['price']\n",
    "\n",
    "\n",
    "def get_test_train_x_y(x, y, d_test_data, i):\n",
    "    x_test,  x_train, y_test, y_train = train_test_split(x, y, \n",
    "                                                        train_size=0.25, \n",
    "                                                        random_state=10, shuffle = True)\n",
    "    numeric = ['kilometer']\n",
    "    # Масштабирую значения\n",
    "    x_train, x_test = mashtab(x_train, x_test,numeric)\n",
    "    # так как местоположение может очень сильно влиять на цену, то нужно сгруппировать.\n",
    "    # Идеально группировать по цене, но это целевое значение.\n",
    "    # можно предположить, что чем богаче район и дороже машины\n",
    "    # тем больше мощность авто. Поэтому сделайю кластеризацию районов, по медианной мощности машин. \n",
    "    dbscan = DBSCAN(eps = 0.2, min_samples = 1)\n",
    "    x = pd.DataFrame(x_train.groupby('postalcode')['power'].median())\n",
    "    y = dbscan.fit_predict(x)\n",
    "    y = pd.DataFrame(pd.Series(y, index = x.index)).reset_index()\n",
    "    y.columns = ['postalcode', 'gr_postal']\n",
    "    x_train = pd.merge(x_train, y, on='postalcode', how=\"left\")\n",
    "    x_train.drop(['postalcode'], axis=1, inplace = True)\n",
    "    # тестовая\n",
    "    x = pd.DataFrame(x_test.groupby('postalcode')['power'].median())\n",
    "    y = dbscan.fit_predict(x)\n",
    "    y = pd.DataFrame(pd.Series(y, index = x.index)).reset_index()\n",
    "    y.columns = ['postalcode', 'gr_postal']\n",
    "    x_test = pd.merge(x_test, y, on='postalcode', how=\"left\")    \n",
    "    \n",
    "    # удалить у кого корреляция больше 0.75\n",
    "    corr_matrix = x_train.corr().abs()\n",
    "    upper = corr_matrix.where(np.triu(np.ones(corr_matrix.shape), k=1).astype(np.bool))\n",
    "    to_drop = [column for column in upper.columns if any(upper[column] >= 0.75)] \n",
    "    x_train.drop(to_drop, axis=1, inplace = True)\n",
    "    \n",
    "    # удаляю ненужные колонки\n",
    "    set_train = set(x_train.columns)\n",
    "    set_test = set(x_test.columns)\n",
    "    x_test.drop(list(set_test.difference(set_train)) , axis = 1, inplace = True)\n",
    "    d_test_data[i] = [x_test, y_test]\n",
    "    return [x_train, x_test, y_train, y_test]\n",
    "d_test_data = {}    \n",
    "x_train, x_test, y_train, y_test = get_test_train_x_y(x, y, d_test_data, 1)\n",
    "\n",
    "# Наборы без выбросов\n",
    "x = df_v_d.drop(['price'], axis=1)\n",
    "y = df_v_d['price']\n",
    "x_v_train, x_v_test, y_v_train, y_v_test = get_test_train_x_y(x, y, d_test_data, 2)\n",
    "\n",
    "# Наборы без выбросов, где категориальные переменные обрабатываются самим регрессором\n",
    "df_ = df_v.copy()\n",
    "for c in df_.dtypes[df_.dtypes == 'object'].index.tolist():\n",
    "    df_[c] = df_[c].astype('category')\n",
    "\n",
    "x = df_.drop(['price'], axis=1)\n",
    "y = df_['price']\n",
    "x_v_kat_train, x_v_kat_test, y_v_kat_train, y_v_kat_test = get_test_train_x_y(x, y, d_test_data, 3)\n",
    "\n",
    "# Наборы с выбросами, где категориальные переменные обрабатываются самим регрессором\n",
    "df_ = df.copy()\n",
    "for c in df_.dtypes[df_.dtypes == 'object'].index.tolist():\n",
    "    df_[c] = df_[c].astype('category')\n",
    "\n",
    "x = df_.drop(['price'], axis=1)\n",
    "y = df_['price']\n",
    "x_kat_train, x_kat_test, y_kat_train, y_kat_test = get_test_train_x_y(x, y, d_test_data, 4)\n",
    "\n"
   ]
  },
  {
   "cell_type": "code",
   "execution_count": 18,
   "metadata": {},
   "outputs": [
    {
     "name": "stdout",
     "output_type": "stream",
     "text": [
      "CPU times: user 5 µs, sys: 0 ns, total: 5 µs\n",
      "Wall time: 9.3 µs\n"
     ]
    }
   ],
   "source": [
    "%%time\n",
    "# очень долго делается, иногда возникает сообщение, что ядро не отвечает, всё заново\n",
    "# но выдавал самые лучшие результаты\n",
    "#param_grid = {\n",
    "#    # 'max_depth': range(4,7) ,\n",
    "#    'n_estimators': [50, 100, 200] }\n",
    "\n",
    "#result = gridsearch(result, 'RandomForestRegressor (С выбросами)',RandomForestRegressor, param_grid, {}, x_train, y_train)\n",
    "#result = gridsearch(result, 'RandomForestRegressor (Без выбросов)',RandomForestRegressor, param_grid, {}, x_v_train, y_v_train)"
   ]
  },
  {
   "cell_type": "code",
   "execution_count": 19,
   "metadata": {},
   "outputs": [],
   "source": [
    "param_grid = {'max_depth': range(4,7),\n",
    "             'learning_rate': [0.001, 0.01, 0.1]} \n",
    "result = gridsearch(result, 'LGBMRegressor (С выбросами)', 1,LGBMRegressor, param_grid, {}, x_train, y_train)\n",
    "result = gridsearch(result, 'LGBMRegressor (Без выбросов)', 2,LGBMRegressor, param_grid, {}, x_v_train, y_v_train)"
   ]
  },
  {
   "cell_type": "code",
   "execution_count": 20,
   "metadata": {
    "scrolled": false
   },
   "outputs": [],
   "source": [
    "param_grid = {'fit_intercept': [True]}\n",
    "result = gridsearch(result, 'LinearRegression (С выбросами)', 1, LinearRegression, param_grid, {}, x_train, y_train)\n",
    "result = gridsearch(result, 'LinearRegression (Без выбросов)', 2, LinearRegression, param_grid, {}, x_v_train, y_v_train)"
   ]
  },
  {
   "cell_type": "code",
   "execution_count": 21,
   "metadata": {},
   "outputs": [],
   "source": [
    "param_grid = {'max_depth': range(4,7),\n",
    "             'learning_rate': [0.001, 0.01, 0.1]} \n",
    "result = gridsearch(result, 'LGBMRegressor (С выбросами, без OHE)', 4,LGBMRegressor, param_grid, {}, x_kat_train, y_kat_train)\n",
    "result = gridsearch(result, 'LGBMRegressor (Без выбросов, без OHE)', 3,LGBMRegressor, param_grid, {}, x_v_kat_train, y_v_kat_train)"
   ]
  },
  {
   "cell_type": "code",
   "execution_count": 22,
   "metadata": {},
   "outputs": [
    {
     "data": {
      "text/html": [
       "<div>\n",
       "<style scoped>\n",
       "    .dataframe tbody tr th:only-of-type {\n",
       "        vertical-align: middle;\n",
       "    }\n",
       "\n",
       "    .dataframe tbody tr th {\n",
       "        vertical-align: top;\n",
       "    }\n",
       "\n",
       "    .dataframe thead th {\n",
       "        text-align: right;\n",
       "    }\n",
       "</style>\n",
       "<table border=\"1\" class=\"dataframe\">\n",
       "  <thead>\n",
       "    <tr style=\"text-align: right;\">\n",
       "      <th></th>\n",
       "      <th>score</th>\n",
       "      <th>name</th>\n",
       "      <th>type</th>\n",
       "      <th>model</th>\n",
       "      <th>time_fit</th>\n",
       "    </tr>\n",
       "  </thead>\n",
       "  <tbody>\n",
       "    <tr>\n",
       "      <td>0</td>\n",
       "      <td>7.919367e+06</td>\n",
       "      <td>LGBMRegressor (С выбросами)</td>\n",
       "      <td>1.0</td>\n",
       "      <td>LGBMRegressor(boosting_type='gbdt', class_weig...</td>\n",
       "      <td>10.187693</td>\n",
       "    </tr>\n",
       "    <tr>\n",
       "      <td>1</td>\n",
       "      <td>6.950131e+06</td>\n",
       "      <td>LGBMRegressor (Без выбросов)</td>\n",
       "      <td>2.0</td>\n",
       "      <td>LGBMRegressor(boosting_type='gbdt', class_weig...</td>\n",
       "      <td>11.189311</td>\n",
       "    </tr>\n",
       "    <tr>\n",
       "      <td>2</td>\n",
       "      <td>2.828902e+09</td>\n",
       "      <td>LinearRegression (С выбросами)</td>\n",
       "      <td>1.0</td>\n",
       "      <td>LinearRegression(copy_X=True, fit_intercept=Tr...</td>\n",
       "      <td>25.478490</td>\n",
       "    </tr>\n",
       "    <tr>\n",
       "      <td>3</td>\n",
       "      <td>5.725829e+06</td>\n",
       "      <td>LinearRegression (Без выбросов)</td>\n",
       "      <td>2.0</td>\n",
       "      <td>LinearRegression(copy_X=True, fit_intercept=Tr...</td>\n",
       "      <td>19.695729</td>\n",
       "    </tr>\n",
       "    <tr>\n",
       "      <td>4</td>\n",
       "      <td>7.610115e+06</td>\n",
       "      <td>LGBMRegressor (С выбросами, без OHE)</td>\n",
       "      <td>4.0</td>\n",
       "      <td>LGBMRegressor(boosting_type='gbdt', class_weig...</td>\n",
       "      <td>100.007705</td>\n",
       "    </tr>\n",
       "    <tr>\n",
       "      <td>5</td>\n",
       "      <td>6.612491e+06</td>\n",
       "      <td>LGBMRegressor (Без выбросов, без OHE)</td>\n",
       "      <td>3.0</td>\n",
       "      <td>LGBMRegressor(boosting_type='gbdt', class_weig...</td>\n",
       "      <td>6.101556</td>\n",
       "    </tr>\n",
       "  </tbody>\n",
       "</table>\n",
       "</div>"
      ],
      "text/plain": [
       "          score                                   name  type  \\\n",
       "0  7.919367e+06            LGBMRegressor (С выбросами)   1.0   \n",
       "1  6.950131e+06           LGBMRegressor (Без выбросов)   2.0   \n",
       "2  2.828902e+09         LinearRegression (С выбросами)   1.0   \n",
       "3  5.725829e+06        LinearRegression (Без выбросов)   2.0   \n",
       "4  7.610115e+06   LGBMRegressor (С выбросами, без OHE)   4.0   \n",
       "5  6.612491e+06  LGBMRegressor (Без выбросов, без OHE)   3.0   \n",
       "\n",
       "                                               model    time_fit  \n",
       "0  LGBMRegressor(boosting_type='gbdt', class_weig...   10.187693  \n",
       "1  LGBMRegressor(boosting_type='gbdt', class_weig...   11.189311  \n",
       "2  LinearRegression(copy_X=True, fit_intercept=Tr...   25.478490  \n",
       "3  LinearRegression(copy_X=True, fit_intercept=Tr...   19.695729  \n",
       "4  LGBMRegressor(boosting_type='gbdt', class_weig...  100.007705  \n",
       "5  LGBMRegressor(boosting_type='gbdt', class_weig...    6.101556  "
      ]
     },
     "execution_count": 22,
     "metadata": {},
     "output_type": "execute_result"
    }
   ],
   "source": [
    "result"
   ]
  },
  {
   "cell_type": "markdown",
   "metadata": {},
   "source": [
    "### Вывод"
   ]
  },
  {
   "cell_type": "markdown",
   "metadata": {},
   "source": [
    "Были обучены 3 модели, каждая на 2х датасетах. Обычная линейная регрессия и регресии c градиентным бустингом. Ещё модель на случайном лесе на тестовых данных давала наилучшие результаты, но считалась не менее 4 часов, и не всегда, поэтому я не стал её сюда добавлять.\n",
    "\n",
    "Категориальные переменные были преобразованы в числовые по OHE, для одной модели такие переменные отрабатывались в самой модели. Километраж мог сильно варьироваться, поэтому его масштабировал. Районы по почтовому индексу кластеризировал по мощности мотора, исходя из предположения, что более мощные машины более дорогие, а значит сконцетрированы в более хороших районах. Также удалены коррелирующие столбцы."
   ]
  },
  {
   "cell_type": "markdown",
   "metadata": {},
   "source": [
    "## Анализ моделей"
   ]
  },
  {
   "cell_type": "code",
   "execution_count": 23,
   "metadata": {
    "scrolled": false
   },
   "outputs": [
    {
     "data": {
      "text/html": [
       "<div>\n",
       "<style scoped>\n",
       "    .dataframe tbody tr th:only-of-type {\n",
       "        vertical-align: middle;\n",
       "    }\n",
       "\n",
       "    .dataframe tbody tr th {\n",
       "        vertical-align: top;\n",
       "    }\n",
       "\n",
       "    .dataframe thead th {\n",
       "        text-align: right;\n",
       "    }\n",
       "</style>\n",
       "<table border=\"1\" class=\"dataframe\">\n",
       "  <thead>\n",
       "    <tr style=\"text-align: right;\">\n",
       "      <th></th>\n",
       "      <th>name</th>\n",
       "      <th>y_score</th>\n",
       "      <th>time_predict</th>\n",
       "      <th>time_fit</th>\n",
       "    </tr>\n",
       "  </thead>\n",
       "  <tbody>\n",
       "    <tr>\n",
       "      <td>3</td>\n",
       "      <td>LinearRegression (Без выбросов)</td>\n",
       "      <td>2384.709690</td>\n",
       "      <td>0.279421</td>\n",
       "      <td>19.695729</td>\n",
       "    </tr>\n",
       "    <tr>\n",
       "      <td>5</td>\n",
       "      <td>LGBMRegressor (Без выбросов, без OHE)</td>\n",
       "      <td>2578.872444</td>\n",
       "      <td>0.506176</td>\n",
       "      <td>6.101556</td>\n",
       "    </tr>\n",
       "    <tr>\n",
       "      <td>1</td>\n",
       "      <td>LGBMRegressor (Без выбросов)</td>\n",
       "      <td>2649.475801</td>\n",
       "      <td>0.784965</td>\n",
       "      <td>11.189311</td>\n",
       "    </tr>\n",
       "    <tr>\n",
       "      <td>2</td>\n",
       "      <td>LinearRegression (С выбросами)</td>\n",
       "      <td>2725.326726</td>\n",
       "      <td>0.117135</td>\n",
       "      <td>25.478490</td>\n",
       "    </tr>\n",
       "    <tr>\n",
       "      <td>4</td>\n",
       "      <td>LGBMRegressor (С выбросами, без OHE)</td>\n",
       "      <td>2738.112222</td>\n",
       "      <td>0.797876</td>\n",
       "      <td>100.007705</td>\n",
       "    </tr>\n",
       "    <tr>\n",
       "      <td>0</td>\n",
       "      <td>LGBMRegressor (С выбросами)</td>\n",
       "      <td>2795.717612</td>\n",
       "      <td>0.817397</td>\n",
       "      <td>10.187693</td>\n",
       "    </tr>\n",
       "  </tbody>\n",
       "</table>\n",
       "</div>"
      ],
      "text/plain": [
       "                                    name      y_score  time_predict  \\\n",
       "3        LinearRegression (Без выбросов)  2384.709690      0.279421   \n",
       "5  LGBMRegressor (Без выбросов, без OHE)  2578.872444      0.506176   \n",
       "1           LGBMRegressor (Без выбросов)  2649.475801      0.784965   \n",
       "2         LinearRegression (С выбросами)  2725.326726      0.117135   \n",
       "4   LGBMRegressor (С выбросами, без OHE)  2738.112222      0.797876   \n",
       "0            LGBMRegressor (С выбросами)  2795.717612      0.817397   \n",
       "\n",
       "     time_fit  \n",
       "3   19.695729  \n",
       "5    6.101556  \n",
       "1   11.189311  \n",
       "2   25.478490  \n",
       "4  100.007705  \n",
       "0   10.187693  "
      ]
     },
     "metadata": {},
     "output_type": "display_data"
    },
    {
     "name": "stdout",
     "output_type": "stream",
     "text": [
      "RMSE простой модель для данных с выбросами: 4548.592318669816\n",
      "RMSE простой модель для данных без выбросов: 4488.435405719058\n"
     ]
    }
   ],
   "source": [
    "def get_xy(type, x):\n",
    "    if x:       \n",
    "        if type == 1:\n",
    "            return x_test\n",
    "        elif type == 2:\n",
    "            return x_v_test\n",
    "        elif type == 3:\n",
    "            return x_v_kat_test\n",
    "        elif type == 4:\n",
    "            return x_kat_test\n",
    "    else:\n",
    "        if type == 1:\n",
    "            return pd.DataFrame(y_test)\n",
    "        elif type == 2:\n",
    "            return pd.DataFrame(y_v_test)\n",
    "        elif type == 3:\n",
    "            return pd.DataFrame(y_v_kat_test)\n",
    "        elif type == 4:\n",
    "            return pd.DataFrame(y_kat_test) \n",
    "\n",
    "result['x_'] = result.apply(lambda x: get_xy(x['type'], True), axis=1)\n",
    "result['y_'] = result.apply(lambda x: get_xy(x['type'], False), axis=1)\n",
    "result['time_predict'] = 0\n",
    "\n",
    "d = {}\n",
    "def predict(x,d):\n",
    "    start_time = timeit.default_timer()\n",
    "    s = x.model.predict(x.x_)\n",
    "    d[x.name] = timeit.default_timer() - start_time\n",
    "    return s\n",
    "result['predict'] = result.apply(lambda x: predict(x,d), axis=1)\n",
    "\n",
    "for i in d.keys():\n",
    "    result.loc[i,'time_predict'] = d[i]\n",
    "    \n",
    "result['y_score'] = result.apply(lambda x:  mean_squared_error(x.predict, x.y_)**0.5 , axis=1)\n",
    "result= result.sort_values(by = 'y_score', ascending = True)\n",
    "\n",
    "display(result[['name', 'y_score', 'time_predict', 'time_fit']])\n",
    "\n",
    "d = DummyRegressor(strategy=\"mean\")\n",
    "d.fit(x_train, y_train)\n",
    "print('RMSE простой модель для данных с выбросами:', mean_squared_error(d.predict(x_test), y_test)**0.5)\n",
    "\n",
    "d = DummyRegressor(strategy=\"mean\")\n",
    "d.fit(x_v_train, y_v_train)\n",
    "print('RMSE простой модель для данных без выбросов:', mean_squared_error(d.predict(x_v_test), y_v_test)**0.5)\n"
   ]
  },
  {
   "cell_type": "markdown",
   "metadata": {},
   "source": [
    "### Вывод"
   ]
  },
  {
   "cell_type": "markdown",
   "metadata": {},
   "source": [
    "Обычная линейная регрессия на данных без выбросов показала наилучший результат. \n",
    "\n",
    "По скорости обучения LGBM был быстрее если категориальные переменные обрабатывать в самой модели и без выбросов. Если через OHE, то не быстрее лиенейно регресии. По скорости предсказания - линейная регрессия самая быстрая чего и стоило ожидать.\n",
    "\n",
    "Любая модель показала гораздо лучший результат по сравнению с дамми моделью, что хорошо."
   ]
  }
 ],
 "metadata": {
  "ExecuteTimeLog": [
   {
    "duration": 4,
    "start_time": "2021-08-27T02:48:35.606Z"
   },
   {
    "duration": 867,
    "start_time": "2021-08-27T02:48:35.613Z"
   },
   {
    "duration": 136,
    "start_time": "2021-08-27T02:48:43.084Z"
   },
   {
    "duration": 132,
    "start_time": "2021-08-27T02:52:07.041Z"
   },
   {
    "duration": 108,
    "start_time": "2021-08-27T02:53:56.144Z"
   },
   {
    "duration": 4,
    "start_time": "2021-08-27T02:53:59.863Z"
   },
   {
    "duration": 5,
    "start_time": "2021-08-27T02:54:13.256Z"
   },
   {
    "duration": 5,
    "start_time": "2021-08-27T02:54:17.536Z"
   },
   {
    "duration": 5,
    "start_time": "2021-08-27T02:55:22.480Z"
   },
   {
    "duration": 5,
    "start_time": "2021-08-27T02:55:28.991Z"
   },
   {
    "duration": 5,
    "start_time": "2021-08-27T02:55:38.759Z"
   },
   {
    "duration": 39,
    "start_time": "2021-08-27T02:58:11.381Z"
   },
   {
    "duration": 47,
    "start_time": "2021-08-27T02:58:18.454Z"
   },
   {
    "duration": 89,
    "start_time": "2021-08-27T03:02:05.601Z"
   },
   {
    "duration": 4,
    "start_time": "2021-08-27T03:02:12.865Z"
   },
   {
    "duration": 38,
    "start_time": "2021-08-27T03:02:45.121Z"
   },
   {
    "duration": 949,
    "start_time": "2021-08-27T03:03:34.433Z"
   },
   {
    "duration": 4,
    "start_time": "2021-08-27T03:03:48.943Z"
   },
   {
    "duration": 1013,
    "start_time": "2021-08-27T03:03:53.215Z"
   },
   {
    "duration": 969,
    "start_time": "2021-08-27T03:16:49.608Z"
   },
   {
    "duration": 41,
    "start_time": "2021-08-27T03:26:27.991Z"
   },
   {
    "duration": 382,
    "start_time": "2021-08-27T03:27:19.960Z"
   },
   {
    "duration": 88,
    "start_time": "2021-08-27T03:27:43.264Z"
   },
   {
    "duration": 137,
    "start_time": "2021-08-27T03:34:16.992Z"
   },
   {
    "duration": 169,
    "start_time": "2021-08-27T03:36:20.431Z"
   },
   {
    "duration": 73,
    "start_time": "2021-08-27T03:36:38.053Z"
   },
   {
    "duration": 5,
    "start_time": "2021-08-27T03:37:43.766Z"
   },
   {
    "duration": 270,
    "start_time": "2021-08-27T03:37:53.973Z"
   },
   {
    "duration": 285,
    "start_time": "2021-08-27T03:37:58.839Z"
   },
   {
    "duration": 359,
    "start_time": "2021-08-27T03:38:03.060Z"
   },
   {
    "duration": 267,
    "start_time": "2021-08-27T03:38:17.303Z"
   },
   {
    "duration": 108,
    "start_time": "2021-08-27T03:38:34.567Z"
   },
   {
    "duration": 167,
    "start_time": "2021-08-27T03:40:00.453Z"
   },
   {
    "duration": 185,
    "start_time": "2021-08-27T03:41:31.624Z"
   },
   {
    "duration": 480,
    "start_time": "2021-08-27T03:42:07.592Z"
   },
   {
    "duration": 345,
    "start_time": "2021-08-27T03:42:12.085Z"
   },
   {
    "duration": 338,
    "start_time": "2021-08-27T03:42:24.790Z"
   },
   {
    "duration": 375,
    "start_time": "2021-08-27T03:42:31.069Z"
   },
   {
    "duration": 302,
    "start_time": "2021-08-27T03:44:42.277Z"
   },
   {
    "duration": 581,
    "start_time": "2021-08-27T03:46:08.029Z"
   },
   {
    "duration": 581,
    "start_time": "2021-08-27T03:46:45.662Z"
   },
   {
    "duration": 4,
    "start_time": "2021-08-27T03:48:59.277Z"
   },
   {
    "duration": 585,
    "start_time": "2021-08-27T03:49:02.168Z"
   },
   {
    "duration": 594,
    "start_time": "2021-08-27T03:49:08.005Z"
   },
   {
    "duration": 336,
    "start_time": "2021-08-27T03:49:22.532Z"
   },
   {
    "duration": 330,
    "start_time": "2021-08-27T03:49:26.342Z"
   },
   {
    "duration": 323,
    "start_time": "2021-08-27T03:49:50.356Z"
   },
   {
    "duration": 332,
    "start_time": "2021-08-27T03:51:40.752Z"
   },
   {
    "duration": -1117,
    "start_time": "2021-08-27T03:59:42.440Z"
   },
   {
    "duration": 376,
    "start_time": "2021-08-27T04:01:04.851Z"
   },
   {
    "duration": 623,
    "start_time": "2021-08-27T04:01:49.606Z"
   },
   {
    "duration": 403,
    "start_time": "2021-08-27T04:02:02.427Z"
   },
   {
    "duration": 8255,
    "start_time": "2021-08-27T04:03:57.823Z"
   },
   {
    "duration": 677,
    "start_time": "2021-08-27T04:04:19.878Z"
   },
   {
    "duration": 419,
    "start_time": "2021-08-27T04:04:35.294Z"
   },
   {
    "duration": 429,
    "start_time": "2021-08-27T04:04:42.070Z"
   },
   {
    "duration": 441,
    "start_time": "2021-08-27T04:04:56.391Z"
   },
   {
    "duration": 411,
    "start_time": "2021-08-27T04:05:01.854Z"
   },
   {
    "duration": 445,
    "start_time": "2021-08-27T04:05:07.896Z"
   },
   {
    "duration": 92,
    "start_time": "2021-08-27T04:05:13.224Z"
   },
   {
    "duration": 744,
    "start_time": "2021-08-27T04:05:28.285Z"
   },
   {
    "duration": 832,
    "start_time": "2021-08-27T04:14:32.043Z"
   },
   {
    "duration": 409,
    "start_time": "2021-08-27T04:14:41.757Z"
   },
   {
    "duration": 454,
    "start_time": "2021-08-27T04:16:58.640Z"
   },
   {
    "duration": 75,
    "start_time": "2021-08-27T04:20:35.802Z"
   },
   {
    "duration": 69,
    "start_time": "2021-08-27T04:20:55.274Z"
   },
   {
    "duration": 456,
    "start_time": "2021-08-27T04:21:18.871Z"
   },
   {
    "duration": 7633,
    "start_time": "2021-08-27T04:21:58.158Z"
   },
   {
    "duration": 449,
    "start_time": "2021-08-27T04:22:16.991Z"
   },
   {
    "duration": 6757,
    "start_time": "2021-08-27T04:22:36.827Z"
   },
   {
    "duration": 6,
    "start_time": "2021-08-27T04:22:50.998Z"
   },
   {
    "duration": 5,
    "start_time": "2021-08-27T04:23:25.371Z"
   },
   {
    "duration": 117,
    "start_time": "2021-08-27T04:30:18.188Z"
   },
   {
    "duration": 86,
    "start_time": "2021-08-27T04:30:21.861Z"
   },
   {
    "duration": 87,
    "start_time": "2021-08-27T04:30:38.699Z"
   },
   {
    "duration": 99,
    "start_time": "2021-08-27T04:32:18.062Z"
   },
   {
    "duration": 86,
    "start_time": "2021-08-27T04:32:37.933Z"
   },
   {
    "duration": 822,
    "start_time": "2021-08-27T04:32:40.891Z"
   },
   {
    "duration": 727,
    "start_time": "2021-08-27T04:32:51.467Z"
   },
   {
    "duration": 810,
    "start_time": "2021-08-27T04:33:47.403Z"
   },
   {
    "duration": 650,
    "start_time": "2021-08-27T04:34:21.674Z"
   },
   {
    "duration": 120,
    "start_time": "2021-08-27T04:34:22.731Z"
   },
   {
    "duration": 891,
    "start_time": "2021-08-27T04:34:25.618Z"
   },
   {
    "duration": 48,
    "start_time": "2021-08-27T04:34:27.756Z"
   },
   {
    "duration": 2239,
    "start_time": "2021-08-27T04:36:05.510Z"
   },
   {
    "duration": 735,
    "start_time": "2021-08-27T04:36:26.429Z"
   },
   {
    "duration": 97,
    "start_time": "2021-08-27T04:37:08.029Z"
   },
   {
    "duration": 592,
    "start_time": "2021-08-27T04:37:59.501Z"
   },
   {
    "duration": 526,
    "start_time": "2021-08-27T04:38:40.027Z"
   },
   {
    "duration": 498,
    "start_time": "2021-08-27T04:39:01.556Z"
   },
   {
    "duration": 459,
    "start_time": "2021-08-27T04:39:06.324Z"
   },
   {
    "duration": 391,
    "start_time": "2021-08-27T04:39:10.293Z"
   },
   {
    "duration": 570,
    "start_time": "2021-08-27T04:39:21.467Z"
   },
   {
    "duration": 583,
    "start_time": "2021-08-27T04:39:24.299Z"
   },
   {
    "duration": 817,
    "start_time": "2021-08-27T04:47:44.819Z"
   },
   {
    "duration": 979,
    "start_time": "2021-08-27T04:48:01.011Z"
   },
   {
    "duration": 636,
    "start_time": "2021-08-27T04:48:08.243Z"
   },
   {
    "duration": 633,
    "start_time": "2021-08-27T04:48:18.138Z"
   },
   {
    "duration": 640,
    "start_time": "2021-08-27T04:48:26.611Z"
   },
   {
    "duration": 90,
    "start_time": "2021-08-27T04:49:07.171Z"
   },
   {
    "duration": 640,
    "start_time": "2021-08-27T04:49:10.387Z"
   },
   {
    "duration": 692,
    "start_time": "2021-08-27T04:49:22.354Z"
   },
   {
    "duration": 655,
    "start_time": "2021-08-27T04:50:05.564Z"
   },
   {
    "duration": 530,
    "start_time": "2021-08-27T04:50:13.396Z"
   },
   {
    "duration": 532,
    "start_time": "2021-08-27T04:51:54.065Z"
   },
   {
    "duration": 549,
    "start_time": "2021-08-27T04:51:55.272Z"
   },
   {
    "duration": 270,
    "start_time": "2021-08-27T04:52:23.290Z"
   },
   {
    "duration": 3,
    "start_time": "2021-08-27T04:52:26.405Z"
   },
   {
    "duration": 682,
    "start_time": "2021-08-27T04:52:27.193Z"
   },
   {
    "duration": 116,
    "start_time": "2021-08-27T04:52:27.877Z"
   },
   {
    "duration": 881,
    "start_time": "2021-08-27T04:52:29.505Z"
   },
   {
    "duration": 49,
    "start_time": "2021-08-27T04:52:32.457Z"
   },
   {
    "duration": 566,
    "start_time": "2021-08-27T04:52:33.051Z"
   },
   {
    "duration": 274,
    "start_time": "2021-08-27T04:52:35.009Z"
   },
   {
    "duration": 104,
    "start_time": "2021-08-27T04:52:50.713Z"
   },
   {
    "duration": 9,
    "start_time": "2021-08-27T04:53:49.123Z"
   },
   {
    "duration": 5,
    "start_time": "2021-08-27T04:54:01.498Z"
   },
   {
    "duration": 82,
    "start_time": "2021-08-27T04:54:09.330Z"
   },
   {
    "duration": 34,
    "start_time": "2021-08-27T04:54:16.961Z"
   },
   {
    "duration": 279,
    "start_time": "2021-08-27T04:54:51.857Z"
   },
   {
    "duration": 105,
    "start_time": "2021-08-27T04:55:20.954Z"
   },
   {
    "duration": 91,
    "start_time": "2021-08-27T04:56:30.880Z"
   },
   {
    "duration": 102,
    "start_time": "2021-08-27T04:59:11.984Z"
   },
   {
    "duration": 88,
    "start_time": "2021-08-27T04:59:49.185Z"
   },
   {
    "duration": 92,
    "start_time": "2021-08-27T04:59:53.513Z"
   },
   {
    "duration": 85,
    "start_time": "2021-08-27T04:59:56.386Z"
   },
   {
    "duration": 89,
    "start_time": "2021-08-27T04:59:59.625Z"
   },
   {
    "duration": 96,
    "start_time": "2021-08-27T05:01:16.209Z"
   },
   {
    "duration": 369,
    "start_time": "2021-08-27T05:02:08.903Z"
   },
   {
    "duration": 88,
    "start_time": "2021-08-27T05:02:32.625Z"
   },
   {
    "duration": 353,
    "start_time": "2021-08-27T05:02:38.067Z"
   },
   {
    "duration": 348,
    "start_time": "2021-08-27T05:02:45.593Z"
   },
   {
    "duration": 325,
    "start_time": "2021-08-27T05:04:55.553Z"
   },
   {
    "duration": 8291,
    "start_time": "2021-08-27T05:05:08.177Z"
   },
   {
    "duration": 952,
    "start_time": "2021-08-27T05:05:24.471Z"
   },
   {
    "duration": 50,
    "start_time": "2021-08-27T05:07:25.130Z"
   },
   {
    "duration": 87,
    "start_time": "2021-08-27T05:07:56.913Z"
   },
   {
    "duration": 318,
    "start_time": "2021-08-27T05:08:16.988Z"
   },
   {
    "duration": 166,
    "start_time": "2021-08-27T05:08:54.794Z"
   },
   {
    "duration": 686,
    "start_time": "2021-08-27T05:10:04.945Z"
   },
   {
    "duration": 416,
    "start_time": "2021-08-27T05:11:10.312Z"
   },
   {
    "duration": 428,
    "start_time": "2021-08-27T05:11:24.001Z"
   },
   {
    "duration": 529,
    "start_time": "2021-08-27T05:11:30.671Z"
   },
   {
    "duration": 565,
    "start_time": "2021-08-27T05:12:23.024Z"
   },
   {
    "duration": 258,
    "start_time": "2021-08-27T05:13:06.706Z"
   },
   {
    "duration": 682,
    "start_time": "2021-08-27T05:13:17.608Z"
   },
   {
    "duration": 88,
    "start_time": "2021-08-27T05:16:10.743Z"
   },
   {
    "duration": 91,
    "start_time": "2021-08-27T05:16:18.240Z"
   },
   {
    "duration": 2434,
    "start_time": "2021-08-27T05:16:22.497Z"
   },
   {
    "duration": 2649,
    "start_time": "2021-08-27T05:18:18.722Z"
   },
   {
    "duration": 2655,
    "start_time": "2021-08-27T05:26:02.169Z"
   },
   {
    "duration": 2915,
    "start_time": "2021-08-27T05:26:11.826Z"
   },
   {
    "duration": 9544,
    "start_time": "2021-08-27T05:26:18.306Z"
   },
   {
    "duration": 4,
    "start_time": "2021-08-27T05:27:12.970Z"
   },
   {
    "duration": 746,
    "start_time": "2021-08-27T05:27:13.648Z"
   },
   {
    "duration": 145,
    "start_time": "2021-08-27T05:27:14.396Z"
   },
   {
    "duration": 849,
    "start_time": "2021-08-27T05:27:16.394Z"
   },
   {
    "duration": 49,
    "start_time": "2021-08-27T05:27:18.329Z"
   },
   {
    "duration": 573,
    "start_time": "2021-08-27T05:27:18.850Z"
   },
   {
    "duration": 289,
    "start_time": "2021-08-27T05:27:20.410Z"
   },
   {
    "duration": 277,
    "start_time": "2021-08-27T05:27:21.777Z"
   },
   {
    "duration": 2733,
    "start_time": "2021-08-27T05:27:23.226Z"
   },
   {
    "duration": 371,
    "start_time": "2021-08-27T05:32:09.313Z"
   },
   {
    "duration": 300,
    "start_time": "2021-08-27T05:32:37.332Z"
   },
   {
    "duration": 10582,
    "start_time": "2021-08-27T05:34:58.433Z"
   },
   {
    "duration": 4,
    "start_time": "2021-08-27T05:35:23.921Z"
   },
   {
    "duration": 5,
    "start_time": "2021-08-27T05:35:46.016Z"
   },
   {
    "duration": 1226,
    "start_time": "2021-08-27T05:36:19.121Z"
   },
   {
    "duration": 463,
    "start_time": "2021-08-27T05:36:23.891Z"
   },
   {
    "duration": 76,
    "start_time": "2021-08-27T05:36:43.127Z"
   },
   {
    "duration": 467,
    "start_time": "2021-08-27T05:37:19.464Z"
   },
   {
    "duration": 467,
    "start_time": "2021-08-27T05:37:35.793Z"
   },
   {
    "duration": 277,
    "start_time": "2021-08-27T05:37:48.755Z"
   },
   {
    "duration": 992,
    "start_time": "2021-08-27T05:37:52.927Z"
   },
   {
    "duration": 260,
    "start_time": "2021-08-27T05:38:08.783Z"
   },
   {
    "duration": 84,
    "start_time": "2021-08-27T05:38:13.736Z"
   },
   {
    "duration": 191,
    "start_time": "2021-08-27T05:38:50.289Z"
   },
   {
    "duration": 187,
    "start_time": "2021-08-27T05:39:02.322Z"
   },
   {
    "duration": 85,
    "start_time": "2021-08-27T05:39:06.170Z"
   },
   {
    "duration": 319,
    "start_time": "2021-08-27T05:40:12.952Z"
   },
   {
    "duration": 209,
    "start_time": "2021-08-27T05:40:56.329Z"
   },
   {
    "duration": 90,
    "start_time": "2021-08-27T05:41:13.148Z"
   },
   {
    "duration": 291,
    "start_time": "2021-08-27T05:41:22.232Z"
   },
   {
    "duration": 198,
    "start_time": "2021-08-27T05:41:37.750Z"
   },
   {
    "duration": 8,
    "start_time": "2021-08-27T05:41:54.140Z"
   },
   {
    "duration": 3,
    "start_time": "2021-08-27T05:41:57.977Z"
   },
   {
    "duration": 716,
    "start_time": "2021-08-27T05:41:58.679Z"
   },
   {
    "duration": 124,
    "start_time": "2021-08-27T05:41:59.397Z"
   },
   {
    "duration": 7,
    "start_time": "2021-08-27T05:42:00.534Z"
   },
   {
    "duration": 867,
    "start_time": "2021-08-27T05:42:02.320Z"
   },
   {
    "duration": 53,
    "start_time": "2021-08-27T05:42:03.969Z"
   },
   {
    "duration": 638,
    "start_time": "2021-08-27T05:42:04.352Z"
   },
   {
    "duration": 274,
    "start_time": "2021-08-27T05:42:06.016Z"
   },
   {
    "duration": 273,
    "start_time": "2021-08-27T05:42:07.369Z"
   },
   {
    "duration": 2789,
    "start_time": "2021-08-27T05:42:10.129Z"
   },
   {
    "duration": 312,
    "start_time": "2021-08-27T05:42:15.313Z"
   },
   {
    "duration": 24,
    "start_time": "2021-08-27T05:42:17.784Z"
   },
   {
    "duration": 5,
    "start_time": "2021-08-27T05:43:29.696Z"
   },
   {
    "duration": 229,
    "start_time": "2021-08-27T05:43:42.144Z"
   },
   {
    "duration": 527,
    "start_time": "2021-08-27T05:43:48.768Z"
   },
   {
    "duration": 236,
    "start_time": "2021-08-27T05:44:19.223Z"
   },
   {
    "duration": 514,
    "start_time": "2021-08-27T05:44:41.640Z"
   },
   {
    "duration": 113,
    "start_time": "2021-08-27T05:47:49.104Z"
   },
   {
    "duration": 7,
    "start_time": "2021-08-27T05:47:56.774Z"
   },
   {
    "duration": 229,
    "start_time": "2021-08-27T05:48:20.127Z"
   },
   {
    "duration": 532,
    "start_time": "2021-08-27T05:48:29.695Z"
   },
   {
    "duration": 3,
    "start_time": "2021-08-27T05:52:57.286Z"
   },
   {
    "duration": 5,
    "start_time": "2021-08-27T05:53:02.527Z"
   },
   {
    "duration": 6,
    "start_time": "2021-08-27T05:53:06.327Z"
   },
   {
    "duration": 276,
    "start_time": "2021-08-27T05:53:14.120Z"
   },
   {
    "duration": 253,
    "start_time": "2021-08-27T05:53:32.525Z"
   },
   {
    "duration": 11,
    "start_time": "2021-08-27T05:53:35.334Z"
   },
   {
    "duration": 3,
    "start_time": "2021-08-27T05:53:46.334Z"
   },
   {
    "duration": 17,
    "start_time": "2021-08-27T05:53:53.911Z"
   },
   {
    "duration": 5,
    "start_time": "2021-08-27T05:53:59.376Z"
   },
   {
    "duration": 4,
    "start_time": "2021-08-27T05:54:05.535Z"
   },
   {
    "duration": 86,
    "start_time": "2021-08-27T05:54:28.871Z"
   },
   {
    "duration": 4,
    "start_time": "2021-08-27T05:54:31.871Z"
   },
   {
    "duration": 10,
    "start_time": "2021-08-27T05:55:08.672Z"
   },
   {
    "duration": 1235,
    "start_time": "2021-08-27T05:58:50.543Z"
   },
   {
    "duration": 283,
    "start_time": "2021-08-27T06:00:30.728Z"
   },
   {
    "duration": 248,
    "start_time": "2021-08-27T06:01:33.760Z"
   },
   {
    "duration": 238,
    "start_time": "2021-08-27T06:01:43.726Z"
   },
   {
    "duration": 264,
    "start_time": "2021-08-27T06:01:57.527Z"
   },
   {
    "duration": 522,
    "start_time": "2021-08-27T06:05:52.497Z"
   },
   {
    "duration": 4806,
    "start_time": "2021-08-27T06:06:05.360Z"
   },
   {
    "duration": 5170,
    "start_time": "2021-08-27T06:06:10.839Z"
   },
   {
    "duration": 593,
    "start_time": "2021-08-27T06:06:34.723Z"
   },
   {
    "duration": 6302,
    "start_time": "2021-08-27T06:09:34.326Z"
   },
   {
    "duration": 5938,
    "start_time": "2021-08-27T06:09:48.590Z"
   },
   {
    "duration": 25897,
    "start_time": "2021-08-27T06:12:59.176Z"
   },
   {
    "duration": 29194,
    "start_time": "2021-08-27T06:13:34.238Z"
   },
   {
    "duration": 1681,
    "start_time": "2021-08-27T06:15:11.453Z"
   },
   {
    "duration": 1045,
    "start_time": "2021-08-27T06:15:30.014Z"
   },
   {
    "duration": 19505,
    "start_time": "2021-08-27T06:16:08.895Z"
   },
   {
    "duration": 12844,
    "start_time": "2021-08-27T06:16:35.013Z"
   },
   {
    "duration": 13321,
    "start_time": "2021-08-27T06:17:09.686Z"
   },
   {
    "duration": 88,
    "start_time": "2021-08-27T06:18:25.685Z"
   },
   {
    "duration": 17582,
    "start_time": "2021-08-27T06:18:32.428Z"
   },
   {
    "duration": 15550,
    "start_time": "2021-08-27T06:19:39.838Z"
   },
   {
    "duration": 10386,
    "start_time": "2021-08-27T06:20:06.414Z"
   },
   {
    "duration": 2651,
    "start_time": "2021-08-27T06:20:32.032Z"
   },
   {
    "duration": 2570,
    "start_time": "2021-08-27T06:21:34.766Z"
   },
   {
    "duration": 4361,
    "start_time": "2021-08-27T06:22:00.965Z"
   },
   {
    "duration": 2584,
    "start_time": "2021-08-27T06:22:40.516Z"
   },
   {
    "duration": 2632,
    "start_time": "2021-08-27T06:23:22.329Z"
   },
   {
    "duration": 12763,
    "start_time": "2021-08-27T06:25:44.970Z"
   },
   {
    "duration": 2477,
    "start_time": "2021-08-27T06:26:48.849Z"
   },
   {
    "duration": 13590,
    "start_time": "2021-08-27T06:26:59.568Z"
   },
   {
    "duration": 236898,
    "start_time": "2021-08-27T06:27:51.023Z"
   },
   {
    "duration": 301,
    "start_time": "2021-08-27T06:36:17.581Z"
   },
   {
    "duration": 37248,
    "start_time": "2021-08-27T06:37:00.352Z"
   },
   {
    "duration": 35478,
    "start_time": "2021-08-27T06:37:58.904Z"
   },
   {
    "duration": 32946,
    "start_time": "2021-08-27T06:40:58.305Z"
   },
   {
    "duration": 96571,
    "start_time": "2021-08-27T06:42:46.573Z"
   },
   {
    "duration": 81,
    "start_time": "2021-08-27T06:44:23.147Z"
   },
   {
    "duration": 13,
    "start_time": "2021-08-27T06:51:32.577Z"
   },
   {
    "duration": 95041,
    "start_time": "2021-08-27T06:51:46.248Z"
   },
   {
    "duration": 15,
    "start_time": "2021-08-27T06:53:49.154Z"
   },
   {
    "duration": 93130,
    "start_time": "2021-08-27T06:54:10.974Z"
   },
   {
    "duration": 102644,
    "start_time": "2021-08-27T06:55:44.107Z"
   },
   {
    "duration": 259,
    "start_time": "2021-08-27T06:59:01.987Z"
   },
   {
    "duration": 257,
    "start_time": "2021-08-27T06:59:06.528Z"
   },
   {
    "duration": 5,
    "start_time": "2021-08-27T06:59:13.473Z"
   },
   {
    "duration": 5,
    "start_time": "2021-08-27T06:59:20.568Z"
   },
   {
    "duration": 7,
    "start_time": "2021-08-27T07:00:30.456Z"
   },
   {
    "duration": 14,
    "start_time": "2021-08-27T07:00:56.137Z"
   },
   {
    "duration": 34042,
    "start_time": "2021-08-27T07:01:07.208Z"
   },
   {
    "duration": 34144,
    "start_time": "2021-08-27T07:01:41.252Z"
   },
   {
    "duration": 13,
    "start_time": "2021-08-27T07:02:40.755Z"
   },
   {
    "duration": 32238,
    "start_time": "2021-08-27T07:02:52.531Z"
   },
   {
    "duration": 8,
    "start_time": "2021-08-27T07:03:32.015Z"
   },
   {
    "duration": 8,
    "start_time": "2021-08-27T07:03:52.825Z"
   },
   {
    "duration": 8,
    "start_time": "2021-08-27T07:03:58.304Z"
   },
   {
    "duration": 8,
    "start_time": "2021-08-27T07:04:09.520Z"
   },
   {
    "duration": 15,
    "start_time": "2021-08-27T07:04:44.433Z"
   },
   {
    "duration": 101512,
    "start_time": "2021-08-27T07:04:50.335Z"
   },
   {
    "duration": 93,
    "start_time": "2021-08-27T07:07:40.648Z"
   },
   {
    "duration": 175,
    "start_time": "2021-08-27T07:08:01.192Z"
   },
   {
    "duration": 14,
    "start_time": "2021-08-27T07:08:14.169Z"
   },
   {
    "duration": 9457,
    "start_time": "2021-08-27T07:08:20.706Z"
   },
   {
    "duration": 1117,
    "start_time": "2021-08-27T07:08:40.185Z"
   },
   {
    "duration": 787,
    "start_time": "2021-08-27T07:08:41.304Z"
   },
   {
    "duration": 132,
    "start_time": "2021-08-27T07:08:42.093Z"
   },
   {
    "duration": 26,
    "start_time": "2021-08-27T07:08:42.227Z"
   },
   {
    "duration": 1000,
    "start_time": "2021-08-27T07:08:42.256Z"
   },
   {
    "duration": 65,
    "start_time": "2021-08-27T07:08:43.258Z"
   },
   {
    "duration": 699,
    "start_time": "2021-08-27T07:08:43.325Z"
   },
   {
    "duration": 306,
    "start_time": "2021-08-27T07:08:44.026Z"
   },
   {
    "duration": 317,
    "start_time": "2021-08-27T07:08:44.334Z"
   },
   {
    "duration": 3005,
    "start_time": "2021-08-27T07:08:44.654Z"
   },
   {
    "duration": 2467,
    "start_time": "2021-08-27T07:08:47.661Z"
   },
   {
    "duration": 101469,
    "start_time": "2021-08-27T07:08:50.130Z"
   },
   {
    "duration": 109304,
    "start_time": "2021-08-27T07:10:31.601Z"
   },
   {
    "duration": 186,
    "start_time": "2021-08-27T07:12:20.907Z"
   },
   {
    "duration": 159,
    "start_time": "2021-08-27T07:35:33.496Z"
   },
   {
    "duration": 1296,
    "start_time": "2021-08-27T07:36:13.994Z"
   },
   {
    "duration": 886,
    "start_time": "2021-08-27T07:36:15.293Z"
   },
   {
    "duration": 131,
    "start_time": "2021-08-27T07:36:16.181Z"
   },
   {
    "duration": 26,
    "start_time": "2021-08-27T07:36:16.315Z"
   },
   {
    "duration": 955,
    "start_time": "2021-08-27T07:36:16.343Z"
   },
   {
    "duration": 72,
    "start_time": "2021-08-27T07:36:17.299Z"
   },
   {
    "duration": 623,
    "start_time": "2021-08-27T07:36:17.373Z"
   },
   {
    "duration": 280,
    "start_time": "2021-08-27T07:36:17.997Z"
   },
   {
    "duration": 388,
    "start_time": "2021-08-27T07:36:18.279Z"
   },
   {
    "duration": 2754,
    "start_time": "2021-08-27T07:36:18.669Z"
   },
   {
    "duration": 2316,
    "start_time": "2021-08-27T07:36:21.425Z"
   },
   {
    "duration": 97518,
    "start_time": "2021-08-27T07:36:23.742Z"
   },
   {
    "duration": 99511,
    "start_time": "2021-08-27T07:38:01.261Z"
   },
   {
    "duration": 150,
    "start_time": "2021-08-27T07:39:40.774Z"
   },
   {
    "duration": 22,
    "start_time": "2021-08-30T08:04:28.421Z"
   },
   {
    "duration": 1384,
    "start_time": "2021-08-30T08:04:35.469Z"
   },
   {
    "duration": 991,
    "start_time": "2021-08-30T08:04:36.856Z"
   },
   {
    "duration": 151,
    "start_time": "2021-08-30T08:04:37.849Z"
   },
   {
    "duration": 23,
    "start_time": "2021-08-30T08:04:38.002Z"
   },
   {
    "duration": 1110,
    "start_time": "2021-08-30T08:04:38.027Z"
   },
   {
    "duration": 81,
    "start_time": "2021-08-30T08:04:39.139Z"
   },
   {
    "duration": 757,
    "start_time": "2021-08-30T08:04:39.223Z"
   },
   {
    "duration": 374,
    "start_time": "2021-08-30T08:04:39.982Z"
   },
   {
    "duration": 377,
    "start_time": "2021-08-30T08:04:40.359Z"
   },
   {
    "duration": 3397,
    "start_time": "2021-08-30T08:04:40.738Z"
   },
   {
    "duration": 2789,
    "start_time": "2021-08-30T08:04:44.137Z"
   },
   {
    "duration": 119760,
    "start_time": "2021-08-30T08:04:46.928Z"
   },
   {
    "duration": 116886,
    "start_time": "2021-08-30T08:06:46.691Z"
   },
   {
    "duration": 171,
    "start_time": "2021-08-30T08:08:43.579Z"
   },
   {
    "duration": 119,
    "start_time": "2021-08-30T08:10:39.604Z"
   },
   {
    "duration": 81,
    "start_time": "2021-08-30T08:10:43.880Z"
   },
   {
    "duration": 4,
    "start_time": "2021-08-30T08:11:56.388Z"
   },
   {
    "duration": 757,
    "start_time": "2021-08-30T08:13:24.952Z"
   },
   {
    "duration": 3,
    "start_time": "2021-08-30T08:13:47.032Z"
   },
   {
    "duration": 584,
    "start_time": "2021-08-30T08:13:50.674Z"
   },
   {
    "duration": 890,
    "start_time": "2021-08-30T08:14:00.387Z"
   },
   {
    "duration": 228,
    "start_time": "2021-08-30T08:14:19.330Z"
   },
   {
    "duration": 403,
    "start_time": "2021-08-30T08:15:01.281Z"
   },
   {
    "duration": 5,
    "start_time": "2021-08-30T08:16:01.163Z"
   },
   {
    "duration": 22,
    "start_time": "2021-08-30T08:16:04.170Z"
   },
   {
    "duration": 384,
    "start_time": "2021-08-30T08:16:36.081Z"
   },
   {
    "duration": 204,
    "start_time": "2021-08-30T08:16:37.282Z"
   },
   {
    "duration": 840,
    "start_time": "2021-08-30T08:17:10.882Z"
   },
   {
    "duration": 34,
    "start_time": "2021-08-30T08:22:17.627Z"
   },
   {
    "duration": 839,
    "start_time": "2021-08-30T08:22:21.242Z"
   },
   {
    "duration": 6,
    "start_time": "2021-08-30T08:27:56.498Z"
   },
   {
    "duration": 7,
    "start_time": "2021-08-30T08:28:08.906Z"
   },
   {
    "duration": 6,
    "start_time": "2021-08-30T08:28:18.113Z"
   },
   {
    "duration": 2953,
    "start_time": "2021-08-30T08:28:24.794Z"
   },
   {
    "duration": 266,
    "start_time": "2021-08-30T08:29:09.834Z"
   },
   {
    "duration": 258,
    "start_time": "2021-08-30T08:29:17.536Z"
   },
   {
    "duration": 30,
    "start_time": "2021-08-30T08:29:20.753Z"
   },
   {
    "duration": 23,
    "start_time": "2021-08-30T08:29:29.283Z"
   },
   {
    "duration": 83,
    "start_time": "2021-08-30T08:30:14.619Z"
   },
   {
    "duration": 267,
    "start_time": "2021-08-30T08:30:21.754Z"
   },
   {
    "duration": 6,
    "start_time": "2021-08-30T08:30:29.417Z"
   },
   {
    "duration": 5,
    "start_time": "2021-08-30T08:30:47.514Z"
   },
   {
    "duration": 5,
    "start_time": "2021-08-30T08:30:55.922Z"
   },
   {
    "duration": 270,
    "start_time": "2021-08-30T08:31:05.291Z"
   },
   {
    "duration": 6,
    "start_time": "2021-08-30T08:31:09.291Z"
   },
   {
    "duration": 5,
    "start_time": "2021-08-30T08:31:14.697Z"
   },
   {
    "duration": 5,
    "start_time": "2021-08-30T08:31:32.938Z"
   },
   {
    "duration": 267,
    "start_time": "2021-08-30T08:31:55.488Z"
   },
   {
    "duration": 390,
    "start_time": "2021-08-30T08:32:35.987Z"
   },
   {
    "duration": 7,
    "start_time": "2021-08-30T08:32:55.369Z"
   },
   {
    "duration": 7,
    "start_time": "2021-08-30T08:33:05.449Z"
   },
   {
    "duration": 6,
    "start_time": "2021-08-30T08:33:19.643Z"
   },
   {
    "duration": 271,
    "start_time": "2021-08-30T08:33:23.977Z"
   },
   {
    "duration": 5,
    "start_time": "2021-08-30T08:33:26.898Z"
   },
   {
    "duration": 272,
    "start_time": "2021-08-30T08:33:33.506Z"
   },
   {
    "duration": 265,
    "start_time": "2021-08-30T08:33:36.353Z"
   },
   {
    "duration": 6,
    "start_time": "2021-08-30T08:33:48.259Z"
   },
   {
    "duration": 6,
    "start_time": "2021-08-30T08:34:57.664Z"
   },
   {
    "duration": 6,
    "start_time": "2021-08-30T08:35:01.553Z"
   },
   {
    "duration": 6,
    "start_time": "2021-08-30T08:35:09.985Z"
   },
   {
    "duration": 1387,
    "start_time": "2021-08-30T08:35:23.097Z"
   },
   {
    "duration": 1279,
    "start_time": "2021-08-30T08:36:30.019Z"
   },
   {
    "duration": 838,
    "start_time": "2021-08-30T08:36:31.300Z"
   },
   {
    "duration": 151,
    "start_time": "2021-08-30T08:36:32.141Z"
   },
   {
    "duration": 24,
    "start_time": "2021-08-30T08:36:32.294Z"
   },
   {
    "duration": 1047,
    "start_time": "2021-08-30T08:36:32.321Z"
   },
   {
    "duration": 74,
    "start_time": "2021-08-30T08:36:33.370Z"
   },
   {
    "duration": 682,
    "start_time": "2021-08-30T08:36:33.446Z"
   },
   {
    "duration": 326,
    "start_time": "2021-08-30T08:36:34.131Z"
   },
   {
    "duration": 338,
    "start_time": "2021-08-30T08:36:34.459Z"
   },
   {
    "duration": 3010,
    "start_time": "2021-08-30T08:36:34.799Z"
   },
   {
    "duration": 2291,
    "start_time": "2021-08-30T08:36:37.811Z"
   },
   {
    "duration": 110365,
    "start_time": "2021-08-30T08:36:40.104Z"
   },
   {
    "duration": 114455,
    "start_time": "2021-08-30T08:38:30.471Z"
   },
   {
    "duration": 166,
    "start_time": "2021-08-30T08:40:24.928Z"
   },
   {
    "duration": 4,
    "start_time": "2021-08-30T08:40:25.096Z"
   },
   {
    "duration": 1081,
    "start_time": "2021-08-30T08:40:25.102Z"
   },
   {
    "duration": 378,
    "start_time": "2021-08-30T08:40:26.185Z"
   },
   {
    "duration": 1048,
    "start_time": "2021-08-30T08:40:26.565Z"
   },
   {
    "duration": 173,
    "start_time": "2021-08-30T08:40:27.615Z"
   },
   {
    "duration": 174,
    "start_time": "2021-08-30T08:40:27.790Z"
   },
   {
    "duration": 1471,
    "start_time": "2021-08-30T08:41:25.126Z"
   },
   {
    "duration": 1854,
    "start_time": "2021-08-30T08:41:39.880Z"
   },
   {
    "duration": 1066,
    "start_time": "2021-08-30T08:41:43.137Z"
   },
   {
    "duration": 1052,
    "start_time": "2021-08-30T08:42:32.631Z"
   },
   {
    "duration": 1232,
    "start_time": "2021-08-30T08:42:50.087Z"
   },
   {
    "duration": 215789,
    "start_time": "2021-08-30T08:43:50.725Z"
   },
   {
    "duration": 485,
    "start_time": "2021-08-30T08:47:26.031Z"
   },
   {
    "duration": 384,
    "start_time": "2021-08-30T08:47:26.133Z"
   },
   {
    "duration": 18,
    "start_time": "2021-08-30T08:47:33.438Z"
   },
   {
    "duration": 90,
    "start_time": "2021-08-30T08:47:37.902Z"
   },
   {
    "duration": 258745,
    "start_time": "2021-08-30T08:49:47.159Z"
   },
   {
    "duration": 6888,
    "start_time": "2021-08-30T08:54:05.907Z"
   },
   {
    "duration": 5063,
    "start_time": "2021-08-30T08:54:12.797Z"
   },
   {
    "duration": 60795,
    "start_time": "2021-08-30T08:54:25.281Z"
   },
   {
    "duration": 7,
    "start_time": "2021-08-30T08:55:44.724Z"
   },
   {
    "duration": 22,
    "start_time": "2021-08-30T08:56:37.858Z"
   },
   {
    "duration": 34900,
    "start_time": "2021-08-30T08:56:41.979Z"
   },
   {
    "duration": 7,
    "start_time": "2021-08-30T08:58:35.433Z"
   },
   {
    "duration": 21,
    "start_time": "2021-08-30T09:00:29.202Z"
   },
   {
    "duration": 30311,
    "start_time": "2021-08-30T09:00:50.866Z"
   },
   {
    "duration": 6,
    "start_time": "2021-08-30T09:01:24.863Z"
   },
   {
    "duration": 30537,
    "start_time": "2021-08-30T09:01:41.543Z"
   },
   {
    "duration": 17,
    "start_time": "2021-08-30T09:02:54.227Z"
   },
   {
    "duration": 31002,
    "start_time": "2021-08-30T09:03:15.578Z"
   },
   {
    "duration": 1758,
    "start_time": "2021-08-30T09:03:48.801Z"
   },
   {
    "duration": 2146,
    "start_time": "2021-08-30T09:03:58.858Z"
   },
   {
    "duration": 268,
    "start_time": "2021-08-30T09:04:08.596Z"
   },
   {
    "duration": 5,
    "start_time": "2021-08-30T09:04:11.978Z"
   },
   {
    "duration": 5,
    "start_time": "2021-08-30T09:04:16.682Z"
   },
   {
    "duration": 1672,
    "start_time": "2021-08-30T09:04:20.329Z"
   },
   {
    "duration": 1811,
    "start_time": "2021-08-30T09:04:27.234Z"
   },
   {
    "duration": 23,
    "start_time": "2021-08-30T09:04:29.938Z"
   },
   {
    "duration": 474,
    "start_time": "2021-08-30T09:04:33.306Z"
   },
   {
    "duration": 447,
    "start_time": "2021-08-30T09:04:45.832Z"
   },
   {
    "duration": 497,
    "start_time": "2021-08-30T09:04:54.386Z"
   },
   {
    "duration": 17,
    "start_time": "2021-08-30T09:05:13.948Z"
   },
   {
    "duration": 487,
    "start_time": "2021-08-30T09:05:16.994Z"
   },
   {
    "duration": 457,
    "start_time": "2021-08-30T09:05:39.522Z"
   },
   {
    "duration": 505,
    "start_time": "2021-08-30T09:05:51.381Z"
   },
   {
    "duration": 313,
    "start_time": "2021-08-30T09:06:09.571Z"
   },
   {
    "duration": 515,
    "start_time": "2021-08-30T09:06:13.665Z"
   },
   {
    "duration": 340,
    "start_time": "2021-08-30T09:06:25.338Z"
   },
   {
    "duration": 9,
    "start_time": "2021-08-30T09:06:28.507Z"
   },
   {
    "duration": 1606,
    "start_time": "2021-08-30T09:07:07.163Z"
   },
   {
    "duration": 874,
    "start_time": "2021-08-30T09:07:15.904Z"
   },
   {
    "duration": 9,
    "start_time": "2021-08-30T09:07:17.729Z"
   },
   {
    "duration": 20,
    "start_time": "2021-08-30T09:07:33.552Z"
   },
   {
    "duration": 13524,
    "start_time": "2021-08-30T09:07:43.895Z"
   },
   {
    "duration": 20357,
    "start_time": "2021-08-30T09:07:57.421Z"
   },
   {
    "duration": 11,
    "start_time": "2021-08-30T09:08:17.780Z"
   },
   {
    "duration": 649,
    "start_time": "2021-08-30T09:14:13.530Z"
   },
   {
    "duration": 18,
    "start_time": "2021-08-30T09:14:36.720Z"
   },
   {
    "duration": 621,
    "start_time": "2021-08-30T09:15:30.530Z"
   },
   {
    "duration": 613,
    "start_time": "2021-08-30T09:15:38.951Z"
   },
   {
    "duration": 625,
    "start_time": "2021-08-30T09:15:44.513Z"
   },
   {
    "duration": 22,
    "start_time": "2021-08-30T09:15:48.856Z"
   },
   {
    "duration": 23,
    "start_time": "2021-08-30T09:16:01.682Z"
   },
   {
    "duration": 22,
    "start_time": "2021-08-30T09:16:08.785Z"
   },
   {
    "duration": 16,
    "start_time": "2021-08-30T09:16:19.953Z"
   },
   {
    "duration": 615,
    "start_time": "2021-08-30T09:16:31.610Z"
   },
   {
    "duration": 720,
    "start_time": "2021-08-30T09:16:51.529Z"
   },
   {
    "duration": 4,
    "start_time": "2021-08-30T09:17:03.841Z"
   },
   {
    "duration": 13777,
    "start_time": "2021-08-30T09:17:06.953Z"
   },
   {
    "duration": 19563,
    "start_time": "2021-08-30T09:17:20.732Z"
   },
   {
    "duration": 984,
    "start_time": "2021-08-30T09:17:40.298Z"
   },
   {
    "duration": 21,
    "start_time": "2021-08-30T09:18:06.362Z"
   },
   {
    "duration": 4,
    "start_time": "2021-08-30T09:18:12.217Z"
   },
   {
    "duration": 1077,
    "start_time": "2021-08-30T09:18:15.505Z"
   },
   {
    "duration": 647,
    "start_time": "2021-08-30T09:18:19.834Z"
   },
   {
    "duration": 9,
    "start_time": "2021-08-30T09:18:44.567Z"
   },
   {
    "duration": 6721,
    "start_time": "2021-08-30T09:19:05.609Z"
   },
   {
    "duration": 615,
    "start_time": "2021-08-30T09:19:21.166Z"
   },
   {
    "duration": 265,
    "start_time": "2021-08-30T09:19:23.360Z"
   },
   {
    "duration": 4,
    "start_time": "2021-08-30T09:19:27.208Z"
   },
   {
    "duration": 6,
    "start_time": "2021-08-30T09:19:30.817Z"
   },
   {
    "duration": 4,
    "start_time": "2021-08-30T09:19:42.145Z"
   },
   {
    "duration": 271,
    "start_time": "2021-08-30T09:19:51.959Z"
   },
   {
    "duration": 1015,
    "start_time": "2021-08-30T09:20:10.394Z"
   },
   {
    "duration": 6,
    "start_time": "2021-08-30T09:21:53.096Z"
   },
   {
    "duration": 6,
    "start_time": "2021-08-30T09:22:06.128Z"
   },
   {
    "duration": 628,
    "start_time": "2021-08-30T09:23:55.914Z"
   },
   {
    "duration": 620,
    "start_time": "2021-08-30T09:24:18.107Z"
   },
   {
    "duration": 652,
    "start_time": "2021-08-30T09:24:24.329Z"
   },
   {
    "duration": 647,
    "start_time": "2021-08-30T09:24:36.210Z"
   },
   {
    "duration": 797,
    "start_time": "2021-08-30T09:24:47.295Z"
   },
   {
    "duration": 1598,
    "start_time": "2021-08-30T09:26:03.735Z"
   },
   {
    "duration": 4,
    "start_time": "2021-08-30T09:26:05.960Z"
   },
   {
    "duration": 27,
    "start_time": "2021-08-30T09:26:16.040Z"
   },
   {
    "duration": 33,
    "start_time": "2021-08-30T09:27:03.354Z"
   },
   {
    "duration": 28,
    "start_time": "2021-08-30T09:27:21.547Z"
   },
   {
    "duration": 26,
    "start_time": "2021-08-30T09:27:24.314Z"
   },
   {
    "duration": 2254,
    "start_time": "2021-08-30T09:27:35.304Z"
   },
   {
    "duration": 36,
    "start_time": "2021-08-30T09:27:38.209Z"
   },
   {
    "duration": 2253,
    "start_time": "2021-08-30T09:27:45.265Z"
   },
   {
    "duration": 2090,
    "start_time": "2021-08-30T09:28:33.063Z"
   },
   {
    "duration": 33,
    "start_time": "2021-08-30T09:28:35.155Z"
   },
   {
    "duration": 2278,
    "start_time": "2021-08-30T09:28:38.625Z"
   },
   {
    "duration": 29,
    "start_time": "2021-08-30T09:28:40.905Z"
   },
   {
    "duration": 19,
    "start_time": "2021-08-30T09:29:25.064Z"
   },
   {
    "duration": 2517,
    "start_time": "2021-08-30T09:29:31.337Z"
   },
   {
    "duration": 87,
    "start_time": "2021-08-30T09:30:10.390Z"
   },
   {
    "duration": 27,
    "start_time": "2021-08-30T09:30:11.995Z"
   },
   {
    "duration": 114,
    "start_time": "2021-08-30T09:30:17.584Z"
   },
   {
    "duration": 28,
    "start_time": "2021-08-30T09:30:18.856Z"
   },
   {
    "duration": 1592,
    "start_time": "2021-08-30T09:30:35.304Z"
   },
   {
    "duration": 26,
    "start_time": "2021-08-30T09:30:37.292Z"
   },
   {
    "duration": 34,
    "start_time": "2021-08-30T09:30:56.266Z"
   },
   {
    "duration": 1485,
    "start_time": "2021-08-30T09:31:05.806Z"
   },
   {
    "duration": 27,
    "start_time": "2021-08-30T09:31:08.096Z"
   },
   {
    "duration": 1475,
    "start_time": "2021-08-30T09:31:21.544Z"
   },
   {
    "duration": 35,
    "start_time": "2021-08-30T09:31:24.281Z"
   },
   {
    "duration": 1546,
    "start_time": "2021-08-30T09:31:51.042Z"
   },
   {
    "duration": 23,
    "start_time": "2021-08-30T09:31:53.849Z"
   },
   {
    "duration": 257,
    "start_time": "2021-08-30T09:32:05.095Z"
   },
   {
    "duration": 4,
    "start_time": "2021-08-30T09:32:08.488Z"
   },
   {
    "duration": 837,
    "start_time": "2021-08-30T09:32:11.742Z"
   },
   {
    "duration": 9,
    "start_time": "2021-08-30T09:32:16.138Z"
   },
   {
    "duration": 6,
    "start_time": "2021-08-30T09:32:17.976Z"
   },
   {
    "duration": 5,
    "start_time": "2021-08-30T09:32:19.329Z"
   },
   {
    "duration": 322,
    "start_time": "2021-08-30T09:32:20.585Z"
   },
   {
    "duration": 84,
    "start_time": "2021-08-30T09:32:47.353Z"
   },
   {
    "duration": 272,
    "start_time": "2021-08-30T09:33:11.336Z"
   },
   {
    "duration": 282,
    "start_time": "2021-08-30T09:33:19.328Z"
   },
   {
    "duration": 94,
    "start_time": "2021-08-30T09:33:30.688Z"
   },
   {
    "duration": 150,
    "start_time": "2021-08-30T09:33:45.430Z"
   },
   {
    "duration": 1384,
    "start_time": "2021-08-30T09:34:15.136Z"
   },
   {
    "duration": 710,
    "start_time": "2021-08-30T09:34:34.667Z"
   },
   {
    "duration": 995,
    "start_time": "2021-08-30T09:36:55.521Z"
   },
   {
    "duration": 7878,
    "start_time": "2021-08-30T09:37:04.081Z"
   },
   {
    "duration": 534,
    "start_time": "2021-08-30T09:37:20.348Z"
   },
   {
    "duration": 10,
    "start_time": "2021-08-30T09:37:22.864Z"
   },
   {
    "duration": 267,
    "start_time": "2021-08-30T09:39:36.592Z"
   },
   {
    "duration": 4,
    "start_time": "2021-08-30T09:39:45.816Z"
   },
   {
    "duration": 16,
    "start_time": "2021-08-30T09:40:55.264Z"
   },
   {
    "duration": 1216,
    "start_time": "2021-08-30T09:41:14.200Z"
   },
   {
    "duration": 840,
    "start_time": "2021-08-30T09:41:15.418Z"
   },
   {
    "duration": 144,
    "start_time": "2021-08-30T09:41:16.261Z"
   },
   {
    "duration": 20,
    "start_time": "2021-08-30T09:41:16.407Z"
   },
   {
    "duration": 1032,
    "start_time": "2021-08-30T09:41:16.429Z"
   },
   {
    "duration": 72,
    "start_time": "2021-08-30T09:41:17.462Z"
   },
   {
    "duration": 671,
    "start_time": "2021-08-30T09:41:17.536Z"
   },
   {
    "duration": 329,
    "start_time": "2021-08-30T09:41:18.210Z"
   },
   {
    "duration": 324,
    "start_time": "2021-08-30T09:41:18.541Z"
   },
   {
    "duration": 2962,
    "start_time": "2021-08-30T09:41:18.867Z"
   },
   {
    "duration": 2218,
    "start_time": "2021-08-30T09:41:21.830Z"
   },
   {
    "duration": 101441,
    "start_time": "2021-08-30T09:41:24.050Z"
   },
   {
    "duration": 11921,
    "start_time": "2021-08-30T09:43:05.493Z"
   },
   {
    "duration": -50,
    "start_time": "2021-08-30T09:43:17.467Z"
   },
   {
    "duration": -51,
    "start_time": "2021-08-30T09:43:17.469Z"
   },
   {
    "duration": -52,
    "start_time": "2021-08-30T09:43:17.471Z"
   },
   {
    "duration": -52,
    "start_time": "2021-08-30T09:43:17.472Z"
   },
   {
    "duration": -53,
    "start_time": "2021-08-30T09:43:17.474Z"
   },
   {
    "duration": -53,
    "start_time": "2021-08-30T09:43:17.475Z"
   },
   {
    "duration": -54,
    "start_time": "2021-08-30T09:43:17.477Z"
   },
   {
    "duration": -54,
    "start_time": "2021-08-30T09:43:17.478Z"
   },
   {
    "duration": -55,
    "start_time": "2021-08-30T09:43:17.480Z"
   },
   {
    "duration": 1226,
    "start_time": "2021-08-30T09:43:28.488Z"
   },
   {
    "duration": 874,
    "start_time": "2021-08-30T09:43:29.716Z"
   },
   {
    "duration": 143,
    "start_time": "2021-08-30T09:43:30.592Z"
   },
   {
    "duration": 21,
    "start_time": "2021-08-30T09:43:30.737Z"
   },
   {
    "duration": 1037,
    "start_time": "2021-08-30T09:43:30.760Z"
   },
   {
    "duration": 66,
    "start_time": "2021-08-30T09:43:31.799Z"
   },
   {
    "duration": 688,
    "start_time": "2021-08-30T09:43:31.867Z"
   },
   {
    "duration": 325,
    "start_time": "2021-08-30T09:43:32.557Z"
   },
   {
    "duration": 332,
    "start_time": "2021-08-30T09:43:32.885Z"
   },
   {
    "duration": 3036,
    "start_time": "2021-08-30T09:43:33.219Z"
   },
   {
    "duration": 2320,
    "start_time": "2021-08-30T09:43:36.257Z"
   },
   {
    "duration": 104455,
    "start_time": "2021-08-30T09:43:38.579Z"
   },
   {
    "duration": 104387,
    "start_time": "2021-08-30T09:45:23.036Z"
   },
   {
    "duration": 154,
    "start_time": "2021-08-30T09:47:07.426Z"
   },
   {
    "duration": 3,
    "start_time": "2021-08-30T09:47:07.583Z"
   },
   {
    "duration": 1445,
    "start_time": "2021-08-30T09:47:07.588Z"
   },
   {
    "duration": 1747,
    "start_time": "2021-08-30T09:47:09.035Z"
   },
   {
    "duration": 16705568,
    "start_time": "2021-08-30T09:47:10.784Z"
   },
   {
    "duration": 820429,
    "start_time": "2021-08-30T14:25:36.355Z"
   },
   {
    "duration": 199694,
    "start_time": "2021-08-30T14:39:16.785Z"
   },
   {
    "duration": 3700,
    "start_time": "2021-08-30T14:42:36.482Z"
   },
   {
    "duration": 265,
    "start_time": "2021-08-30T14:42:40.184Z"
   },
   {
    "duration": 11,
    "start_time": "2021-08-30T22:01:39.966Z"
   },
   {
    "duration": 92,
    "start_time": "2021-08-30T22:01:44.860Z"
   },
   {
    "duration": 1260,
    "start_time": "2021-08-30T22:08:06.519Z"
   },
   {
    "duration": 1561,
    "start_time": "2021-08-30T22:08:11.543Z"
   },
   {
    "duration": 5423,
    "start_time": "2021-08-30T22:08:49.198Z"
   },
   {
    "duration": 1417,
    "start_time": "2021-08-30T22:08:54.971Z"
   },
   {
    "duration": 1514,
    "start_time": "2021-08-30T22:09:12.116Z"
   },
   {
    "duration": 16194,
    "start_time": "2021-08-30T22:09:15.812Z"
   },
   {
    "duration": 5,
    "start_time": "2021-08-30T22:09:32.009Z"
   },
   {
    "duration": 15641,
    "start_time": "2021-08-30T22:09:43.061Z"
   },
   {
    "duration": 20412,
    "start_time": "2021-08-30T22:09:58.705Z"
   },
   {
    "duration": 1104,
    "start_time": "2021-08-30T22:10:19.176Z"
   },
   {
    "duration": 2937,
    "start_time": "2021-08-30T22:10:23.246Z"
   },
   {
    "duration": 158,
    "start_time": "2021-08-30T22:10:26.277Z"
   },
   {
    "duration": 19,
    "start_time": "2021-08-30T22:11:06.133Z"
   },
   {
    "duration": 3,
    "start_time": "2021-08-30T22:11:15.156Z"
   },
   {
    "duration": 533,
    "start_time": "2021-08-30T22:11:17.445Z"
   },
   {
    "duration": 565,
    "start_time": "2021-08-30T22:11:29.517Z"
   },
   {
    "duration": 51,
    "start_time": "2021-08-30T22:11:30.227Z"
   },
   {
    "duration": 20247,
    "start_time": "2021-08-30T22:11:33.861Z"
   },
   {
    "duration": 14525,
    "start_time": "2021-08-30T22:11:54.110Z"
   },
   {
    "duration": 2144,
    "start_time": "2021-08-30T22:12:12.536Z"
   },
   {
    "duration": 60,
    "start_time": "2021-08-30T22:12:14.682Z"
   },
   {
    "duration": 22,
    "start_time": "2021-08-30T22:13:06.667Z"
   },
   {
    "duration": 947,
    "start_time": "2021-08-30T22:13:09.631Z"
   },
   {
    "duration": 634,
    "start_time": "2021-08-30T22:13:12.162Z"
   },
   {
    "duration": 2313,
    "start_time": "2021-08-30T22:13:14.368Z"
   },
   {
    "duration": 224,
    "start_time": "2021-08-30T22:13:16.684Z"
   },
   {
    "duration": 19,
    "start_time": "2021-08-30T22:13:45.955Z"
   },
   {
    "duration": 993,
    "start_time": "2021-08-30T22:13:48.889Z"
   },
   {
    "duration": 2867,
    "start_time": "2021-08-30T22:13:51.217Z"
   },
   {
    "duration": 165,
    "start_time": "2021-08-30T22:13:54.177Z"
   },
   {
    "duration": 22,
    "start_time": "2021-08-30T22:14:36.408Z"
   },
   {
    "duration": 23635,
    "start_time": "2021-08-30T22:15:19.000Z"
   },
   {
    "duration": 85,
    "start_time": "2021-08-30T22:16:34.937Z"
   },
   {
    "duration": 22,
    "start_time": "2021-08-30T22:16:40.688Z"
   },
   {
    "duration": 264,
    "start_time": "2021-08-30T22:19:16.913Z"
   },
   {
    "duration": 15,
    "start_time": "2021-08-30T22:19:48.752Z"
   },
   {
    "duration": 66,
    "start_time": "2021-08-30T22:19:55.816Z"
   },
   {
    "duration": 87,
    "start_time": "2021-08-30T22:20:09.136Z"
   },
   {
    "duration": 35,
    "start_time": "2021-08-30T22:20:18.744Z"
   },
   {
    "duration": 78,
    "start_time": "2021-08-30T22:20:25.200Z"
   },
   {
    "duration": 88,
    "start_time": "2021-08-30T22:20:27.992Z"
   },
   {
    "duration": 55,
    "start_time": "2021-08-30T22:20:29.624Z"
   },
   {
    "duration": 104,
    "start_time": "2021-08-30T22:20:37.617Z"
   },
   {
    "duration": 69,
    "start_time": "2021-08-30T22:20:45.608Z"
   },
   {
    "duration": 217,
    "start_time": "2021-08-30T22:20:51.561Z"
   },
   {
    "duration": 306,
    "start_time": "2021-08-30T22:20:59.641Z"
   },
   {
    "duration": 417,
    "start_time": "2021-08-30T22:21:11.784Z"
   },
   {
    "duration": 120,
    "start_time": "2021-08-30T22:21:16.266Z"
   },
   {
    "duration": 16,
    "start_time": "2021-08-30T22:21:20.830Z"
   },
   {
    "duration": 67,
    "start_time": "2021-08-30T22:21:26.912Z"
   },
   {
    "duration": 27,
    "start_time": "2021-08-30T22:21:33.752Z"
   },
   {
    "duration": 5613,
    "start_time": "2021-08-30T22:22:48.169Z"
   },
   {
    "duration": 14682,
    "start_time": "2021-08-30T22:24:00.336Z"
   },
   {
    "duration": 312,
    "start_time": "2021-08-30T22:25:03.521Z"
   },
   {
    "duration": 5,
    "start_time": "2021-08-30T22:25:20.944Z"
   },
   {
    "duration": 267,
    "start_time": "2021-08-30T22:28:39.520Z"
   },
   {
    "duration": 267,
    "start_time": "2021-08-30T22:29:00.848Z"
   },
   {
    "duration": 258,
    "start_time": "2021-08-30T22:29:07.506Z"
   },
   {
    "duration": 264,
    "start_time": "2021-08-30T22:29:11.640Z"
   },
   {
    "duration": 6,
    "start_time": "2021-08-30T22:29:27.376Z"
   },
   {
    "duration": 262,
    "start_time": "2021-08-30T22:29:46.568Z"
   },
   {
    "duration": 6,
    "start_time": "2021-08-30T22:29:55.712Z"
   },
   {
    "duration": 7,
    "start_time": "2021-08-30T22:30:31.025Z"
   },
   {
    "duration": 5673,
    "start_time": "2021-08-30T22:33:15.440Z"
   },
   {
    "duration": 14631,
    "start_time": "2021-08-30T22:33:27.840Z"
   },
   {
    "duration": 4,
    "start_time": "2021-08-30T22:35:48.082Z"
   },
   {
    "duration": 1376,
    "start_time": "2021-08-30T22:35:48.697Z"
   },
   {
    "duration": 39278,
    "start_time": "2021-08-30T22:35:50.834Z"
   },
   {
    "duration": 71204,
    "start_time": "2021-08-30T22:36:46.128Z"
   },
   {
    "duration": 5728,
    "start_time": "2021-08-30T22:38:40.352Z"
   },
   {
    "duration": 19699,
    "start_time": "2021-08-30T22:38:46.082Z"
   },
   {
    "duration": 1095,
    "start_time": "2021-08-30T22:39:05.783Z"
   },
   {
    "duration": 6786,
    "start_time": "2021-08-30T22:40:36.145Z"
   },
   {
    "duration": 605,
    "start_time": "2021-08-30T22:41:18.155Z"
   },
   {
    "duration": 1116,
    "start_time": "2021-08-30T22:41:33.640Z"
   },
   {
    "duration": 677,
    "start_time": "2021-08-30T22:41:40.362Z"
   },
   {
    "duration": 6599,
    "start_time": "2021-08-30T22:41:48.009Z"
   },
   {
    "duration": 4,
    "start_time": "2021-08-30T22:41:57.770Z"
   },
   {
    "duration": 1273,
    "start_time": "2021-08-30T22:41:58.418Z"
   },
   {
    "duration": 71716,
    "start_time": "2021-08-30T22:41:59.693Z"
   },
   {
    "duration": 5752,
    "start_time": "2021-08-30T22:43:11.412Z"
   },
   {
    "duration": 20050,
    "start_time": "2021-08-30T22:43:17.167Z"
   },
   {
    "duration": 1300,
    "start_time": "2021-08-30T22:43:37.278Z"
   },
   {
    "duration": 6809,
    "start_time": "2021-08-30T22:43:38.580Z"
   },
   {
    "duration": 5,
    "start_time": "2021-08-30T22:45:22.532Z"
   },
   {
    "duration": 27,
    "start_time": "2021-08-30T22:45:30.102Z"
   },
   {
    "duration": 4,
    "start_time": "2021-08-30T22:45:39.338Z"
   },
   {
    "duration": 4,
    "start_time": "2021-08-30T22:45:44.985Z"
   },
   {
    "duration": 8,
    "start_time": "2021-08-30T22:47:57.737Z"
   },
   {
    "duration": 638,
    "start_time": "2021-08-30T22:48:12.570Z"
   },
   {
    "duration": 1048,
    "start_time": "2021-08-30T22:49:06.522Z"
   },
   {
    "duration": 1523,
    "start_time": "2021-08-30T22:58:05.495Z"
   },
   {
    "duration": 5627,
    "start_time": "2021-08-30T22:58:11.209Z"
   },
   {
    "duration": 19573,
    "start_time": "2021-08-30T22:58:16.839Z"
   },
   {
    "duration": 764,
    "start_time": "2021-08-30T22:58:36.414Z"
   },
   {
    "duration": 5,
    "start_time": "2021-08-30T22:59:56.298Z"
   },
   {
    "duration": 4,
    "start_time": "2021-08-30T23:00:05.104Z"
   },
   {
    "duration": 5,
    "start_time": "2021-08-30T23:00:23.817Z"
   },
   {
    "duration": 4,
    "start_time": "2021-08-30T23:00:24.855Z"
   },
   {
    "duration": 4,
    "start_time": "2021-08-30T23:01:47.018Z"
   },
   {
    "duration": 1320,
    "start_time": "2021-08-30T23:01:47.024Z"
   },
   {
    "duration": 72120,
    "start_time": "2021-08-30T23:01:48.347Z"
   },
   {
    "duration": 5566,
    "start_time": "2021-08-30T23:03:00.469Z"
   },
   {
    "duration": 20463,
    "start_time": "2021-08-30T23:03:06.037Z"
   },
   {
    "duration": 1476,
    "start_time": "2021-08-30T23:03:26.502Z"
   },
   {
    "duration": 4,
    "start_time": "2021-08-30T23:03:31.691Z"
   },
   {
    "duration": 4,
    "start_time": "2021-08-30T23:03:32.672Z"
   },
   {
    "duration": 4,
    "start_time": "2021-08-30T23:03:33.832Z"
   },
   {
    "duration": 4,
    "start_time": "2021-08-30T23:03:34.639Z"
   },
   {
    "duration": 3483,
    "start_time": "2021-08-30T23:03:35.700Z"
   },
   {
    "duration": 3765,
    "start_time": "2021-08-30T23:04:32.328Z"
   },
   {
    "duration": 4,
    "start_time": "2021-08-30T23:05:17.448Z"
   },
   {
    "duration": 3,
    "start_time": "2021-08-30T23:09:16.856Z"
   },
   {
    "duration": 3716,
    "start_time": "2021-08-30T23:09:34.881Z"
   },
   {
    "duration": 19,
    "start_time": "2021-08-30T23:10:12.359Z"
   },
   {
    "duration": 20,
    "start_time": "2021-08-30T23:10:19.295Z"
   },
   {
    "duration": 9269,
    "start_time": "2021-08-30T23:13:42.160Z"
   },
   {
    "duration": 87,
    "start_time": "2021-08-30T23:14:07.313Z"
   },
   {
    "duration": 81,
    "start_time": "2021-08-30T23:14:09.248Z"
   },
   {
    "duration": 3456,
    "start_time": "2021-08-30T23:14:11.533Z"
   },
   {
    "duration": 1262,
    "start_time": "2021-08-30T23:19:49.244Z"
   },
   {
    "duration": 814,
    "start_time": "2021-08-30T23:19:50.508Z"
   },
   {
    "duration": 139,
    "start_time": "2021-08-30T23:19:51.325Z"
   },
   {
    "duration": 24,
    "start_time": "2021-08-30T23:19:51.466Z"
   },
   {
    "duration": 1064,
    "start_time": "2021-08-30T23:19:51.492Z"
   },
   {
    "duration": 71,
    "start_time": "2021-08-30T23:19:52.558Z"
   },
   {
    "duration": 652,
    "start_time": "2021-08-30T23:19:52.631Z"
   },
   {
    "duration": 304,
    "start_time": "2021-08-30T23:19:53.286Z"
   },
   {
    "duration": 315,
    "start_time": "2021-08-30T23:19:53.592Z"
   },
   {
    "duration": 2838,
    "start_time": "2021-08-30T23:19:53.909Z"
   },
   {
    "duration": 2141,
    "start_time": "2021-08-30T23:19:56.748Z"
   },
   {
    "duration": 97476,
    "start_time": "2021-08-30T23:19:58.891Z"
   },
   {
    "duration": 1997,
    "start_time": "2021-08-30T23:21:36.368Z"
   },
   {
    "duration": -500,
    "start_time": "2021-08-30T23:21:38.868Z"
   },
   {
    "duration": -507,
    "start_time": "2021-08-30T23:21:38.876Z"
   },
   {
    "duration": -509,
    "start_time": "2021-08-30T23:21:38.879Z"
   },
   {
    "duration": -511,
    "start_time": "2021-08-30T23:21:38.882Z"
   },
   {
    "duration": -512,
    "start_time": "2021-08-30T23:21:38.884Z"
   },
   {
    "duration": -513,
    "start_time": "2021-08-30T23:21:38.886Z"
   },
   {
    "duration": -515,
    "start_time": "2021-08-30T23:21:38.888Z"
   },
   {
    "duration": -516,
    "start_time": "2021-08-30T23:21:38.890Z"
   },
   {
    "duration": 22,
    "start_time": "2021-08-30T23:22:00.977Z"
   },
   {
    "duration": 1205,
    "start_time": "2021-08-30T23:22:11.637Z"
   },
   {
    "duration": 815,
    "start_time": "2021-08-30T23:22:12.843Z"
   },
   {
    "duration": 139,
    "start_time": "2021-08-30T23:22:13.661Z"
   },
   {
    "duration": 19,
    "start_time": "2021-08-30T23:22:13.802Z"
   },
   {
    "duration": 1120,
    "start_time": "2021-08-30T23:22:13.823Z"
   },
   {
    "duration": 70,
    "start_time": "2021-08-30T23:22:14.945Z"
   },
   {
    "duration": 657,
    "start_time": "2021-08-30T23:22:15.017Z"
   },
   {
    "duration": 303,
    "start_time": "2021-08-30T23:22:15.676Z"
   },
   {
    "duration": 311,
    "start_time": "2021-08-30T23:22:15.981Z"
   },
   {
    "duration": 2855,
    "start_time": "2021-08-30T23:22:16.293Z"
   },
   {
    "duration": 2152,
    "start_time": "2021-08-30T23:22:19.150Z"
   },
   {
    "duration": 21300,
    "start_time": "2021-08-30T23:22:21.304Z"
   },
   {
    "duration": -708,
    "start_time": "2021-08-30T23:22:43.314Z"
   },
   {
    "duration": -709,
    "start_time": "2021-08-30T23:22:43.316Z"
   },
   {
    "duration": -710,
    "start_time": "2021-08-30T23:22:43.318Z"
   },
   {
    "duration": -710,
    "start_time": "2021-08-30T23:22:43.319Z"
   },
   {
    "duration": -712,
    "start_time": "2021-08-30T23:22:43.321Z"
   },
   {
    "duration": -754,
    "start_time": "2021-08-30T23:22:43.364Z"
   },
   {
    "duration": -824,
    "start_time": "2021-08-30T23:22:43.435Z"
   },
   {
    "duration": -825,
    "start_time": "2021-08-30T23:22:43.437Z"
   },
   {
    "duration": -826,
    "start_time": "2021-08-30T23:22:43.439Z"
   },
   {
    "duration": 1222,
    "start_time": "2021-08-30T23:23:14.376Z"
   },
   {
    "duration": 804,
    "start_time": "2021-08-30T23:23:15.600Z"
   },
   {
    "duration": 136,
    "start_time": "2021-08-30T23:23:16.407Z"
   },
   {
    "duration": 19,
    "start_time": "2021-08-30T23:23:16.545Z"
   },
   {
    "duration": 1015,
    "start_time": "2021-08-30T23:23:16.576Z"
   },
   {
    "duration": 66,
    "start_time": "2021-08-30T23:23:17.593Z"
   },
   {
    "duration": 665,
    "start_time": "2021-08-30T23:23:17.661Z"
   },
   {
    "duration": 319,
    "start_time": "2021-08-30T23:23:18.327Z"
   },
   {
    "duration": 319,
    "start_time": "2021-08-30T23:23:18.649Z"
   },
   {
    "duration": 2802,
    "start_time": "2021-08-30T23:23:18.971Z"
   },
   {
    "duration": 2138,
    "start_time": "2021-08-30T23:23:21.775Z"
   },
   {
    "duration": 97770,
    "start_time": "2021-08-30T23:23:23.914Z"
   },
   {
    "duration": 98006,
    "start_time": "2021-08-30T23:25:01.685Z"
   },
   {
    "duration": 137,
    "start_time": "2021-08-30T23:26:39.693Z"
   },
   {
    "duration": 4,
    "start_time": "2021-08-30T23:26:39.832Z"
   },
   {
    "duration": 1380,
    "start_time": "2021-08-30T23:26:39.838Z"
   },
   {
    "duration": 75441,
    "start_time": "2021-08-30T23:26:41.220Z"
   },
   {
    "duration": -199,
    "start_time": "2021-08-30T23:27:56.862Z"
   },
   {
    "duration": -200,
    "start_time": "2021-08-30T23:27:56.864Z"
   },
   {
    "duration": -201,
    "start_time": "2021-08-30T23:27:56.866Z"
   },
   {
    "duration": -754,
    "start_time": "2021-08-30T23:27:57.420Z"
   },
   {
    "duration": 71284,
    "start_time": "2021-08-30T23:28:44.303Z"
   },
   {
    "duration": 5,
    "start_time": "2021-08-30T23:30:08.911Z"
   },
   {
    "duration": 5687,
    "start_time": "2021-08-30T23:30:10.142Z"
   },
   {
    "duration": 20553,
    "start_time": "2021-08-30T23:30:15.832Z"
   },
   {
    "duration": 1090,
    "start_time": "2021-08-30T23:30:36.387Z"
   },
   {
    "duration": 3537,
    "start_time": "2021-08-30T23:30:51.550Z"
   },
   {
    "duration": 1196,
    "start_time": "2021-08-30T23:31:17.105Z"
   },
   {
    "duration": 819,
    "start_time": "2021-08-30T23:31:18.303Z"
   },
   {
    "duration": 140,
    "start_time": "2021-08-30T23:31:19.124Z"
   },
   {
    "duration": 23,
    "start_time": "2021-08-30T23:31:19.266Z"
   },
   {
    "duration": 1017,
    "start_time": "2021-08-30T23:31:19.291Z"
   },
   {
    "duration": 71,
    "start_time": "2021-08-30T23:31:20.309Z"
   },
   {
    "duration": 638,
    "start_time": "2021-08-30T23:31:20.381Z"
   },
   {
    "duration": 304,
    "start_time": "2021-08-30T23:31:21.021Z"
   },
   {
    "duration": 310,
    "start_time": "2021-08-30T23:31:21.328Z"
   },
   {
    "duration": 2885,
    "start_time": "2021-08-30T23:31:21.640Z"
   },
   {
    "duration": 2105,
    "start_time": "2021-08-30T23:31:24.526Z"
   },
   {
    "duration": 97890,
    "start_time": "2021-08-30T23:31:26.633Z"
   },
   {
    "duration": 98117,
    "start_time": "2021-08-30T23:33:04.525Z"
   },
   {
    "duration": 144,
    "start_time": "2021-08-30T23:34:42.644Z"
   },
   {
    "duration": 3,
    "start_time": "2021-08-30T23:34:42.790Z"
   },
   {
    "duration": 1338,
    "start_time": "2021-08-30T23:34:42.795Z"
   },
   {
    "duration": 71043,
    "start_time": "2021-08-30T23:34:44.135Z"
   },
   {
    "duration": 215,
    "start_time": "2021-08-31T00:12:36.440Z"
   },
   {
    "duration": 1186,
    "start_time": "2021-08-31T00:12:49.613Z"
   },
   {
    "duration": 823,
    "start_time": "2021-08-31T00:12:50.801Z"
   },
   {
    "duration": 137,
    "start_time": "2021-08-31T00:12:51.626Z"
   },
   {
    "duration": 28,
    "start_time": "2021-08-31T00:12:51.765Z"
   },
   {
    "duration": 1000,
    "start_time": "2021-08-31T00:12:51.795Z"
   },
   {
    "duration": 63,
    "start_time": "2021-08-31T00:12:52.797Z"
   },
   {
    "duration": 653,
    "start_time": "2021-08-31T00:12:52.862Z"
   },
   {
    "duration": 305,
    "start_time": "2021-08-31T00:12:53.517Z"
   },
   {
    "duration": 310,
    "start_time": "2021-08-31T00:12:53.824Z"
   },
   {
    "duration": 2829,
    "start_time": "2021-08-31T00:12:54.135Z"
   },
   {
    "duration": 2152,
    "start_time": "2021-08-31T00:12:56.966Z"
   },
   {
    "duration": 10619,
    "start_time": "2021-08-31T00:12:59.120Z"
   },
   {
    "duration": -205,
    "start_time": "2021-08-31T00:13:09.946Z"
   },
   {
    "duration": -206,
    "start_time": "2021-08-31T00:13:09.948Z"
   },
   {
    "duration": -208,
    "start_time": "2021-08-31T00:13:09.951Z"
   },
   {
    "duration": -209,
    "start_time": "2021-08-31T00:13:09.953Z"
   },
   {
    "duration": -406,
    "start_time": "2021-08-31T00:13:10.151Z"
   },
   {
    "duration": -409,
    "start_time": "2021-08-31T00:13:10.155Z"
   },
   {
    "duration": -410,
    "start_time": "2021-08-31T00:13:10.157Z"
   },
   {
    "duration": -411,
    "start_time": "2021-08-31T00:13:10.159Z"
   },
   {
    "duration": -411,
    "start_time": "2021-08-31T00:13:10.160Z"
   },
   {
    "duration": 168,
    "start_time": "2021-08-31T00:13:10.479Z"
   },
   {
    "duration": 1173,
    "start_time": "2021-08-31T00:14:09.236Z"
   },
   {
    "duration": 817,
    "start_time": "2021-08-31T00:14:10.411Z"
   },
   {
    "duration": 140,
    "start_time": "2021-08-31T00:14:11.230Z"
   },
   {
    "duration": 20,
    "start_time": "2021-08-31T00:14:11.372Z"
   },
   {
    "duration": 1066,
    "start_time": "2021-08-31T00:14:11.393Z"
   },
   {
    "duration": 67,
    "start_time": "2021-08-31T00:14:12.461Z"
   },
   {
    "duration": 665,
    "start_time": "2021-08-31T00:14:12.530Z"
   },
   {
    "duration": 313,
    "start_time": "2021-08-31T00:14:13.197Z"
   },
   {
    "duration": 317,
    "start_time": "2021-08-31T00:14:13.514Z"
   },
   {
    "duration": 2814,
    "start_time": "2021-08-31T00:14:13.833Z"
   },
   {
    "duration": 2213,
    "start_time": "2021-08-31T00:14:16.649Z"
   },
   {
    "duration": 96734,
    "start_time": "2021-08-31T00:14:18.864Z"
   },
   {
    "duration": 97629,
    "start_time": "2021-08-31T00:15:55.600Z"
   },
   {
    "duration": 138,
    "start_time": "2021-08-31T00:17:33.230Z"
   },
   {
    "duration": 8,
    "start_time": "2021-08-31T00:17:33.370Z"
   },
   {
    "duration": 1197,
    "start_time": "2021-08-31T00:17:33.380Z"
   },
   {
    "duration": 71003,
    "start_time": "2021-08-31T00:17:34.579Z"
   },
   {
    "duration": 222,
    "start_time": "2021-08-31T02:13:53.976Z"
   },
   {
    "duration": 1253,
    "start_time": "2021-08-31T02:14:00.547Z"
   },
   {
    "duration": 899,
    "start_time": "2021-08-31T02:14:01.802Z"
   },
   {
    "duration": 138,
    "start_time": "2021-08-31T02:14:02.703Z"
   },
   {
    "duration": 18,
    "start_time": "2021-08-31T02:14:02.843Z"
   },
   {
    "duration": 1006,
    "start_time": "2021-08-31T02:14:02.863Z"
   },
   {
    "duration": 66,
    "start_time": "2021-08-31T02:14:03.870Z"
   },
   {
    "duration": 657,
    "start_time": "2021-08-31T02:14:03.938Z"
   },
   {
    "duration": 303,
    "start_time": "2021-08-31T02:14:04.597Z"
   },
   {
    "duration": 312,
    "start_time": "2021-08-31T02:14:04.902Z"
   },
   {
    "duration": 2802,
    "start_time": "2021-08-31T02:14:05.216Z"
   },
   {
    "duration": 2170,
    "start_time": "2021-08-31T02:14:08.020Z"
   },
   {
    "duration": 97594,
    "start_time": "2021-08-31T02:14:10.191Z"
   },
   {
    "duration": 96658,
    "start_time": "2021-08-31T02:15:47.787Z"
   },
   {
    "duration": 141,
    "start_time": "2021-08-31T02:17:24.446Z"
   },
   {
    "duration": 3,
    "start_time": "2021-08-31T02:17:24.589Z"
   },
   {
    "duration": 1234,
    "start_time": "2021-08-31T02:17:24.594Z"
   },
   {
    "duration": 71981,
    "start_time": "2021-08-31T02:17:25.830Z"
   },
   {
    "duration": 5,
    "start_time": "2021-08-31T02:18:37.813Z"
   },
   {
    "duration": 781475,
    "start_time": "2021-08-31T02:18:37.819Z"
   },
   {
    "duration": 181283,
    "start_time": "2021-08-31T02:31:39.296Z"
   },
   {
    "duration": 2701,
    "start_time": "2021-08-31T02:34:40.582Z"
   },
   {
    "duration": 366,
    "start_time": "2021-08-31T02:39:43.747Z"
   },
   {
    "duration": 6210,
    "start_time": "2021-08-31T02:39:46.557Z"
   },
   {
    "duration": 6,
    "start_time": "2021-08-31T02:39:59.164Z"
   },
   {
    "duration": 9,
    "start_time": "2021-08-31T02:40:06.972Z"
   },
   {
    "duration": 18,
    "start_time": "2021-08-31T02:51:14.878Z"
   },
   {
    "duration": 318,
    "start_time": "2021-08-31T02:56:25.520Z"
   },
   {
    "duration": 19,
    "start_time": "2021-08-31T02:56:37.584Z"
   },
   {
    "duration": 26,
    "start_time": "2021-08-31T02:56:55.857Z"
   },
   {
    "duration": 259,
    "start_time": "2021-08-31T02:57:09.097Z"
   },
   {
    "duration": 81,
    "start_time": "2021-08-31T02:57:12.648Z"
   },
   {
    "duration": 60,
    "start_time": "2021-08-31T02:59:15.827Z"
   },
   {
    "duration": 58,
    "start_time": "2021-08-31T02:59:26.434Z"
   },
   {
    "duration": 63,
    "start_time": "2021-08-31T03:00:00.769Z"
   },
   {
    "duration": 353,
    "start_time": "2021-08-31T03:00:10.946Z"
   },
   {
    "duration": 321,
    "start_time": "2021-08-31T03:00:13.257Z"
   },
   {
    "duration": 85,
    "start_time": "2021-08-31T03:00:17.297Z"
   },
   {
    "duration": 64,
    "start_time": "2021-08-31T03:00:21.809Z"
   },
   {
    "duration": 64,
    "start_time": "2021-08-31T03:00:29.361Z"
   },
   {
    "duration": 63,
    "start_time": "2021-08-31T03:01:04.642Z"
   },
   {
    "duration": 131,
    "start_time": "2021-08-31T03:01:19.906Z"
   },
   {
    "duration": 75,
    "start_time": "2021-08-31T03:34:44.628Z"
   },
   {
    "duration": 67,
    "start_time": "2021-08-31T03:34:53.523Z"
   },
   {
    "duration": 100,
    "start_time": "2021-08-31T03:35:19.964Z"
   },
   {
    "duration": 357,
    "start_time": "2021-08-31T03:35:29.342Z"
   },
   {
    "duration": 72,
    "start_time": "2021-08-31T03:36:36.981Z"
   },
   {
    "duration": 64,
    "start_time": "2021-08-31T03:36:41.949Z"
   },
   {
    "duration": 66,
    "start_time": "2021-08-31T03:36:50.620Z"
   },
   {
    "duration": 71,
    "start_time": "2021-08-31T03:36:54.332Z"
   },
   {
    "duration": 77,
    "start_time": "2021-08-31T03:37:06.725Z"
   },
   {
    "duration": 66,
    "start_time": "2021-08-31T03:53:36.442Z"
   },
   {
    "duration": 488,
    "start_time": "2021-08-31T03:53:50.682Z"
   },
   {
    "duration": 4,
    "start_time": "2021-08-31T03:54:37.345Z"
   },
   {
    "duration": 547,
    "start_time": "2021-08-31T03:54:43.482Z"
   },
   {
    "duration": 441,
    "start_time": "2021-08-31T03:54:50.474Z"
   },
   {
    "duration": 4,
    "start_time": "2021-08-31T04:02:13.236Z"
   },
   {
    "duration": 1638,
    "start_time": "2021-08-31T04:02:13.739Z"
   },
   {
    "duration": 1414,
    "start_time": "2021-08-31T04:02:16.564Z"
   },
   {
    "duration": 76469,
    "start_time": "2021-08-31T04:02:43.781Z"
   },
   {
    "duration": 329,
    "start_time": "2021-08-31T04:04:51.068Z"
   },
   {
    "duration": 66,
    "start_time": "2021-08-31T04:04:56.317Z"
   },
   {
    "duration": 335,
    "start_time": "2021-08-31T04:05:00.660Z"
   },
   {
    "duration": 819,
    "start_time": "2021-08-31T04:05:20.989Z"
   },
   {
    "duration": 293,
    "start_time": "2021-08-31T04:05:50.293Z"
   },
   {
    "duration": 1555,
    "start_time": "2021-08-31T04:06:07.644Z"
   },
   {
    "duration": 774,
    "start_time": "2021-08-31T04:06:22.054Z"
   },
   {
    "duration": 736,
    "start_time": "2021-08-31T04:07:01.005Z"
   },
   {
    "duration": 78629,
    "start_time": "2021-08-31T04:07:20.663Z"
   },
   {
    "duration": 192370,
    "start_time": "2021-08-31T04:09:42.710Z"
   },
   {
    "duration": 952,
    "start_time": "2021-08-31T04:14:16.638Z"
   },
   {
    "duration": 1331,
    "start_time": "2021-08-31T04:16:17.621Z"
   },
   {
    "duration": 917,
    "start_time": "2021-08-31T04:16:18.954Z"
   },
   {
    "duration": 149,
    "start_time": "2021-08-31T04:16:19.876Z"
   },
   {
    "duration": 22,
    "start_time": "2021-08-31T04:16:20.027Z"
   },
   {
    "duration": 1111,
    "start_time": "2021-08-31T04:16:20.051Z"
   },
   {
    "duration": 78,
    "start_time": "2021-08-31T04:16:21.164Z"
   },
   {
    "duration": 721,
    "start_time": "2021-08-31T04:16:21.244Z"
   },
   {
    "duration": 336,
    "start_time": "2021-08-31T04:16:21.967Z"
   },
   {
    "duration": 352,
    "start_time": "2021-08-31T04:16:22.306Z"
   },
   {
    "duration": 3085,
    "start_time": "2021-08-31T04:16:22.660Z"
   },
   {
    "duration": 2479,
    "start_time": "2021-08-31T04:16:25.747Z"
   },
   {
    "duration": 107821,
    "start_time": "2021-08-31T04:16:28.228Z"
   },
   {
    "duration": 112747,
    "start_time": "2021-08-31T04:18:16.051Z"
   },
   {
    "duration": 151,
    "start_time": "2021-08-31T04:20:08.800Z"
   },
   {
    "duration": 4,
    "start_time": "2021-08-31T04:20:08.953Z"
   },
   {
    "duration": 1829,
    "start_time": "2021-08-31T04:20:08.958Z"
   },
   {
    "duration": 79249,
    "start_time": "2021-08-31T04:20:10.789Z"
   },
   {
    "duration": 6,
    "start_time": "2021-08-31T04:21:30.040Z"
   },
   {
    "duration": 900734,
    "start_time": "2021-08-31T04:21:30.048Z"
   },
   {
    "duration": 196792,
    "start_time": "2021-08-31T04:36:30.784Z"
   },
   {
    "duration": 2907,
    "start_time": "2021-08-31T04:39:47.579Z"
   },
   {
    "duration": 1515,
    "start_time": "2021-09-01T00:30:00.510Z"
   },
   {
    "duration": 1150,
    "start_time": "2021-09-01T00:30:02.028Z"
   },
   {
    "duration": 194,
    "start_time": "2021-09-01T00:30:03.181Z"
   },
   {
    "duration": 30,
    "start_time": "2021-09-01T00:30:03.378Z"
   },
   {
    "duration": 1624,
    "start_time": "2021-09-01T00:30:05.356Z"
   },
   {
    "duration": 112,
    "start_time": "2021-09-01T00:30:06.982Z"
   },
   {
    "duration": 1039,
    "start_time": "2021-09-01T00:30:07.098Z"
   },
   {
    "duration": 527,
    "start_time": "2021-09-01T00:30:09.483Z"
   },
   {
    "duration": 498,
    "start_time": "2021-09-01T00:30:11.556Z"
   },
   {
    "duration": 4861,
    "start_time": "2021-09-01T00:30:12.884Z"
   },
   {
    "duration": 4103,
    "start_time": "2021-09-01T00:30:17.748Z"
   },
   {
    "duration": 173463,
    "start_time": "2021-09-01T00:30:21.856Z"
   },
   {
    "duration": 171991,
    "start_time": "2021-09-01T00:33:15.323Z"
   },
   {
    "duration": 185,
    "start_time": "2021-09-01T00:36:07.317Z"
   },
   {
    "duration": 5,
    "start_time": "2021-09-01T00:36:14.700Z"
   },
   {
    "duration": 1680,
    "start_time": "2021-09-01T00:36:15.325Z"
   },
   {
    "duration": 7,
    "start_time": "2021-09-01T00:37:59.755Z"
   },
   {
    "duration": 29,
    "start_time": "2021-09-01T00:40:26.084Z"
   },
   {
    "duration": 357,
    "start_time": "2021-09-01T00:40:48.340Z"
   },
   {
    "duration": 5,
    "start_time": "2021-09-01T00:41:01.948Z"
   },
   {
    "duration": 1616,
    "start_time": "2021-09-01T00:41:03.211Z"
   },
   {
    "duration": 31,
    "start_time": "2021-09-01T00:46:46.315Z"
   },
   {
    "duration": 28,
    "start_time": "2021-09-01T00:48:15.204Z"
   },
   {
    "duration": 5,
    "start_time": "2021-09-01T00:48:22.982Z"
   },
   {
    "duration": 1656,
    "start_time": "2021-09-01T00:48:23.491Z"
   },
   {
    "duration": 5091,
    "start_time": "2021-09-01T00:48:33.284Z"
   },
   {
    "duration": 563,
    "start_time": "2021-09-01T00:48:49.948Z"
   },
   {
    "duration": 223705,
    "start_time": "2021-09-01T00:49:06.651Z"
   },
   {
    "duration": 15,
    "start_time": "2021-09-01T00:54:14.580Z"
   },
   {
    "duration": 4984,
    "start_time": "2021-09-01T00:57:14.332Z"
   },
   {
    "duration": 83,
    "start_time": "2021-09-01T00:57:20.699Z"
   },
   {
    "duration": 5,
    "start_time": "2021-09-01T00:58:13.379Z"
   },
   {
    "duration": 2572076,
    "start_time": "2021-09-01T01:00:02.603Z"
   },
   {
    "duration": 16,
    "start_time": "2021-09-01T01:47:19.242Z"
   },
   {
    "duration": 508,
    "start_time": "2021-09-01T01:47:40.852Z"
   },
   {
    "duration": 47,
    "start_time": "2021-09-01T01:48:42.098Z"
   },
   {
    "duration": 301,
    "start_time": "2021-09-01T01:48:50.394Z"
   },
   {
    "duration": 9,
    "start_time": "2021-09-01T01:48:52.659Z"
   },
   {
    "duration": 274,
    "start_time": "2021-09-01T01:49:50.363Z"
   },
   {
    "duration": 35,
    "start_time": "2021-09-01T01:49:55.538Z"
   },
   {
    "duration": 264,
    "start_time": "2021-09-01T01:50:00.356Z"
   },
   {
    "duration": 249,
    "start_time": "2021-09-01T01:50:04.732Z"
   },
   {
    "duration": 5,
    "start_time": "2021-09-01T01:50:42.426Z"
   },
   {
    "duration": 134,
    "start_time": "2021-09-01T01:50:44.698Z"
   },
   {
    "duration": 2297,
    "start_time": "2021-09-01T01:50:48.131Z"
   },
   {
    "duration": 100,
    "start_time": "2021-09-01T01:51:25.146Z"
   },
   {
    "duration": 2435,
    "start_time": "2021-09-01T01:52:01.139Z"
   },
   {
    "duration": 2042,
    "start_time": "2021-09-01T01:52:14.667Z"
   },
   {
    "duration": 430,
    "start_time": "2021-09-01T01:52:40.060Z"
   },
   {
    "duration": 2428,
    "start_time": "2021-09-01T01:53:05.786Z"
   },
   {
    "duration": 2092,
    "start_time": "2021-09-01T01:53:30.859Z"
   },
   {
    "duration": 2001,
    "start_time": "2021-09-01T01:53:49.355Z"
   },
   {
    "duration": 1257,
    "start_time": "2021-09-01T01:54:12.170Z"
   },
   {
    "duration": 3786,
    "start_time": "2021-09-01T01:54:18.001Z"
   },
   {
    "duration": 1360,
    "start_time": "2021-09-01T01:55:23.083Z"
   },
   {
    "duration": 1322,
    "start_time": "2021-09-01T01:55:59.106Z"
   },
   {
    "duration": 8313,
    "start_time": "2021-09-01T01:57:39.770Z"
   },
   {
    "duration": 1519,
    "start_time": "2021-09-01T01:58:06.906Z"
   },
   {
    "duration": 1362,
    "start_time": "2021-09-01T01:58:46.505Z"
   },
   {
    "duration": 4078,
    "start_time": "2021-09-01T02:01:51.128Z"
   },
   {
    "duration": 288,
    "start_time": "2021-09-01T02:02:20.666Z"
   },
   {
    "duration": 4,
    "start_time": "2021-09-01T02:02:55.523Z"
   },
   {
    "duration": 109,
    "start_time": "2021-09-01T02:02:59.969Z"
   },
   {
    "duration": 312,
    "start_time": "2021-09-01T02:03:02.993Z"
   },
   {
    "duration": 2025,
    "start_time": "2021-09-01T02:03:25.699Z"
   },
   {
    "duration": 1312,
    "start_time": "2021-09-01T02:03:47.730Z"
   },
   {
    "duration": 1311,
    "start_time": "2021-09-01T02:03:59.673Z"
   },
   {
    "duration": 244,
    "start_time": "2021-09-01T02:04:45.158Z"
   },
   {
    "duration": 1282,
    "start_time": "2021-09-01T02:04:57.738Z"
   },
   {
    "duration": 1291,
    "start_time": "2021-09-01T02:05:51.329Z"
   },
   {
    "duration": 5137,
    "start_time": "2021-09-01T02:08:50.697Z"
   },
   {
    "duration": 3199,
    "start_time": "2021-09-01T02:24:31.409Z"
   },
   {
    "duration": 274,
    "start_time": "2021-09-01T02:24:56.451Z"
   },
   {
    "duration": 1846,
    "start_time": "2021-09-01T02:25:16.896Z"
   },
   {
    "duration": 4,
    "start_time": "2021-09-01T02:25:25.177Z"
   },
   {
    "duration": 107,
    "start_time": "2021-09-01T02:25:29.593Z"
   },
   {
    "duration": 264,
    "start_time": "2021-09-01T02:25:31.715Z"
   },
   {
    "duration": 2876,
    "start_time": "2021-09-01T02:25:43.880Z"
   },
   {
    "duration": 103,
    "start_time": "2021-09-01T02:27:33.346Z"
   },
   {
    "duration": 93,
    "start_time": "2021-09-01T02:27:36.751Z"
   },
   {
    "duration": 2535,
    "start_time": "2021-09-01T02:27:40.352Z"
   },
   {
    "duration": 2643,
    "start_time": "2021-09-01T02:31:22.233Z"
   },
   {
    "duration": 2652,
    "start_time": "2021-09-01T02:31:34.243Z"
   },
   {
    "duration": 2948,
    "start_time": "2021-09-01T02:35:14.250Z"
   },
   {
    "duration": 2702,
    "start_time": "2021-09-01T02:35:37.865Z"
   },
   {
    "duration": 2753,
    "start_time": "2021-09-01T02:35:56.008Z"
   },
   {
    "duration": 2712,
    "start_time": "2021-09-01T02:36:19.564Z"
   },
   {
    "duration": 2681,
    "start_time": "2021-09-01T02:36:31.714Z"
   },
   {
    "duration": 2603,
    "start_time": "2021-09-01T02:37:08.394Z"
   },
   {
    "duration": 2663,
    "start_time": "2021-09-01T02:37:17.001Z"
   },
   {
    "duration": 2761,
    "start_time": "2021-09-01T03:32:05.568Z"
   },
   {
    "duration": 2755,
    "start_time": "2021-09-01T03:32:50.583Z"
   },
   {
    "duration": 2754,
    "start_time": "2021-09-01T03:33:05.304Z"
   },
   {
    "duration": 2732,
    "start_time": "2021-09-01T03:34:30.346Z"
   },
   {
    "duration": 1540,
    "start_time": "2021-09-01T03:35:02.376Z"
   },
   {
    "duration": 1136,
    "start_time": "2021-09-01T03:35:03.919Z"
   },
   {
    "duration": 186,
    "start_time": "2021-09-01T03:35:05.061Z"
   },
   {
    "duration": 35,
    "start_time": "2021-09-01T03:35:05.257Z"
   },
   {
    "duration": 1620,
    "start_time": "2021-09-01T03:35:05.294Z"
   },
   {
    "duration": 113,
    "start_time": "2021-09-01T03:35:06.916Z"
   },
   {
    "duration": 1015,
    "start_time": "2021-09-01T03:35:07.031Z"
   },
   {
    "duration": 484,
    "start_time": "2021-09-01T03:35:08.053Z"
   },
   {
    "duration": 622,
    "start_time": "2021-09-01T03:35:08.540Z"
   },
   {
    "duration": 4632,
    "start_time": "2021-09-01T03:35:09.165Z"
   },
   {
    "duration": 3920,
    "start_time": "2021-09-01T03:35:13.800Z"
   },
   {
    "duration": 168233,
    "start_time": "2021-09-01T03:35:17.723Z"
   },
   {
    "duration": 167808,
    "start_time": "2021-09-01T03:38:05.959Z"
   },
   {
    "duration": 168,
    "start_time": "2021-09-01T03:40:53.770Z"
   },
   {
    "duration": 13,
    "start_time": "2021-09-01T03:40:53.941Z"
   },
   {
    "duration": 1860,
    "start_time": "2021-09-01T03:40:53.957Z"
   },
   {
    "duration": 104479,
    "start_time": "2021-09-01T03:40:55.819Z"
   },
   {
    "duration": 5,
    "start_time": "2021-09-01T03:42:40.300Z"
   },
   {
    "duration": 2821281,
    "start_time": "2021-09-01T03:42:40.308Z"
   },
   {
    "duration": -432,
    "start_time": "2021-09-01T04:29:42.025Z"
   },
   {
    "duration": -430,
    "start_time": "2021-09-01T04:29:42.026Z"
   },
   {
    "duration": -542,
    "start_time": "2021-09-01T04:29:42.140Z"
   },
   {
    "duration": -541,
    "start_time": "2021-09-01T04:29:42.141Z"
   },
   {
    "duration": 2509636,
    "start_time": "2021-09-01T04:30:16.158Z"
   },
   {
    "duration": 251191,
    "start_time": "2021-09-01T05:31:17.465Z"
   },
   {
    "duration": 841003,
    "start_time": "2021-09-01T05:35:28.660Z"
   },
   {
    "duration": 20,
    "start_time": "2021-09-01T05:49:29.666Z"
   },
   {
    "duration": 6199,
    "start_time": "2021-09-01T05:49:29.689Z"
   },
   {
    "duration": 1592,
    "start_time": "2021-09-01T05:57:19.842Z"
   },
   {
    "duration": 1201,
    "start_time": "2021-09-01T05:57:21.437Z"
   },
   {
    "duration": 178,
    "start_time": "2021-09-01T05:57:22.641Z"
   },
   {
    "duration": 43,
    "start_time": "2021-09-01T05:57:22.822Z"
   },
   {
    "duration": 1570,
    "start_time": "2021-09-01T05:57:22.868Z"
   },
   {
    "duration": 140,
    "start_time": "2021-09-01T05:57:24.442Z"
   },
   {
    "duration": 1304,
    "start_time": "2021-09-01T05:57:24.585Z"
   },
   {
    "duration": 502,
    "start_time": "2021-09-01T05:57:25.894Z"
   },
   {
    "duration": 526,
    "start_time": "2021-09-01T05:57:26.400Z"
   },
   {
    "duration": 5037,
    "start_time": "2021-09-01T05:57:26.929Z"
   },
   {
    "duration": 4085,
    "start_time": "2021-09-01T05:57:31.969Z"
   },
   {
    "duration": 167704,
    "start_time": "2021-09-01T05:57:36.057Z"
   },
   {
    "duration": 170614,
    "start_time": "2021-09-01T06:00:23.764Z"
   },
   {
    "duration": 187,
    "start_time": "2021-09-01T06:03:14.381Z"
   },
   {
    "duration": 6,
    "start_time": "2021-09-01T06:03:14.570Z"
   },
   {
    "duration": 2033,
    "start_time": "2021-09-01T06:03:14.579Z"
   },
   {
    "duration": 102976,
    "start_time": "2021-09-01T06:03:16.615Z"
   },
   {
    "duration": 7,
    "start_time": "2021-09-01T06:04:59.593Z"
   },
   {
    "duration": 2408973,
    "start_time": "2021-09-01T06:04:59.602Z"
   },
   {
    "duration": 240079,
    "start_time": "2021-09-01T06:45:08.577Z"
   },
   {
    "duration": 1541595,
    "start_time": "2021-09-01T06:49:08.660Z"
   },
   {
    "duration": 18,
    "start_time": "2021-09-01T07:14:50.258Z"
   },
   {
    "duration": 4777,
    "start_time": "2021-09-01T07:14:50.280Z"
   }
  ],
  "kernelspec": {
   "display_name": "Python 3",
   "language": "python",
   "name": "python3"
  },
  "language_info": {
   "codemirror_mode": {
    "name": "ipython",
    "version": 3
   },
   "file_extension": ".py",
   "mimetype": "text/x-python",
   "name": "python",
   "nbconvert_exporter": "python",
   "pygments_lexer": "ipython3",
   "version": "3.8.8"
  },
  "toc": {
   "base_numbering": 1,
   "nav_menu": {},
   "number_sections": true,
   "sideBar": true,
   "skip_h1_title": true,
   "title_cell": "Table of Contents",
   "title_sidebar": "Contents",
   "toc_cell": false,
   "toc_position": {},
   "toc_section_display": true,
   "toc_window_display": false
  }
 },
 "nbformat": 4,
 "nbformat_minor": 2
}
