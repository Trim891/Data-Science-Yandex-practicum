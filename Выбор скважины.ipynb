{
 "cells": [
  {
   "cell_type": "markdown",
   "metadata": {},
   "source": [
    "# Выбор локации для скважины"
   ]
  },
  {
   "cell_type": "markdown",
   "metadata": {},
   "source": [
    "Нужно решить, где бурить новую скважину. В каждом регионе 10 000 месторождений, где измерили качество нефти и объём её запасов. Постройте модель машинного обучения, которая поможет определить регион, где добыча принесёт наибольшую прибыль. "
   ]
  },
  {
   "cell_type": "markdown",
   "metadata": {},
   "source": [
    "## Загрузка и подготовка данных"
   ]
  },
  {
   "cell_type": "code",
   "execution_count": 1,
   "metadata": {},
   "outputs": [],
   "source": [
    "import pandas as pd\n",
    "from sklearn.model_selection import train_test_split\n",
    "from sklearn.linear_model import LinearRegression\n",
    "from sklearn.metrics import mean_squared_error\n",
    "from scipy import stats\n",
    "import numpy as np\n",
    "import statsmodels.api as sm\n",
    "from sklearn.preprocessing import StandardScaler\n",
    "import matplotlib.pyplot as plt\n",
    "import seaborn as sns"
   ]
  },
  {
   "cell_type": "code",
   "execution_count": 2,
   "metadata": {},
   "outputs": [],
   "source": [
    "geo_data_0 = pd.read_csv('/datasets/geo_data_0.csv')\n",
    "geo_data_1 = pd.read_csv('/datasets/geo_data_1.csv')\n",
    "geo_data_2 = pd.read_csv('/datasets/geo_data_2.csv')"
   ]
  },
  {
   "cell_type": "code",
   "execution_count": 3,
   "metadata": {},
   "outputs": [
    {
     "name": "stdout",
     "output_type": "stream",
     "text": [
      "<class 'pandas.core.frame.DataFrame'>\n",
      "RangeIndex: 100000 entries, 0 to 99999\n",
      "Data columns (total 5 columns):\n",
      "id         100000 non-null object\n",
      "f0         100000 non-null float64\n",
      "f1         100000 non-null float64\n",
      "f2         100000 non-null float64\n",
      "product    100000 non-null float64\n",
      "dtypes: float64(4), object(1)\n",
      "memory usage: 3.8+ MB\n"
     ]
    },
    {
     "data": {
      "text/html": [
       "<div>\n",
       "<style scoped>\n",
       "    .dataframe tbody tr th:only-of-type {\n",
       "        vertical-align: middle;\n",
       "    }\n",
       "\n",
       "    .dataframe tbody tr th {\n",
       "        vertical-align: top;\n",
       "    }\n",
       "\n",
       "    .dataframe thead th {\n",
       "        text-align: right;\n",
       "    }\n",
       "</style>\n",
       "<table border=\"1\" class=\"dataframe\">\n",
       "  <thead>\n",
       "    <tr style=\"text-align: right;\">\n",
       "      <th></th>\n",
       "      <th>id</th>\n",
       "      <th>f0</th>\n",
       "      <th>f1</th>\n",
       "      <th>f2</th>\n",
       "      <th>product</th>\n",
       "    </tr>\n",
       "  </thead>\n",
       "  <tbody>\n",
       "    <tr>\n",
       "      <td>0</td>\n",
       "      <td>txEyH</td>\n",
       "      <td>0.705745</td>\n",
       "      <td>-0.497823</td>\n",
       "      <td>1.221170</td>\n",
       "      <td>105.280062</td>\n",
       "    </tr>\n",
       "    <tr>\n",
       "      <td>1</td>\n",
       "      <td>2acmU</td>\n",
       "      <td>1.334711</td>\n",
       "      <td>-0.340164</td>\n",
       "      <td>4.365080</td>\n",
       "      <td>73.037750</td>\n",
       "    </tr>\n",
       "    <tr>\n",
       "      <td>2</td>\n",
       "      <td>409Wp</td>\n",
       "      <td>1.022732</td>\n",
       "      <td>0.151990</td>\n",
       "      <td>1.419926</td>\n",
       "      <td>85.265647</td>\n",
       "    </tr>\n",
       "    <tr>\n",
       "      <td>3</td>\n",
       "      <td>iJLyR</td>\n",
       "      <td>-0.032172</td>\n",
       "      <td>0.139033</td>\n",
       "      <td>2.978566</td>\n",
       "      <td>168.620776</td>\n",
       "    </tr>\n",
       "    <tr>\n",
       "      <td>4</td>\n",
       "      <td>Xdl7t</td>\n",
       "      <td>1.988431</td>\n",
       "      <td>0.155413</td>\n",
       "      <td>4.751769</td>\n",
       "      <td>154.036647</td>\n",
       "    </tr>\n",
       "  </tbody>\n",
       "</table>\n",
       "</div>"
      ],
      "text/plain": [
       "      id        f0        f1        f2     product\n",
       "0  txEyH  0.705745 -0.497823  1.221170  105.280062\n",
       "1  2acmU  1.334711 -0.340164  4.365080   73.037750\n",
       "2  409Wp  1.022732  0.151990  1.419926   85.265647\n",
       "3  iJLyR -0.032172  0.139033  2.978566  168.620776\n",
       "4  Xdl7t  1.988431  0.155413  4.751769  154.036647"
      ]
     },
     "execution_count": 3,
     "metadata": {},
     "output_type": "execute_result"
    }
   ],
   "source": [
    "geo_data_0.info()\n",
    "geo_data_0.head()"
   ]
  },
  {
   "cell_type": "code",
   "execution_count": 4,
   "metadata": {},
   "outputs": [
    {
     "name": "stdout",
     "output_type": "stream",
     "text": [
      "<class 'pandas.core.frame.DataFrame'>\n",
      "RangeIndex: 100000 entries, 0 to 99999\n",
      "Data columns (total 5 columns):\n",
      "id         100000 non-null object\n",
      "f0         100000 non-null float64\n",
      "f1         100000 non-null float64\n",
      "f2         100000 non-null float64\n",
      "product    100000 non-null float64\n",
      "dtypes: float64(4), object(1)\n",
      "memory usage: 3.8+ MB\n"
     ]
    },
    {
     "data": {
      "text/html": [
       "<div>\n",
       "<style scoped>\n",
       "    .dataframe tbody tr th:only-of-type {\n",
       "        vertical-align: middle;\n",
       "    }\n",
       "\n",
       "    .dataframe tbody tr th {\n",
       "        vertical-align: top;\n",
       "    }\n",
       "\n",
       "    .dataframe thead th {\n",
       "        text-align: right;\n",
       "    }\n",
       "</style>\n",
       "<table border=\"1\" class=\"dataframe\">\n",
       "  <thead>\n",
       "    <tr style=\"text-align: right;\">\n",
       "      <th></th>\n",
       "      <th>id</th>\n",
       "      <th>f0</th>\n",
       "      <th>f1</th>\n",
       "      <th>f2</th>\n",
       "      <th>product</th>\n",
       "    </tr>\n",
       "  </thead>\n",
       "  <tbody>\n",
       "    <tr>\n",
       "      <td>0</td>\n",
       "      <td>kBEdx</td>\n",
       "      <td>-15.001348</td>\n",
       "      <td>-8.276000</td>\n",
       "      <td>-0.005876</td>\n",
       "      <td>3.179103</td>\n",
       "    </tr>\n",
       "    <tr>\n",
       "      <td>1</td>\n",
       "      <td>62mP7</td>\n",
       "      <td>14.272088</td>\n",
       "      <td>-3.475083</td>\n",
       "      <td>0.999183</td>\n",
       "      <td>26.953261</td>\n",
       "    </tr>\n",
       "    <tr>\n",
       "      <td>2</td>\n",
       "      <td>vyE1P</td>\n",
       "      <td>6.263187</td>\n",
       "      <td>-5.948386</td>\n",
       "      <td>5.001160</td>\n",
       "      <td>134.766305</td>\n",
       "    </tr>\n",
       "    <tr>\n",
       "      <td>3</td>\n",
       "      <td>KcrkZ</td>\n",
       "      <td>-13.081196</td>\n",
       "      <td>-11.506057</td>\n",
       "      <td>4.999415</td>\n",
       "      <td>137.945408</td>\n",
       "    </tr>\n",
       "    <tr>\n",
       "      <td>4</td>\n",
       "      <td>AHL4O</td>\n",
       "      <td>12.702195</td>\n",
       "      <td>-8.147433</td>\n",
       "      <td>5.004363</td>\n",
       "      <td>134.766305</td>\n",
       "    </tr>\n",
       "  </tbody>\n",
       "</table>\n",
       "</div>"
      ],
      "text/plain": [
       "      id         f0         f1        f2     product\n",
       "0  kBEdx -15.001348  -8.276000 -0.005876    3.179103\n",
       "1  62mP7  14.272088  -3.475083  0.999183   26.953261\n",
       "2  vyE1P   6.263187  -5.948386  5.001160  134.766305\n",
       "3  KcrkZ -13.081196 -11.506057  4.999415  137.945408\n",
       "4  AHL4O  12.702195  -8.147433  5.004363  134.766305"
      ]
     },
     "execution_count": 4,
     "metadata": {},
     "output_type": "execute_result"
    }
   ],
   "source": [
    "geo_data_1.info()\n",
    "geo_data_1.head()"
   ]
  },
  {
   "cell_type": "code",
   "execution_count": 5,
   "metadata": {
    "scrolled": true
   },
   "outputs": [
    {
     "name": "stdout",
     "output_type": "stream",
     "text": [
      "<class 'pandas.core.frame.DataFrame'>\n",
      "RangeIndex: 100000 entries, 0 to 99999\n",
      "Data columns (total 5 columns):\n",
      "id         100000 non-null object\n",
      "f0         100000 non-null float64\n",
      "f1         100000 non-null float64\n",
      "f2         100000 non-null float64\n",
      "product    100000 non-null float64\n",
      "dtypes: float64(4), object(1)\n",
      "memory usage: 3.8+ MB\n"
     ]
    },
    {
     "data": {
      "text/html": [
       "<div>\n",
       "<style scoped>\n",
       "    .dataframe tbody tr th:only-of-type {\n",
       "        vertical-align: middle;\n",
       "    }\n",
       "\n",
       "    .dataframe tbody tr th {\n",
       "        vertical-align: top;\n",
       "    }\n",
       "\n",
       "    .dataframe thead th {\n",
       "        text-align: right;\n",
       "    }\n",
       "</style>\n",
       "<table border=\"1\" class=\"dataframe\">\n",
       "  <thead>\n",
       "    <tr style=\"text-align: right;\">\n",
       "      <th></th>\n",
       "      <th>id</th>\n",
       "      <th>f0</th>\n",
       "      <th>f1</th>\n",
       "      <th>f2</th>\n",
       "      <th>product</th>\n",
       "    </tr>\n",
       "  </thead>\n",
       "  <tbody>\n",
       "    <tr>\n",
       "      <td>0</td>\n",
       "      <td>fwXo0</td>\n",
       "      <td>-1.146987</td>\n",
       "      <td>0.963328</td>\n",
       "      <td>-0.828965</td>\n",
       "      <td>27.758673</td>\n",
       "    </tr>\n",
       "    <tr>\n",
       "      <td>1</td>\n",
       "      <td>WJtFt</td>\n",
       "      <td>0.262778</td>\n",
       "      <td>0.269839</td>\n",
       "      <td>-2.530187</td>\n",
       "      <td>56.069697</td>\n",
       "    </tr>\n",
       "    <tr>\n",
       "      <td>2</td>\n",
       "      <td>ovLUW</td>\n",
       "      <td>0.194587</td>\n",
       "      <td>0.289035</td>\n",
       "      <td>-5.586433</td>\n",
       "      <td>62.871910</td>\n",
       "    </tr>\n",
       "    <tr>\n",
       "      <td>3</td>\n",
       "      <td>q6cA6</td>\n",
       "      <td>2.236060</td>\n",
       "      <td>-0.553760</td>\n",
       "      <td>0.930038</td>\n",
       "      <td>114.572842</td>\n",
       "    </tr>\n",
       "    <tr>\n",
       "      <td>4</td>\n",
       "      <td>WPMUX</td>\n",
       "      <td>-0.515993</td>\n",
       "      <td>1.716266</td>\n",
       "      <td>5.899011</td>\n",
       "      <td>149.600746</td>\n",
       "    </tr>\n",
       "  </tbody>\n",
       "</table>\n",
       "</div>"
      ],
      "text/plain": [
       "      id        f0        f1        f2     product\n",
       "0  fwXo0 -1.146987  0.963328 -0.828965   27.758673\n",
       "1  WJtFt  0.262778  0.269839 -2.530187   56.069697\n",
       "2  ovLUW  0.194587  0.289035 -5.586433   62.871910\n",
       "3  q6cA6  2.236060 -0.553760  0.930038  114.572842\n",
       "4  WPMUX -0.515993  1.716266  5.899011  149.600746"
      ]
     },
     "execution_count": 5,
     "metadata": {},
     "output_type": "execute_result"
    }
   ],
   "source": [
    "geo_data_2.info()\n",
    "geo_data_2.head()"
   ]
  },
  {
   "cell_type": "code",
   "execution_count": 6,
   "metadata": {
    "scrolled": true
   },
   "outputs": [
    {
     "name": "stdout",
     "output_type": "stream",
     "text": [
      "в geo_data_0 найдены неуникальные записи\n"
     ]
    },
    {
     "data": {
      "text/html": [
       "<div>\n",
       "<style scoped>\n",
       "    .dataframe tbody tr th:only-of-type {\n",
       "        vertical-align: middle;\n",
       "    }\n",
       "\n",
       "    .dataframe tbody tr th {\n",
       "        vertical-align: top;\n",
       "    }\n",
       "\n",
       "    .dataframe thead th {\n",
       "        text-align: right;\n",
       "    }\n",
       "</style>\n",
       "<table border=\"1\" class=\"dataframe\">\n",
       "  <thead>\n",
       "    <tr style=\"text-align: right;\">\n",
       "      <th></th>\n",
       "      <th>id</th>\n",
       "      <th>f0</th>\n",
       "      <th>f1</th>\n",
       "      <th>f2</th>\n",
       "      <th>product</th>\n",
       "    </tr>\n",
       "  </thead>\n",
       "  <tbody>\n",
       "    <tr>\n",
       "      <td>66136</td>\n",
       "      <td>74z30</td>\n",
       "      <td>1.084962</td>\n",
       "      <td>-0.312358</td>\n",
       "      <td>6.990771</td>\n",
       "      <td>127.643327</td>\n",
       "    </tr>\n",
       "    <tr>\n",
       "      <td>64022</td>\n",
       "      <td>74z30</td>\n",
       "      <td>0.741456</td>\n",
       "      <td>0.459229</td>\n",
       "      <td>5.153109</td>\n",
       "      <td>140.771492</td>\n",
       "    </tr>\n",
       "    <tr>\n",
       "      <td>51970</td>\n",
       "      <td>A5aEY</td>\n",
       "      <td>-0.180335</td>\n",
       "      <td>0.935548</td>\n",
       "      <td>-2.094773</td>\n",
       "      <td>33.020205</td>\n",
       "    </tr>\n",
       "    <tr>\n",
       "      <td>3389</td>\n",
       "      <td>A5aEY</td>\n",
       "      <td>-0.039949</td>\n",
       "      <td>0.156872</td>\n",
       "      <td>0.209861</td>\n",
       "      <td>89.249364</td>\n",
       "    </tr>\n",
       "    <tr>\n",
       "      <td>69163</td>\n",
       "      <td>AGS9W</td>\n",
       "      <td>-0.933795</td>\n",
       "      <td>0.116194</td>\n",
       "      <td>-3.655896</td>\n",
       "      <td>19.230453</td>\n",
       "    </tr>\n",
       "    <tr>\n",
       "      <td>42529</td>\n",
       "      <td>AGS9W</td>\n",
       "      <td>1.454747</td>\n",
       "      <td>-0.479651</td>\n",
       "      <td>0.683380</td>\n",
       "      <td>126.370504</td>\n",
       "    </tr>\n",
       "    <tr>\n",
       "      <td>931</td>\n",
       "      <td>HZww2</td>\n",
       "      <td>0.755284</td>\n",
       "      <td>0.368511</td>\n",
       "      <td>1.863211</td>\n",
       "      <td>30.681774</td>\n",
       "    </tr>\n",
       "    <tr>\n",
       "      <td>7530</td>\n",
       "      <td>HZww2</td>\n",
       "      <td>1.061194</td>\n",
       "      <td>-0.373969</td>\n",
       "      <td>10.430210</td>\n",
       "      <td>158.828695</td>\n",
       "    </tr>\n",
       "    <tr>\n",
       "      <td>63593</td>\n",
       "      <td>QcMuo</td>\n",
       "      <td>0.635635</td>\n",
       "      <td>-0.473422</td>\n",
       "      <td>0.862670</td>\n",
       "      <td>64.578675</td>\n",
       "    </tr>\n",
       "    <tr>\n",
       "      <td>1949</td>\n",
       "      <td>QcMuo</td>\n",
       "      <td>0.506563</td>\n",
       "      <td>-0.323775</td>\n",
       "      <td>-2.215583</td>\n",
       "      <td>75.496502</td>\n",
       "    </tr>\n",
       "    <tr>\n",
       "      <td>75715</td>\n",
       "      <td>Tdehs</td>\n",
       "      <td>0.112079</td>\n",
       "      <td>0.430296</td>\n",
       "      <td>3.218993</td>\n",
       "      <td>60.964018</td>\n",
       "    </tr>\n",
       "    <tr>\n",
       "      <td>21426</td>\n",
       "      <td>Tdehs</td>\n",
       "      <td>0.829407</td>\n",
       "      <td>0.298807</td>\n",
       "      <td>-0.049563</td>\n",
       "      <td>96.035308</td>\n",
       "    </tr>\n",
       "    <tr>\n",
       "      <td>92341</td>\n",
       "      <td>TtcGQ</td>\n",
       "      <td>0.110711</td>\n",
       "      <td>1.022689</td>\n",
       "      <td>0.911381</td>\n",
       "      <td>101.318008</td>\n",
       "    </tr>\n",
       "    <tr>\n",
       "      <td>60140</td>\n",
       "      <td>TtcGQ</td>\n",
       "      <td>0.569276</td>\n",
       "      <td>-0.104876</td>\n",
       "      <td>6.440215</td>\n",
       "      <td>85.350186</td>\n",
       "    </tr>\n",
       "    <tr>\n",
       "      <td>89582</td>\n",
       "      <td>bsk9y</td>\n",
       "      <td>0.398908</td>\n",
       "      <td>-0.400253</td>\n",
       "      <td>10.122376</td>\n",
       "      <td>163.433078</td>\n",
       "    </tr>\n",
       "    <tr>\n",
       "      <td>97785</td>\n",
       "      <td>bsk9y</td>\n",
       "      <td>0.378429</td>\n",
       "      <td>0.005837</td>\n",
       "      <td>0.160827</td>\n",
       "      <td>160.637302</td>\n",
       "    </tr>\n",
       "    <tr>\n",
       "      <td>41724</td>\n",
       "      <td>bxg6G</td>\n",
       "      <td>-0.823752</td>\n",
       "      <td>0.546319</td>\n",
       "      <td>3.630479</td>\n",
       "      <td>93.007798</td>\n",
       "    </tr>\n",
       "    <tr>\n",
       "      <td>1364</td>\n",
       "      <td>bxg6G</td>\n",
       "      <td>0.411645</td>\n",
       "      <td>0.856830</td>\n",
       "      <td>-3.653440</td>\n",
       "      <td>73.604260</td>\n",
       "    </tr>\n",
       "    <tr>\n",
       "      <td>16633</td>\n",
       "      <td>fiKDv</td>\n",
       "      <td>0.157341</td>\n",
       "      <td>1.028359</td>\n",
       "      <td>5.585586</td>\n",
       "      <td>95.817889</td>\n",
       "    </tr>\n",
       "    <tr>\n",
       "      <td>90815</td>\n",
       "      <td>fiKDv</td>\n",
       "      <td>0.049883</td>\n",
       "      <td>0.841313</td>\n",
       "      <td>6.394613</td>\n",
       "      <td>137.346586</td>\n",
       "    </tr>\n",
       "  </tbody>\n",
       "</table>\n",
       "</div>"
      ],
      "text/plain": [
       "          id        f0        f1         f2     product\n",
       "66136  74z30  1.084962 -0.312358   6.990771  127.643327\n",
       "64022  74z30  0.741456  0.459229   5.153109  140.771492\n",
       "51970  A5aEY -0.180335  0.935548  -2.094773   33.020205\n",
       "3389   A5aEY -0.039949  0.156872   0.209861   89.249364\n",
       "69163  AGS9W -0.933795  0.116194  -3.655896   19.230453\n",
       "42529  AGS9W  1.454747 -0.479651   0.683380  126.370504\n",
       "931    HZww2  0.755284  0.368511   1.863211   30.681774\n",
       "7530   HZww2  1.061194 -0.373969  10.430210  158.828695\n",
       "63593  QcMuo  0.635635 -0.473422   0.862670   64.578675\n",
       "1949   QcMuo  0.506563 -0.323775  -2.215583   75.496502\n",
       "75715  Tdehs  0.112079  0.430296   3.218993   60.964018\n",
       "21426  Tdehs  0.829407  0.298807  -0.049563   96.035308\n",
       "92341  TtcGQ  0.110711  1.022689   0.911381  101.318008\n",
       "60140  TtcGQ  0.569276 -0.104876   6.440215   85.350186\n",
       "89582  bsk9y  0.398908 -0.400253  10.122376  163.433078\n",
       "97785  bsk9y  0.378429  0.005837   0.160827  160.637302\n",
       "41724  bxg6G -0.823752  0.546319   3.630479   93.007798\n",
       "1364   bxg6G  0.411645  0.856830  -3.653440   73.604260\n",
       "16633  fiKDv  0.157341  1.028359   5.585586   95.817889\n",
       "90815  fiKDv  0.049883  0.841313   6.394613  137.346586"
      ]
     },
     "metadata": {},
     "output_type": "display_data"
    },
    {
     "name": "stdout",
     "output_type": "stream",
     "text": [
      "\n"
     ]
    }
   ],
   "source": [
    "# проверю на уникальность id, если дубли, то какого рода\n",
    "def no_uniq(data,name):\n",
    "    if data['id'].nunique() != len(data):\n",
    "        gr = data['id'].value_counts()\n",
    "        print('в '+name+' найдены неуникальные записи')\n",
    "        display(data[data.id.isin(gr[gr>1].index)].sort_values(by = 'id'))\n",
    "        print()\n",
    "\n",
    "no_uniq(geo_data_0,'geo_data_0')"
   ]
  },
  {
   "cell_type": "code",
   "execution_count": 7,
   "metadata": {
    "scrolled": true
   },
   "outputs": [
    {
     "name": "stdout",
     "output_type": "stream",
     "text": [
      "в geo_data_1 найдены неуникальные записи\n"
     ]
    },
    {
     "data": {
      "text/html": [
       "<div>\n",
       "<style scoped>\n",
       "    .dataframe tbody tr th:only-of-type {\n",
       "        vertical-align: middle;\n",
       "    }\n",
       "\n",
       "    .dataframe tbody tr th {\n",
       "        vertical-align: top;\n",
       "    }\n",
       "\n",
       "    .dataframe thead th {\n",
       "        text-align: right;\n",
       "    }\n",
       "</style>\n",
       "<table border=\"1\" class=\"dataframe\">\n",
       "  <thead>\n",
       "    <tr style=\"text-align: right;\">\n",
       "      <th></th>\n",
       "      <th>id</th>\n",
       "      <th>f0</th>\n",
       "      <th>f1</th>\n",
       "      <th>f2</th>\n",
       "      <th>product</th>\n",
       "    </tr>\n",
       "  </thead>\n",
       "  <tbody>\n",
       "    <tr>\n",
       "      <td>5849</td>\n",
       "      <td>5ltQ6</td>\n",
       "      <td>-3.435401</td>\n",
       "      <td>-12.296043</td>\n",
       "      <td>1.999796</td>\n",
       "      <td>57.085625</td>\n",
       "    </tr>\n",
       "    <tr>\n",
       "      <td>84461</td>\n",
       "      <td>5ltQ6</td>\n",
       "      <td>18.213839</td>\n",
       "      <td>2.191999</td>\n",
       "      <td>3.993869</td>\n",
       "      <td>107.813044</td>\n",
       "    </tr>\n",
       "    <tr>\n",
       "      <td>1305</td>\n",
       "      <td>LHZR0</td>\n",
       "      <td>11.170835</td>\n",
       "      <td>-1.945066</td>\n",
       "      <td>3.002872</td>\n",
       "      <td>80.859783</td>\n",
       "    </tr>\n",
       "    <tr>\n",
       "      <td>41906</td>\n",
       "      <td>LHZR0</td>\n",
       "      <td>-8.989672</td>\n",
       "      <td>-4.286607</td>\n",
       "      <td>2.009139</td>\n",
       "      <td>57.085625</td>\n",
       "    </tr>\n",
       "    <tr>\n",
       "      <td>2721</td>\n",
       "      <td>bfPNe</td>\n",
       "      <td>-9.494442</td>\n",
       "      <td>-5.463692</td>\n",
       "      <td>4.006042</td>\n",
       "      <td>110.992147</td>\n",
       "    </tr>\n",
       "    <tr>\n",
       "      <td>82178</td>\n",
       "      <td>bfPNe</td>\n",
       "      <td>-6.202799</td>\n",
       "      <td>-4.820045</td>\n",
       "      <td>2.995107</td>\n",
       "      <td>84.038886</td>\n",
       "    </tr>\n",
       "    <tr>\n",
       "      <td>47591</td>\n",
       "      <td>wt4Uk</td>\n",
       "      <td>-9.091098</td>\n",
       "      <td>-8.109279</td>\n",
       "      <td>-0.002314</td>\n",
       "      <td>3.179103</td>\n",
       "    </tr>\n",
       "    <tr>\n",
       "      <td>82873</td>\n",
       "      <td>wt4Uk</td>\n",
       "      <td>10.259972</td>\n",
       "      <td>-9.376355</td>\n",
       "      <td>4.994297</td>\n",
       "      <td>134.766305</td>\n",
       "    </tr>\n",
       "  </tbody>\n",
       "</table>\n",
       "</div>"
      ],
      "text/plain": [
       "          id         f0         f1        f2     product\n",
       "5849   5ltQ6  -3.435401 -12.296043  1.999796   57.085625\n",
       "84461  5ltQ6  18.213839   2.191999  3.993869  107.813044\n",
       "1305   LHZR0  11.170835  -1.945066  3.002872   80.859783\n",
       "41906  LHZR0  -8.989672  -4.286607  2.009139   57.085625\n",
       "2721   bfPNe  -9.494442  -5.463692  4.006042  110.992147\n",
       "82178  bfPNe  -6.202799  -4.820045  2.995107   84.038886\n",
       "47591  wt4Uk  -9.091098  -8.109279 -0.002314    3.179103\n",
       "82873  wt4Uk  10.259972  -9.376355  4.994297  134.766305"
      ]
     },
     "metadata": {},
     "output_type": "display_data"
    },
    {
     "name": "stdout",
     "output_type": "stream",
     "text": [
      "\n"
     ]
    }
   ],
   "source": [
    "no_uniq(geo_data_1,'geo_data_1')"
   ]
  },
  {
   "cell_type": "code",
   "execution_count": 8,
   "metadata": {
    "scrolled": true
   },
   "outputs": [
    {
     "name": "stdout",
     "output_type": "stream",
     "text": [
      "в geo_data_2 найдены неуникальные записи\n"
     ]
    },
    {
     "data": {
      "text/html": [
       "<div>\n",
       "<style scoped>\n",
       "    .dataframe tbody tr th:only-of-type {\n",
       "        vertical-align: middle;\n",
       "    }\n",
       "\n",
       "    .dataframe tbody tr th {\n",
       "        vertical-align: top;\n",
       "    }\n",
       "\n",
       "    .dataframe thead th {\n",
       "        text-align: right;\n",
       "    }\n",
       "</style>\n",
       "<table border=\"1\" class=\"dataframe\">\n",
       "  <thead>\n",
       "    <tr style=\"text-align: right;\">\n",
       "      <th></th>\n",
       "      <th>id</th>\n",
       "      <th>f0</th>\n",
       "      <th>f1</th>\n",
       "      <th>f2</th>\n",
       "      <th>product</th>\n",
       "    </tr>\n",
       "  </thead>\n",
       "  <tbody>\n",
       "    <tr>\n",
       "      <td>45404</td>\n",
       "      <td>KUPhW</td>\n",
       "      <td>0.231846</td>\n",
       "      <td>-1.698941</td>\n",
       "      <td>4.990775</td>\n",
       "      <td>11.716299</td>\n",
       "    </tr>\n",
       "    <tr>\n",
       "      <td>55967</td>\n",
       "      <td>KUPhW</td>\n",
       "      <td>1.211150</td>\n",
       "      <td>3.176408</td>\n",
       "      <td>5.543540</td>\n",
       "      <td>132.831802</td>\n",
       "    </tr>\n",
       "    <tr>\n",
       "      <td>11449</td>\n",
       "      <td>VF7Jo</td>\n",
       "      <td>2.122656</td>\n",
       "      <td>-0.858275</td>\n",
       "      <td>5.746001</td>\n",
       "      <td>181.716817</td>\n",
       "    </tr>\n",
       "    <tr>\n",
       "      <td>49564</td>\n",
       "      <td>VF7Jo</td>\n",
       "      <td>-0.883115</td>\n",
       "      <td>0.560537</td>\n",
       "      <td>0.723601</td>\n",
       "      <td>136.233420</td>\n",
       "    </tr>\n",
       "    <tr>\n",
       "      <td>44378</td>\n",
       "      <td>Vcm5J</td>\n",
       "      <td>-1.229484</td>\n",
       "      <td>-2.439204</td>\n",
       "      <td>1.222909</td>\n",
       "      <td>137.968290</td>\n",
       "    </tr>\n",
       "    <tr>\n",
       "      <td>95090</td>\n",
       "      <td>Vcm5J</td>\n",
       "      <td>2.587702</td>\n",
       "      <td>1.986875</td>\n",
       "      <td>2.482245</td>\n",
       "      <td>92.327572</td>\n",
       "    </tr>\n",
       "    <tr>\n",
       "      <td>28039</td>\n",
       "      <td>xCHr8</td>\n",
       "      <td>1.633027</td>\n",
       "      <td>0.368135</td>\n",
       "      <td>-2.378367</td>\n",
       "      <td>6.120525</td>\n",
       "    </tr>\n",
       "    <tr>\n",
       "      <td>43233</td>\n",
       "      <td>xCHr8</td>\n",
       "      <td>-0.847066</td>\n",
       "      <td>2.101796</td>\n",
       "      <td>5.597130</td>\n",
       "      <td>184.388641</td>\n",
       "    </tr>\n",
       "  </tbody>\n",
       "</table>\n",
       "</div>"
      ],
      "text/plain": [
       "          id        f0        f1        f2     product\n",
       "45404  KUPhW  0.231846 -1.698941  4.990775   11.716299\n",
       "55967  KUPhW  1.211150  3.176408  5.543540  132.831802\n",
       "11449  VF7Jo  2.122656 -0.858275  5.746001  181.716817\n",
       "49564  VF7Jo -0.883115  0.560537  0.723601  136.233420\n",
       "44378  Vcm5J -1.229484 -2.439204  1.222909  137.968290\n",
       "95090  Vcm5J  2.587702  1.986875  2.482245   92.327572\n",
       "28039  xCHr8  1.633027  0.368135 -2.378367    6.120525\n",
       "43233  xCHr8 -0.847066  2.101796  5.597130  184.388641"
      ]
     },
     "metadata": {},
     "output_type": "display_data"
    },
    {
     "name": "stdout",
     "output_type": "stream",
     "text": [
      "\n"
     ]
    }
   ],
   "source": [
    "no_uniq(geo_data_2,'geo_data_2')"
   ]
  },
  {
   "cell_type": "markdown",
   "metadata": {},
   "source": [
    "По дублям видно, что на один и тот же id разные данные. Непонятно это ошибка в id, какое-то довнесение информации, уточненое значение, а старое не удалили. Такие записи проще убрать."
   ]
  },
  {
   "cell_type": "code",
   "execution_count": 9,
   "metadata": {},
   "outputs": [],
   "source": [
    "def delete_no_uniq(data):\n",
    "    if data['id'].nunique() != len(data):\n",
    "        gr = data['id'].value_counts()\n",
    "        return data.drop(np.where(data.id.isin(gr[gr>1].index))[0], axis = 0)\n",
    "geo_data_0 = delete_no_uniq(geo_data_0)\n",
    "geo_data_1 = delete_no_uniq(geo_data_1)\n",
    "geo_data_2 = delete_no_uniq(geo_data_2)"
   ]
  },
  {
   "cell_type": "markdown",
   "metadata": {},
   "source": [
    "Линейная регрессия очень чувствительна к выбросам. нужно их удалить, если есть."
   ]
  },
  {
   "cell_type": "code",
   "execution_count": 10,
   "metadata": {
    "scrolled": true
   },
   "outputs": [
    {
     "data": {
      "image/png": "[encoded data removed]",
      "text/plain": [
       "<Figure size 1080x360 with 4 Axes>"
      ]
     },
     "metadata": {
      "needs_background": "light"
     },
     "output_type": "display_data"
    }
   ],
   "source": [
    "data = ['f0','f1','f2','product']\n",
    "numeric = ['f0', 'f1', 'f2']\n",
    "def box_plot(axes, df):\n",
    "    n = 2\n",
    "    for i in range(0, len(data)):\n",
    "        j = i//n\n",
    "        k = i%n\n",
    "        sns.boxplot(df[data[i]], ax = axes[j][k])\n",
    "        \n",
    "\n",
    "fig, axes = plt.subplots(2, 2, figsize=(15, 5))\n",
    "fig.suptitle('Регион 1', fontsize = 15)\n",
    "box_plot(axes, geo_data_0)\n",
    "plt.subplots_adjust(wspace= 0.2, hspace= 0.4)\n",
    "plt.show()"
   ]
  },
  {
   "cell_type": "code",
   "execution_count": 11,
   "metadata": {},
   "outputs": [
    {
     "data": {
      "image/png": "[encoded data removed]",
      "text/plain": [
       "<Figure size 1080x360 with 4 Axes>"
      ]
     },
     "metadata": {
      "needs_background": "light"
     },
     "output_type": "display_data"
    }
   ],
   "source": [
    "fig, axes = plt.subplots(2, 2, figsize=(15, 5))\n",
    "fig.suptitle('Регион 2', fontsize = 15)\n",
    "box_plot(axes, geo_data_1)\n",
    "plt.subplots_adjust(wspace= 0.2, hspace= 0.4)\n",
    "plt.show()"
   ]
  },
  {
   "cell_type": "code",
   "execution_count": 12,
   "metadata": {
    "scrolled": false
   },
   "outputs": [
    {
     "data": {
      "image/png": "[encoded data removed]",
      "text/plain": [
       "<Figure size 1080x360 with 4 Axes>"
      ]
     },
     "metadata": {
      "needs_background": "light"
     },
     "output_type": "display_data"
    }
   ],
   "source": [
    "fig, axes = plt.subplots(2, 2, figsize=(15, 5))\n",
    "fig.suptitle('Регион 3', fontsize = 15)\n",
    "box_plot(axes, geo_data_2)\n",
    "plt.subplots_adjust(wspace= 0.2, hspace= 0.4)\n",
    "plt.show()"
   ]
  },
  {
   "cell_type": "markdown",
   "metadata": {},
   "source": [
    "Выбросы есть. Нужно удалять запись, если даже по одной колонке есть выброс."
   ]
  },
  {
   "cell_type": "code",
   "execution_count": 13,
   "metadata": {},
   "outputs": [
    {
     "name": "stdout",
     "output_type": "stream",
     "text": [
      "Данные региона 1 будет удалено 248 строк\n",
      "Данные региона 2 будет удалено 339 строк\n",
      "Данные региона 3 будет удалено 1015 строк\n"
     ]
    }
   ],
   "source": [
    "def delete_v(df, name):\n",
    "    copy = df.copy()\n",
    "    describe = copy.describe()\n",
    "    for i in data:\n",
    "        q =  describe[i]\n",
    "        q1 = q['25%']\n",
    "        q3 = q['75%']\n",
    "        mq = q3 - q1\n",
    "        filter_up =  (copy[i] > (q3 + mq*1.5))\n",
    "        filter_down = (0 < copy[i]) & (copy[i] < (q1 - mq*1.5))\n",
    "        #обнуляю\n",
    "        copy.loc[filter_up, i] = float('Nan')\n",
    "        copy.loc[filter_down, i] = float('Nan')\n",
    "    # Удаляю строки, где хотя бы одно из этих значений 0\n",
    "    print(name + ' будет удалено '+str(len(copy[copy.isnull().any(1)]))+ ' строк')\n",
    "    return copy.dropna(axis = 0)\n",
    "geo_data_0_no_v = delete_v(geo_data_0, 'Данные региона 1')\n",
    "geo_data_1_no_v = delete_v(geo_data_1, 'Данные региона 2')\n",
    "geo_data_2_no_v = delete_v(geo_data_2, 'Данные региона 3')\n"
   ]
  },
  {
   "cell_type": "markdown",
   "metadata": {},
   "source": [
    "Теперь нужно проверить какое распределение у каждого показателя. Гистограмма - не слишком информативно, лучше qq график. "
   ]
  },
  {
   "cell_type": "code",
   "execution_count": 14,
   "metadata": {},
   "outputs": [
    {
     "data": {
      "image/png": "[encoded data removed]",
      "text/plain": [
       "<Figure size 1080x360 with 4 Axes>"
      ]
     },
     "metadata": {
      "needs_background": "light"
     },
     "output_type": "display_data"
    }
   ],
   "source": [
    "def qq_plot(axes, df):\n",
    "    n = 2\n",
    "    for i in range(0, len(data)):\n",
    "        j = i//n\n",
    "        k = i%n\n",
    "        sm.qqplot(df[data[i]], ax = axes[j][k] , line ='45')\n",
    "        axes[j][k].set_xlabel('Теоритические квантили '+str(data[i]))\n",
    "        axes[j][k].set_ylabel('Реальные квантили')\n",
    "\n",
    "def log(df):\n",
    "    cop = df.copy()\n",
    "    describe = cop.describe()\n",
    "    for i in numeric:\n",
    "        #так как есть отрицательные значения, то смещаю так, \n",
    "        #что бы логарифм минимального значение равнялся 0\n",
    "        cop[i] = np.log(cop[i] - describe[i]['min'] + 1)\n",
    "    return cop\n",
    "      \n",
    "fig, axes = plt.subplots(2, 2, figsize=(15, 5))\n",
    "fig.suptitle('Регион 1 (исходный)', fontsize = 15)\n",
    "qq_plot(axes, geo_data_0_no_v)\n",
    "plt.subplots_adjust(wspace= 0.2, hspace= 0.4)\n",
    "plt.show()\n"
   ]
  },
  {
   "cell_type": "code",
   "execution_count": 15,
   "metadata": {},
   "outputs": [
    {
     "data": {
      "image/png": "[encoded data removed]",
      "text/plain": [
       "<Figure size 1080x360 with 4 Axes>"
      ]
     },
     "metadata": {
      "needs_background": "light"
     },
     "output_type": "display_data"
    }
   ],
   "source": [
    "fig, axes = plt.subplots(2, 2, figsize=(15, 5))\n",
    "fig.suptitle('Регион 2 (исходный)', fontsize = 15)\n",
    "qq_plot(axes, geo_data_1_no_v)\n",
    "plt.subplots_adjust(wspace= 0.2, hspace= 0.4)\n",
    "plt.show()"
   ]
  },
  {
   "cell_type": "code",
   "execution_count": 16,
   "metadata": {},
   "outputs": [
    {
     "data": {
      "image/png": "[encoded data removed]",
      "text/plain": [
       "<Figure size 1080x360 with 4 Axes>"
      ]
     },
     "metadata": {
      "needs_background": "light"
     },
     "output_type": "display_data"
    }
   ],
   "source": [
    "fig, axes = plt.subplots(2, 2, figsize=(15, 5))\n",
    "fig.suptitle('Регион 3 (исходный)', fontsize = 15)\n",
    "qq_plot(axes, geo_data_2_no_v)\n",
    "plt.subplots_adjust(wspace= 0.2, hspace= 0.4)\n",
    "plt.show()"
   ]
  },
  {
   "cell_type": "markdown",
   "metadata": {},
   "source": [
    "Явно видно, что распределение не нормальное. Возможно, качество модели повысит логорифмирование переменных."
   ]
  },
  {
   "cell_type": "code",
   "execution_count": 17,
   "metadata": {},
   "outputs": [
    {
     "data": {
      "image/png": "[encoded data removed]",
      "text/plain": [
       "<Figure size 1080x360 with 4 Axes>"
      ]
     },
     "metadata": {
      "needs_background": "light"
     },
     "output_type": "display_data"
    }
   ],
   "source": [
    "fig, axes = plt.subplots(2, 2, figsize=(15, 5))\n",
    "fig.suptitle('Регион 1 (после логарифмирования)', fontsize = 15)\n",
    "geo_data_0_no_v_log = log(geo_data_0_no_v)\n",
    "qq_plot(axes, geo_data_0_no_v_log)\n",
    "plt.subplots_adjust(wspace= 0.2, hspace= 0.4)\n",
    "plt.show()"
   ]
  },
  {
   "cell_type": "code",
   "execution_count": 18,
   "metadata": {},
   "outputs": [
    {
     "data": {
      "image/png": "[encoded data removed]",
      "text/plain": [
       "<Figure size 1080x360 with 4 Axes>"
      ]
     },
     "metadata": {
      "needs_background": "light"
     },
     "output_type": "display_data"
    }
   ],
   "source": [
    "fig, axes = plt.subplots(2, 2, figsize=(15, 5))\n",
    "fig.suptitle('Регион 2 (после логарифмирования)', fontsize = 15)\n",
    "geo_data_1_no_v_log = log(geo_data_1_no_v)\n",
    "qq_plot(axes, geo_data_1_no_v_log)\n",
    "plt.subplots_adjust(wspace= 0.2, hspace= 0.4)\n",
    "plt.show()"
   ]
  },
  {
   "cell_type": "code",
   "execution_count": 19,
   "metadata": {
    "scrolled": false
   },
   "outputs": [
    {
     "data": {
      "image/png": "[encoded data removed]",
      "text/plain": [
       "<Figure size 1080x360 with 4 Axes>"
      ]
     },
     "metadata": {
      "needs_background": "light"
     },
     "output_type": "display_data"
    }
   ],
   "source": [
    "fig, axes = plt.subplots(2, 2, figsize=(15, 5))\n",
    "fig.suptitle('Регион 3 (после логарифмирования)', fontsize = 15)\n",
    "geo_data_2_no_v_log = log(geo_data_2_no_v)\n",
    "qq_plot(axes, geo_data_2_no_v_log)\n",
    "plt.subplots_adjust(wspace= 0.2, hspace= 0.4)\n",
    "plt.show()"
   ]
  },
  {
   "cell_type": "markdown",
   "metadata": {},
   "source": [
    "### Вывод"
   ]
  },
  {
   "cell_type": "markdown",
   "metadata": {},
   "source": [
    "В данных найдены дуюли непонятной природы. Из-за этой неизвестности пришлось удалить дублирующиеся значения. Их было немного, поэтому проблем не должно. Из данных были убраны выбросы. Распределение явно не нормальное и неравномерное, поэтому дополнительно прологорифмировал значения."
   ]
  },
  {
   "cell_type": "markdown",
   "metadata": {},
   "source": [
    "## Обучение и проверка модели"
   ]
  },
  {
   "cell_type": "code",
   "execution_count": 20,
   "metadata": {},
   "outputs": [],
   "source": [
    "result = pd.DataFrame({'rmse_mean':[], 'rmse_mean':[],'region':[],'name':[],'model':[], 'x_test':[], 'y_test':[], 'x_train':[], 'y_train':[], 'predict':[]})\n",
    "pd.options.mode.chained_assignment = None\n",
    "\n",
    "def add_model(df, region, name):\n",
    "    global result\n",
    "    x = df.drop(['product','id'], axis=1)\n",
    "    y = df['product']\n",
    "    x_train, x_test, y_train, y_test = train_test_split(x, y, train_size=0.25, random_state=10, shuffle = True)\n",
    "    \n",
    "    # Масштабирую значения    \n",
    "    scaler = StandardScaler()\n",
    "    scaler.fit(x_train) \n",
    "    x_train = scaler.transform(x_train)\n",
    "    x_test= scaler.transform(x_test) \n",
    "    \n",
    "    # mse для среднего, что бы понять адекватность модели \n",
    "    predicted = pd.Series(y_train.mean(), index=y_test.index)\n",
    "    rmse_mean = mean_squared_error(y_test, predicted)**0.5\n",
    "    \n",
    "    model = LinearRegression().fit(x_train, y_train)\n",
    "    predicted = model.predict(x_test)\n",
    "    rmse = mean_squared_error(y_test, predicted)**0.5    \n",
    "    \n",
    "    s = {'predict':pd.Series(predicted, index=y_test.index),\n",
    "         'y_train':y_train,\n",
    "         'x_train':x_train,\n",
    "         'y_test':pd.Series(y_test),\n",
    "         'x_test':x_test,\n",
    "         'rmse_mean':rmse_mean,\n",
    "         'rmse':rmse,\n",
    "         'region':region,\n",
    "         'name':name,\n",
    "         'model':model}\n",
    "    result = result.append(s, ignore_index=True)\n",
    "    \n",
    "add_model(geo_data_0_no_v_log, 'регион 1', 'без выбросов, логарифм')\n",
    "add_model(geo_data_1_no_v_log, 'регион 2', 'без выбросов, логарифм')\n",
    "add_model(geo_data_2_no_v_log, 'регион 3', 'без выбросов, логарифм')\n",
    "add_model(geo_data_0_no_v, 'регион 1', 'без выбросов')\n",
    "add_model(geo_data_1_no_v, 'регион 2', 'без выбросов')\n",
    "add_model(geo_data_2_no_v, 'регион 3', 'без выбросов')\n",
    "add_model(geo_data_0, 'регион 1', 'исходный')\n",
    "add_model(geo_data_1, 'регион 2', 'исходный')\n",
    "add_model(geo_data_2, 'регион 3', 'исходный')"
   ]
  },
  {
   "cell_type": "code",
   "execution_count": 21,
   "metadata": {
    "scrolled": true
   },
   "outputs": [
    {
     "data": {
      "text/html": [
       "<div>\n",
       "<style scoped>\n",
       "    .dataframe tbody tr th:only-of-type {\n",
       "        vertical-align: middle;\n",
       "    }\n",
       "\n",
       "    .dataframe tbody tr th {\n",
       "        vertical-align: top;\n",
       "    }\n",
       "\n",
       "    .dataframe thead th {\n",
       "        text-align: right;\n",
       "    }\n",
       "</style>\n",
       "<table border=\"1\" class=\"dataframe\">\n",
       "  <thead>\n",
       "    <tr style=\"text-align: right;\">\n",
       "      <th></th>\n",
       "      <th>region</th>\n",
       "      <th>name</th>\n",
       "      <th>rmse_mean</th>\n",
       "      <th>rmse</th>\n",
       "      <th>predict_mean</th>\n",
       "    </tr>\n",
       "  </thead>\n",
       "  <tbody>\n",
       "    <tr>\n",
       "      <td>3</td>\n",
       "      <td>регион 1</td>\n",
       "      <td>без выбросов</td>\n",
       "      <td>44.212293</td>\n",
       "      <td>37.700343</td>\n",
       "      <td>92.273077</td>\n",
       "    </tr>\n",
       "    <tr>\n",
       "      <td>6</td>\n",
       "      <td>регион 1</td>\n",
       "      <td>исходный</td>\n",
       "      <td>44.343559</td>\n",
       "      <td>37.713125</td>\n",
       "      <td>92.376144</td>\n",
       "    </tr>\n",
       "    <tr>\n",
       "      <td>0</td>\n",
       "      <td>регион 1</td>\n",
       "      <td>без выбросов, логарифм</td>\n",
       "      <td>44.212293</td>\n",
       "      <td>37.952625</td>\n",
       "      <td>92.255487</td>\n",
       "    </tr>\n",
       "    <tr>\n",
       "      <td>7</td>\n",
       "      <td>регион 2</td>\n",
       "      <td>исходный</td>\n",
       "      <td>45.982905</td>\n",
       "      <td>0.890088</td>\n",
       "      <td>68.871711</td>\n",
       "    </tr>\n",
       "    <tr>\n",
       "      <td>4</td>\n",
       "      <td>регион 2</td>\n",
       "      <td>без выбросов</td>\n",
       "      <td>45.932141</td>\n",
       "      <td>0.890691</td>\n",
       "      <td>68.911823</td>\n",
       "    </tr>\n",
       "    <tr>\n",
       "      <td>1</td>\n",
       "      <td>регион 2</td>\n",
       "      <td>без выбросов, логарифм</td>\n",
       "      <td>45.932141</td>\n",
       "      <td>11.564366</td>\n",
       "      <td>68.898158</td>\n",
       "    </tr>\n",
       "    <tr>\n",
       "      <td>5</td>\n",
       "      <td>регион 3</td>\n",
       "      <td>без выбросов</td>\n",
       "      <td>44.684099</td>\n",
       "      <td>40.042631</td>\n",
       "      <td>94.617254</td>\n",
       "    </tr>\n",
       "    <tr>\n",
       "      <td>8</td>\n",
       "      <td>регион 3</td>\n",
       "      <td>исходный</td>\n",
       "      <td>44.796441</td>\n",
       "      <td>40.120143</td>\n",
       "      <td>94.768363</td>\n",
       "    </tr>\n",
       "    <tr>\n",
       "      <td>2</td>\n",
       "      <td>регион 3</td>\n",
       "      <td>без выбросов, логарифм</td>\n",
       "      <td>44.684099</td>\n",
       "      <td>40.235202</td>\n",
       "      <td>94.628253</td>\n",
       "    </tr>\n",
       "  </tbody>\n",
       "</table>\n",
       "</div>"
      ],
      "text/plain": [
       "     region                    name  rmse_mean       rmse  predict_mean\n",
       "3  регион 1            без выбросов  44.212293  37.700343     92.273077\n",
       "6  регион 1                исходный  44.343559  37.713125     92.376144\n",
       "0  регион 1  без выбросов, логарифм  44.212293  37.952625     92.255487\n",
       "7  регион 2                исходный  45.982905   0.890088     68.871711\n",
       "4  регион 2            без выбросов  45.932141   0.890691     68.911823\n",
       "1  регион 2  без выбросов, логарифм  45.932141  11.564366     68.898158\n",
       "5  регион 3            без выбросов  44.684099  40.042631     94.617254\n",
       "8  регион 3                исходный  44.796441  40.120143     94.768363\n",
       "2  регион 3  без выбросов, логарифм  44.684099  40.235202     94.628253"
      ]
     },
     "execution_count": 21,
     "metadata": {},
     "output_type": "execute_result"
    }
   ],
   "source": [
    "result['predict_mean'] = result['predict'].apply(lambda x: x.mean())\n",
    "result[['region','name', 'rmse_mean', 'rmse', 'predict_mean']].sort_values(by = ['region','rmse'])"
   ]
  },
  {
   "cell_type": "code",
   "execution_count": 22,
   "metadata": {
    "scrolled": false
   },
   "outputs": [
    {
     "data": {
      "text/html": [
       "<div>\n",
       "<style scoped>\n",
       "    .dataframe tbody tr th:only-of-type {\n",
       "        vertical-align: middle;\n",
       "    }\n",
       "\n",
       "    .dataframe tbody tr th {\n",
       "        vertical-align: top;\n",
       "    }\n",
       "\n",
       "    .dataframe thead th {\n",
       "        text-align: right;\n",
       "    }\n",
       "</style>\n",
       "<table border=\"1\" class=\"dataframe\">\n",
       "  <thead>\n",
       "    <tr style=\"text-align: right;\">\n",
       "      <th></th>\n",
       "      <th>region</th>\n",
       "      <th>name</th>\n",
       "      <th>rmse_mean</th>\n",
       "      <th>rmse</th>\n",
       "      <th>predict_mean</th>\n",
       "    </tr>\n",
       "  </thead>\n",
       "  <tbody>\n",
       "    <tr>\n",
       "      <td>3</td>\n",
       "      <td>регион 1</td>\n",
       "      <td>без выбросов</td>\n",
       "      <td>44.212293</td>\n",
       "      <td>37.700343</td>\n",
       "      <td>92.273077</td>\n",
       "    </tr>\n",
       "    <tr>\n",
       "      <td>7</td>\n",
       "      <td>регион 2</td>\n",
       "      <td>исходный</td>\n",
       "      <td>45.982905</td>\n",
       "      <td>0.890088</td>\n",
       "      <td>68.871711</td>\n",
       "    </tr>\n",
       "    <tr>\n",
       "      <td>5</td>\n",
       "      <td>регион 3</td>\n",
       "      <td>без выбросов</td>\n",
       "      <td>44.684099</td>\n",
       "      <td>40.042631</td>\n",
       "      <td>94.617254</td>\n",
       "    </tr>\n",
       "  </tbody>\n",
       "</table>\n",
       "</div>"
      ],
      "text/plain": [
       "     region          name  rmse_mean       rmse  predict_mean\n",
       "3  регион 1  без выбросов  44.212293  37.700343     92.273077\n",
       "7  регион 2      исходный  45.982905   0.890088     68.871711\n",
       "5  регион 3  без выбросов  44.684099  40.042631     94.617254"
      ]
     },
     "execution_count": 22,
     "metadata": {},
     "output_type": "execute_result"
    }
   ],
   "source": [
    "result = result.iloc[result.groupby(['region']).apply(lambda x: x['rmse'].idxmin())]\n",
    "result[['region','name', 'rmse_mean', 'rmse', 'predict_mean']]"
   ]
  },
  {
   "cell_type": "markdown",
   "metadata": {},
   "source": [
    "### Вывод"
   ]
  },
  {
   "cell_type": "markdown",
   "metadata": {},
   "source": [
    "Для каждого района было обучено 3 модели: на исходном датасете, на датасете без выбросов, и датасет без выбросов с прологорифмированными значениями. Модель на любом датасете показала адеватность. Модель уменьшает ошибку, по сравнению с константной моделью. Но что удивитиельно, в регионе 2 модель на исходных данных с выбросами получилась самой качественной, а модели на прологорифмированных данных показали худшие результаты. По итогу, отобрали в каждом регионе самую лушчую модель."
   ]
  },
  {
   "cell_type": "markdown",
   "metadata": {},
   "source": [
    "## Подготовка к расчёту прибыли"
   ]
  },
  {
   "cell_type": "code",
   "execution_count": 23,
   "metadata": {
    "scrolled": true
   },
   "outputs": [
    {
     "name": "stdout",
     "output_type": "stream",
     "text": [
      "количество сырья для покрытия расхода\n"
     ]
    },
    {
     "data": {
      "text/plain": [
       "111.11"
      ]
     },
     "execution_count": 23,
     "metadata": {},
     "output_type": "execute_result"
    }
   ],
   "source": [
    "COUNT = 200\n",
    "BUD = 10**10\n",
    "SUM = 45*(10**4)\n",
    "V = 2.5\n",
    "print('количество сырья для покрытия расхода')\n",
    "round(BUD/COUNT/SUM,2)"
   ]
  },
  {
   "cell_type": "markdown",
   "metadata": {},
   "source": [
    "Среднего предсказанного объёма запасов в любом регионе, не хватет для покрытия расходов, а значит просто случайно выбрать скважины - не имеет смысла. Поэтому нужно выбирать скважины с самым большим объёмом."
   ]
  },
  {
   "cell_type": "markdown",
   "metadata": {},
   "source": [
    "## Расчёт прибыли и рисков "
   ]
  },
  {
   "cell_type": "code",
   "execution_count": 24,
   "metadata": {},
   "outputs": [
    {
     "data": {
      "text/html": [
       "<div>\n",
       "<style scoped>\n",
       "    .dataframe tbody tr th:only-of-type {\n",
       "        vertical-align: middle;\n",
       "    }\n",
       "\n",
       "    .dataframe tbody tr th {\n",
       "        vertical-align: top;\n",
       "    }\n",
       "\n",
       "    .dataframe thead th {\n",
       "        text-align: right;\n",
       "    }\n",
       "</style>\n",
       "<table border=\"1\" class=\"dataframe\">\n",
       "  <thead>\n",
       "    <tr style=\"text-align: right;\">\n",
       "      <th></th>\n",
       "      <th>region</th>\n",
       "      <th>prib</th>\n",
       "    </tr>\n",
       "  </thead>\n",
       "  <tbody>\n",
       "    <tr>\n",
       "      <td>3</td>\n",
       "      <td>регион 1</td>\n",
       "      <td>3.556046</td>\n",
       "    </tr>\n",
       "    <tr>\n",
       "      <td>5</td>\n",
       "      <td>регион 3</td>\n",
       "      <td>2.722886</td>\n",
       "    </tr>\n",
       "    <tr>\n",
       "      <td>7</td>\n",
       "      <td>регион 2</td>\n",
       "      <td>2.415087</td>\n",
       "    </tr>\n",
       "  </tbody>\n",
       "</table>\n",
       "</div>"
      ],
      "text/plain": [
       "     region      prib\n",
       "3  регион 1  3.556046\n",
       "5  регион 3  2.722886\n",
       "7  регион 2  2.415087"
      ]
     },
     "execution_count": 24,
     "metadata": {},
     "output_type": "execute_result"
    }
   ],
   "source": [
    "# функция рассчета прибыли\n",
    "def get_pr(target, predict,count):\n",
    "    return (target[predict.sort_values(ascending = False)[:count].index].sum()*SUM-BUD)/(10**9)\n",
    "        \n",
    "\n",
    "result['prib'] = result.apply(lambda x:  get_pr(x.y_test, x.predict, COUNT), axis =1 )\n",
    "result[['region','prib']].sort_values('prib', ascending = False)"
   ]
  },
  {
   "cell_type": "code",
   "execution_count": null,
   "metadata": {},
   "outputs": [],
   "source": [
    "\n",
    "state = np.random.RandomState(10)\n",
    "def boostrap(target, predict, count):\n",
    "    values = []\n",
    "    for i in range(1000):\n",
    "        predict_subsample = predict.sample(n=500, replace=True, random_state=state)\n",
    "        target_subsample = target[predict.index]        \n",
    "        values.append(get_pr(target_subsample, predict_subsample, count))\n",
    "    values = pd.Series(values) \n",
    "    # вычисляю 95% интервал, и вероятность безубыточности\n",
    "    return [values.quantile(V/100), values.quantile(0.95+V/100),  stats.percentileofscore(values,0)]\n",
    "    \n",
    "result['interval'] = result.apply(lambda x:  boostrap(x.y_test, x.predict, COUNT), axis =1 )\n"
   ]
  },
  {
   "cell_type": "code",
   "execution_count": null,
   "metadata": {
    "scrolled": false
   },
   "outputs": [],
   "source": [
    "result['lower'] = result['interval'].apply(lambda x:  x[0])\n",
    "result['upper'] = result['interval'].apply(lambda x:  x[1])\n",
    "result['risk'] = result['interval'].apply(lambda x:  x[2])\n",
    "result[['region','prib', 'lower', 'upper', 'risk']].sort_values('lower', ascending = False)"
   ]
  },
  {
   "cell_type": "markdown",
   "metadata": {},
   "source": [
    "### Вывод"
   ]
  },
  {
   "cell_type": "markdown",
   "metadata": {},
   "source": [
    "Для разработки нужно выбирать Регион 2. Так как это единственный регион, где риск получить убытки удолетворяет условию задачи."
   ]
  }
 ],
 "metadata": {
  "ExecuteTimeLog": [
   {
    "duration": 1074,
    "start_time": "2021-07-17T02:18:57.985Z"
   },
   {
    "duration": 350,
    "start_time": "2021-07-17T02:19:53.901Z"
   },
   {
    "duration": 20,
    "start_time": "2021-07-17T02:20:06.976Z"
   },
   {
    "duration": 16,
    "start_time": "2021-07-17T02:20:19.744Z"
   },
   {
    "duration": 16,
    "start_time": "2021-07-17T02:20:21.183Z"
   },
   {
    "duration": 352,
    "start_time": "2021-07-17T02:24:15.776Z"
   },
   {
    "duration": 117,
    "start_time": "2021-07-17T02:24:43.608Z"
   },
   {
    "duration": 91,
    "start_time": "2021-07-17T02:25:18.104Z"
   },
   {
    "duration": 18,
    "start_time": "2021-07-17T02:25:20.953Z"
   },
   {
    "duration": 43,
    "start_time": "2021-07-17T02:25:42.088Z"
   },
   {
    "duration": 17,
    "start_time": "2021-07-17T02:26:23.327Z"
   },
   {
    "duration": 61,
    "start_time": "2021-07-17T02:26:51.697Z"
   },
   {
    "duration": 68,
    "start_time": "2021-07-17T02:26:55.860Z"
   },
   {
    "duration": 46,
    "start_time": "2021-07-17T02:27:09.495Z"
   },
   {
    "duration": 58,
    "start_time": "2021-07-17T02:27:14.625Z"
   },
   {
    "duration": 71,
    "start_time": "2021-07-17T02:27:19.728Z"
   },
   {
    "duration": 22,
    "start_time": "2021-07-17T02:27:36.824Z"
   },
   {
    "duration": 70,
    "start_time": "2021-07-17T02:27:41.879Z"
   },
   {
    "duration": 130,
    "start_time": "2021-07-17T02:27:57.664Z"
   },
   {
    "duration": 383,
    "start_time": "2021-07-17T02:28:33.560Z"
   },
   {
    "duration": 310,
    "start_time": "2021-07-17T02:30:20.559Z"
   },
   {
    "duration": 449,
    "start_time": "2021-07-17T02:30:39.472Z"
   },
   {
    "duration": 64,
    "start_time": "2021-07-17T02:30:42.942Z"
   },
   {
    "duration": 65,
    "start_time": "2021-07-17T02:30:47.854Z"
   },
   {
    "duration": 64,
    "start_time": "2021-07-17T02:31:13.269Z"
   },
   {
    "duration": 65,
    "start_time": "2021-07-17T02:31:35.191Z"
   },
   {
    "duration": 17865,
    "start_time": "2021-07-17T02:32:36.111Z"
   },
   {
    "duration": 63,
    "start_time": "2021-07-17T02:32:56.689Z"
   },
   {
    "duration": 353,
    "start_time": "2021-07-17T02:33:13.006Z"
   },
   {
    "duration": 358,
    "start_time": "2021-07-17T02:36:20.352Z"
   },
   {
    "duration": 38,
    "start_time": "2021-07-17T02:36:25.096Z"
   },
   {
    "duration": 57,
    "start_time": "2021-07-17T02:37:22.960Z"
   },
   {
    "duration": 82,
    "start_time": "2021-07-17T02:37:25.607Z"
   },
   {
    "duration": 62,
    "start_time": "2021-07-17T02:37:36.420Z"
   },
   {
    "duration": 65,
    "start_time": "2021-07-17T02:38:11.814Z"
   },
   {
    "duration": 344,
    "start_time": "2021-07-17T02:38:31.519Z"
   },
   {
    "duration": 85,
    "start_time": "2021-07-17T02:40:12.623Z"
   },
   {
    "duration": 79,
    "start_time": "2021-07-17T02:40:42.351Z"
   },
   {
    "duration": 100,
    "start_time": "2021-07-17T02:42:22.391Z"
   },
   {
    "duration": 82,
    "start_time": "2021-07-17T02:42:26.542Z"
   },
   {
    "duration": 74,
    "start_time": "2021-07-17T02:42:35.358Z"
   },
   {
    "duration": 81,
    "start_time": "2021-07-17T02:42:43.889Z"
   },
   {
    "duration": 504,
    "start_time": "2021-07-17T02:49:38.041Z"
   },
   {
    "duration": 542,
    "start_time": "2021-07-17T02:49:55.208Z"
   },
   {
    "duration": 529,
    "start_time": "2021-07-17T02:49:59.565Z"
   },
   {
    "duration": 218,
    "start_time": "2021-07-17T02:51:13.816Z"
   },
   {
    "duration": 78,
    "start_time": "2021-07-17T02:51:45.192Z"
   },
   {
    "duration": 217,
    "start_time": "2021-07-17T02:51:58.056Z"
   },
   {
    "duration": 444,
    "start_time": "2021-07-17T02:53:06.336Z"
   },
   {
    "duration": 475,
    "start_time": "2021-07-17T02:53:43.398Z"
   },
   {
    "duration": 507,
    "start_time": "2021-07-17T02:54:00.414Z"
   },
   {
    "duration": 458,
    "start_time": "2021-07-17T03:02:01.198Z"
   },
   {
    "duration": 5,
    "start_time": "2021-07-17T03:02:49.908Z"
   },
   {
    "duration": 903,
    "start_time": "2021-07-17T03:02:52.910Z"
   },
   {
    "duration": 448,
    "start_time": "2021-07-17T03:04:01.263Z"
   },
   {
    "duration": 309,
    "start_time": "2021-07-17T03:05:07.720Z"
   },
   {
    "duration": 271,
    "start_time": "2021-07-17T03:05:13.558Z"
   },
   {
    "duration": 35,
    "start_time": "2021-07-17T03:05:42.230Z"
   },
   {
    "duration": 13,
    "start_time": "2021-07-17T03:05:51.703Z"
   },
   {
    "duration": 9,
    "start_time": "2021-07-17T03:05:59.272Z"
   },
   {
    "duration": 8,
    "start_time": "2021-07-17T03:06:03.582Z"
   },
   {
    "duration": 7,
    "start_time": "2021-07-17T03:06:07.223Z"
   },
   {
    "duration": 7,
    "start_time": "2021-07-17T03:06:10.742Z"
   },
   {
    "duration": 299,
    "start_time": "2021-07-17T03:06:15.941Z"
   },
   {
    "duration": 8,
    "start_time": "2021-07-17T03:06:19.479Z"
   },
   {
    "duration": 8,
    "start_time": "2021-07-17T03:06:21.991Z"
   },
   {
    "duration": 8,
    "start_time": "2021-07-17T03:06:30.070Z"
   },
   {
    "duration": 16,
    "start_time": "2021-07-17T03:06:33.062Z"
   },
   {
    "duration": 7,
    "start_time": "2021-07-17T03:06:36.550Z"
   },
   {
    "duration": 8,
    "start_time": "2021-07-17T03:06:50.911Z"
   },
   {
    "duration": -642,
    "start_time": "2021-07-17T03:07:00.648Z"
   },
   {
    "duration": 8,
    "start_time": "2021-07-17T03:07:01.605Z"
   },
   {
    "duration": 8,
    "start_time": "2021-07-17T03:07:04.565Z"
   },
   {
    "duration": 8,
    "start_time": "2021-07-17T03:07:08.037Z"
   },
   {
    "duration": 838,
    "start_time": "2021-07-17T03:07:33.335Z"
   },
   {
    "duration": 810,
    "start_time": "2021-07-17T03:07:43.488Z"
   },
   {
    "duration": 6491,
    "start_time": "2021-07-17T03:07:47.742Z"
   },
   {
    "duration": 909,
    "start_time": "2021-07-17T03:07:55.960Z"
   },
   {
    "duration": 843,
    "start_time": "2021-07-17T03:08:04.037Z"
   },
   {
    "duration": 844,
    "start_time": "2021-07-17T03:08:14.405Z"
   },
   {
    "duration": 786,
    "start_time": "2021-07-17T03:08:32.350Z"
   },
   {
    "duration": 809,
    "start_time": "2021-07-17T03:08:35.534Z"
   },
   {
    "duration": 912,
    "start_time": "2021-07-17T03:08:39.296Z"
   },
   {
    "duration": 829,
    "start_time": "2021-07-17T03:08:46.982Z"
   },
   {
    "duration": 843,
    "start_time": "2021-07-17T03:08:50.333Z"
   },
   {
    "duration": 6526,
    "start_time": "2021-07-17T03:08:54.425Z"
   },
   {
    "duration": 1129,
    "start_time": "2021-07-17T03:09:04.902Z"
   },
   {
    "duration": 181,
    "start_time": "2021-07-17T03:18:53.464Z"
   },
   {
    "duration": 118,
    "start_time": "2021-07-17T03:19:00.437Z"
   },
   {
    "duration": 123,
    "start_time": "2021-07-17T03:19:04.517Z"
   },
   {
    "duration": 261,
    "start_time": "2021-07-17T03:19:25.373Z"
   },
   {
    "duration": 306,
    "start_time": "2021-07-17T03:19:34.278Z"
   },
   {
    "duration": 263,
    "start_time": "2021-07-17T03:19:42.765Z"
   },
   {
    "duration": 128,
    "start_time": "2021-07-17T03:19:48.598Z"
   },
   {
    "duration": 132,
    "start_time": "2021-07-17T03:20:01.323Z"
   },
   {
    "duration": 96,
    "start_time": "2021-07-17T03:20:42.414Z"
   },
   {
    "duration": 91,
    "start_time": "2021-07-17T03:20:44.997Z"
   },
   {
    "duration": 276,
    "start_time": "2021-07-17T03:20:48.613Z"
   },
   {
    "duration": 120,
    "start_time": "2021-07-17T03:20:51.644Z"
   },
   {
    "duration": 117,
    "start_time": "2021-07-17T03:21:01.975Z"
   },
   {
    "duration": 112,
    "start_time": "2021-07-17T03:21:05.405Z"
   },
   {
    "duration": 120,
    "start_time": "2021-07-17T03:21:08.365Z"
   },
   {
    "duration": 3,
    "start_time": "2021-07-17T03:24:25.495Z"
   },
   {
    "duration": 3,
    "start_time": "2021-07-17T03:24:33.269Z"
   },
   {
    "duration": 4,
    "start_time": "2021-07-17T03:25:00.605Z"
   },
   {
    "duration": 4,
    "start_time": "2021-07-17T03:25:03.813Z"
   },
   {
    "duration": 881,
    "start_time": "2021-07-17T03:27:07.469Z"
   },
   {
    "duration": 513,
    "start_time": "2021-07-17T03:27:27.359Z"
   },
   {
    "duration": 411,
    "start_time": "2021-07-17T03:27:34.519Z"
   },
   {
    "duration": 661,
    "start_time": "2021-07-17T03:27:41.430Z"
   },
   {
    "duration": 399,
    "start_time": "2021-07-17T03:27:45.557Z"
   },
   {
    "duration": 421,
    "start_time": "2021-07-17T03:27:49.622Z"
   },
   {
    "duration": 410,
    "start_time": "2021-07-17T03:28:20.286Z"
   },
   {
    "duration": 404,
    "start_time": "2021-07-17T03:28:32.029Z"
   },
   {
    "duration": 542,
    "start_time": "2021-07-17T03:28:37.933Z"
   },
   {
    "duration": 419,
    "start_time": "2021-07-17T03:28:55.063Z"
   },
   {
    "duration": 444,
    "start_time": "2021-07-17T03:28:58.662Z"
   },
   {
    "duration": 403,
    "start_time": "2021-07-17T03:29:13.197Z"
   },
   {
    "duration": 428,
    "start_time": "2021-07-17T03:30:08.856Z"
   },
   {
    "duration": 407,
    "start_time": "2021-07-17T03:32:12.182Z"
   },
   {
    "duration": 536,
    "start_time": "2021-07-17T03:32:16.772Z"
   },
   {
    "duration": 403,
    "start_time": "2021-07-17T03:32:23.973Z"
   },
   {
    "duration": 412,
    "start_time": "2021-07-17T03:33:18.038Z"
   },
   {
    "duration": 409,
    "start_time": "2021-07-17T03:33:23.262Z"
   },
   {
    "duration": 400,
    "start_time": "2021-07-17T03:33:34.005Z"
   },
   {
    "duration": 425,
    "start_time": "2021-07-17T03:33:49.805Z"
   },
   {
    "duration": 420,
    "start_time": "2021-07-17T03:34:22.789Z"
   },
   {
    "duration": 5,
    "start_time": "2021-07-17T03:34:50.965Z"
   },
   {
    "duration": 533,
    "start_time": "2021-07-17T03:35:06.477Z"
   },
   {
    "duration": 408,
    "start_time": "2021-07-17T03:35:15.757Z"
   },
   {
    "duration": 597,
    "start_time": "2021-07-17T03:35:33.549Z"
   },
   {
    "duration": 32,
    "start_time": "2021-07-17T03:39:06.653Z"
   },
   {
    "duration": 29,
    "start_time": "2021-07-17T03:39:13.592Z"
   },
   {
    "duration": 29,
    "start_time": "2021-07-17T03:39:46.053Z"
   },
   {
    "duration": 4,
    "start_time": "2021-07-17T03:40:41.197Z"
   },
   {
    "duration": 6,
    "start_time": "2021-07-17T03:44:35.734Z"
   },
   {
    "duration": 474,
    "start_time": "2021-07-17T03:44:54.513Z"
   },
   {
    "duration": 538,
    "start_time": "2021-07-17T03:45:06.645Z"
   },
   {
    "duration": 58,
    "start_time": "2021-07-17T03:45:09.621Z"
   },
   {
    "duration": 341,
    "start_time": "2021-07-17T03:45:20.653Z"
   },
   {
    "duration": 325,
    "start_time": "2021-07-17T03:45:44.454Z"
   },
   {
    "duration": 488,
    "start_time": "2021-07-17T03:45:57.078Z"
   },
   {
    "duration": 329,
    "start_time": "2021-07-17T03:46:07.102Z"
   },
   {
    "duration": 70,
    "start_time": "2021-07-17T03:46:39.255Z"
   },
   {
    "duration": 69,
    "start_time": "2021-07-17T03:47:14.125Z"
   },
   {
    "duration": 72,
    "start_time": "2021-07-17T03:47:21.046Z"
   },
   {
    "duration": 66,
    "start_time": "2021-07-17T03:47:43.596Z"
   },
   {
    "duration": 69,
    "start_time": "2021-07-17T03:47:48.892Z"
   },
   {
    "duration": 81,
    "start_time": "2021-07-17T03:49:47.381Z"
   },
   {
    "duration": 68,
    "start_time": "2021-07-17T03:49:59.589Z"
   },
   {
    "duration": 509,
    "start_time": "2021-07-17T03:50:16.181Z"
   },
   {
    "duration": 90,
    "start_time": "2021-07-17T03:50:29.886Z"
   },
   {
    "duration": 264,
    "start_time": "2021-07-17T03:50:32.625Z"
   },
   {
    "duration": 256,
    "start_time": "2021-07-17T03:50:38.333Z"
   },
   {
    "duration": 261,
    "start_time": "2021-07-17T03:50:42.059Z"
   },
   {
    "duration": 15,
    "start_time": "2021-07-17T03:50:55.932Z"
   },
   {
    "duration": 531,
    "start_time": "2021-07-17T03:51:06.411Z"
   },
   {
    "duration": 491,
    "start_time": "2021-07-17T03:51:44.134Z"
   },
   {
    "duration": 499,
    "start_time": "2021-07-17T03:51:49.869Z"
   },
   {
    "duration": 74,
    "start_time": "2021-07-17T03:51:52.517Z"
   },
   {
    "duration": 84,
    "start_time": "2021-07-17T03:52:15.126Z"
   },
   {
    "duration": 505,
    "start_time": "2021-07-17T03:52:20.741Z"
   },
   {
    "duration": 82,
    "start_time": "2021-07-17T03:52:25.654Z"
   },
   {
    "duration": 102,
    "start_time": "2021-07-17T03:52:33.892Z"
   },
   {
    "duration": 74,
    "start_time": "2021-07-17T03:52:38.476Z"
   },
   {
    "duration": 68,
    "start_time": "2021-07-17T03:52:46.669Z"
   },
   {
    "duration": 67,
    "start_time": "2021-07-17T03:52:57.341Z"
   },
   {
    "duration": 189,
    "start_time": "2021-07-17T03:53:57.357Z"
   },
   {
    "duration": 179,
    "start_time": "2021-07-17T03:54:04.253Z"
   },
   {
    "duration": 443,
    "start_time": "2021-07-17T03:54:10.932Z"
   },
   {
    "duration": 437,
    "start_time": "2021-07-17T03:54:15.661Z"
   },
   {
    "duration": 460,
    "start_time": "2021-07-17T03:54:21.124Z"
   },
   {
    "duration": 571,
    "start_time": "2021-07-17T03:54:34.988Z"
   },
   {
    "duration": 86,
    "start_time": "2021-07-17T03:59:48.730Z"
   },
   {
    "duration": 1715,
    "start_time": "2021-07-17T04:02:22.795Z"
   },
   {
    "duration": 1623,
    "start_time": "2021-07-17T04:03:03.596Z"
   },
   {
    "duration": 90,
    "start_time": "2021-07-17T04:04:45.180Z"
   },
   {
    "duration": 1001,
    "start_time": "2021-07-17T04:04:51.341Z"
   },
   {
    "duration": 1693,
    "start_time": "2021-07-17T04:06:50.862Z"
   },
   {
    "duration": 1683,
    "start_time": "2021-07-17T04:07:15.676Z"
   },
   {
    "duration": 1666,
    "start_time": "2021-07-17T04:12:43.070Z"
   },
   {
    "duration": 51,
    "start_time": "2021-07-17T04:12:59.884Z"
   },
   {
    "duration": 3549,
    "start_time": "2021-07-17T04:14:48.550Z"
   },
   {
    "duration": 458,
    "start_time": "2021-07-17T04:15:22.476Z"
   },
   {
    "duration": 47,
    "start_time": "2021-07-17T04:15:26.523Z"
   },
   {
    "duration": 56,
    "start_time": "2021-07-17T04:15:45.765Z"
   },
   {
    "duration": 52,
    "start_time": "2021-07-17T04:15:52.090Z"
   },
   {
    "duration": 52,
    "start_time": "2021-07-17T04:16:04.308Z"
   },
   {
    "duration": 1841,
    "start_time": "2021-07-17T04:16:21.542Z"
   },
   {
    "duration": 3254,
    "start_time": "2021-07-17T04:16:45.461Z"
   },
   {
    "duration": 1624,
    "start_time": "2021-07-17T04:18:17.149Z"
   },
   {
    "duration": 1622,
    "start_time": "2021-07-17T04:18:21.797Z"
   },
   {
    "duration": 1642,
    "start_time": "2021-07-17T04:28:23.875Z"
   },
   {
    "duration": 1670,
    "start_time": "2021-07-17T04:28:35.477Z"
   },
   {
    "duration": 1662,
    "start_time": "2021-07-17T04:28:45.881Z"
   },
   {
    "duration": 1839,
    "start_time": "2021-07-17T04:28:47.544Z"
   },
   {
    "duration": 1247,
    "start_time": "2021-07-17T04:32:14.386Z"
   },
   {
    "duration": 88,
    "start_time": "2021-07-17T04:32:28.556Z"
   },
   {
    "duration": 1625,
    "start_time": "2021-07-17T04:32:34.825Z"
   },
   {
    "duration": 1644,
    "start_time": "2021-07-17T04:32:45.586Z"
   },
   {
    "duration": 1652,
    "start_time": "2021-07-17T04:32:51.258Z"
   },
   {
    "duration": 1898,
    "start_time": "2021-07-17T04:32:52.912Z"
   },
   {
    "duration": 1918,
    "start_time": "2021-07-17T04:32:54.812Z"
   },
   {
    "duration": 1835,
    "start_time": "2021-07-17T04:32:56.740Z"
   },
   {
    "duration": 1649,
    "start_time": "2021-07-17T04:32:59.921Z"
   },
   {
    "duration": 1805,
    "start_time": "2021-07-17T04:35:59.428Z"
   },
   {
    "duration": 1644,
    "start_time": "2021-07-17T04:36:01.235Z"
   },
   {
    "duration": 1611,
    "start_time": "2021-07-17T04:36:02.881Z"
   },
   {
    "duration": 1616,
    "start_time": "2021-07-17T04:36:04.493Z"
   },
   {
    "duration": 1596,
    "start_time": "2021-07-17T04:36:08.818Z"
   },
   {
    "duration": 1655,
    "start_time": "2021-07-17T04:36:11.962Z"
   },
   {
    "duration": 1889,
    "start_time": "2021-07-17T04:36:13.619Z"
   },
   {
    "duration": 1642,
    "start_time": "2021-07-17T04:36:15.510Z"
   },
   {
    "duration": 1777,
    "start_time": "2021-07-17T04:38:58.484Z"
   },
   {
    "duration": 1734,
    "start_time": "2021-07-17T04:39:00.263Z"
   },
   {
    "duration": 1708,
    "start_time": "2021-07-17T04:39:01.999Z"
   },
   {
    "duration": 361,
    "start_time": "2021-07-17T04:45:49.914Z"
   },
   {
    "duration": 386,
    "start_time": "2021-07-17T04:46:00.908Z"
   },
   {
    "duration": 54,
    "start_time": "2021-07-17T04:46:24.211Z"
   },
   {
    "duration": 317,
    "start_time": "2021-07-17T04:53:42.164Z"
   },
   {
    "duration": 292,
    "start_time": "2021-07-17T04:53:43.866Z"
   },
   {
    "duration": 4,
    "start_time": "2021-07-17T04:54:08.465Z"
   },
   {
    "duration": 381,
    "start_time": "2021-07-17T04:54:20.314Z"
   },
   {
    "duration": 5,
    "start_time": "2021-07-17T04:54:33.281Z"
   },
   {
    "duration": 13,
    "start_time": "2021-07-17T04:55:01.474Z"
   },
   {
    "duration": 10,
    "start_time": "2021-07-17T04:55:23.089Z"
   },
   {
    "duration": 9,
    "start_time": "2021-07-17T04:55:26.409Z"
   },
   {
    "duration": 21,
    "start_time": "2021-07-17T04:56:03.562Z"
   },
   {
    "duration": 23,
    "start_time": "2021-07-17T04:56:15.538Z"
   },
   {
    "duration": 311,
    "start_time": "2021-07-17T04:56:26.649Z"
   },
   {
    "duration": 23,
    "start_time": "2021-07-17T04:56:32.407Z"
   },
   {
    "duration": 24,
    "start_time": "2021-07-17T04:56:37.249Z"
   },
   {
    "duration": 23,
    "start_time": "2021-07-17T04:56:40.913Z"
   },
   {
    "duration": 23,
    "start_time": "2021-07-17T04:56:50.577Z"
   },
   {
    "duration": 22,
    "start_time": "2021-07-17T04:57:07.921Z"
   },
   {
    "duration": 46,
    "start_time": "2021-07-17T04:57:11.137Z"
   },
   {
    "duration": 9,
    "start_time": "2021-07-17T04:57:11.889Z"
   },
   {
    "duration": 21,
    "start_time": "2021-07-17T04:57:19.738Z"
   },
   {
    "duration": 25,
    "start_time": "2021-07-17T04:57:32.553Z"
   },
   {
    "duration": 26,
    "start_time": "2021-07-17T04:57:37.097Z"
   },
   {
    "duration": 24,
    "start_time": "2021-07-17T04:57:41.377Z"
   },
   {
    "duration": 25,
    "start_time": "2021-07-17T04:57:48.465Z"
   },
   {
    "duration": 97,
    "start_time": "2021-07-17T05:04:12.682Z"
   },
   {
    "duration": 262,
    "start_time": "2021-07-17T05:04:19.516Z"
   },
   {
    "duration": 4,
    "start_time": "2021-07-17T05:04:25.039Z"
   },
   {
    "duration": 283,
    "start_time": "2021-07-17T05:04:30.785Z"
   },
   {
    "duration": 12,
    "start_time": "2021-07-17T05:04:54.670Z"
   },
   {
    "duration": 15,
    "start_time": "2021-07-17T05:06:06.962Z"
   },
   {
    "duration": 519,
    "start_time": "2021-07-17T05:14:48.265Z"
   },
   {
    "duration": 288,
    "start_time": "2021-07-17T05:15:08.065Z"
   },
   {
    "duration": 120,
    "start_time": "2021-07-17T05:15:17.201Z"
   },
   {
    "duration": 280,
    "start_time": "2021-07-17T05:16:15.377Z"
   },
   {
    "duration": 361,
    "start_time": "2021-07-17T05:16:27.635Z"
   },
   {
    "duration": 6,
    "start_time": "2021-07-17T05:16:32.428Z"
   },
   {
    "duration": 6,
    "start_time": "2021-07-17T05:17:06.224Z"
   },
   {
    "duration": 10,
    "start_time": "2021-07-17T05:18:57.145Z"
   },
   {
    "duration": 1625,
    "start_time": "2021-07-17T05:21:16.337Z"
   },
   {
    "duration": 1766,
    "start_time": "2021-07-17T05:21:20.737Z"
   },
   {
    "duration": 1844,
    "start_time": "2021-07-17T05:21:30.513Z"
   },
   {
    "duration": 1789,
    "start_time": "2021-07-17T05:21:37.160Z"
   },
   {
    "duration": 1679,
    "start_time": "2021-07-17T05:22:04.415Z"
   },
   {
    "duration": 1680,
    "start_time": "2021-07-17T05:22:09.552Z"
   },
   {
    "duration": 351,
    "start_time": "2021-07-17T05:22:14.609Z"
   },
   {
    "duration": 11,
    "start_time": "2021-07-17T05:22:20.429Z"
   },
   {
    "duration": 455,
    "start_time": "2021-07-17T05:22:59.300Z"
   },
   {
    "duration": 10,
    "start_time": "2021-07-17T05:23:00.939Z"
   },
   {
    "duration": 427,
    "start_time": "2021-07-17T05:23:12.825Z"
   },
   {
    "duration": 10,
    "start_time": "2021-07-17T05:23:15.167Z"
   },
   {
    "duration": 407,
    "start_time": "2021-07-17T05:23:32.848Z"
   },
   {
    "duration": 10,
    "start_time": "2021-07-17T05:23:33.649Z"
   },
   {
    "duration": 389,
    "start_time": "2021-07-17T05:23:40.264Z"
   },
   {
    "duration": 10,
    "start_time": "2021-07-17T05:23:42.177Z"
   },
   {
    "duration": 10,
    "start_time": "2021-07-17T05:24:32.304Z"
   },
   {
    "duration": 449,
    "start_time": "2021-07-17T05:26:53.249Z"
   },
   {
    "duration": 428,
    "start_time": "2021-07-17T05:27:23.345Z"
   },
   {
    "duration": 1633,
    "start_time": "2021-07-17T05:29:10.321Z"
   },
   {
    "duration": 11,
    "start_time": "2021-07-17T05:29:12.227Z"
   },
   {
    "duration": 1554,
    "start_time": "2021-07-17T05:29:34.698Z"
   },
   {
    "duration": 358,
    "start_time": "2021-07-17T05:29:36.254Z"
   },
   {
    "duration": 11,
    "start_time": "2021-07-17T05:29:39.505Z"
   },
   {
    "duration": 1622,
    "start_time": "2021-07-17T05:32:00.634Z"
   },
   {
    "duration": 184,
    "start_time": "2021-07-17T05:32:02.258Z"
   },
   {
    "duration": 275,
    "start_time": "2021-07-17T05:32:24.258Z"
   },
   {
    "duration": 267,
    "start_time": "2021-07-17T05:32:43.163Z"
   },
   {
    "duration": 11,
    "start_time": "2021-07-17T05:32:46.547Z"
   },
   {
    "duration": 13,
    "start_time": "2021-07-17T05:33:09.986Z"
   },
   {
    "duration": 13,
    "start_time": "2021-07-17T05:33:32.826Z"
   },
   {
    "duration": 328,
    "start_time": "2021-07-17T05:35:53.291Z"
   },
   {
    "duration": 289,
    "start_time": "2021-07-17T05:38:01.794Z"
   },
   {
    "duration": 344,
    "start_time": "2021-07-17T05:38:06.146Z"
   },
   {
    "duration": 125,
    "start_time": "2021-07-17T05:38:51.889Z"
   },
   {
    "duration": 168,
    "start_time": "2021-07-17T05:39:08.786Z"
   },
   {
    "duration": 7,
    "start_time": "2021-07-17T05:39:35.939Z"
   },
   {
    "duration": 257,
    "start_time": "2021-07-17T05:41:06.608Z"
   },
   {
    "duration": 1639,
    "start_time": "2021-07-17T05:41:15.219Z"
   },
   {
    "duration": 181,
    "start_time": "2021-07-17T05:41:16.861Z"
   },
   {
    "duration": 12,
    "start_time": "2021-07-17T05:41:17.346Z"
   },
   {
    "duration": 4,
    "start_time": "2021-07-17T06:04:37.768Z"
   },
   {
    "duration": 275,
    "start_time": "2021-07-17T06:04:48.936Z"
   },
   {
    "duration": 3,
    "start_time": "2021-07-17T06:04:51.040Z"
   },
   {
    "duration": 4,
    "start_time": "2021-07-17T06:04:51.824Z"
   },
   {
    "duration": 2,
    "start_time": "2021-07-17T06:05:39.465Z"
   },
   {
    "duration": 3,
    "start_time": "2021-07-17T06:05:42.227Z"
   },
   {
    "duration": 265,
    "start_time": "2021-07-17T06:08:15.825Z"
   },
   {
    "duration": 4,
    "start_time": "2021-07-17T06:08:20.151Z"
   },
   {
    "duration": 124,
    "start_time": "2021-07-17T06:10:13.449Z"
   },
   {
    "duration": 6369,
    "start_time": "2021-07-17T06:10:23.105Z"
   },
   {
    "duration": 25,
    "start_time": "2021-07-17T06:10:34.858Z"
   },
   {
    "duration": 4,
    "start_time": "2021-07-17T06:10:43.049Z"
   },
   {
    "duration": 256,
    "start_time": "2021-07-17T06:10:50.760Z"
   },
   {
    "duration": 1529,
    "start_time": "2021-07-17T06:17:10.928Z"
   },
   {
    "duration": 186,
    "start_time": "2021-07-17T06:17:12.459Z"
   },
   {
    "duration": 13,
    "start_time": "2021-07-17T06:17:13.952Z"
   },
   {
    "duration": 3,
    "start_time": "2021-07-17T06:17:15.216Z"
   },
   {
    "duration": 3,
    "start_time": "2021-07-17T06:17:16.080Z"
   },
   {
    "duration": 255,
    "start_time": "2021-07-17T06:17:17.103Z"
   },
   {
    "duration": 6,
    "start_time": "2021-07-17T06:17:25.928Z"
   },
   {
    "duration": 382,
    "start_time": "2021-07-17T06:17:35.543Z"
   },
   {
    "duration": 5,
    "start_time": "2021-07-17T06:17:38.706Z"
   },
   {
    "duration": 1620,
    "start_time": "2021-07-17T06:18:05.336Z"
   },
   {
    "duration": 17,
    "start_time": "2021-07-17T06:18:18.584Z"
   },
   {
    "duration": 14,
    "start_time": "2021-07-17T06:18:21.968Z"
   },
   {
    "duration": 6,
    "start_time": "2021-07-17T06:18:24.999Z"
   },
   {
    "duration": 5,
    "start_time": "2021-07-17T06:18:28.479Z"
   },
   {
    "duration": 1586,
    "start_time": "2021-07-17T06:19:01.273Z"
   },
   {
    "duration": 16,
    "start_time": "2021-07-17T06:19:03.585Z"
   },
   {
    "duration": 14,
    "start_time": "2021-07-17T06:19:04.789Z"
   },
   {
    "duration": 5,
    "start_time": "2021-07-17T06:19:06.309Z"
   },
   {
    "duration": 6,
    "start_time": "2021-07-17T06:19:07.055Z"
   },
   {
    "duration": 5,
    "start_time": "2021-07-17T06:19:08.344Z"
   },
   {
    "duration": 267,
    "start_time": "2021-07-17T06:19:57.150Z"
   },
   {
    "duration": 17,
    "start_time": "2021-07-17T06:20:00.016Z"
   },
   {
    "duration": 16,
    "start_time": "2021-07-17T06:20:12.375Z"
   },
   {
    "duration": 14,
    "start_time": "2021-07-17T06:20:19.431Z"
   },
   {
    "duration": 17,
    "start_time": "2021-07-17T06:21:12.081Z"
   },
   {
    "duration": 15,
    "start_time": "2021-07-17T06:21:24.157Z"
   },
   {
    "duration": 15,
    "start_time": "2021-07-17T06:21:30.736Z"
   },
   {
    "duration": 15,
    "start_time": "2021-07-17T06:21:36.144Z"
   },
   {
    "duration": 514,
    "start_time": "2021-07-17T06:22:56.161Z"
   },
   {
    "duration": 488,
    "start_time": "2021-07-17T06:23:22.729Z"
   },
   {
    "duration": 122,
    "start_time": "2021-07-17T06:23:39.737Z"
   },
   {
    "duration": 132,
    "start_time": "2021-07-17T06:23:57.672Z"
   },
   {
    "duration": 446,
    "start_time": "2021-07-17T06:24:32.575Z"
   },
   {
    "duration": 120,
    "start_time": "2021-07-17T06:24:42.110Z"
   },
   {
    "duration": 183,
    "start_time": "2021-07-17T06:25:25.216Z"
   },
   {
    "duration": 180,
    "start_time": "2021-07-17T06:25:38.495Z"
   },
   {
    "duration": 133,
    "start_time": "2021-07-17T06:25:44.376Z"
   },
   {
    "duration": 145,
    "start_time": "2021-07-17T06:26:00.209Z"
   },
   {
    "duration": 159,
    "start_time": "2021-07-17T06:26:09.481Z"
   },
   {
    "duration": 84,
    "start_time": "2021-07-17T06:26:58.056Z"
   },
   {
    "duration": 160,
    "start_time": "2021-07-17T06:27:10.016Z"
   },
   {
    "duration": 359,
    "start_time": "2021-07-17T06:27:26.775Z"
   },
   {
    "duration": 172,
    "start_time": "2021-07-17T06:27:30.247Z"
   },
   {
    "duration": 38,
    "start_time": "2021-07-17T06:27:48.059Z"
   },
   {
    "duration": 96,
    "start_time": "2021-07-17T10:55:47.954Z"
   },
   {
    "duration": 342,
    "start_time": "2021-07-17T10:55:51.486Z"
   },
   {
    "duration": 1507,
    "start_time": "2021-07-17T10:56:00.075Z"
   },
   {
    "duration": 456,
    "start_time": "2021-07-17T10:56:01.586Z"
   },
   {
    "duration": 29,
    "start_time": "2021-07-17T10:56:02.045Z"
   },
   {
    "duration": 23,
    "start_time": "2021-07-17T10:56:02.086Z"
   },
   {
    "duration": 23,
    "start_time": "2021-07-17T10:56:02.112Z"
   },
   {
    "duration": 159,
    "start_time": "2021-07-17T10:56:02.137Z"
   },
   {
    "duration": 134,
    "start_time": "2021-07-17T10:56:02.299Z"
   },
   {
    "duration": 132,
    "start_time": "2021-07-17T10:56:02.437Z"
   },
   {
    "duration": 319,
    "start_time": "2021-07-17T10:56:02.573Z"
   },
   {
    "duration": 735,
    "start_time": "2021-07-17T10:56:02.894Z"
   },
   {
    "duration": 756,
    "start_time": "2021-07-17T10:56:03.632Z"
   },
   {
    "duration": 842,
    "start_time": "2021-07-17T10:56:04.391Z"
   },
   {
    "duration": 268,
    "start_time": "2021-07-17T10:56:05.235Z"
   },
   {
    "duration": 1434,
    "start_time": "2021-07-17T10:56:05.505Z"
   },
   {
    "duration": 74,
    "start_time": "2021-07-17T10:56:06.867Z"
   },
   {
    "duration": 74,
    "start_time": "2021-07-17T10:56:06.869Z"
   },
   {
    "duration": 72,
    "start_time": "2021-07-17T10:56:06.872Z"
   },
   {
    "duration": 68,
    "start_time": "2021-07-17T10:56:06.878Z"
   },
   {
    "duration": 67,
    "start_time": "2021-07-17T10:56:06.880Z"
   },
   {
    "duration": 66,
    "start_time": "2021-07-17T10:56:06.883Z"
   },
   {
    "duration": 65,
    "start_time": "2021-07-17T10:56:06.885Z"
   },
   {
    "duration": 66,
    "start_time": "2021-07-17T10:56:06.886Z"
   },
   {
    "duration": 64,
    "start_time": "2021-07-17T10:56:06.889Z"
   },
   {
    "duration": 58,
    "start_time": "2021-07-17T10:56:06.896Z"
   },
   {
    "duration": 58,
    "start_time": "2021-07-17T10:56:06.898Z"
   },
   {
    "duration": 1290,
    "start_time": "2021-07-17T10:56:45.155Z"
   },
   {
    "duration": 178,
    "start_time": "2021-07-17T10:58:06.914Z"
   },
   {
    "duration": 1462,
    "start_time": "2021-07-17T10:58:12.708Z"
   },
   {
    "duration": 2681,
    "start_time": "2021-07-17T10:58:19.010Z"
   },
   {
    "duration": 2710,
    "start_time": "2021-07-17T10:58:50.384Z"
   },
   {
    "duration": 2562,
    "start_time": "2021-07-17T10:58:55.614Z"
   },
   {
    "duration": 2747,
    "start_time": "2021-07-17T10:58:58.180Z"
   },
   {
    "duration": 2926,
    "start_time": "2021-07-17T10:59:00.931Z"
   },
   {
    "duration": 2977,
    "start_time": "2021-07-17T10:59:03.861Z"
   },
   {
    "duration": 1846,
    "start_time": "2021-07-17T10:59:06.841Z"
   },
   {
    "duration": 26,
    "start_time": "2021-07-17T10:59:08.690Z"
   },
   {
    "duration": 18,
    "start_time": "2021-07-17T10:59:08.718Z"
   },
   {
    "duration": 4,
    "start_time": "2021-07-17T10:59:08.739Z"
   },
   {
    "duration": 44,
    "start_time": "2021-07-17T10:59:08.746Z"
   },
   {
    "duration": 126,
    "start_time": "2021-07-17T10:59:08.793Z"
   },
   {
    "duration": 112,
    "start_time": "2021-07-17T11:00:02.163Z"
   },
   {
    "duration": 521,
    "start_time": "2021-07-17T11:00:33.938Z"
   },
   {
    "duration": 69,
    "start_time": "2021-07-17T11:00:50.420Z"
   },
   {
    "duration": 27,
    "start_time": "2021-07-17T11:08:37.595Z"
   },
   {
    "duration": 8,
    "start_time": "2021-07-17T11:08:50.058Z"
   },
   {
    "duration": 7,
    "start_time": "2021-07-17T11:09:04.546Z"
   },
   {
    "duration": 751,
    "start_time": "2021-07-17T11:15:06.180Z"
   },
   {
    "duration": 58,
    "start_time": "2021-07-17T11:15:11.749Z"
   },
   {
    "duration": 11622,
    "start_time": "2021-07-17T11:15:13.059Z"
   },
   {
    "duration": 11785,
    "start_time": "2021-07-17T11:19:14.906Z"
   },
   {
    "duration": 227,
    "start_time": "2021-07-17T11:27:25.907Z"
   },
   {
    "duration": 5155,
    "start_time": "2021-07-17T11:28:32.235Z"
   },
   {
    "duration": 1174,
    "start_time": "2021-07-17T11:29:07.707Z"
   },
   {
    "duration": 217,
    "start_time": "2021-07-17T11:29:19.548Z"
   },
   {
    "duration": 18,
    "start_time": "2021-07-17T11:29:53.571Z"
   },
   {
    "duration": 11375,
    "start_time": "2021-07-17T11:30:42.741Z"
   },
   {
    "duration": 17,
    "start_time": "2021-07-17T11:30:54.118Z"
   },
   {
    "duration": 1115,
    "start_time": "2021-07-17T11:42:22.611Z"
   },
   {
    "duration": 22,
    "start_time": "2021-07-17T11:42:25.051Z"
   },
   {
    "duration": 12072,
    "start_time": "2021-07-17T11:42:35.819Z"
   },
   {
    "duration": 18,
    "start_time": "2021-07-17T11:42:51.514Z"
   },
   {
    "duration": 1694,
    "start_time": "2021-07-17T12:03:32.074Z"
   },
   {
    "duration": 492,
    "start_time": "2021-07-17T12:03:33.771Z"
   },
   {
    "duration": 32,
    "start_time": "2021-07-17T12:03:34.266Z"
   },
   {
    "duration": 21,
    "start_time": "2021-07-17T12:03:34.301Z"
   },
   {
    "duration": 21,
    "start_time": "2021-07-17T12:03:34.325Z"
   },
   {
    "duration": 155,
    "start_time": "2021-07-17T12:03:34.349Z"
   },
   {
    "duration": 149,
    "start_time": "2021-07-17T12:03:34.507Z"
   },
   {
    "duration": 144,
    "start_time": "2021-07-17T12:03:34.660Z"
   },
   {
    "duration": 341,
    "start_time": "2021-07-17T12:03:34.808Z"
   },
   {
    "duration": 812,
    "start_time": "2021-07-17T12:03:35.151Z"
   },
   {
    "duration": 730,
    "start_time": "2021-07-17T12:03:35.965Z"
   },
   {
    "duration": 764,
    "start_time": "2021-07-17T12:03:36.698Z"
   },
   {
    "duration": 282,
    "start_time": "2021-07-17T12:03:37.464Z"
   },
   {
    "duration": 2646,
    "start_time": "2021-07-17T12:03:37.748Z"
   },
   {
    "duration": 2610,
    "start_time": "2021-07-17T12:03:40.396Z"
   },
   {
    "duration": 2698,
    "start_time": "2021-07-17T12:03:43.008Z"
   },
   {
    "duration": 2784,
    "start_time": "2021-07-17T12:03:45.709Z"
   },
   {
    "duration": 2794,
    "start_time": "2021-07-17T12:03:48.495Z"
   },
   {
    "duration": 2816,
    "start_time": "2021-07-17T12:03:51.291Z"
   },
   {
    "duration": 1684,
    "start_time": "2021-07-17T12:03:54.109Z"
   },
   {
    "duration": 109,
    "start_time": "2021-07-17T12:03:55.795Z"
   },
   {
    "duration": 19,
    "start_time": "2021-07-17T12:03:55.906Z"
   },
   {
    "duration": 7,
    "start_time": "2021-07-17T12:03:55.932Z"
   },
   {
    "duration": 115,
    "start_time": "2021-07-17T12:03:55.942Z"
   },
   {
    "duration": 12013,
    "start_time": "2021-07-17T12:03:56.060Z"
   },
   {
    "duration": 26,
    "start_time": "2021-07-17T12:04:08.075Z"
   },
   {
    "duration": 2699,
    "start_time": "2021-07-17T12:05:37.430Z"
   },
   {
    "duration": 1691,
    "start_time": "2021-07-17T12:26:34.275Z"
   },
   {
    "duration": 495,
    "start_time": "2021-07-17T12:26:35.969Z"
   },
   {
    "duration": 37,
    "start_time": "2021-07-17T12:26:36.468Z"
   },
   {
    "duration": 26,
    "start_time": "2021-07-17T12:26:36.509Z"
   },
   {
    "duration": 59,
    "start_time": "2021-07-17T12:26:36.538Z"
   },
   {
    "duration": 142,
    "start_time": "2021-07-17T12:26:36.600Z"
   },
   {
    "duration": 140,
    "start_time": "2021-07-17T12:26:36.745Z"
   },
   {
    "duration": 142,
    "start_time": "2021-07-17T12:26:36.889Z"
   },
   {
    "duration": 476,
    "start_time": "2021-07-17T12:26:37.034Z"
   },
   {
    "duration": 828,
    "start_time": "2021-07-17T12:26:37.512Z"
   },
   {
    "duration": 728,
    "start_time": "2021-07-17T12:26:38.343Z"
   },
   {
    "duration": 763,
    "start_time": "2021-07-17T12:26:39.074Z"
   },
   {
    "duration": 346,
    "start_time": "2021-07-17T12:26:39.839Z"
   },
   {
    "duration": 2658,
    "start_time": "2021-07-17T12:26:40.189Z"
   },
   {
    "duration": 3884,
    "start_time": "2021-07-17T12:26:42.851Z"
   },
   {
    "duration": 2638,
    "start_time": "2021-07-17T12:26:46.738Z"
   },
   {
    "duration": 2724,
    "start_time": "2021-07-17T12:26:49.386Z"
   },
   {
    "duration": 2710,
    "start_time": "2021-07-17T12:26:52.113Z"
   },
   {
    "duration": 2710,
    "start_time": "2021-07-17T12:26:54.826Z"
   },
   {
    "duration": 1747,
    "start_time": "2021-07-17T12:26:57.539Z"
   },
   {
    "duration": 119,
    "start_time": "2021-07-17T12:26:59.290Z"
   },
   {
    "duration": 19,
    "start_time": "2021-07-17T12:26:59.412Z"
   },
   {
    "duration": 8,
    "start_time": "2021-07-17T12:26:59.437Z"
   },
   {
    "duration": 71,
    "start_time": "2021-07-17T12:26:59.485Z"
   },
   {
    "duration": 11626,
    "start_time": "2021-07-17T12:26:59.559Z"
   },
   {
    "duration": 21,
    "start_time": "2021-07-17T12:27:11.188Z"
   },
   {
    "duration": 400,
    "start_time": "2021-07-17T23:14:54.594Z"
   },
   {
    "duration": 1727,
    "start_time": "2021-07-17T23:15:00.602Z"
   },
   {
    "duration": 483,
    "start_time": "2021-07-17T23:15:02.332Z"
   },
   {
    "duration": 27,
    "start_time": "2021-07-17T23:15:02.818Z"
   },
   {
    "duration": 23,
    "start_time": "2021-07-17T23:15:02.863Z"
   },
   {
    "duration": 22,
    "start_time": "2021-07-17T23:15:02.888Z"
   },
   {
    "duration": 163,
    "start_time": "2021-07-17T23:15:02.912Z"
   },
   {
    "duration": 131,
    "start_time": "2021-07-17T23:15:03.077Z"
   },
   {
    "duration": 144,
    "start_time": "2021-07-17T23:15:03.212Z"
   },
   {
    "duration": 354,
    "start_time": "2021-07-17T23:15:03.358Z"
   },
   {
    "duration": 815,
    "start_time": "2021-07-17T23:15:03.714Z"
   },
   {
    "duration": 736,
    "start_time": "2021-07-17T23:15:04.532Z"
   },
   {
    "duration": 787,
    "start_time": "2021-07-17T23:15:05.271Z"
   },
   {
    "duration": 292,
    "start_time": "2021-07-17T23:15:06.062Z"
   },
   {
    "duration": 2776,
    "start_time": "2021-07-17T23:15:06.357Z"
   },
   {
    "duration": 2680,
    "start_time": "2021-07-17T23:15:09.136Z"
   },
   {
    "duration": 2777,
    "start_time": "2021-07-17T23:15:11.818Z"
   },
   {
    "duration": 2712,
    "start_time": "2021-07-17T23:15:14.597Z"
   },
   {
    "duration": 2696,
    "start_time": "2021-07-17T23:15:17.311Z"
   },
   {
    "duration": 2738,
    "start_time": "2021-07-17T23:15:20.010Z"
   },
   {
    "duration": 1712,
    "start_time": "2021-07-17T23:15:22.750Z"
   },
   {
    "duration": 115,
    "start_time": "2021-07-17T23:15:24.466Z"
   },
   {
    "duration": 21,
    "start_time": "2021-07-17T23:15:24.584Z"
   },
   {
    "duration": 7,
    "start_time": "2021-07-17T23:15:24.609Z"
   },
   {
    "duration": 992,
    "start_time": "2021-07-17T23:15:24.619Z"
   },
   {
    "duration": -118,
    "start_time": "2021-07-17T23:15:25.731Z"
   },
   {
    "duration": -123,
    "start_time": "2021-07-17T23:15:25.737Z"
   },
   {
    "duration": 67,
    "start_time": "2021-07-17T23:15:46.039Z"
   },
   {
    "duration": 1686,
    "start_time": "2021-07-17T23:15:54.268Z"
   },
   {
    "duration": 471,
    "start_time": "2021-07-17T23:15:55.957Z"
   },
   {
    "duration": 31,
    "start_time": "2021-07-17T23:15:56.432Z"
   },
   {
    "duration": 28,
    "start_time": "2021-07-17T23:15:56.465Z"
   },
   {
    "duration": 23,
    "start_time": "2021-07-17T23:15:56.496Z"
   },
   {
    "duration": 175,
    "start_time": "2021-07-17T23:15:56.521Z"
   },
   {
    "duration": 138,
    "start_time": "2021-07-17T23:15:56.699Z"
   },
   {
    "duration": 134,
    "start_time": "2021-07-17T23:15:56.841Z"
   },
   {
    "duration": 364,
    "start_time": "2021-07-17T23:15:56.978Z"
   },
   {
    "duration": 853,
    "start_time": "2021-07-17T23:15:57.344Z"
   },
   {
    "duration": 735,
    "start_time": "2021-07-17T23:15:58.199Z"
   },
   {
    "duration": 770,
    "start_time": "2021-07-17T23:15:58.936Z"
   },
   {
    "duration": 293,
    "start_time": "2021-07-17T23:15:59.708Z"
   },
   {
    "duration": 2641,
    "start_time": "2021-07-17T23:16:00.003Z"
   },
   {
    "duration": 2625,
    "start_time": "2021-07-17T23:16:02.647Z"
   },
   {
    "duration": 2707,
    "start_time": "2021-07-17T23:16:05.275Z"
   },
   {
    "duration": 2700,
    "start_time": "2021-07-17T23:16:07.985Z"
   },
   {
    "duration": 2739,
    "start_time": "2021-07-17T23:16:10.689Z"
   },
   {
    "duration": 2717,
    "start_time": "2021-07-17T23:16:13.431Z"
   },
   {
    "duration": 1707,
    "start_time": "2021-07-17T23:16:16.161Z"
   },
   {
    "duration": 116,
    "start_time": "2021-07-17T23:16:17.871Z"
   },
   {
    "duration": 19,
    "start_time": "2021-07-17T23:16:17.990Z"
   },
   {
    "duration": 7,
    "start_time": "2021-07-17T23:16:18.014Z"
   },
   {
    "duration": 72,
    "start_time": "2021-07-17T23:16:18.062Z"
   }
  ],
  "kernelspec": {
   "display_name": "Python 3",
   "language": "python",
   "name": "python3"
  },
  "language_info": {
   "codemirror_mode": {
    "name": "ipython",
    "version": 3
   },
   "file_extension": ".py",
   "mimetype": "text/x-python",
   "name": "python",
   "nbconvert_exporter": "python",
   "pygments_lexer": "ipython3",
   "version": "3.8.8"
  },
  "toc": {
   "base_numbering": 1,
   "nav_menu": {},
   "number_sections": true,
   "sideBar": true,
   "skip_h1_title": true,
   "title_cell": "Table of Contents",
   "title_sidebar": "Contents",
   "toc_cell": false,
   "toc_position": {},
   "toc_section_display": true,
   "toc_window_display": false
  }
 },
 "nbformat": 4,
 "nbformat_minor": 2
}
